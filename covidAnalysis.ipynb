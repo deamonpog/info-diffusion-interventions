{
 "cells": [
  {
   "cell_type": "code",
   "execution_count": 18,
   "id": "5a3e2800",
   "metadata": {},
   "outputs": [],
   "source": [
    "import pandas as pd\n",
    "import matplotlib.pyplot as plt\n",
    "import numpy as np\n",
    "import gzip\n",
    "import json\n",
    "import glob\n",
    "from collections import Counter"
   ]
  },
  {
   "cell_type": "code",
   "execution_count": 15,
   "id": "6b9bb223",
   "metadata": {},
   "outputs": [
    {
     "data": {
      "application/vnd.microsoft.datawrangler.viewer.v0+json": {
       "columns": [
        {
         "name": "index",
         "rawType": "int64",
         "type": "integer"
        },
        {
         "name": "created_at",
         "rawType": "datetime64[ns, UTC]",
         "type": "unknown"
        },
        {
         "name": "author_id",
         "rawType": "int64",
         "type": "integer"
        },
        {
         "name": "in_reply_to_user_id",
         "rawType": "float64",
         "type": "float"
        },
        {
         "name": "mentions_count",
         "rawType": "int64",
         "type": "integer"
        },
        {
         "name": "mentions",
         "rawType": "object",
         "type": "string"
        }
       ],
       "ref": "52ac7d0b-e47b-4994-9c57-c37d8a1bac73",
       "rows": [
        [
         "0",
         "2022-01-21 23:36:56+00:00",
         "1432919429831020552",
         null,
         "3",
         "['233058170', '878284831', '828035864278151168']"
        ],
        [
         "1",
         "2022-01-21 23:35:43+00:00",
         "1432919429831020552",
         null,
         "2",
         "['1382839661811351553', '878284831']"
        ],
        [
         "2",
         "2022-01-21 23:35:39+00:00",
         "1432919429831020552",
         null,
         "2",
         "['213134269', '878284831']"
        ],
        [
         "3",
         "2022-01-21 23:35:33+00:00",
         "1432919429831020552",
         null,
         "2",
         "['1293160564483665920', '878284831']"
        ],
        [
         "4",
         "2022-01-21 23:35:27+00:00",
         "1432919429831020552",
         null,
         "2",
         "['1162118566226878469', '878284831']"
        ],
        [
         "5",
         "2022-01-21 23:35:23+00:00",
         "1432919429831020552",
         null,
         "1",
         "['286998245']"
        ],
        [
         "6",
         "2022-01-21 23:35:08+00:00",
         "1432919429831020552",
         null,
         "4",
         "['1348021131383603206', '1354107559964073984', '878284831', '11134252']"
        ],
        [
         "7",
         "2022-01-21 23:34:59+00:00",
         "1432919429831020552",
         null,
         "2",
         "['1354107559964073984', '878284831']"
        ],
        [
         "8",
         "2022-01-21 23:34:51+00:00",
         "4341832332",
         null,
         "0",
         "[]"
        ],
        [
         "9",
         "2022-01-21 23:34:44+00:00",
         "1432919429831020552",
         null,
         "2",
         "['1202098980257255425', '878284831']"
        ],
        [
         "10",
         "2022-01-21 23:34:39+00:00",
         "1432919429831020552",
         null,
         "1",
         "['1197677097923174400']"
        ],
        [
         "11",
         "2022-01-21 23:34:26+00:00",
         "1432919429831020552",
         null,
         "1",
         "['1197677097923174400']"
        ],
        [
         "12",
         "2022-01-21 23:34:12+00:00",
         "1432919429831020552",
         null,
         "3",
         "['783388857010053120', '878284831', '4163053573']"
        ],
        [
         "13",
         "2022-01-21 23:33:03+00:00",
         "1432919429831020552",
         null,
         "2",
         "['1350305474', '878284831']"
        ],
        [
         "14",
         "2022-01-21 23:32:59+00:00",
         "1432919429831020552",
         null,
         "3",
         "['833781272598024192', '775001102433394689', '878284831']"
        ],
        [
         "15",
         "2022-01-21 23:32:47+00:00",
         "1432919429831020552",
         null,
         "2",
         "['775001102433394689', '878284831']"
        ],
        [
         "16",
         "2022-01-21 23:32:36+00:00",
         "1432919429831020552",
         null,
         "3",
         "['4853450417', '878284831', '1281647816234827779']"
        ],
        [
         "17",
         "2022-01-21 23:32:25+00:00",
         "1432919429831020552",
         null,
         "2",
         "['822599672040669189', '878284831']"
        ],
        [
         "18",
         "2022-01-21 23:32:17+00:00",
         "1432919429831020552",
         null,
         "5",
         "['819029763889057792', '878284831', '1285200781637894144', '2468190931', '2463589296']"
        ],
        [
         "19",
         "2022-01-21 23:32:10+00:00",
         "1432919429831020552",
         null,
         "1",
         "['878284831']"
        ],
        [
         "20",
         "2022-01-21 23:31:57+00:00",
         "116734678",
         null,
         "0",
         "[]"
        ],
        [
         "21",
         "2022-01-21 23:31:52+00:00",
         "1432919429831020552",
         null,
         "1",
         "['878284831']"
        ],
        [
         "22",
         "2022-01-21 23:31:40+00:00",
         "1432919429831020552",
         null,
         "1",
         "['878284831']"
        ],
        [
         "23",
         "2022-01-21 23:31:14+00:00",
         "1432919429831020552",
         null,
         "1",
         "['878284831']"
        ],
        [
         "24",
         "2022-01-21 23:30:58+00:00",
         "1432919429831020552",
         null,
         "1",
         "['878284831']"
        ],
        [
         "25",
         "2022-01-21 23:30:08+00:00",
         "1432919429831020552",
         null,
         "1",
         "['1481732192673828864']"
        ],
        [
         "26",
         "2022-01-21 23:30:00+00:00",
         "102439579",
         null,
         "1",
         "['14631598']"
        ],
        [
         "27",
         "2022-01-21 23:29:30+00:00",
         "1432919429831020552",
         "1.2154568163579576e+18",
         "1",
         "['1215456816357957632']"
        ],
        [
         "28",
         "2022-01-21 23:29:11+00:00",
         "1432919429831020552",
         null,
         "1",
         "['1481732192673828864']"
        ],
        [
         "29",
         "2022-01-21 23:28:58+00:00",
         "1432919429831020552",
         null,
         "1",
         "['1215456816357957632']"
        ],
        [
         "30",
         "2022-01-21 23:28:47+00:00",
         "1432919429831020552",
         null,
         "1",
         "['1481732192673828864']"
        ],
        [
         "31",
         "2022-01-21 23:28:06+00:00",
         "1432919429831020552",
         null,
         "1",
         "['1130046320184446976']"
        ],
        [
         "32",
         "2022-01-21 23:28:00+00:00",
         "1432919429831020552",
         null,
         "1",
         "['1640929196']"
        ],
        [
         "33",
         "2022-01-21 23:27:34+00:00",
         "1432919429831020552",
         null,
         "1",
         "['1504389201281884161']"
        ],
        [
         "34",
         "2022-01-21 23:27:08+00:00",
         "1432919429831020552",
         null,
         "1",
         "['997860407464214528']"
        ],
        [
         "35",
         "2022-01-21 23:26:54+00:00",
         "1432919429831020552",
         null,
         "1",
         "['997860407464214528']"
        ],
        [
         "36",
         "2022-01-21 23:26:17+00:00",
         "1432919429831020552",
         null,
         "1",
         "['997860407464214528']"
        ],
        [
         "37",
         "2022-01-21 23:26:14+00:00",
         "1144758367333707776",
         "2458160858.0",
         "1",
         "['2458160858']"
        ],
        [
         "38",
         "2022-01-21 23:25:58+00:00",
         "1432919429831020552",
         null,
         "1",
         "['997860407464214528']"
        ],
        [
         "39",
         "2022-01-21 23:25:29+00:00",
         "8731312",
         null,
         "0",
         "[]"
        ],
        [
         "40",
         "2022-01-21 23:25:10+00:00",
         "1432919429831020552",
         null,
         "1",
         "['997860407464214528']"
        ],
        [
         "41",
         "2022-01-21 23:25:02+00:00",
         "1432919429831020552",
         null,
         "1",
         "['997860407464214528']"
        ],
        [
         "42",
         "2022-01-21 23:24:23+00:00",
         "1432919429831020552",
         null,
         "1",
         "['997860407464214528']"
        ],
        [
         "43",
         "2022-01-21 23:24:04+00:00",
         "1432919429831020552",
         null,
         "1",
         "['997860407464214528']"
        ],
        [
         "44",
         "2022-01-21 23:23:32+00:00",
         "1432919429831020552",
         null,
         "1",
         "['997860407464214528']"
        ],
        [
         "45",
         "2022-01-21 23:23:15+00:00",
         "1432919429831020552",
         null,
         "1",
         "['1440005875763236865']"
        ],
        [
         "46",
         "2022-01-21 23:23:06+00:00",
         "1432919429831020552",
         null,
         "1",
         "['1481732192673828864']"
        ],
        [
         "47",
         "2022-01-21 23:22:34+00:00",
         "1432919429831020552",
         null,
         "1",
         "['1481732192673828864']"
        ],
        [
         "48",
         "2022-01-21 23:21:38+00:00",
         "1432919429831020552",
         null,
         "1",
         "['1481732192673828864']"
        ],
        [
         "49",
         "2022-01-21 23:21:23+00:00",
         "2315729580",
         null,
         "1",
         "['129193125']"
        ]
       ],
       "shape": {
        "columns": 5,
        "rows": 14060535
       }
      },
      "text/html": [
       "<div>\n",
       "<style scoped>\n",
       "    .dataframe tbody tr th:only-of-type {\n",
       "        vertical-align: middle;\n",
       "    }\n",
       "\n",
       "    .dataframe tbody tr th {\n",
       "        vertical-align: top;\n",
       "    }\n",
       "\n",
       "    .dataframe thead th {\n",
       "        text-align: right;\n",
       "    }\n",
       "</style>\n",
       "<table border=\"1\" class=\"dataframe\">\n",
       "  <thead>\n",
       "    <tr style=\"text-align: right;\">\n",
       "      <th></th>\n",
       "      <th>created_at</th>\n",
       "      <th>author_id</th>\n",
       "      <th>in_reply_to_user_id</th>\n",
       "      <th>mentions_count</th>\n",
       "      <th>mentions</th>\n",
       "    </tr>\n",
       "  </thead>\n",
       "  <tbody>\n",
       "    <tr>\n",
       "      <th>0</th>\n",
       "      <td>2022-01-21 23:36:56+00:00</td>\n",
       "      <td>1432919429831020552</td>\n",
       "      <td>NaN</td>\n",
       "      <td>3</td>\n",
       "      <td>['233058170', '878284831', '828035864278151168']</td>\n",
       "    </tr>\n",
       "    <tr>\n",
       "      <th>1</th>\n",
       "      <td>2022-01-21 23:35:43+00:00</td>\n",
       "      <td>1432919429831020552</td>\n",
       "      <td>NaN</td>\n",
       "      <td>2</td>\n",
       "      <td>['1382839661811351553', '878284831']</td>\n",
       "    </tr>\n",
       "    <tr>\n",
       "      <th>2</th>\n",
       "      <td>2022-01-21 23:35:39+00:00</td>\n",
       "      <td>1432919429831020552</td>\n",
       "      <td>NaN</td>\n",
       "      <td>2</td>\n",
       "      <td>['213134269', '878284831']</td>\n",
       "    </tr>\n",
       "    <tr>\n",
       "      <th>3</th>\n",
       "      <td>2022-01-21 23:35:33+00:00</td>\n",
       "      <td>1432919429831020552</td>\n",
       "      <td>NaN</td>\n",
       "      <td>2</td>\n",
       "      <td>['1293160564483665920', '878284831']</td>\n",
       "    </tr>\n",
       "    <tr>\n",
       "      <th>4</th>\n",
       "      <td>2022-01-21 23:35:27+00:00</td>\n",
       "      <td>1432919429831020552</td>\n",
       "      <td>NaN</td>\n",
       "      <td>2</td>\n",
       "      <td>['1162118566226878469', '878284831']</td>\n",
       "    </tr>\n",
       "    <tr>\n",
       "      <th>...</th>\n",
       "      <td>...</td>\n",
       "      <td>...</td>\n",
       "      <td>...</td>\n",
       "      <td>...</td>\n",
       "      <td>...</td>\n",
       "    </tr>\n",
       "    <tr>\n",
       "      <th>14060530</th>\n",
       "      <td>2022-02-14 18:16:03+00:00</td>\n",
       "      <td>871399252815204354</td>\n",
       "      <td>NaN</td>\n",
       "      <td>1</td>\n",
       "      <td>['372536101']</td>\n",
       "    </tr>\n",
       "    <tr>\n",
       "      <th>14060531</th>\n",
       "      <td>2022-02-14 18:15:06+00:00</td>\n",
       "      <td>9677372</td>\n",
       "      <td>NaN</td>\n",
       "      <td>0</td>\n",
       "      <td>[]</td>\n",
       "    </tr>\n",
       "    <tr>\n",
       "      <th>14060532</th>\n",
       "      <td>2022-02-14 18:14:32+00:00</td>\n",
       "      <td>951690486917582850</td>\n",
       "      <td>NaN</td>\n",
       "      <td>2</td>\n",
       "      <td>['337925974', '87151593']</td>\n",
       "    </tr>\n",
       "    <tr>\n",
       "      <th>14060533</th>\n",
       "      <td>2022-02-14 18:14:28+00:00</td>\n",
       "      <td>871399252815204354</td>\n",
       "      <td>NaN</td>\n",
       "      <td>1</td>\n",
       "      <td>['1205226529455632385']</td>\n",
       "    </tr>\n",
       "    <tr>\n",
       "      <th>14060534</th>\n",
       "      <td>2022-02-14 18:14:24+00:00</td>\n",
       "      <td>951690486917582850</td>\n",
       "      <td>NaN</td>\n",
       "      <td>1</td>\n",
       "      <td>['1542325512']</td>\n",
       "    </tr>\n",
       "  </tbody>\n",
       "</table>\n",
       "<p>14060535 rows × 5 columns</p>\n",
       "</div>"
      ],
      "text/plain": [
       "                        created_at            author_id  in_reply_to_user_id  \\\n",
       "0        2022-01-21 23:36:56+00:00  1432919429831020552                  NaN   \n",
       "1        2022-01-21 23:35:43+00:00  1432919429831020552                  NaN   \n",
       "2        2022-01-21 23:35:39+00:00  1432919429831020552                  NaN   \n",
       "3        2022-01-21 23:35:33+00:00  1432919429831020552                  NaN   \n",
       "4        2022-01-21 23:35:27+00:00  1432919429831020552                  NaN   \n",
       "...                            ...                  ...                  ...   \n",
       "14060530 2022-02-14 18:16:03+00:00   871399252815204354                  NaN   \n",
       "14060531 2022-02-14 18:15:06+00:00              9677372                  NaN   \n",
       "14060532 2022-02-14 18:14:32+00:00   951690486917582850                  NaN   \n",
       "14060533 2022-02-14 18:14:28+00:00   871399252815204354                  NaN   \n",
       "14060534 2022-02-14 18:14:24+00:00   951690486917582850                  NaN   \n",
       "\n",
       "          mentions_count                                          mentions  \n",
       "0                      3  ['233058170', '878284831', '828035864278151168']  \n",
       "1                      2              ['1382839661811351553', '878284831']  \n",
       "2                      2                        ['213134269', '878284831']  \n",
       "3                      2              ['1293160564483665920', '878284831']  \n",
       "4                      2              ['1162118566226878469', '878284831']  \n",
       "...                  ...                                               ...  \n",
       "14060530               1                                     ['372536101']  \n",
       "14060531               0                                                []  \n",
       "14060532               2                         ['337925974', '87151593']  \n",
       "14060533               1                           ['1205226529455632385']  \n",
       "14060534               1                                    ['1542325512']  \n",
       "\n",
       "[14060535 rows x 5 columns]"
      ]
     },
     "execution_count": 15,
     "metadata": {},
     "output_type": "execute_result"
    }
   ],
   "source": [
    "df = pd.read_csv(\"all_data_minimal.csv\", parse_dates=['created_at'])\n",
    "df"
   ]
  },
  {
   "cell_type": "code",
   "execution_count": 16,
   "id": "a7fb30c3",
   "metadata": {},
   "outputs": [
    {
     "data": {
      "text/plain": [
       "Index(['created_at', 'author_id', 'in_reply_to_user_id', 'mentions_count',\n",
       "       'mentions'],\n",
       "      dtype='object')"
      ]
     },
     "execution_count": 16,
     "metadata": {},
     "output_type": "execute_result"
    }
   ],
   "source": [
    "df.columns"
   ]
  },
  {
   "cell_type": "code",
   "execution_count": 17,
   "id": "33be2d0d",
   "metadata": {},
   "outputs": [
    {
     "data": {
      "text/plain": [
       "<Axes: xlabel='created_at'>"
      ]
     },
     "execution_count": 17,
     "metadata": {},
     "output_type": "execute_result"
    },
    {
     "data": {
      "image/png": "[encoded data removed]",
      "text/plain": [
       "<Figure size 640x480 with 1 Axes>"
      ]
     },
     "metadata": {},
     "output_type": "display_data"
    }
   ],
   "source": [
    "df.set_index(\"created_at\").resample(\"D\").size().plot()"
   ]
  },
  {
   "cell_type": "code",
   "execution_count": 92,
   "id": "cda59f19",
   "metadata": {},
   "outputs": [],
   "source": [
    "def read_tweets_from_gzip(file_path):\n",
    "    tweets = []\n",
    "    with gzip.open(file_path, 'rt', encoding='utf-8') as f:\n",
    "        for line in f:\n",
    "            data = json.loads(line)\n",
    "            # Twitter API v2 uses 'data' -> 'text', while v1.1 uses 'full_text' or 'text'\n",
    "            if \"data\" in data:\n",
    "                for dataItem in data[\"data\"]:\n",
    "                    tweets.append((\n",
    "                        dataItem.get(\"created_at\", \"\"),\n",
    "                        dataItem.get(\"author_id\", \"\"),\n",
    "                        dataItem.get(\"text\", \"\"),\n",
    "                        dataItem.get(\"in_reply_to_user_id\", \"\")\n",
    "                    ))\n",
    "    df = pd.DataFrame(tweets, columns=[\"created_at\", \"author_id\", \"text\", \"in_reply_to_user_id\"])\n",
    "    df['created_at'] = pd.to_datetime(df['created_at'])\n",
    "    df['hashtags'] = df['text'].str.findall(r'#\\w+')\n",
    "    return df\n"
   ]
  },
  {
   "cell_type": "code",
   "execution_count": 103,
   "id": "6b06a31d",
   "metadata": {},
   "outputs": [
    {
     "data": {
      "text/plain": [
       "29317"
      ]
     },
     "execution_count": 103,
     "metadata": {},
     "output_type": "execute_result"
    }
   ],
   "source": [
    "files_list = glob.glob(\"./cache2/querylist_*.json.gzip\")\n",
    "len(files_list)"
   ]
  },
  {
   "cell_type": "code",
   "execution_count": 110,
   "id": "821e970a",
   "metadata": {},
   "outputs": [
    {
     "name": "stderr",
     "output_type": "stream",
     "text": [
      "C:\\Users\\pog66\\AppData\\Local\\Temp\\ipykernel_52092\\1842349922.py:16: UserWarning: Could not infer format, so each element will be parsed individually, falling back to `dateutil`. To ensure parsing is consistent and as-expected, please specify a format.\n",
      "  df['created_at'] = pd.to_datetime(df['created_at'])\n",
      "C:\\Users\\pog66\\AppData\\Local\\Temp\\ipykernel_52092\\1842349922.py:16: UserWarning: Could not infer format, so each element will be parsed individually, falling back to `dateutil`. To ensure parsing is consistent and as-expected, please specify a format.\n",
      "  df['created_at'] = pd.to_datetime(df['created_at'])\n",
      "C:\\Users\\pog66\\AppData\\Local\\Temp\\ipykernel_52092\\1842349922.py:16: UserWarning: Could not infer format, so each element will be parsed individually, falling back to `dateutil`. To ensure parsing is consistent and as-expected, please specify a format.\n",
      "  df['created_at'] = pd.to_datetime(df['created_at'])\n",
      "C:\\Users\\pog66\\AppData\\Local\\Temp\\ipykernel_52092\\1842349922.py:16: UserWarning: Could not infer format, so each element will be parsed individually, falling back to `dateutil`. To ensure parsing is consistent and as-expected, please specify a format.\n",
      "  df['created_at'] = pd.to_datetime(df['created_at'])\n",
      "C:\\Users\\pog66\\AppData\\Local\\Temp\\ipykernel_52092\\1842349922.py:16: UserWarning: Could not infer format, so each element will be parsed individually, falling back to `dateutil`. To ensure parsing is consistent and as-expected, please specify a format.\n",
      "  df['created_at'] = pd.to_datetime(df['created_at'])\n",
      "C:\\Users\\pog66\\AppData\\Local\\Temp\\ipykernel_52092\\1842349922.py:16: UserWarning: Could not infer format, so each element will be parsed individually, falling back to `dateutil`. To ensure parsing is consistent and as-expected, please specify a format.\n",
      "  df['created_at'] = pd.to_datetime(df['created_at'])\n",
      "C:\\Users\\pog66\\AppData\\Local\\Temp\\ipykernel_52092\\1842349922.py:16: UserWarning: Could not infer format, so each element will be parsed individually, falling back to `dateutil`. To ensure parsing is consistent and as-expected, please specify a format.\n",
      "  df['created_at'] = pd.to_datetime(df['created_at'])\n",
      "C:\\Users\\pog66\\AppData\\Local\\Temp\\ipykernel_52092\\1842349922.py:16: UserWarning: Could not infer format, so each element will be parsed individually, falling back to `dateutil`. To ensure parsing is consistent and as-expected, please specify a format.\n",
      "  df['created_at'] = pd.to_datetime(df['created_at'])\n",
      "C:\\Users\\pog66\\AppData\\Local\\Temp\\ipykernel_52092\\1842349922.py:16: UserWarning: Could not infer format, so each element will be parsed individually, falling back to `dateutil`. To ensure parsing is consistent and as-expected, please specify a format.\n",
      "  df['created_at'] = pd.to_datetime(df['created_at'])\n",
      "C:\\Users\\pog66\\AppData\\Local\\Temp\\ipykernel_52092\\1842349922.py:16: UserWarning: Could not infer format, so each element will be parsed individually, falling back to `dateutil`. To ensure parsing is consistent and as-expected, please specify a format.\n",
      "  df['created_at'] = pd.to_datetime(df['created_at'])\n",
      "C:\\Users\\pog66\\AppData\\Local\\Temp\\ipykernel_52092\\1842349922.py:16: UserWarning: Could not infer format, so each element will be parsed individually, falling back to `dateutil`. To ensure parsing is consistent and as-expected, please specify a format.\n",
      "  df['created_at'] = pd.to_datetime(df['created_at'])\n",
      "C:\\Users\\pog66\\AppData\\Local\\Temp\\ipykernel_52092\\1842349922.py:16: UserWarning: Could not infer format, so each element will be parsed individually, falling back to `dateutil`. To ensure parsing is consistent and as-expected, please specify a format.\n",
      "  df['created_at'] = pd.to_datetime(df['created_at'])\n",
      "C:\\Users\\pog66\\AppData\\Local\\Temp\\ipykernel_52092\\1842349922.py:16: UserWarning: Could not infer format, so each element will be parsed individually, falling back to `dateutil`. To ensure parsing is consistent and as-expected, please specify a format.\n",
      "  df['created_at'] = pd.to_datetime(df['created_at'])\n",
      "C:\\Users\\pog66\\AppData\\Local\\Temp\\ipykernel_52092\\1842349922.py:16: UserWarning: Could not infer format, so each element will be parsed individually, falling back to `dateutil`. To ensure parsing is consistent and as-expected, please specify a format.\n",
      "  df['created_at'] = pd.to_datetime(df['created_at'])\n",
      "C:\\Users\\pog66\\AppData\\Local\\Temp\\ipykernel_52092\\1842349922.py:16: UserWarning: Could not infer format, so each element will be parsed individually, falling back to `dateutil`. To ensure parsing is consistent and as-expected, please specify a format.\n",
      "  df['created_at'] = pd.to_datetime(df['created_at'])\n",
      "C:\\Users\\pog66\\AppData\\Local\\Temp\\ipykernel_52092\\1842349922.py:16: UserWarning: Could not infer format, so each element will be parsed individually, falling back to `dateutil`. To ensure parsing is consistent and as-expected, please specify a format.\n",
      "  df['created_at'] = pd.to_datetime(df['created_at'])\n",
      "C:\\Users\\pog66\\AppData\\Local\\Temp\\ipykernel_52092\\1842349922.py:16: UserWarning: Could not infer format, so each element will be parsed individually, falling back to `dateutil`. To ensure parsing is consistent and as-expected, please specify a format.\n",
      "  df['created_at'] = pd.to_datetime(df['created_at'])\n",
      "C:\\Users\\pog66\\AppData\\Local\\Temp\\ipykernel_52092\\1842349922.py:16: UserWarning: Could not infer format, so each element will be parsed individually, falling back to `dateutil`. To ensure parsing is consistent and as-expected, please specify a format.\n",
      "  df['created_at'] = pd.to_datetime(df['created_at'])\n",
      "C:\\Users\\pog66\\AppData\\Local\\Temp\\ipykernel_52092\\1842349922.py:16: UserWarning: Could not infer format, so each element will be parsed individually, falling back to `dateutil`. To ensure parsing is consistent and as-expected, please specify a format.\n",
      "  df['created_at'] = pd.to_datetime(df['created_at'])\n",
      "C:\\Users\\pog66\\AppData\\Local\\Temp\\ipykernel_52092\\1842349922.py:16: UserWarning: Could not infer format, so each element will be parsed individually, falling back to `dateutil`. To ensure parsing is consistent and as-expected, please specify a format.\n",
      "  df['created_at'] = pd.to_datetime(df['created_at'])\n",
      "C:\\Users\\pog66\\AppData\\Local\\Temp\\ipykernel_52092\\1842349922.py:16: UserWarning: Could not infer format, so each element will be parsed individually, falling back to `dateutil`. To ensure parsing is consistent and as-expected, please specify a format.\n",
      "  df['created_at'] = pd.to_datetime(df['created_at'])\n",
      "C:\\Users\\pog66\\AppData\\Local\\Temp\\ipykernel_52092\\1842349922.py:16: UserWarning: Could not infer format, so each element will be parsed individually, falling back to `dateutil`. To ensure parsing is consistent and as-expected, please specify a format.\n",
      "  df['created_at'] = pd.to_datetime(df['created_at'])\n",
      "C:\\Users\\pog66\\AppData\\Local\\Temp\\ipykernel_52092\\1842349922.py:16: UserWarning: Could not infer format, so each element will be parsed individually, falling back to `dateutil`. To ensure parsing is consistent and as-expected, please specify a format.\n",
      "  df['created_at'] = pd.to_datetime(df['created_at'])\n",
      "C:\\Users\\pog66\\AppData\\Local\\Temp\\ipykernel_52092\\1842349922.py:16: UserWarning: Could not infer format, so each element will be parsed individually, falling back to `dateutil`. To ensure parsing is consistent and as-expected, please specify a format.\n",
      "  df['created_at'] = pd.to_datetime(df['created_at'])\n",
      "C:\\Users\\pog66\\AppData\\Local\\Temp\\ipykernel_52092\\1842349922.py:16: UserWarning: Could not infer format, so each element will be parsed individually, falling back to `dateutil`. To ensure parsing is consistent and as-expected, please specify a format.\n",
      "  df['created_at'] = pd.to_datetime(df['created_at'])\n",
      "C:\\Users\\pog66\\AppData\\Local\\Temp\\ipykernel_52092\\1842349922.py:16: UserWarning: Could not infer format, so each element will be parsed individually, falling back to `dateutil`. To ensure parsing is consistent and as-expected, please specify a format.\n",
      "  df['created_at'] = pd.to_datetime(df['created_at'])\n",
      "C:\\Users\\pog66\\AppData\\Local\\Temp\\ipykernel_52092\\1842349922.py:16: UserWarning: Could not infer format, so each element will be parsed individually, falling back to `dateutil`. To ensure parsing is consistent and as-expected, please specify a format.\n",
      "  df['created_at'] = pd.to_datetime(df['created_at'])\n",
      "C:\\Users\\pog66\\AppData\\Local\\Temp\\ipykernel_52092\\1842349922.py:16: UserWarning: Could not infer format, so each element will be parsed individually, falling back to `dateutil`. To ensure parsing is consistent and as-expected, please specify a format.\n",
      "  df['created_at'] = pd.to_datetime(df['created_at'])\n",
      "C:\\Users\\pog66\\AppData\\Local\\Temp\\ipykernel_52092\\1842349922.py:16: UserWarning: Could not infer format, so each element will be parsed individually, falling back to `dateutil`. To ensure parsing is consistent and as-expected, please specify a format.\n",
      "  df['created_at'] = pd.to_datetime(df['created_at'])\n",
      "C:\\Users\\pog66\\AppData\\Local\\Temp\\ipykernel_52092\\1842349922.py:16: UserWarning: Could not infer format, so each element will be parsed individually, falling back to `dateutil`. To ensure parsing is consistent and as-expected, please specify a format.\n",
      "  df['created_at'] = pd.to_datetime(df['created_at'])\n",
      "C:\\Users\\pog66\\AppData\\Local\\Temp\\ipykernel_52092\\1842349922.py:16: UserWarning: Could not infer format, so each element will be parsed individually, falling back to `dateutil`. To ensure parsing is consistent and as-expected, please specify a format.\n",
      "  df['created_at'] = pd.to_datetime(df['created_at'])\n",
      "C:\\Users\\pog66\\AppData\\Local\\Temp\\ipykernel_52092\\1842349922.py:16: UserWarning: Could not infer format, so each element will be parsed individually, falling back to `dateutil`. To ensure parsing is consistent and as-expected, please specify a format.\n",
      "  df['created_at'] = pd.to_datetime(df['created_at'])\n",
      "C:\\Users\\pog66\\AppData\\Local\\Temp\\ipykernel_52092\\1842349922.py:16: UserWarning: Could not infer format, so each element will be parsed individually, falling back to `dateutil`. To ensure parsing is consistent and as-expected, please specify a format.\n",
      "  df['created_at'] = pd.to_datetime(df['created_at'])\n",
      "C:\\Users\\pog66\\AppData\\Local\\Temp\\ipykernel_52092\\1842349922.py:16: UserWarning: Could not infer format, so each element will be parsed individually, falling back to `dateutil`. To ensure parsing is consistent and as-expected, please specify a format.\n",
      "  df['created_at'] = pd.to_datetime(df['created_at'])\n",
      "C:\\Users\\pog66\\AppData\\Local\\Temp\\ipykernel_52092\\1842349922.py:16: UserWarning: Could not infer format, so each element will be parsed individually, falling back to `dateutil`. To ensure parsing is consistent and as-expected, please specify a format.\n",
      "  df['created_at'] = pd.to_datetime(df['created_at'])\n",
      "C:\\Users\\pog66\\AppData\\Local\\Temp\\ipykernel_52092\\1842349922.py:16: UserWarning: Could not infer format, so each element will be parsed individually, falling back to `dateutil`. To ensure parsing is consistent and as-expected, please specify a format.\n",
      "  df['created_at'] = pd.to_datetime(df['created_at'])\n",
      "C:\\Users\\pog66\\AppData\\Local\\Temp\\ipykernel_52092\\1842349922.py:16: UserWarning: Could not infer format, so each element will be parsed individually, falling back to `dateutil`. To ensure parsing is consistent and as-expected, please specify a format.\n",
      "  df['created_at'] = pd.to_datetime(df['created_at'])\n",
      "C:\\Users\\pog66\\AppData\\Local\\Temp\\ipykernel_52092\\1842349922.py:16: UserWarning: Could not infer format, so each element will be parsed individually, falling back to `dateutil`. To ensure parsing is consistent and as-expected, please specify a format.\n",
      "  df['created_at'] = pd.to_datetime(df['created_at'])\n",
      "C:\\Users\\pog66\\AppData\\Local\\Temp\\ipykernel_52092\\1842349922.py:16: UserWarning: Could not infer format, so each element will be parsed individually, falling back to `dateutil`. To ensure parsing is consistent and as-expected, please specify a format.\n",
      "  df['created_at'] = pd.to_datetime(df['created_at'])\n",
      "C:\\Users\\pog66\\AppData\\Local\\Temp\\ipykernel_52092\\1842349922.py:16: UserWarning: Could not infer format, so each element will be parsed individually, falling back to `dateutil`. To ensure parsing is consistent and as-expected, please specify a format.\n",
      "  df['created_at'] = pd.to_datetime(df['created_at'])\n"
     ]
    },
    {
     "data": {
      "application/vnd.microsoft.datawrangler.viewer.v0+json": {
       "columns": [
        {
         "name": "index",
         "rawType": "int64",
         "type": "integer"
        },
        {
         "name": "created_at",
         "rawType": "object",
         "type": "unknown"
        },
        {
         "name": "author_id",
         "rawType": "object",
         "type": "string"
        },
        {
         "name": "text",
         "rawType": "object",
         "type": "string"
        },
        {
         "name": "in_reply_to_user_id",
         "rawType": "object",
         "type": "string"
        },
        {
         "name": "hashtags",
         "rawType": "object",
         "type": "unknown"
        }
       ],
       "ref": "48c76528-64bb-4a81-9912-cd9feed8a4a5",
       "rows": [
        [
         "0",
         "2022-04-01 04:58:38+00:00",
         "1385729645740449804",
         "@Peroporqu_ :)",
         "1500536286591033351",
         "[]"
        ],
        [
         "1",
         "2022-04-01 04:56:47+00:00",
         "4501930040",
         "RT @purpleluvrain: @jlints58 love it dear sweet man, love the imagery of this.. it click clicks in my head &lt;33",
         "",
         "[]"
        ],
        [
         "2",
         "2022-04-01 04:56:23+00:00",
         "28729354",
         "@StephanieNTX @dfwhispanic @Raquel_AmparoTV @SaulGarzaMedia @cbs11ken @JRodMedia @AlexAguilarBoos @mhcampacbs @NAHJ We missed you!",
         "3173688997",
         "[]"
        ],
        [
         "3",
         "2022-04-01 04:55:32+00:00",
         "4501930040",
         "@SFDamnPodcast @alvatabitha I've been wondering also🤫",
         "1248074962377699328",
         "[]"
        ],
        [
         "4",
         "2022-04-01 04:55:00+00:00",
         "4501930040",
         "RT @SFDamnPodcast: @alvatabitha @jlints58 a great looking cityis that Dubai?",
         "",
         "[]"
        ],
        [
         "5",
         "2022-04-01 04:53:25+00:00",
         "1031312835744284677",
         "I wouldn't say it's the end of esports. Were hopefully just moving toward how it should have always been- use online play to make qualifying more accessible and keep the bigger tournaments focused around the most important part of the game: The Gathering. https://t.co/vcnfCWUOPW",
         "",
         "[]"
        ],
        [
         "6",
         "2022-04-01 04:27:57+00:00",
         "28729354",
         "“We’ve never been more relevant as journalists” says @Raquel_AmparoTV, President &amp; GM @CBS11. It was great to hear her positive message at the @dfwhispanic event recognizing her leadership in the news industry. #journalism #dallas https://t.co/YKYxvozQq0",
         "",
         "['#journalism', '#dallas']"
        ],
        [
         "7",
         "2022-04-01 04:10:12+00:00",
         "2919219271",
         "RT @McFaul: 3000 people attended my talk on Putins invasion of Ukraine tonight @AugustanaSD on Sioux Falls South Dakota. When elites on the…",
         "",
         "[]"
        ],
        [
         "8",
         "2022-04-01 03:49:55+00:00",
         "1385729645740449804",
         "@nathaliejacoby1 Jon Ossiff",
         "1280478731874848769",
         "[]"
        ],
        [
         "9",
         "2022-04-01 03:47:28+00:00",
         "15220806",
         "RT @aanderson1002: @spann my husband found this following the aftermath of last night’s storms…just illustrates another danger from these s…",
         "",
         "[]"
        ],
        [
         "10",
         "2022-04-01 03:46:59+00:00",
         "1385729645740449804",
         "@RonkaPhotograp1 Birds do it and fly\nBees do it and die....!",
         "1361449070116691968",
         "[]"
        ],
        [
         "11",
         "2022-04-01 03:42:13+00:00",
         "1385729645740449804",
         "RT @RonkaPhotograp1: Osmia cornuta, the European orchard bees mating\n\n#InsectThursday #insects #insect #IndiAves #Entomology #bees #saveour…",
         "",
         "['#InsectThursday', '#insects', '#insect', '#IndiAves', '#Entomology', '#bees', '#saveour']"
        ],
        [
         "12",
         "2022-04-01 03:25:07+00:00",
         "1458918114322628637",
         "Skit in his comfy spot https://t.co/zEUzWJJHdx",
         "",
         "[]"
        ],
        [
         "13",
         "2022-04-01 03:24:43+00:00",
         "1374024870212861955",
         "RT @RobertPLewis: Deadly serious and important thread. It starts with a meme but has an extremely serious thread. Explain why so much effor…",
         "",
         "[]"
        ],
        [
         "14",
         "2022-04-01 03:24:24+00:00",
         "1374024870212861955",
         "RT @JoshDaws: I'm seeing a lot of people on the right share this meme. While it may be a strong satirical response to those who get lost in…",
         "",
         "[]"
        ],
        [
         "15",
         "2022-04-01 03:23:10+00:00",
         "1374024870212861955",
         "RT @grandoldmemes: https://t.co/z5EwEvjuCK",
         "",
         "[]"
        ],
        [
         "16",
         "2022-04-01 03:22:54+00:00",
         "1374024870212861955",
         "RT @MrAndyNgo: This is the video of the incident by newly convicted #antifa shooter Samuel Young on July 25, 2020. The direct action that t…",
         "",
         "['#antifa']"
        ],
        [
         "17",
         "2022-04-01 03:22:23+00:00",
         "28729354",
         "When @dfwhispanic members get together, we know how to have fun. Great event tonight honoring @Raquel_AmparoTV. A true leader in news biz. Good seeing my friends @SaulGarzaMedia @cbs11ken @JRodMedia @AlexAguilarBoos @mhcampacbs @NAHJ https://t.co/stLpGS80Qf",
         "",
         "[]"
        ],
        [
         "18",
         "2022-04-01 03:18:30+00:00",
         "1374024870212861955",
         "RT @DailyMail: Florida GOP threatens to strip Disney World of right to build anything it wants inside park https://t.co/iGpsM6oGOD",
         "",
         "[]"
        ],
        [
         "19",
         "2022-04-01 03:15:05+00:00",
         "1374024870212861955",
         "RT @libsoftiktok: This video is wild. Los Angeles still hasn’t recovered from the 2020 BLM riots. What a hellhole https://t.co/PRS1Fasoe7",
         "",
         "[]"
        ],
        [
         "20",
         "2022-04-01 03:14:54+00:00",
         "1374024870212861955",
         "RT @RandPaul: How did EcoHealth Alliance convince Fauci to give them over a $100 million? Well, an invitation to the Cosmos Club AND…",
         "",
         "[]"
        ],
        [
         "21",
         "2022-04-01 03:14:01+00:00",
         "1374024870212861955",
         "RT @JontTrubek: No words necessary! https://t.co/MrYOJxAJnI",
         "",
         "[]"
        ],
        [
         "22",
         "2022-04-01 03:13:22+00:00",
         "1374024870212861955",
         "RT @patsajak: How’s this for a modest starting point: If you own more than two homes, you shouldn’t tell others how to live their lives.",
         "",
         "[]"
        ],
        [
         "23",
         "2022-04-01 03:11:55+00:00",
         "1374024870212861955",
         "RT @KyivIndependent: ⚡️Zelensky in a recent address to Ukrainians:\n\n\"Whatever happens, we all have to think about the future, about what Uk…",
         "",
         "[]"
        ],
        [
         "24",
         "2022-04-01 03:10:35+00:00",
         "2919219271",
         "RT @tripgabriel: The 1950 census forms were transferred to punch cards and tabulated, for the first time ever, on a UNIVAC 1 computer, with…",
         "",
         "[]"
        ],
        [
         "25",
         "2022-04-01 03:09:50+00:00",
         "2919219271",
         "RT @lapatina_: “How to protect yourself from rape” is an actual post circulating among Ukrainian girls on Instagram right now. This is our…",
         "",
         "[]"
        ],
        [
         "26",
         "2022-04-01 03:08:06+00:00",
         "1374024870212861955",
         "RT @NickAdamsinUSA: If Hunter Biden isn’t arrested, then the justice system in this country is truly broken beyond repair.",
         "",
         "[]"
        ],
        [
         "27",
         "2022-04-01 03:06:20+00:00",
         "1374024870212861955",
         "RT @JudiciaryGOP: RT if you stand with Justice Thomas! https://t.co/u5HZMrxCiP",
         "",
         "[]"
        ],
        [
         "28",
         "2022-04-01 03:06:13+00:00",
         "1374024870212861955",
         "RT @SenTedCruz: If you want to understand the crisis at the border, come to South Texas.\n \nI've spoken with moms who don't allow their teen…",
         "",
         "[]"
        ],
        [
         "29",
         "2022-04-01 03:04:34+00:00",
         "1374024870212861955",
         "RT @DanielTurnerPTF: Joe Biden wants to release oil from our reserves again.\n\nNever forget that Democrats blocked President Trump's plan to…",
         "",
         "[]"
        ],
        [
         "30",
         "2022-04-01 03:04:32+00:00",
         "273039428",
         "If you like old turbines, pumps, and boilers, this is the place for you. https://t.co/irUPocqp9Z",
         "273039428",
         "[]"
        ],
        [
         "31",
         "2022-04-01 03:03:57+00:00",
         "1385729645740449804",
         "RT @ChinchillaHour: https://t.co/CcE53xoFTM",
         "",
         "[]"
        ],
        [
         "32",
         "2022-04-01 03:02:38+00:00",
         "273039428",
         "I took a tour of Sloss Furnaces in Birmingham, AL- a pig iron furnace built in the 1880s, now a historic landmark and interpretive museum. https://t.co/XfXFnqkGQl",
         "",
         "[]"
        ],
        [
         "33",
         "2022-04-01 03:02:00+00:00",
         "1374024870212861955",
         "RT @GovRonDeSantis: We depend on our first responders to serve and protect, no matter the emergency. These $1,000 bonuses are a token of ou…",
         "",
         "[]"
        ],
        [
         "34",
         "2022-04-01 03:01:53+00:00",
         "1385729645740449804",
         "RT @Oteachjohn: Hey Montana, Winter is not quite gone. It is snowing. Be careful out there. https://t.co/Mhi6KNIVsN",
         "",
         "[]"
        ],
        [
         "35",
         "2022-04-01 03:00:09+00:00",
         "1385729645740449804",
         "RT @Eagleeye47: #IndianAirForce And #Army Will Be Flying Indigenous #LightCombatHelicopters Soon !\n#MadeInIndia \n#AtmanirbharBharat\n#Defenc…",
         "",
         "['#IndianAirForce', '#Army', '#LightCombatHelicopters', '#MadeInIndia', '#AtmanirbharBharat', '#Defenc']"
        ],
        [
         "36",
         "2022-04-01 02:56:28+00:00",
         "1385729645740449804",
         "@Margaret_Krac @PenelopeRuzy Love that face ;)",
         "708432710772121602",
         "[]"
        ],
        [
         "37",
         "2022-04-01 02:55:18+00:00",
         "1385729645740449804",
         "RT @Margaret_Krac: @PenelopeRuzy Yeah........ https://t.co/NSjLwdhF8q",
         "",
         "[]"
        ],
        [
         "38",
         "2022-04-01 02:54:26+00:00",
         "1385729645740449804",
         "RT @PenelopeRuzy: If you realize that tomorrow is Monday.. https://t.co/GzxrxGGihq",
         "",
         "[]"
        ],
        [
         "39",
         "2022-04-01 02:52:22+00:00",
         "1385729645740449804",
         "RT @1by1work: Wish \nHoromi Pass Lavender Garden, Sapporo \n#naturephotography https://t.co/H3Z455Fpqq",
         "",
         "['#naturephotography']"
        ],
        [
         "40",
         "2022-04-01 02:46:31+00:00",
         "15220806",
         "RT @stormchaserray: ZAP!!!!!Unbelievable light show as the backside of the storm heads through Chalfont PA⛈⚡️@spann @LiveStormsMedia @Storm…",
         "",
         "[]"
        ],
        [
         "41",
         "2022-04-01 02:46:14+00:00",
         "1385729645740449804",
         "RT @Angels_fall5: “Waking up this morning, I smile. Twenty-four brand new hours are before me. I vow to live fully in each moment and to lo…",
         "",
         "[]"
        ],
        [
         "42",
         "2022-04-01 02:43:12+00:00",
         "1385729645740449804",
         "RT @hide07348756: おはようございます🏯\n\n今日から四月で色々な事の始まりですね🏫🏢\n私も働く環境が変わり気持ちを新たに生活しよう🏡☺️⤴️\n\n旅行先での長野県での景色🥀⛰\n\n四月も宜しくお願いします🐣🌅🙇\n#写真好きな人と繋がりたい #写真撮ってる人と繫がりた…",
         "",
         "['#写真好きな人と繋がりたい', '#写真撮ってる人と繫がりた']"
        ],
        [
         "43",
         "2022-04-01 02:41:13+00:00",
         "1385729645740449804",
         "RT @biscuitscheddar: @MacTheGingerCat Staff was gone just overnight a few months back and used Alexa to see if I would respond. My cries br…",
         "",
         "[]"
        ],
        [
         "44",
         "2022-04-01 02:40:00+00:00",
         "1385729645740449804",
         "RT @R101Nick: Wild day. https://t.co/Qi4ClSOWB7",
         "",
         "[]"
        ],
        [
         "45",
         "2022-04-01 02:34:53+00:00",
         "1385729645740449804",
         "RT @3hr00am: I can sleep wherever and whenever I want! https://t.co/ez3vYAycdt",
         "",
         "[]"
        ],
        [
         "46",
         "2022-04-01 02:34:27+00:00",
         "1385729645740449804",
         "RT @thehill: More than 161,000 lbs. of peanut butter recalled over possible stainless steel fragments https://t.co/MLwMf11Tbu https://t.co/…",
         "",
         "[]"
        ],
        [
         "47",
         "2022-04-01 02:34:19+00:00",
         "1385729645740449804",
         "RT @3hr00am: Bora Bora by night https://t.co/UFFS8vzPvU",
         "",
         "[]"
        ],
        [
         "48",
         "2022-04-01 02:29:54+00:00",
         "15220806",
         "RT @NWSHuntsville: 9:25pm Lauderdale Co Storm Survey Results: \nExtensive straightline wind damage of 85-90 mph.   Main swath of damage was…",
         "",
         "[]"
        ],
        [
         "49",
         "2022-04-01 02:27:28+00:00",
         "1385729645740449804",
         "RT @ResisterSis20: Between 1830 &amp; 1850, 100k American Indians were forcibly removed from their homelands, which were stolen by the US gover…",
         "",
         "[]"
        ]
       ],
       "shape": {
        "columns": 5,
        "rows": 14060535
       }
      },
      "text/html": [
       "<div>\n",
       "<style scoped>\n",
       "    .dataframe tbody tr th:only-of-type {\n",
       "        vertical-align: middle;\n",
       "    }\n",
       "\n",
       "    .dataframe tbody tr th {\n",
       "        vertical-align: top;\n",
       "    }\n",
       "\n",
       "    .dataframe thead th {\n",
       "        text-align: right;\n",
       "    }\n",
       "</style>\n",
       "<table border=\"1\" class=\"dataframe\">\n",
       "  <thead>\n",
       "    <tr style=\"text-align: right;\">\n",
       "      <th></th>\n",
       "      <th>created_at</th>\n",
       "      <th>author_id</th>\n",
       "      <th>text</th>\n",
       "      <th>in_reply_to_user_id</th>\n",
       "      <th>hashtags</th>\n",
       "    </tr>\n",
       "  </thead>\n",
       "  <tbody>\n",
       "    <tr>\n",
       "      <th>0</th>\n",
       "      <td>2022-04-01 04:58:38+00:00</td>\n",
       "      <td>1385729645740449804</td>\n",
       "      <td>@Peroporqu_ :)</td>\n",
       "      <td>1500536286591033351</td>\n",
       "      <td>[]</td>\n",
       "    </tr>\n",
       "    <tr>\n",
       "      <th>1</th>\n",
       "      <td>2022-04-01 04:56:47+00:00</td>\n",
       "      <td>4501930040</td>\n",
       "      <td>RT @purpleluvrain: @jlints58 love it dear swee...</td>\n",
       "      <td></td>\n",
       "      <td>[]</td>\n",
       "    </tr>\n",
       "    <tr>\n",
       "      <th>2</th>\n",
       "      <td>2022-04-01 04:56:23+00:00</td>\n",
       "      <td>28729354</td>\n",
       "      <td>@StephanieNTX @dfwhispanic @Raquel_AmparoTV @S...</td>\n",
       "      <td>3173688997</td>\n",
       "      <td>[]</td>\n",
       "    </tr>\n",
       "    <tr>\n",
       "      <th>3</th>\n",
       "      <td>2022-04-01 04:55:32+00:00</td>\n",
       "      <td>4501930040</td>\n",
       "      <td>@SFDamnPodcast @alvatabitha I've been wonderin...</td>\n",
       "      <td>1248074962377699328</td>\n",
       "      <td>[]</td>\n",
       "    </tr>\n",
       "    <tr>\n",
       "      <th>4</th>\n",
       "      <td>2022-04-01 04:55:00+00:00</td>\n",
       "      <td>4501930040</td>\n",
       "      <td>RT @SFDamnPodcast: @alvatabitha @jlints58 a gr...</td>\n",
       "      <td></td>\n",
       "      <td>[]</td>\n",
       "    </tr>\n",
       "    <tr>\n",
       "      <th>...</th>\n",
       "      <td>...</td>\n",
       "      <td>...</td>\n",
       "      <td>...</td>\n",
       "      <td>...</td>\n",
       "      <td>...</td>\n",
       "    </tr>\n",
       "    <tr>\n",
       "      <th>386</th>\n",
       "      <td>2021-12-01 05:38:24+00:00</td>\n",
       "      <td>25444322</td>\n",
       "      <td>#GetVaccinated https://t.co/MHvXKKv5Fv</td>\n",
       "      <td></td>\n",
       "      <td>[#GetVaccinated]</td>\n",
       "    </tr>\n",
       "    <tr>\n",
       "      <th>387</th>\n",
       "      <td>2021-12-01 05:37:57+00:00</td>\n",
       "      <td>25444322</td>\n",
       "      <td>RT @UncvrngTheTruth: Jim Jordan said Biden thi...</td>\n",
       "      <td></td>\n",
       "      <td>[]</td>\n",
       "    </tr>\n",
       "    <tr>\n",
       "      <th>388</th>\n",
       "      <td>2021-12-01 05:25:36+00:00</td>\n",
       "      <td>40091601</td>\n",
       "      <td>@SoCassandra another family star</td>\n",
       "      <td>48928145</td>\n",
       "      <td>[]</td>\n",
       "    </tr>\n",
       "    <tr>\n",
       "      <th>389</th>\n",
       "      <td>2021-12-01 05:23:12+00:00</td>\n",
       "      <td>40091601</td>\n",
       "      <td>@dmschmeyer *saves*</td>\n",
       "      <td>732409522778742784</td>\n",
       "      <td>[]</td>\n",
       "    </tr>\n",
       "    <tr>\n",
       "      <th>390</th>\n",
       "      <td>2021-12-01 05:04:41+00:00</td>\n",
       "      <td>17448914</td>\n",
       "      <td>RT @DeathMetalV: The true war on Christmas is ...</td>\n",
       "      <td></td>\n",
       "      <td>[]</td>\n",
       "    </tr>\n",
       "  </tbody>\n",
       "</table>\n",
       "<p>14060535 rows × 5 columns</p>\n",
       "</div>"
      ],
      "text/plain": [
       "                    created_at            author_id  \\\n",
       "0    2022-04-01 04:58:38+00:00  1385729645740449804   \n",
       "1    2022-04-01 04:56:47+00:00           4501930040   \n",
       "2    2022-04-01 04:56:23+00:00             28729354   \n",
       "3    2022-04-01 04:55:32+00:00           4501930040   \n",
       "4    2022-04-01 04:55:00+00:00           4501930040   \n",
       "..                         ...                  ...   \n",
       "386  2021-12-01 05:38:24+00:00             25444322   \n",
       "387  2021-12-01 05:37:57+00:00             25444322   \n",
       "388  2021-12-01 05:25:36+00:00             40091601   \n",
       "389  2021-12-01 05:23:12+00:00             40091601   \n",
       "390  2021-12-01 05:04:41+00:00             17448914   \n",
       "\n",
       "                                                  text  in_reply_to_user_id  \\\n",
       "0                                       @Peroporqu_ :)  1500536286591033351   \n",
       "1    RT @purpleluvrain: @jlints58 love it dear swee...                        \n",
       "2    @StephanieNTX @dfwhispanic @Raquel_AmparoTV @S...           3173688997   \n",
       "3    @SFDamnPodcast @alvatabitha I've been wonderin...  1248074962377699328   \n",
       "4    RT @SFDamnPodcast: @alvatabitha @jlints58 a gr...                        \n",
       "..                                                 ...                  ...   \n",
       "386             #GetVaccinated https://t.co/MHvXKKv5Fv                        \n",
       "387  RT @UncvrngTheTruth: Jim Jordan said Biden thi...                        \n",
       "388                   @SoCassandra another family star             48928145   \n",
       "389                                @dmschmeyer *saves*   732409522778742784   \n",
       "390  RT @DeathMetalV: The true war on Christmas is ...                        \n",
       "\n",
       "             hashtags  \n",
       "0                  []  \n",
       "1                  []  \n",
       "2                  []  \n",
       "3                  []  \n",
       "4                  []  \n",
       "..                ...  \n",
       "386  [#GetVaccinated]  \n",
       "387                []  \n",
       "388                []  \n",
       "389                []  \n",
       "390                []  \n",
       "\n",
       "[14060535 rows x 5 columns]"
      ]
     },
     "execution_count": 110,
     "metadata": {},
     "output_type": "execute_result"
    }
   ],
   "source": [
    "df = pd.concat([read_tweets_from_gzip(f) for f in files_list])\n",
    "df"
   ]
  },
  {
   "cell_type": "code",
   "execution_count": 111,
   "id": "41dcdbf4",
   "metadata": {},
   "outputs": [],
   "source": [
    "df.to_csv(\"all_data_minimal_with_hashtags.csv\", index=False)"
   ]
  },
  {
   "cell_type": "code",
   "execution_count": 112,
   "id": "a5f13523",
   "metadata": {},
   "outputs": [
    {
     "data": {
      "application/vnd.microsoft.datawrangler.viewer.v0+json": {
       "columns": [
        {
         "name": "index",
         "rawType": "int64",
         "type": "integer"
        },
        {
         "name": "hashtag",
         "rawType": "object",
         "type": "string"
        },
        {
         "name": "count",
         "rawType": "int64",
         "type": "integer"
        }
       ],
       "ref": "31f9bd69-d2f2-47e9-b881-dc44127ed1db",
       "rows": [
        [
         "176",
         "#Ukraine",
         "54331"
        ],
        [
         "105",
         "#COVID19",
         "31835"
        ],
        [
         "1380",
         "#NowPlaying",
         "28003"
        ],
        [
         "696",
         "#Russia",
         "26147"
        ],
        [
         "3149",
         "#ClimateAction",
         "19640"
        ],
        [
         "362",
         "#BREAKING",
         "17719"
        ],
        [
         "479",
         "#art",
         "15896"
        ],
        [
         "232",
         "#nature",
         "15217"
        ],
        [
         "279",
         "#photography",
         "15198"
        ],
        [
         "8354",
         "#earthquake",
         "13900"
        ],
        [
         "1496",
         "#ClimateCrisis",
         "13810"
        ],
        [
         "38",
         "#StandWithUkraine",
         "12668"
        ],
        [
         "262",
         "#NaturePhotography",
         "11072"
        ],
        [
         "10709",
         "#MarshallFire",
         "10975"
        ],
        [
         "142",
         "#1",
         "10451"
        ],
        [
         "2580",
         "#climatechange",
         "9656"
        ],
        [
         "115",
         "#Omicron",
         "9582"
        ],
        [
         "7384",
         "#handmade",
         "8370"
        ],
        [
         "1711",
         "#txwx",
         "8341"
        ],
        [
         "3193",
         "#Texas",
         "8274"
        ],
        [
         "941",
         "#Putin",
         "8193"
        ],
        [
         "152",
         "#California",
         "8098"
        ],
        [
         "3066",
         "#climate",
         "7940"
        ],
        [
         "55180",
         "#KCBSTraffic",
         "7666"
        ],
        [
         "4408",
         "#etsy",
         "7603"
        ],
        [
         "1497",
         "#ClimateChange",
         "7525"
        ],
        [
         "185728",
         "#TheSims4",
         "7505"
        ],
        [
         "1651",
         "#DemVoice1",
         "7346"
        ],
        [
         "178",
         "#Russian",
         "7193"
        ],
        [
         "3444",
         "#AI",
         "7115"
        ],
        [
         "4119",
         "#USA",
         "7100"
        ],
        [
         "47",
         "#NYCACC",
         "6897"
        ],
        [
         "9654",
         "#meditation",
         "6896"
        ],
        [
         "26803",
         "#etsymntt",
         "6630"
        ],
        [
         "95",
         "#snow",
         "6629"
        ],
        [
         "942",
         "#China",
         "6625"
        ],
        [
         "691",
         "#Kyiv",
         "6384"
        ],
        [
         "15784",
         "#Christmas",
         "6347"
        ],
        [
         "36133",
         "#cosplay",
         "6277"
        ],
        [
         "319",
         "#books",
         "6158"
        ],
        [
         "25795",
         "#SupportSmallStreamers",
         "6147"
        ],
        [
         "141",
         "#COVID",
         "6103"
        ],
        [
         "19329",
         "#twitch",
         "6068"
        ],
        [
         "727",
         "#love",
         "6013"
        ],
        [
         "945",
         "#SCOTUS",
         "5872"
        ],
        [
         "2407",
         "#Colorado",
         "5795"
        ],
        [
         "13614",
         "#WPMOYChallenge",
         "5789"
        ],
        [
         "281",
         "#RT",
         "5767"
        ],
        [
         "1808",
         "#tornado",
         "5731"
        ],
        [
         "3071",
         "#news",
         "5628"
        ]
       ],
       "shape": {
        "columns": 2,
        "rows": 531221
       }
      },
      "text/html": [
       "<div>\n",
       "<style scoped>\n",
       "    .dataframe tbody tr th:only-of-type {\n",
       "        vertical-align: middle;\n",
       "    }\n",
       "\n",
       "    .dataframe tbody tr th {\n",
       "        vertical-align: top;\n",
       "    }\n",
       "\n",
       "    .dataframe thead th {\n",
       "        text-align: right;\n",
       "    }\n",
       "</style>\n",
       "<table border=\"1\" class=\"dataframe\">\n",
       "  <thead>\n",
       "    <tr style=\"text-align: right;\">\n",
       "      <th></th>\n",
       "      <th>hashtag</th>\n",
       "      <th>count</th>\n",
       "    </tr>\n",
       "  </thead>\n",
       "  <tbody>\n",
       "    <tr>\n",
       "      <th>176</th>\n",
       "      <td>#Ukraine</td>\n",
       "      <td>54331</td>\n",
       "    </tr>\n",
       "    <tr>\n",
       "      <th>105</th>\n",
       "      <td>#COVID19</td>\n",
       "      <td>31835</td>\n",
       "    </tr>\n",
       "    <tr>\n",
       "      <th>1380</th>\n",
       "      <td>#NowPlaying</td>\n",
       "      <td>28003</td>\n",
       "    </tr>\n",
       "    <tr>\n",
       "      <th>696</th>\n",
       "      <td>#Russia</td>\n",
       "      <td>26147</td>\n",
       "    </tr>\n",
       "    <tr>\n",
       "      <th>3149</th>\n",
       "      <td>#ClimateAction</td>\n",
       "      <td>19640</td>\n",
       "    </tr>\n",
       "    <tr>\n",
       "      <th>...</th>\n",
       "      <td>...</td>\n",
       "      <td>...</td>\n",
       "    </tr>\n",
       "    <tr>\n",
       "      <th>114112</th>\n",
       "      <td>#BettyWhiteIsDoingTheRi</td>\n",
       "      <td>1</td>\n",
       "    </tr>\n",
       "    <tr>\n",
       "      <th>325928</th>\n",
       "      <td>#InstagramDown</td>\n",
       "      <td>1</td>\n",
       "    </tr>\n",
       "    <tr>\n",
       "      <th>114113</th>\n",
       "      <td>#BostonLegal</td>\n",
       "      <td>1</td>\n",
       "    </tr>\n",
       "    <tr>\n",
       "      <th>325926</th>\n",
       "      <td>#GetGreggAbbottOut</td>\n",
       "      <td>1</td>\n",
       "    </tr>\n",
       "    <tr>\n",
       "      <th>265610</th>\n",
       "      <td>#TahtahmesDiary</td>\n",
       "      <td>1</td>\n",
       "    </tr>\n",
       "  </tbody>\n",
       "</table>\n",
       "<p>531221 rows × 2 columns</p>\n",
       "</div>"
      ],
      "text/plain": [
       "                        hashtag  count\n",
       "176                    #Ukraine  54331\n",
       "105                    #COVID19  31835\n",
       "1380                #NowPlaying  28003\n",
       "696                     #Russia  26147\n",
       "3149             #ClimateAction  19640\n",
       "...                         ...    ...\n",
       "114112  #BettyWhiteIsDoingTheRi      1\n",
       "325928           #InstagramDown      1\n",
       "114113             #BostonLegal      1\n",
       "325926       #GetGreggAbbottOut      1\n",
       "265610          #TahtahmesDiary      1\n",
       "\n",
       "[531221 rows x 2 columns]"
      ]
     },
     "execution_count": 112,
     "metadata": {},
     "output_type": "execute_result"
    }
   ],
   "source": [
    "def get_hashtag_counts_df(t):\n",
    "    hashtag_list = [hashtag for hashtags in t['hashtags'] for hashtag in hashtags]\n",
    "    hashtag_counts = Counter(hashtag_list)\n",
    "    hashtag_df = pd.DataFrame(hashtag_counts.items(), columns=['hashtag', 'count']).sort_values(by='count', ascending=False)\n",
    "    return hashtag_df\n",
    "\n",
    "get_hashtag_counts_df(df)"
   ]
  },
  {
   "cell_type": "code",
   "execution_count": 114,
   "id": "82dfc1af",
   "metadata": {},
   "outputs": [
    {
     "data": {
      "application/vnd.microsoft.datawrangler.viewer.v0+json": {
       "columns": [
        {
         "name": "index",
         "rawType": "int64",
         "type": "integer"
        },
        {
         "name": "created_at",
         "rawType": "object",
         "type": "unknown"
        },
        {
         "name": "author_id",
         "rawType": "object",
         "type": "string"
        },
        {
         "name": "text",
         "rawType": "object",
         "type": "string"
        },
        {
         "name": "in_reply_to_user_id",
         "rawType": "object",
         "type": "string"
        },
        {
         "name": "hashtags",
         "rawType": "object",
         "type": "unknown"
        }
       ],
       "ref": "cc7379e4-4d51-471a-92ab-060e8b8f7461",
       "rows": [
        [
         "388",
         "2022-03-31 20:22:08+00:00",
         "218538023",
         "RT @APPRISE_CRE: #COVID19 and #flu – an especially dangerous pair\n\nin @CIDRAP \n#influenza #COVID19Aus\nhttps://t.co/YV52GtHbzv",
         "",
         "['#COVID19', '#flu', '#influenza', '#COVID19Aus']"
        ],
        [
         "393",
         "2022-03-31 20:20:44+00:00",
         "218538023",
         "RT @CIDRAP: New \"Osterholm Update: COVID-19\" podcast! @mtosterholm assesses the state of the #COVID19 pandemic in the US and around the wor…",
         "",
         "['#COVID19']"
        ],
        [
         "395",
         "2022-03-31 20:19:45+00:00",
         "218538023",
         "RT @CIDRAP: A lot of #COVID19 research reporting today from CIDRAP, including these 2 key studies\n\nCOVID-19 SCAN: COVID deaths in indigenou…",
         "",
         "['#COVID19']"
        ],
        [
         "124",
         "2022-03-31 12:29:30+00:00",
         "218538023",
         "RT @CIDRAP: Global #COVID19 cases ebb amid testing blind-spot worries\n\nIn related news, the WHO updates its strategic pandemic plan and cal…",
         "",
         "['#COVID19']"
        ],
        [
         "126",
         "2022-03-31 12:28:10+00:00",
         "218538023",
         "RT @CIDRAP: White House launches 'one-stop' website for #COVID19 needs\n\nAlso, Biden warns that a lack of funds means booster shots may not…",
         "",
         "['#COVID19']"
        ],
        [
         "219",
         "2022-03-31 00:55:08+00:00",
         "1004065528871247872",
         "On #NationalDoctorsDay, let's take a moment to thank the doctors who take care of us.\n\nWhether you’re fighting #COVID19 or mending a broken toe, everyone deserves care when they need it — and CADOJ will keep fighting to expand access to affordable healthcare.\n\nThank you, Doctors! https://t.co/GinEKzMamv",
         "",
         "['#NationalDoctorsDay', '#COVID19']"
        ],
        [
         "336",
         "2022-03-30 20:03:29+00:00",
         "1379878022577283092",
         "While #COVID19 and political conflicts marred 2021 for many Americans, it was an exciting year of advancements in #satellite and #space. In the #Government Satellite Report's 2021 Year in Review, industry leaders reflect on a year of innovation. https://t.co/YC8Otiy6y9",
         "",
         "['#COVID19', '#satellite', '#space', '#Government']"
        ],
        [
         "21",
         "2022-03-30 01:19:07+00:00",
         "218538023",
         "RT @CIDRAP: NEWS SCAN: Outcomes of long COVID; Antibiotic resistance in food pathogens\n\nhttps://t.co/uZziOvkynR\n\n#COVID19 #LongCovid #AMR #…",
         "",
         "['#COVID19', '#LongCovid', '#AMR']"
        ],
        [
         "22",
         "2022-03-30 01:18:49+00:00",
         "218538023",
         "RT @CIDRAP: Black cancer patients more likely than Whites to have severe COVID\n\nBlack patients had higher rates of #COVID19 hospital or ICU…",
         "",
         "['#COVID19']"
        ],
        [
         "28",
         "2022-03-30 01:17:01+00:00",
         "218538023",
         "RT @CIDRAP: FDA OKs second COVID booster shot for older Americans\n\nThe CDC likewise recommends an additional #COVID19 vaccine booster dose…",
         "",
         "['#COVID19']"
        ],
        [
         "32",
         "2022-03-30 01:15:49+00:00",
         "218538023",
         "RT @SecBecerra: As we move forward safely, we are focused on staying ahead of the #COVID19 virus. To do that, it is a top priority to make…",
         "",
         "['#COVID19']"
        ],
        [
         "284",
         "2022-03-28 17:19:43+00:00",
         "218538023",
         "RT @nationshealth: Two more studies find no link between #COVID19 vaccines and adverse effects during pregnancy. @CIDRAP explains: https://…",
         "",
         "['#COVID19']"
        ],
        [
         "3",
         "2022-03-24 18:51:43+00:00",
         "218538023",
         "RT @CIDRAP: Aspirin may cut in-hospital #COVID19 death but not need for organ support\n\nAspirin appeared helpful for moderately ill but not…",
         "",
         "['#COVID19']"
        ],
        [
         "48",
         "2022-03-24 17:10:20+00:00",
         "218538023",
         "RT @CIDRAP: NEWS SCAN: NFL games and #COVID19 county spread; PCR Strep tests and antibiotic use #AMR #AntibioticStewardship\n\nhttps://t.co/z…",
         "",
         "['#COVID19', '#AMR', '#AntibioticStewardship']"
        ],
        [
         "125",
         "2022-03-24 16:09:13+00:00",
         "61399101",
         "RT @DrEricDing: ⚠️Don’t look up… because #COVID19 cases have completely flattened, reversed, and/or surging again in the mega states of Flo…",
         "",
         "['#COVID19']"
        ],
        [
         "307",
         "2022-03-24 15:30:02+00:00",
         "218538023",
         "RT @CedarsSinai: Few treatments currently exist for #COVID19 and the ones that do primarily focus solely on preventing the virus from repli…",
         "",
         "['#COVID19']"
        ],
        [
         "240",
         "2022-03-22 20:32:35+00:00",
         "218538023",
         "RT @SecBecerra: These funds have helped save lives throughout the pandemic. As we continue to make progress in defeating #COVID19, it’s imp…",
         "",
         "['#COVID19']"
        ],
        [
         "266",
         "2022-03-22 20:06:55+00:00",
         "218538023",
         "RT @CIDRAP: #COVID19 in pregnancy tied to poor maternal outcomes, preterm birth, fetal death\n\nOne study finds a doubled risk of severe mate…",
         "",
         "['#COVID19']"
        ],
        [
         "267",
         "2022-03-22 20:05:33+00:00",
         "218538023",
         "RT @CIDRAP: Today's #COVID19 research summaries\n\nCOVID-19 SCAN: SARS-CoV-2 spread in deer; COVID-19 and domestic abuse\n\nhttps://t.co/mNbE0Q…",
         "",
         "['#COVID19']"
        ],
        [
         "16",
         "2022-03-22 03:44:07+00:00",
         "1598709793",
         "RT @DrEricDing: 📊Don’t be deceived by low case counts—\n\n📌US has one of the lowest #COVID19 testing rates per capita\n\n📌US testing has fallen…",
         "",
         "['#COVID19']"
        ],
        [
         "277",
         "2022-03-21 18:01:29+00:00",
         "61399101",
         "RT @PowerUSAID: Half a BILLION U.S.-donated #COVID19 vaccines. 110+ countries. Together, we can vaccinate the world. https://t.co/baenAx0Z8C",
         "",
         "['#COVID19']"
        ],
        [
         "329",
         "2022-03-20 12:17:12+00:00",
         "218538023",
         "RT @DrEricDing: So, if I need to goto a hospital, I want to be safe and know I won’t be cross-infected. Yet, 20% of #COVID19 hospitalizatio…",
         "",
         "['#COVID19']"
        ],
        [
         "473",
         "2022-03-19 18:31:44+00:00",
         "218538023",
         "RT @WHO: What happens when #COVID19 variants combine? Dr @mvankerkhove explains ⬇️ https://t.co/J59DpQaSHB",
         "",
         "['#COVID19']"
        ],
        [
         "233",
         "2022-03-19 13:02:04+00:00",
         "218538023",
         "RT @GaviSeth: .@hbomax’s\n original documentary #HowToSurviveAPandemic looks at the race to make a #COVID19 vaccine – and vaccinate the worl…",
         "",
         "['#HowToSurviveAPandemic', '#COVID19']"
        ],
        [
         "240",
         "2022-03-19 12:52:07+00:00",
         "218538023",
         "RT @CIDRAP: Studies show vaccines protect against serious Omicron illness\n\nDuring the Omicron surge, those who got a #COVID19 booster dose…",
         "",
         "['#COVID19']"
        ],
        [
         "241",
         "2022-03-19 12:51:23+00:00",
         "218538023",
         "RT @Monika_Dutt: Always a useful podcast to listen to for #COVID19 updates. \n\nThe latest: \"Expect the Unexpected,\" with @mtosterholm https:…",
         "",
         "['#COVID19']"
        ],
        [
         "27",
         "2022-03-18 20:49:49+00:00",
         "61399101",
         "RT @PowerUSAID: Half a BILLION U.S.-donated #COVID19 vaccines. 110+ countries. Together, we can vaccinate the world. https://t.co/baenAx0Z8C",
         "",
         "['#COVID19']"
        ],
        [
         "259",
         "2022-03-17 23:04:04+00:00",
         "218538023",
         "RT @chrishendel: #COVID19 cases soar in Asian hot spots; US gets new #COVID czar \nby @lisaschnirring @CIDRAP \nhttps://t.co/8bdug7pIWC",
         "",
         "['#COVID19', '#COVID']"
        ],
        [
         "344",
         "2022-03-17 21:25:32+00:00",
         "218538023",
         "RT @CIDRAP: 70% of #COVID19 survivors in UK study had impaired memory, focus\n\n\"The impact on the working population could be huge,\" one stu…",
         "",
         "['#COVID19']"
        ],
        [
         "195",
         "2022-03-17 17:29:49+00:00",
         "218538023",
         "RT @DrTedros: Reported #COVID19 cases are again increasing despite reductions in testing, which means the cases we're seeing are just the t…",
         "",
         "['#COVID19']"
        ],
        [
         "212",
         "2022-03-17 17:08:58+00:00",
         "218538023",
         "RT @CIDRAP: China's COVID-19 cases double as other nations eye resurgences\n\nAlso, some experts warn of potential #COVID19 rises in the US b…",
         "",
         "['#COVID19']"
        ],
        [
         "214",
         "2022-03-17 17:08:17+00:00",
         "218538023",
         "RT @nationshealth: Study: Severe #COVID19 linked to long-term anxiety, depression. Via @CIDRAP: https://t.co/lra8v6nxc7",
         "",
         "['#COVID19']"
        ],
        [
         "215",
         "2022-03-17 17:08:06+00:00",
         "218538023",
         "RT @CNECTGPO: A study of patients aged 60 and older who were treated for #COVID19 in hospitals in Wuhan, China, has shown that cognitive im…",
         "",
         "['#COVID19']"
        ],
        [
         "342",
         "2022-03-17 02:44:47+00:00",
         "218538023",
         "RT @CIDRAP: Twice as many Black #COVID19  patients deemed lowest priority in ICU triage system\n\nOngoing analysis and modifications of crisi…",
         "",
         "['#COVID19']"
        ],
        [
         "463",
         "2022-03-15 15:35:27+00:00",
         "218538023",
         "RT @arimoin: Wastewater surveillance sites for #COVID19 are picking up a significant increase in viral RNA over last ~2 weeks. \n\nThis is ou…",
         "",
         "['#COVID19']"
        ],
        [
         "17",
         "2022-03-15 14:55:36+00:00",
         "2919219271",
         "RT @SULernerCenter: Survey data from a national sample of U.S. working-age adults shows that #rural residents experienced worse #COVID19 im…",
         "",
         "['#rural', '#COVID19']"
        ],
        [
         "487",
         "2022-03-11 18:28:36+00:00",
         "61399101",
         "RT @MiamiDadeCounty: #COVID19 vaccine boosters are now available for those 16 and over in #OurCounty. To find a location closest to you, go…",
         "",
         "['#COVID19', '#OurCounty']"
        ],
        [
         "126",
         "2022-03-10 19:02:29+00:00",
         "4501930040",
         "RT @SegunMisDatos: @DeniseMaerker @AristeguiOnline Mientras #China con 1412 millones d habitantes tiene 4636 muertos por #COVID19, #Mexico…",
         "",
         "['#China', '#COVID19', '#Mexico']"
        ],
        [
         "364",
         "2022-03-10 12:21:40+00:00",
         "218538023",
         "RT @CIDRAP: Global drop in #COVID19 continues, but cases still high\n\nAlso this: the United States continues to report the most COVID-19 fat…",
         "",
         "['#COVID19']"
        ],
        [
         "371",
         "2022-03-10 12:17:45+00:00",
         "218538023",
         "RT @CIDRAP: Mental decline seen in older #COVID19 patients 1 year later\n\n\"These findings imply that the pandemic may substantially contribu…",
         "",
         "['#COVID19']"
        ],
        [
         "370",
         "2022-03-08 23:34:38+00:00",
         "218538023",
         "RT @GawandeUSAID: There are 11 priority epidemic diseases. \n\nBefore #COVID19, it could take 10+ years &amp; billions of dollars to develop a ne…",
         "",
         "['#COVID19']"
        ],
        [
         "450",
         "2022-03-08 22:19:26+00:00",
         "218538023",
         "RT @CIDRAP: WHO lays out plan for #COVID19 vaccines to tackle new variants\n\nDifferent approaches may be needed in the future, experts say,…",
         "",
         "['#COVID19']"
        ],
        [
         "24",
         "2022-03-07 21:56:05+00:00",
         "218538023",
         "RT @CIDRAP: COVID deaths vary by race, community, social factors\n\nSocial determinants of health tied to #COVID19 death rates varied by race…",
         "",
         "['#COVID19']"
        ],
        [
         "360",
         "2022-03-05 19:35:31+00:00",
         "28729354",
         "Journalists covering #COVID19, @barav with @AHCJ talks @houstonspj sessions on Covid19. She says use the right terms &amp; definitions when covering #COVID &amp; pandemic. For example the difference btw words isolation &amp; quarantine. Avoid confusing the public. #journalism #coronavirus https://t.co/KVyMlF8Fcz",
         "",
         "['#COVID19', '#COVID', '#journalism', '#coronavirus']"
        ],
        [
         "473",
         "2022-03-05 16:51:49+00:00",
         "28729354",
         "Today, the topic is covering #COVID19 and the #pandemic. @houstonspj sessions. @mseleanorevega @jourdanbb and I are talking about finding sources &amp; stories in our diverse communities. The pandemic is not over. We need to stay on top of this issue. \nhttps://t.co/4LdNpF4hMx",
         "",
         "['#COVID19', '#pandemic']"
        ],
        [
         "76",
         "2022-03-04 20:28:29+00:00",
         "218538023",
         "RT @CIDRAP: Our Friday wrap-up: #COVID19 #AvianFlu #Polio #JapaneseEncephalitis\n\nNEWS SCAN: COVID vaccine efficacy in teens; Vaccines again…",
         "",
         "['#COVID19', '#AvianFlu', '#Polio', '#JapaneseEncephalitis']"
        ],
        [
         "77",
         "2022-03-04 20:28:02+00:00",
         "218538023",
         "RT @CIDRAP: COVID-only Minnesota hospitals had lower death rates\n\nDeath rates were 22% to 25% lower despite a 41% #COVID19 ICU rate, compar…",
         "",
         "['#COVID19']"
        ],
        [
         "43",
         "2022-03-04 02:49:21+00:00",
         "218538023",
         "RT @CIDRAP: NEWS SCAN: Long #COVID19 and nerve damage; #AvianFlu in Iowa, Connecticut flocks; New gain-of-function research review #DURC\n\nh…",
         "",
         "['#COVID19', '#AvianFlu', '#DURC']"
        ],
        [
         "45",
         "2022-03-04 02:48:53+00:00",
         "218538023",
         "RT @CIDRAP: Global COVID cases, deaths drop, except in key hot spots\n\n#COVID19 surges continue to intensify in locations such as Hong Kong,…",
         "",
         "['#COVID19']"
        ],
        [
         "48",
         "2022-03-04 02:48:05+00:00",
         "218538023",
         "RT @CIDRAP: Third vaccine dose boosts Omicron protection, with some waning\n\nA third dose with any of 3 #COVID19 vaccines boosted effectiven…",
         "",
         "['#COVID19']"
        ]
       ],
       "shape": {
        "columns": 5,
        "rows": 31633
       }
      },
      "text/html": [
       "<div>\n",
       "<style scoped>\n",
       "    .dataframe tbody tr th:only-of-type {\n",
       "        vertical-align: middle;\n",
       "    }\n",
       "\n",
       "    .dataframe tbody tr th {\n",
       "        vertical-align: top;\n",
       "    }\n",
       "\n",
       "    .dataframe thead th {\n",
       "        text-align: right;\n",
       "    }\n",
       "</style>\n",
       "<table border=\"1\" class=\"dataframe\">\n",
       "  <thead>\n",
       "    <tr style=\"text-align: right;\">\n",
       "      <th></th>\n",
       "      <th>created_at</th>\n",
       "      <th>author_id</th>\n",
       "      <th>text</th>\n",
       "      <th>in_reply_to_user_id</th>\n",
       "      <th>hashtags</th>\n",
       "    </tr>\n",
       "  </thead>\n",
       "  <tbody>\n",
       "    <tr>\n",
       "      <th>388</th>\n",
       "      <td>2022-03-31 20:22:08+00:00</td>\n",
       "      <td>218538023</td>\n",
       "      <td>RT @APPRISE_CRE: #COVID19 and #flu – an especi...</td>\n",
       "      <td></td>\n",
       "      <td>[#COVID19, #flu, #influenza, #COVID19Aus]</td>\n",
       "    </tr>\n",
       "    <tr>\n",
       "      <th>393</th>\n",
       "      <td>2022-03-31 20:20:44+00:00</td>\n",
       "      <td>218538023</td>\n",
       "      <td>RT @CIDRAP: New \"Osterholm Update: COVID-19\" p...</td>\n",
       "      <td></td>\n",
       "      <td>[#COVID19]</td>\n",
       "    </tr>\n",
       "    <tr>\n",
       "      <th>395</th>\n",
       "      <td>2022-03-31 20:19:45+00:00</td>\n",
       "      <td>218538023</td>\n",
       "      <td>RT @CIDRAP: A lot of #COVID19 research reporti...</td>\n",
       "      <td></td>\n",
       "      <td>[#COVID19]</td>\n",
       "    </tr>\n",
       "    <tr>\n",
       "      <th>124</th>\n",
       "      <td>2022-03-31 12:29:30+00:00</td>\n",
       "      <td>218538023</td>\n",
       "      <td>RT @CIDRAP: Global #COVID19 cases ebb amid tes...</td>\n",
       "      <td></td>\n",
       "      <td>[#COVID19]</td>\n",
       "    </tr>\n",
       "    <tr>\n",
       "      <th>126</th>\n",
       "      <td>2022-03-31 12:28:10+00:00</td>\n",
       "      <td>218538023</td>\n",
       "      <td>RT @CIDRAP: White House launches 'one-stop' we...</td>\n",
       "      <td></td>\n",
       "      <td>[#COVID19]</td>\n",
       "    </tr>\n",
       "    <tr>\n",
       "      <th>...</th>\n",
       "      <td>...</td>\n",
       "      <td>...</td>\n",
       "      <td>...</td>\n",
       "      <td>...</td>\n",
       "      <td>...</td>\n",
       "    </tr>\n",
       "    <tr>\n",
       "      <th>447</th>\n",
       "      <td>2021-12-02 15:21:10+00:00</td>\n",
       "      <td>15570694</td>\n",
       "      <td>The wonderful @HC_Richardson concisely summari...</td>\n",
       "      <td></td>\n",
       "      <td>[#COVID19]</td>\n",
       "    </tr>\n",
       "    <tr>\n",
       "      <th>15</th>\n",
       "      <td>2021-12-02 12:24:23+00:00</td>\n",
       "      <td>982564830</td>\n",
       "      <td>RT @awong37: Great news. The US has given ~4.2...</td>\n",
       "      <td></td>\n",
       "      <td>[#COVID19]</td>\n",
       "    </tr>\n",
       "    <tr>\n",
       "      <th>146</th>\n",
       "      <td>2021-12-01 22:02:19+00:00</td>\n",
       "      <td>982564830</td>\n",
       "      <td>RT @morethanmySLE: #DrOz SUGGESTED in April 20...</td>\n",
       "      <td></td>\n",
       "      <td>[#DrOz, #COVID19]</td>\n",
       "    </tr>\n",
       "    <tr>\n",
       "      <th>186</th>\n",
       "      <td>2021-12-01 19:50:52+00:00</td>\n",
       "      <td>982564830</td>\n",
       "      <td>RT @CDCgov: #Parents: Everyone ages 5 years an...</td>\n",
       "      <td></td>\n",
       "      <td>[#Parents, #COVID19]</td>\n",
       "    </tr>\n",
       "    <tr>\n",
       "      <th>221</th>\n",
       "      <td>2021-12-01 18:04:49+00:00</td>\n",
       "      <td>17448914</td>\n",
       "      <td>RT @Laurie_Garrett: This is not good. The MDs ...</td>\n",
       "      <td></td>\n",
       "      <td>[#COVID19]</td>\n",
       "    </tr>\n",
       "  </tbody>\n",
       "</table>\n",
       "<p>31633 rows × 5 columns</p>\n",
       "</div>"
      ],
      "text/plain": [
       "                    created_at  author_id  \\\n",
       "388  2022-03-31 20:22:08+00:00  218538023   \n",
       "393  2022-03-31 20:20:44+00:00  218538023   \n",
       "395  2022-03-31 20:19:45+00:00  218538023   \n",
       "124  2022-03-31 12:29:30+00:00  218538023   \n",
       "126  2022-03-31 12:28:10+00:00  218538023   \n",
       "..                         ...        ...   \n",
       "447  2021-12-02 15:21:10+00:00   15570694   \n",
       "15   2021-12-02 12:24:23+00:00  982564830   \n",
       "146  2021-12-01 22:02:19+00:00  982564830   \n",
       "186  2021-12-01 19:50:52+00:00  982564830   \n",
       "221  2021-12-01 18:04:49+00:00   17448914   \n",
       "\n",
       "                                                  text in_reply_to_user_id  \\\n",
       "388  RT @APPRISE_CRE: #COVID19 and #flu – an especi...                       \n",
       "393  RT @CIDRAP: New \"Osterholm Update: COVID-19\" p...                       \n",
       "395  RT @CIDRAP: A lot of #COVID19 research reporti...                       \n",
       "124  RT @CIDRAP: Global #COVID19 cases ebb amid tes...                       \n",
       "126  RT @CIDRAP: White House launches 'one-stop' we...                       \n",
       "..                                                 ...                 ...   \n",
       "447  The wonderful @HC_Richardson concisely summari...                       \n",
       "15   RT @awong37: Great news. The US has given ~4.2...                       \n",
       "146  RT @morethanmySLE: #DrOz SUGGESTED in April 20...                       \n",
       "186  RT @CDCgov: #Parents: Everyone ages 5 years an...                       \n",
       "221  RT @Laurie_Garrett: This is not good. The MDs ...                       \n",
       "\n",
       "                                      hashtags  \n",
       "388  [#COVID19, #flu, #influenza, #COVID19Aus]  \n",
       "393                                 [#COVID19]  \n",
       "395                                 [#COVID19]  \n",
       "124                                 [#COVID19]  \n",
       "126                                 [#COVID19]  \n",
       "..                                         ...  \n",
       "447                                 [#COVID19]  \n",
       "15                                  [#COVID19]  \n",
       "146                          [#DrOz, #COVID19]  \n",
       "186                       [#Parents, #COVID19]  \n",
       "221                                 [#COVID19]  \n",
       "\n",
       "[31633 rows x 5 columns]"
      ]
     },
     "execution_count": 114,
     "metadata": {},
     "output_type": "execute_result"
    }
   ],
   "source": [
    "df_covid19 = df[df['hashtags'].apply(lambda hashtags: \"#COVID19\" in hashtags)]\n",
    "df_covid19"
   ]
  },
  {
   "cell_type": "code",
   "execution_count": 119,
   "id": "8df0362e",
   "metadata": {},
   "outputs": [
    {
     "name": "stderr",
     "output_type": "stream",
     "text": [
      "c:\\Users\\pog66\\.conda\\envs\\main\\Lib\\site-packages\\pandas\\core\\indexes\\base.py:7588: FutureWarning: Dtype inference on a pandas object (Series, Index, ExtensionArray) is deprecated. The Index constructor will keep the original dtype in the future. Call `infer_objects` on the result to get the old behavior.\n",
      "  return Index(sequences[0], name=names)\n"
     ]
    },
    {
     "data": {
      "text/plain": [
       "<Axes: xlabel='created_at'>"
      ]
     },
     "execution_count": 119,
     "metadata": {},
     "output_type": "execute_result"
    },
    {
     "data": {
      "image/png": "[encoded data removed]",
      "text/plain": [
       "<Figure size 640x480 with 1 Axes>"
      ]
     },
     "metadata": {},
     "output_type": "display_data"
    }
   ],
   "source": [
    "df_covid19.set_index(\"created_at\").resample(\"D\").size().plot()"
   ]
  },
  {
   "cell_type": "code",
   "execution_count": 120,
   "id": "a83bbfd1",
   "metadata": {},
   "outputs": [
    {
     "data": {
      "application/vnd.microsoft.datawrangler.viewer.v0+json": {
       "columns": [
        {
         "name": "index",
         "rawType": "int64",
         "type": "integer"
        },
        {
         "name": "author_id",
         "rawType": "object",
         "type": "string"
        },
        {
         "name": "post_count",
         "rawType": "int64",
         "type": "integer"
        }
       ],
       "ref": "a2be030c-570e-4758-b4c7-87cd905b60e0",
       "rows": [
        [
         "0",
         "29097819",
         "1064"
        ],
        [
         "1",
         "736710115",
         "806"
        ],
        [
         "2",
         "4937061",
         "578"
        ],
        [
         "3",
         "38978291",
         "570"
        ],
        [
         "4",
         "146569971",
         "467"
        ],
        [
         "5",
         "879751182696230912",
         "457"
        ],
        [
         "6",
         "118788479",
         "437"
        ],
        [
         "7",
         "17449331",
         "435"
        ],
        [
         "8",
         "4481687056",
         "423"
        ],
        [
         "9",
         "1310982818206547968",
         "422"
        ],
        [
         "10",
         "796209435865661440",
         "407"
        ],
        [
         "11",
         "80483638",
         "400"
        ],
        [
         "12",
         "327811537",
         "398"
        ],
        [
         "13",
         "992307060",
         "347"
        ],
        [
         "14",
         "1398747840",
         "310"
        ],
        [
         "15",
         "23948496",
         "269"
        ],
        [
         "16",
         "48219360",
         "252"
        ],
        [
         "17",
         "23026561",
         "252"
        ],
        [
         "18",
         "912185165048410112",
         "223"
        ],
        [
         "19",
         "44783853",
         "215"
        ],
        [
         "20",
         "4697664391",
         "211"
        ],
        [
         "21",
         "218538023",
         "209"
        ],
        [
         "22",
         "134971995",
         "209"
        ],
        [
         "23",
         "1011011440025600000",
         "208"
        ],
        [
         "24",
         "3653083512",
         "199"
        ],
        [
         "25",
         "2856133189",
         "196"
        ],
        [
         "26",
         "1374837540079960069",
         "186"
        ],
        [
         "27",
         "218289191",
         "184"
        ],
        [
         "28",
         "451585651",
         "177"
        ],
        [
         "29",
         "21265939",
         "175"
        ],
        [
         "30",
         "110838368",
         "173"
        ],
        [
         "31",
         "36167088",
         "172"
        ],
        [
         "32",
         "16685803",
         "171"
        ],
        [
         "33",
         "3253228622",
         "171"
        ],
        [
         "34",
         "19658936",
         "170"
        ],
        [
         "35",
         "838902662263357441",
         "166"
        ],
        [
         "36",
         "2894327814",
         "161"
        ],
        [
         "37",
         "719690726641164288",
         "148"
        ],
        [
         "38",
         "877629044828667905",
         "141"
        ],
        [
         "39",
         "43369337",
         "140"
        ],
        [
         "40",
         "1159924250624569344",
         "139"
        ],
        [
         "41",
         "297261364",
         "136"
        ],
        [
         "42",
         "29967129",
         "134"
        ],
        [
         "43",
         "541068411",
         "130"
        ],
        [
         "44",
         "871399252815204354",
         "128"
        ],
        [
         "45",
         "1396930447641251840",
         "127"
        ],
        [
         "46",
         "806228910572765184",
         "126"
        ],
        [
         "47",
         "1406397502924877828",
         "125"
        ],
        [
         "48",
         "22828837",
         "122"
        ],
        [
         "49",
         "2598357146",
         "122"
        ]
       ],
       "shape": {
        "columns": 2,
        "rows": 1545
       }
      },
      "text/html": [
       "<div>\n",
       "<style scoped>\n",
       "    .dataframe tbody tr th:only-of-type {\n",
       "        vertical-align: middle;\n",
       "    }\n",
       "\n",
       "    .dataframe tbody tr th {\n",
       "        vertical-align: top;\n",
       "    }\n",
       "\n",
       "    .dataframe thead th {\n",
       "        text-align: right;\n",
       "    }\n",
       "</style>\n",
       "<table border=\"1\" class=\"dataframe\">\n",
       "  <thead>\n",
       "    <tr style=\"text-align: right;\">\n",
       "      <th></th>\n",
       "      <th>author_id</th>\n",
       "      <th>post_count</th>\n",
       "    </tr>\n",
       "  </thead>\n",
       "  <tbody>\n",
       "    <tr>\n",
       "      <th>0</th>\n",
       "      <td>29097819</td>\n",
       "      <td>1064</td>\n",
       "    </tr>\n",
       "    <tr>\n",
       "      <th>1</th>\n",
       "      <td>736710115</td>\n",
       "      <td>806</td>\n",
       "    </tr>\n",
       "    <tr>\n",
       "      <th>2</th>\n",
       "      <td>4937061</td>\n",
       "      <td>578</td>\n",
       "    </tr>\n",
       "    <tr>\n",
       "      <th>3</th>\n",
       "      <td>38978291</td>\n",
       "      <td>570</td>\n",
       "    </tr>\n",
       "    <tr>\n",
       "      <th>4</th>\n",
       "      <td>146569971</td>\n",
       "      <td>467</td>\n",
       "    </tr>\n",
       "    <tr>\n",
       "      <th>...</th>\n",
       "      <td>...</td>\n",
       "      <td>...</td>\n",
       "    </tr>\n",
       "    <tr>\n",
       "      <th>1540</th>\n",
       "      <td>31895836</td>\n",
       "      <td>1</td>\n",
       "    </tr>\n",
       "    <tr>\n",
       "      <th>1541</th>\n",
       "      <td>620255756</td>\n",
       "      <td>1</td>\n",
       "    </tr>\n",
       "    <tr>\n",
       "      <th>1542</th>\n",
       "      <td>41916943</td>\n",
       "      <td>1</td>\n",
       "    </tr>\n",
       "    <tr>\n",
       "      <th>1543</th>\n",
       "      <td>311187995</td>\n",
       "      <td>1</td>\n",
       "    </tr>\n",
       "    <tr>\n",
       "      <th>1544</th>\n",
       "      <td>24842165</td>\n",
       "      <td>1</td>\n",
       "    </tr>\n",
       "  </tbody>\n",
       "</table>\n",
       "<p>1545 rows × 2 columns</p>\n",
       "</div>"
      ],
      "text/plain": [
       "      author_id  post_count\n",
       "0      29097819        1064\n",
       "1     736710115         806\n",
       "2       4937061         578\n",
       "3      38978291         570\n",
       "4     146569971         467\n",
       "...         ...         ...\n",
       "1540   31895836           1\n",
       "1541  620255756           1\n",
       "1542   41916943           1\n",
       "1543  311187995           1\n",
       "1544   24842165           1\n",
       "\n",
       "[1545 rows x 2 columns]"
      ]
     },
     "execution_count": 120,
     "metadata": {},
     "output_type": "execute_result"
    }
   ],
   "source": [
    "user_post_count = df_covid19[\"author_id\"].value_counts().rename_axis(\"author_id\").rename(\"post_count\").reset_index()\n",
    "user_post_count"
   ]
  },
  {
   "cell_type": "code",
   "execution_count": 131,
   "id": "1950169e",
   "metadata": {},
   "outputs": [
    {
     "data": {
      "application/vnd.microsoft.datawrangler.viewer.v0+json": {
       "columns": [
        {
         "name": "index",
         "rawType": "int64",
         "type": "integer"
        },
        {
         "name": "author_id",
         "rawType": "object",
         "type": "string"
        },
        {
         "name": "received_retweets_count",
         "rawType": "int64",
         "type": "integer"
        }
       ],
       "ref": "b9f4072b-b6ce-4e7d-84b6-bcff40b6225c",
       "rows": [
        [
         "1",
         "80483638",
         "290"
        ],
        [
         "2",
         "146569971",
         "61"
        ],
        [
         "3",
         "36167088",
         "52"
        ],
        [
         "4",
         "620136960",
         "42"
        ],
        [
         "5",
         "17919393",
         "38"
        ],
        [
         "6",
         "877629044828667905",
         "31"
        ],
        [
         "7",
         "38978291",
         "25"
        ],
        [
         "8",
         "1295803342162210817",
         "21"
        ],
        [
         "9",
         "720959701651996673",
         "21"
        ],
        [
         "10",
         "20525702",
         "19"
        ],
        [
         "11",
         "1398747840",
         "19"
        ],
        [
         "12",
         "36740674",
         "19"
        ],
        [
         "13",
         "19834403",
         "15"
        ],
        [
         "14",
         "43369337",
         "15"
        ],
        [
         "15",
         "3180247177",
         "13"
        ],
        [
         "16",
         "1282853745945202688",
         "11"
        ],
        [
         "17",
         "20280574",
         "11"
        ],
        [
         "18",
         "451585651",
         "10"
        ],
        [
         "19",
         "76780096",
         "10"
        ],
        [
         "20",
         "323920783",
         "9"
        ],
        [
         "21",
         "16685803",
         "9"
        ],
        [
         "22",
         "573210043",
         "8"
        ],
        [
         "23",
         "51241574",
         "8"
        ],
        [
         "24",
         "767945051787759616",
         "8"
        ],
        [
         "25",
         "269992801",
         "8"
        ],
        [
         "26",
         "1349149096909668363",
         "7"
        ],
        [
         "27",
         "11134252",
         "7"
        ],
        [
         "28",
         "593289567",
         "7"
        ],
        [
         "29",
         "15632680",
         "7"
        ],
        [
         "30",
         "1386292556766515200",
         "7"
        ],
        [
         "31",
         "17143007",
         "7"
        ],
        [
         "32",
         "22828837",
         "6"
        ],
        [
         "33",
         "142843687",
         "6"
        ],
        [
         "34",
         "1457177169407393795",
         "6"
        ],
        [
         "35",
         "1421182643375427584",
         "6"
        ],
        [
         "36",
         "23026561",
         "5"
        ],
        [
         "37",
         "84932964",
         "5"
        ],
        [
         "38",
         "800936305",
         "5"
        ],
        [
         "39",
         "2977083957",
         "5"
        ],
        [
         "40",
         "964559256509960192",
         "5"
        ],
        [
         "41",
         "1239194270365614087",
         "5"
        ],
        [
         "42",
         "114268609",
         "5"
        ],
        [
         "43",
         "22049097",
         "5"
        ],
        [
         "44",
         "766325395708870656",
         "5"
        ],
        [
         "45",
         "21151732",
         "5"
        ],
        [
         "46",
         "193441812",
         "4"
        ],
        [
         "47",
         "17018470",
         "4"
        ],
        [
         "48",
         "169353953",
         "4"
        ],
        [
         "49",
         "14260960",
         "4"
        ],
        [
         "50",
         "87358629",
         "4"
        ]
       ],
       "shape": {
        "columns": 2,
        "rows": 757
       }
      },
      "text/html": [
       "<div>\n",
       "<style scoped>\n",
       "    .dataframe tbody tr th:only-of-type {\n",
       "        vertical-align: middle;\n",
       "    }\n",
       "\n",
       "    .dataframe tbody tr th {\n",
       "        vertical-align: top;\n",
       "    }\n",
       "\n",
       "    .dataframe thead th {\n",
       "        text-align: right;\n",
       "    }\n",
       "</style>\n",
       "<table border=\"1\" class=\"dataframe\">\n",
       "  <thead>\n",
       "    <tr style=\"text-align: right;\">\n",
       "      <th></th>\n",
       "      <th>author_id</th>\n",
       "      <th>received_retweets_count</th>\n",
       "    </tr>\n",
       "  </thead>\n",
       "  <tbody>\n",
       "    <tr>\n",
       "      <th>1</th>\n",
       "      <td>80483638</td>\n",
       "      <td>290</td>\n",
       "    </tr>\n",
       "    <tr>\n",
       "      <th>2</th>\n",
       "      <td>146569971</td>\n",
       "      <td>61</td>\n",
       "    </tr>\n",
       "    <tr>\n",
       "      <th>3</th>\n",
       "      <td>36167088</td>\n",
       "      <td>52</td>\n",
       "    </tr>\n",
       "    <tr>\n",
       "      <th>4</th>\n",
       "      <td>620136960</td>\n",
       "      <td>42</td>\n",
       "    </tr>\n",
       "    <tr>\n",
       "      <th>5</th>\n",
       "      <td>17919393</td>\n",
       "      <td>38</td>\n",
       "    </tr>\n",
       "    <tr>\n",
       "      <th>...</th>\n",
       "      <td>...</td>\n",
       "      <td>...</td>\n",
       "    </tr>\n",
       "    <tr>\n",
       "      <th>753</th>\n",
       "      <td>268326056</td>\n",
       "      <td>1</td>\n",
       "    </tr>\n",
       "    <tr>\n",
       "      <th>754</th>\n",
       "      <td>1108149693874225152</td>\n",
       "      <td>1</td>\n",
       "    </tr>\n",
       "    <tr>\n",
       "      <th>755</th>\n",
       "      <td>1217198127591186437</td>\n",
       "      <td>1</td>\n",
       "    </tr>\n",
       "    <tr>\n",
       "      <th>756</th>\n",
       "      <td>18149465</td>\n",
       "      <td>1</td>\n",
       "    </tr>\n",
       "    <tr>\n",
       "      <th>757</th>\n",
       "      <td>344350643</td>\n",
       "      <td>1</td>\n",
       "    </tr>\n",
       "  </tbody>\n",
       "</table>\n",
       "<p>757 rows × 2 columns</p>\n",
       "</div>"
      ],
      "text/plain": [
       "               author_id  received_retweets_count\n",
       "1               80483638                      290\n",
       "2              146569971                       61\n",
       "3               36167088                       52\n",
       "4              620136960                       42\n",
       "5               17919393                       38\n",
       "..                   ...                      ...\n",
       "753            268326056                        1\n",
       "754  1108149693874225152                        1\n",
       "755  1217198127591186437                        1\n",
       "756             18149465                        1\n",
       "757            344350643                        1\n",
       "\n",
       "[757 rows x 2 columns]"
      ]
     },
     "execution_count": 131,
     "metadata": {},
     "output_type": "execute_result"
    }
   ],
   "source": [
    "user_rr_count = df_covid19[\"in_reply_to_user_id\"].value_counts().rename_axis(\"author_id\").rename(\"received_retweets_count\").reset_index().drop(0) # drop NaN\n",
    "user_rr_count"
   ]
  },
  {
   "cell_type": "code",
   "execution_count": 132,
   "id": "88ef257b",
   "metadata": {},
   "outputs": [
    {
     "data": {
      "application/vnd.microsoft.datawrangler.viewer.v0+json": {
       "columns": [
        {
         "name": "index",
         "rawType": "int64",
         "type": "integer"
        },
        {
         "name": "author_id",
         "rawType": "object",
         "type": "string"
        },
        {
         "name": "received_retweets_count",
         "rawType": "float64",
         "type": "float"
        },
        {
         "name": "post_count",
         "rawType": "float64",
         "type": "float"
        },
        {
         "name": "rr_per_post",
         "rawType": "float64",
         "type": "float"
        }
       ],
       "ref": "211b29a0-2e33-401e-9ea4-4f1245cf631e",
       "rows": [
        [
         "321",
         "1295803342162210817",
         "21.0",
         "0.0",
         "21.0"
        ],
        [
         "903",
         "20525702",
         "19.0",
         "0.0",
         "19.0"
        ],
        [
         "880",
         "19834403",
         "15.0",
         "0.0",
         "15.0"
        ],
        [
         "1371",
         "3180247177",
         "13.0",
         "0.0",
         "13.0"
        ],
        [
         "302",
         "1282853745945202688",
         "11.0",
         "0.0",
         "11.0"
        ],
        [
         "1940",
         "76780096",
         "10.0",
         "0.0",
         "10.0"
        ],
        [
         "1716",
         "51241574",
         "8.0",
         "0.0",
         "8.0"
        ],
        [
         "1777",
         "573210043",
         "8.0",
         "0.0",
         "8.0"
        ],
        [
         "1183",
         "269992801",
         "8.0",
         "0.0",
         "8.0"
        ],
        [
         "635",
         "15632680",
         "7.0",
         "0.0",
         "7.0"
        ],
        [
         "440",
         "1386292556766515200",
         "7.0",
         "0.0",
         "7.0"
        ],
        [
         "738",
         "17143007",
         "7.0",
         "0.0",
         "7.0"
        ],
        [
         "1798",
         "593289567",
         "7.0",
         "0.0",
         "7.0"
        ],
        [
         "393",
         "1349149096909668363",
         "7.0",
         "0.0",
         "7.0"
        ],
        [
         "105",
         "11134252",
         "7.0",
         "0.0",
         "7.0"
        ],
        [
         "235",
         "1239194270365614087",
         "5.0",
         "0.0",
         "5.0"
        ],
        [
         "2182",
         "964559256509960192",
         "5.0",
         "0.0",
         "5.0"
        ],
        [
         "1298",
         "2977083957",
         "5.0",
         "0.0",
         "5.0"
        ],
        [
         "1936",
         "766325395708870656",
         "5.0",
         "0.0",
         "5.0"
        ],
        [
         "132",
         "114268609",
         "5.0",
         "0.0",
         "5.0"
        ],
        [
         "1978",
         "800936305",
         "5.0",
         "0.0",
         "5.0"
        ],
        [
         "930",
         "21151732",
         "5.0",
         "0.0",
         "5.0"
        ],
        [
         "968",
         "22049097",
         "5.0",
         "0.0",
         "5.0"
        ],
        [
         "2091",
         "883712822563274752",
         "4.0",
         "0.0",
         "4.0"
        ],
        [
         "850",
         "193441812",
         "4.0",
         "0.0",
         "4.0"
        ],
        [
         "2080",
         "87358629",
         "4.0",
         "0.0",
         "4.0"
        ],
        [
         "486",
         "14260960",
         "4.0",
         "0.0",
         "4.0"
        ],
        [
         "1517",
         "380285402",
         "3.0",
         "0.0",
         "3.0"
        ],
        [
         "748",
         "1734946358",
         "3.0",
         "0.0",
         "3.0"
        ],
        [
         "296",
         "1280478731874848769",
         "3.0",
         "0.0",
         "3.0"
        ],
        [
         "418",
         "1364259892299767810",
         "3.0",
         "0.0",
         "3.0"
        ],
        [
         "1497",
         "366481377",
         "3.0",
         "0.0",
         "3.0"
        ],
        [
         "1167",
         "2638962893",
         "3.0",
         "0.0",
         "3.0"
        ],
        [
         "556",
         "1469037807884816393",
         "3.0",
         "0.0",
         "3.0"
        ],
        [
         "218",
         "1225975177978294272",
         "3.0",
         "0.0",
         "3.0"
        ],
        [
         "953",
         "2174481686",
         "3.0",
         "0.0",
         "3.0"
        ],
        [
         "1205",
         "27493883",
         "3.0",
         "0.0",
         "3.0"
        ],
        [
         "41",
         "1043185714437992449",
         "3.0",
         "0.0",
         "3.0"
        ],
        [
         "1929",
         "760219193195302912",
         "3.0",
         "0.0",
         "3.0"
        ],
        [
         "1302",
         "2985479932",
         "3.0",
         "0.0",
         "3.0"
        ],
        [
         "837",
         "1917731",
         "3.0",
         "0.0",
         "3.0"
        ],
        [
         "2216",
         "993910268701765632",
         "3.0",
         "0.0",
         "3.0"
        ],
        [
         "1803",
         "605153786",
         "3.0",
         "0.0",
         "3.0"
        ],
        [
         "1373",
         "3193073724",
         "3.0",
         "0.0",
         "3.0"
        ],
        [
         "708",
         "16635277",
         "3.0",
         "0.0",
         "3.0"
        ],
        [
         "847",
         "19291441",
         "3.0",
         "0.0",
         "3.0"
        ],
        [
         "1835",
         "65474965",
         "3.0",
         "0.0",
         "3.0"
        ],
        [
         "151",
         "116507727",
         "3.0",
         "0.0",
         "3.0"
        ],
        [
         "1926",
         "760087898",
         "3.0",
         "0.0",
         "3.0"
        ],
        [
         "81",
         "1087380412089987077",
         "3.0",
         "0.0",
         "3.0"
        ]
       ],
       "shape": {
        "columns": 4,
        "rows": 2225
       }
      },
      "text/html": [
       "<div>\n",
       "<style scoped>\n",
       "    .dataframe tbody tr th:only-of-type {\n",
       "        vertical-align: middle;\n",
       "    }\n",
       "\n",
       "    .dataframe tbody tr th {\n",
       "        vertical-align: top;\n",
       "    }\n",
       "\n",
       "    .dataframe thead th {\n",
       "        text-align: right;\n",
       "    }\n",
       "</style>\n",
       "<table border=\"1\" class=\"dataframe\">\n",
       "  <thead>\n",
       "    <tr style=\"text-align: right;\">\n",
       "      <th></th>\n",
       "      <th>author_id</th>\n",
       "      <th>received_retweets_count</th>\n",
       "      <th>post_count</th>\n",
       "      <th>rr_per_post</th>\n",
       "    </tr>\n",
       "  </thead>\n",
       "  <tbody>\n",
       "    <tr>\n",
       "      <th>321</th>\n",
       "      <td>1295803342162210817</td>\n",
       "      <td>21.0</td>\n",
       "      <td>0.0</td>\n",
       "      <td>21.0</td>\n",
       "    </tr>\n",
       "    <tr>\n",
       "      <th>903</th>\n",
       "      <td>20525702</td>\n",
       "      <td>19.0</td>\n",
       "      <td>0.0</td>\n",
       "      <td>19.0</td>\n",
       "    </tr>\n",
       "    <tr>\n",
       "      <th>880</th>\n",
       "      <td>19834403</td>\n",
       "      <td>15.0</td>\n",
       "      <td>0.0</td>\n",
       "      <td>15.0</td>\n",
       "    </tr>\n",
       "    <tr>\n",
       "      <th>1371</th>\n",
       "      <td>3180247177</td>\n",
       "      <td>13.0</td>\n",
       "      <td>0.0</td>\n",
       "      <td>13.0</td>\n",
       "    </tr>\n",
       "    <tr>\n",
       "      <th>302</th>\n",
       "      <td>1282853745945202688</td>\n",
       "      <td>11.0</td>\n",
       "      <td>0.0</td>\n",
       "      <td>11.0</td>\n",
       "    </tr>\n",
       "    <tr>\n",
       "      <th>...</th>\n",
       "      <td>...</td>\n",
       "      <td>...</td>\n",
       "      <td>...</td>\n",
       "      <td>...</td>\n",
       "    </tr>\n",
       "    <tr>\n",
       "      <th>943</th>\n",
       "      <td>21612122</td>\n",
       "      <td>0.0</td>\n",
       "      <td>6.0</td>\n",
       "      <td>0.0</td>\n",
       "    </tr>\n",
       "    <tr>\n",
       "      <th>942</th>\n",
       "      <td>2158643891</td>\n",
       "      <td>0.0</td>\n",
       "      <td>1.0</td>\n",
       "      <td>0.0</td>\n",
       "    </tr>\n",
       "    <tr>\n",
       "      <th>941</th>\n",
       "      <td>2157244796</td>\n",
       "      <td>0.0</td>\n",
       "      <td>23.0</td>\n",
       "      <td>0.0</td>\n",
       "    </tr>\n",
       "    <tr>\n",
       "      <th>940</th>\n",
       "      <td>21544108</td>\n",
       "      <td>0.0</td>\n",
       "      <td>2.0</td>\n",
       "      <td>0.0</td>\n",
       "    </tr>\n",
       "    <tr>\n",
       "      <th>2224</th>\n",
       "      <td>999352028064198661</td>\n",
       "      <td>0.0</td>\n",
       "      <td>6.0</td>\n",
       "      <td>0.0</td>\n",
       "    </tr>\n",
       "  </tbody>\n",
       "</table>\n",
       "<p>2225 rows × 4 columns</p>\n",
       "</div>"
      ],
      "text/plain": [
       "                author_id  received_retweets_count  post_count  rr_per_post\n",
       "321   1295803342162210817                     21.0         0.0         21.0\n",
       "903              20525702                     19.0         0.0         19.0\n",
       "880              19834403                     15.0         0.0         15.0\n",
       "1371           3180247177                     13.0         0.0         13.0\n",
       "302   1282853745945202688                     11.0         0.0         11.0\n",
       "...                   ...                      ...         ...          ...\n",
       "943              21612122                      0.0         6.0          0.0\n",
       "942            2158643891                      0.0         1.0          0.0\n",
       "941            2157244796                      0.0        23.0          0.0\n",
       "940              21544108                      0.0         2.0          0.0\n",
       "2224   999352028064198661                      0.0         6.0          0.0\n",
       "\n",
       "[2225 rows x 4 columns]"
      ]
     },
     "execution_count": 132,
     "metadata": {},
     "output_type": "execute_result"
    }
   ],
   "source": [
    "user_rrpp = user_rr_count.set_index('author_id').join(\n",
    "    user_post_count.set_index('author_id'), how='outer'\n",
    ").fillna(0)\n",
    "user_rrpp['rr_per_post'] = user_rrpp['received_retweets_count'] / (user_rrpp['post_count'] + 1)\n",
    "user_rrpp = user_rrpp.reset_index().sort_values(by='rr_per_post', ascending=False)\n",
    "user_rrpp"
   ]
  },
  {
   "cell_type": "code",
   "execution_count": 134,
   "id": "98a53702",
   "metadata": {},
   "outputs": [
    {
     "data": {
      "application/vnd.microsoft.datawrangler.viewer.v0+json": {
       "columns": [
        {
         "name": "index",
         "rawType": "int64",
         "type": "integer"
        },
        {
         "name": "author_id",
         "rawType": "object",
         "type": "string"
        },
        {
         "name": "received_retweets_count",
         "rawType": "float64",
         "type": "float"
        },
        {
         "name": "post_count",
         "rawType": "float64",
         "type": "float"
        },
        {
         "name": "rr_per_post",
         "rawType": "float64",
         "type": "float"
        }
       ],
       "ref": "be9f536e-41a9-492b-ba38-67622789c822",
       "rows": [
        [
         "1985",
         "80483638",
         "290.0",
         "400.0",
         "0.7231920199501247"
        ],
        [
         "1875",
         "720959701651996673",
         "21.0",
         "31.0",
         "0.65625"
        ],
        [
         "726",
         "169353953",
         "4.0",
         "6.0",
         "0.5714285714285714"
        ],
        [
         "403",
         "1352311853263671296",
         "3.0",
         "5.0",
         "0.5"
        ],
        [
         "1606",
         "4311670299",
         "1.0",
         "1.0",
         "0.5"
        ],
        [
         "1478",
         "359528910",
         "1.0",
         "1.0",
         "0.5"
        ],
        [
         "740",
         "17146256",
         "1.0",
         "1.0",
         "0.5"
        ],
        [
         "47",
         "1047247402409840640",
         "1.0",
         "1.0",
         "0.5"
        ],
        [
         "1453",
         "344350643",
         "1.0",
         "1.0",
         "0.5"
        ],
        [
         "775",
         "179226033",
         "1.0",
         "1.0",
         "0.5"
        ],
        [
         "1941",
         "767945051787759616",
         "8.0",
         "16.0",
         "0.47058823529411764"
        ],
        [
         "537",
         "1457177169407393795",
         "6.0",
         "13.0",
         "0.42857142857142855"
        ],
        [
         "1178",
         "26950458",
         "2.0",
         "4.0",
         "0.4"
        ],
        [
         "774",
         "17919393",
         "38.0",
         "102.0",
         "0.36893203883495146"
        ],
        [
         "1810",
         "620136960",
         "42.0",
         "119.0",
         "0.35"
        ],
        [
         "2208",
         "989313110602235904",
         "1.0",
         "2.0",
         "0.3333333333333333"
        ],
        [
         "1479",
         "36167088",
         "52.0",
         "172.0",
         "0.30057803468208094"
        ],
        [
         "2107",
         "898324652",
         "2.0",
         "6.0",
         "0.2857142857142857"
        ],
        [
         "731",
         "17018470",
         "4.0",
         "13.0",
         "0.2857142857142857"
        ],
        [
         "489",
         "1428158156098572291",
         "1.0",
         "3.0",
         "0.25"
        ],
        [
         "2",
         "1004065528871247872",
         "2.0",
         "7.0",
         "0.25"
        ],
        [
         "2084",
         "877629044828667905",
         "31.0",
         "141.0",
         "0.21830985915492956"
        ],
        [
         "896",
         "20280574",
         "11.0",
         "50.0",
         "0.21568627450980393"
        ],
        [
         "1370",
         "3173246967",
         "1.0",
         "4.0",
         "0.2"
        ],
        [
         "959",
         "21833509",
         "1.0",
         "4.0",
         "0.2"
        ],
        [
         "2209",
         "989320781799743488",
         "1.0",
         "4.0",
         "0.2"
        ],
        [
         "588",
         "149197471",
         "3.0",
         "14.0",
         "0.2"
        ],
        [
         "840",
         "19201304",
         "1.0",
         "4.0",
         "0.2"
        ],
        [
         "1057",
         "239666710",
         "1.0",
         "4.0",
         "0.2"
        ],
        [
         "490",
         "142843687",
         "6.0",
         "30.0",
         "0.1935483870967742"
        ],
        [
         "479",
         "1421182643375427584",
         "6.0",
         "35.0",
         "0.16666666666666666"
        ],
        [
         "1441",
         "33919623",
         "1.0",
         "5.0",
         "0.16666666666666666"
        ],
        [
         "543",
         "14596185",
         "1.0",
         "5.0",
         "0.16666666666666666"
        ],
        [
         "1102",
         "2498871378",
         "1.0",
         "5.0",
         "0.16666666666666666"
        ],
        [
         "1385",
         "323920783",
         "9.0",
         "54.0",
         "0.16363636363636364"
        ],
        [
         "1501",
         "36740674",
         "19.0",
         "116.0",
         "0.1623931623931624"
        ],
        [
         "1140",
         "257663572",
         "2.0",
         "12.0",
         "0.15384615384615385"
        ],
        [
         "1282",
         "294118241",
         "1.0",
         "6.0",
         "0.14285714285714285"
        ],
        [
         "1524",
         "38282048",
         "1.0",
         "6.0",
         "0.14285714285714285"
        ],
        [
         "551",
         "146569971",
         "61.0",
         "467.0",
         "0.13034188034188035"
        ],
        [
         "947",
         "2167134798",
         "1.0",
         "7.0",
         "0.125"
        ],
        [
         "1756",
         "553010243",
         "1.0",
         "8.0",
         "0.1111111111111111"
        ],
        [
         "650",
         "15850297",
         "1.0",
         "8.0",
         "0.1111111111111111"
        ],
        [
         "1608",
         "43369337",
         "15.0",
         "140.0",
         "0.10638297872340426"
        ],
        [
         "1864",
         "709986828066144257",
         "2.0",
         "18.0",
         "0.10526315789473684"
        ],
        [
         "222",
         "1228784608231272450",
         "1.0",
         "9.0",
         "0.1"
        ],
        [
         "169",
         "118611326",
         "1.0",
         "9.0",
         "0.1"
        ],
        [
         "1318",
         "30281854",
         "1.0",
         "10.0",
         "0.09090909090909091"
        ],
        [
         "1889",
         "73452506",
         "2.0",
         "22.0",
         "0.08695652173913043"
        ],
        [
         "2057",
         "84932964",
         "5.0",
         "71.0",
         "0.06944444444444445"
        ]
       ],
       "shape": {
        "columns": 4,
        "rows": 1545
       }
      },
      "text/html": [
       "<div>\n",
       "<style scoped>\n",
       "    .dataframe tbody tr th:only-of-type {\n",
       "        vertical-align: middle;\n",
       "    }\n",
       "\n",
       "    .dataframe tbody tr th {\n",
       "        vertical-align: top;\n",
       "    }\n",
       "\n",
       "    .dataframe thead th {\n",
       "        text-align: right;\n",
       "    }\n",
       "</style>\n",
       "<table border=\"1\" class=\"dataframe\">\n",
       "  <thead>\n",
       "    <tr style=\"text-align: right;\">\n",
       "      <th></th>\n",
       "      <th>author_id</th>\n",
       "      <th>received_retweets_count</th>\n",
       "      <th>post_count</th>\n",
       "      <th>rr_per_post</th>\n",
       "    </tr>\n",
       "  </thead>\n",
       "  <tbody>\n",
       "    <tr>\n",
       "      <th>1985</th>\n",
       "      <td>80483638</td>\n",
       "      <td>290.0</td>\n",
       "      <td>400.0</td>\n",
       "      <td>0.723192</td>\n",
       "    </tr>\n",
       "    <tr>\n",
       "      <th>1875</th>\n",
       "      <td>720959701651996673</td>\n",
       "      <td>21.0</td>\n",
       "      <td>31.0</td>\n",
       "      <td>0.656250</td>\n",
       "    </tr>\n",
       "    <tr>\n",
       "      <th>726</th>\n",
       "      <td>169353953</td>\n",
       "      <td>4.0</td>\n",
       "      <td>6.0</td>\n",
       "      <td>0.571429</td>\n",
       "    </tr>\n",
       "    <tr>\n",
       "      <th>403</th>\n",
       "      <td>1352311853263671296</td>\n",
       "      <td>3.0</td>\n",
       "      <td>5.0</td>\n",
       "      <td>0.500000</td>\n",
       "    </tr>\n",
       "    <tr>\n",
       "      <th>1606</th>\n",
       "      <td>4311670299</td>\n",
       "      <td>1.0</td>\n",
       "      <td>1.0</td>\n",
       "      <td>0.500000</td>\n",
       "    </tr>\n",
       "    <tr>\n",
       "      <th>...</th>\n",
       "      <td>...</td>\n",
       "      <td>...</td>\n",
       "      <td>...</td>\n",
       "      <td>...</td>\n",
       "    </tr>\n",
       "    <tr>\n",
       "      <th>1635</th>\n",
       "      <td>44947517</td>\n",
       "      <td>0.0</td>\n",
       "      <td>19.0</td>\n",
       "      <td>0.000000</td>\n",
       "    </tr>\n",
       "    <tr>\n",
       "      <th>1633</th>\n",
       "      <td>4481687056</td>\n",
       "      <td>0.0</td>\n",
       "      <td>423.0</td>\n",
       "      <td>0.000000</td>\n",
       "    </tr>\n",
       "    <tr>\n",
       "      <th>1609</th>\n",
       "      <td>433748479</td>\n",
       "      <td>0.0</td>\n",
       "      <td>1.0</td>\n",
       "      <td>0.000000</td>\n",
       "    </tr>\n",
       "    <tr>\n",
       "      <th>1610</th>\n",
       "      <td>4341832332</td>\n",
       "      <td>0.0</td>\n",
       "      <td>1.0</td>\n",
       "      <td>0.000000</td>\n",
       "    </tr>\n",
       "    <tr>\n",
       "      <th>2224</th>\n",
       "      <td>999352028064198661</td>\n",
       "      <td>0.0</td>\n",
       "      <td>6.0</td>\n",
       "      <td>0.000000</td>\n",
       "    </tr>\n",
       "  </tbody>\n",
       "</table>\n",
       "<p>1545 rows × 4 columns</p>\n",
       "</div>"
      ],
      "text/plain": [
       "                author_id  received_retweets_count  post_count  rr_per_post\n",
       "1985             80483638                    290.0       400.0     0.723192\n",
       "1875   720959701651996673                     21.0        31.0     0.656250\n",
       "726             169353953                      4.0         6.0     0.571429\n",
       "403   1352311853263671296                      3.0         5.0     0.500000\n",
       "1606           4311670299                      1.0         1.0     0.500000\n",
       "...                   ...                      ...         ...          ...\n",
       "1635             44947517                      0.0        19.0     0.000000\n",
       "1633           4481687056                      0.0       423.0     0.000000\n",
       "1609            433748479                      0.0         1.0     0.000000\n",
       "1610           4341832332                      0.0         1.0     0.000000\n",
       "2224   999352028064198661                      0.0         6.0     0.000000\n",
       "\n",
       "[1545 rows x 4 columns]"
      ]
     },
     "execution_count": 134,
     "metadata": {},
     "output_type": "execute_result"
    }
   ],
   "source": [
    "user_rrpp_valid = user_rrpp[user_rrpp['author_id'].isin(user_post_count['author_id'])].sort_values(by='rr_per_post', ascending=False)\n",
    "user_rrpp_valid"
   ]
  },
  {
   "cell_type": "code",
   "execution_count": 249,
   "id": "d6ffef4e",
   "metadata": {},
   "outputs": [
    {
     "data": {
      "application/vnd.microsoft.datawrangler.viewer.v0+json": {
       "columns": [
        {
         "name": "index",
         "rawType": "int64",
         "type": "integer"
        },
        {
         "name": "author_id",
         "rawType": "object",
         "type": "string"
        },
        {
         "name": "received_retweets_count",
         "rawType": "float64",
         "type": "float"
        },
        {
         "name": "post_count",
         "rawType": "float64",
         "type": "float"
        },
        {
         "name": "rr_per_post",
         "rawType": "float64",
         "type": "float"
        }
       ],
       "ref": "fe83dd77-44af-40fe-bc50-569e3a6f7351",
       "rows": [
        [
         "1985",
         "80483638",
         "290.0",
         "400.0",
         "0.7231920199501247"
        ],
        [
         "1875",
         "720959701651996673",
         "21.0",
         "31.0",
         "0.65625"
        ],
        [
         "726",
         "169353953",
         "4.0",
         "6.0",
         "0.5714285714285714"
        ],
        [
         "403",
         "1352311853263671296",
         "3.0",
         "5.0",
         "0.5"
        ],
        [
         "1606",
         "4311670299",
         "1.0",
         "1.0",
         "0.5"
        ],
        [
         "1478",
         "359528910",
         "1.0",
         "1.0",
         "0.5"
        ],
        [
         "740",
         "17146256",
         "1.0",
         "1.0",
         "0.5"
        ],
        [
         "47",
         "1047247402409840640",
         "1.0",
         "1.0",
         "0.5"
        ],
        [
         "1453",
         "344350643",
         "1.0",
         "1.0",
         "0.5"
        ],
        [
         "775",
         "179226033",
         "1.0",
         "1.0",
         "0.5"
        ],
        [
         "1941",
         "767945051787759616",
         "8.0",
         "16.0",
         "0.47058823529411764"
        ],
        [
         "537",
         "1457177169407393795",
         "6.0",
         "13.0",
         "0.42857142857142855"
        ],
        [
         "1178",
         "26950458",
         "2.0",
         "4.0",
         "0.4"
        ],
        [
         "774",
         "17919393",
         "38.0",
         "102.0",
         "0.36893203883495146"
        ],
        [
         "1810",
         "620136960",
         "42.0",
         "119.0",
         "0.35"
        ],
        [
         "2208",
         "989313110602235904",
         "1.0",
         "2.0",
         "0.3333333333333333"
        ],
        [
         "1479",
         "36167088",
         "52.0",
         "172.0",
         "0.30057803468208094"
        ]
       ],
       "shape": {
        "columns": 4,
        "rows": 17
       }
      },
      "text/html": [
       "<div>\n",
       "<style scoped>\n",
       "    .dataframe tbody tr th:only-of-type {\n",
       "        vertical-align: middle;\n",
       "    }\n",
       "\n",
       "    .dataframe tbody tr th {\n",
       "        vertical-align: top;\n",
       "    }\n",
       "\n",
       "    .dataframe thead th {\n",
       "        text-align: right;\n",
       "    }\n",
       "</style>\n",
       "<table border=\"1\" class=\"dataframe\">\n",
       "  <thead>\n",
       "    <tr style=\"text-align: right;\">\n",
       "      <th></th>\n",
       "      <th>author_id</th>\n",
       "      <th>received_retweets_count</th>\n",
       "      <th>post_count</th>\n",
       "      <th>rr_per_post</th>\n",
       "    </tr>\n",
       "  </thead>\n",
       "  <tbody>\n",
       "    <tr>\n",
       "      <th>1985</th>\n",
       "      <td>80483638</td>\n",
       "      <td>290.0</td>\n",
       "      <td>400.0</td>\n",
       "      <td>0.723192</td>\n",
       "    </tr>\n",
       "    <tr>\n",
       "      <th>1875</th>\n",
       "      <td>720959701651996673</td>\n",
       "      <td>21.0</td>\n",
       "      <td>31.0</td>\n",
       "      <td>0.656250</td>\n",
       "    </tr>\n",
       "    <tr>\n",
       "      <th>726</th>\n",
       "      <td>169353953</td>\n",
       "      <td>4.0</td>\n",
       "      <td>6.0</td>\n",
       "      <td>0.571429</td>\n",
       "    </tr>\n",
       "    <tr>\n",
       "      <th>403</th>\n",
       "      <td>1352311853263671296</td>\n",
       "      <td>3.0</td>\n",
       "      <td>5.0</td>\n",
       "      <td>0.500000</td>\n",
       "    </tr>\n",
       "    <tr>\n",
       "      <th>1606</th>\n",
       "      <td>4311670299</td>\n",
       "      <td>1.0</td>\n",
       "      <td>1.0</td>\n",
       "      <td>0.500000</td>\n",
       "    </tr>\n",
       "    <tr>\n",
       "      <th>1478</th>\n",
       "      <td>359528910</td>\n",
       "      <td>1.0</td>\n",
       "      <td>1.0</td>\n",
       "      <td>0.500000</td>\n",
       "    </tr>\n",
       "    <tr>\n",
       "      <th>740</th>\n",
       "      <td>17146256</td>\n",
       "      <td>1.0</td>\n",
       "      <td>1.0</td>\n",
       "      <td>0.500000</td>\n",
       "    </tr>\n",
       "    <tr>\n",
       "      <th>47</th>\n",
       "      <td>1047247402409840640</td>\n",
       "      <td>1.0</td>\n",
       "      <td>1.0</td>\n",
       "      <td>0.500000</td>\n",
       "    </tr>\n",
       "    <tr>\n",
       "      <th>1453</th>\n",
       "      <td>344350643</td>\n",
       "      <td>1.0</td>\n",
       "      <td>1.0</td>\n",
       "      <td>0.500000</td>\n",
       "    </tr>\n",
       "    <tr>\n",
       "      <th>775</th>\n",
       "      <td>179226033</td>\n",
       "      <td>1.0</td>\n",
       "      <td>1.0</td>\n",
       "      <td>0.500000</td>\n",
       "    </tr>\n",
       "    <tr>\n",
       "      <th>1941</th>\n",
       "      <td>767945051787759616</td>\n",
       "      <td>8.0</td>\n",
       "      <td>16.0</td>\n",
       "      <td>0.470588</td>\n",
       "    </tr>\n",
       "    <tr>\n",
       "      <th>537</th>\n",
       "      <td>1457177169407393795</td>\n",
       "      <td>6.0</td>\n",
       "      <td>13.0</td>\n",
       "      <td>0.428571</td>\n",
       "    </tr>\n",
       "    <tr>\n",
       "      <th>1178</th>\n",
       "      <td>26950458</td>\n",
       "      <td>2.0</td>\n",
       "      <td>4.0</td>\n",
       "      <td>0.400000</td>\n",
       "    </tr>\n",
       "    <tr>\n",
       "      <th>774</th>\n",
       "      <td>17919393</td>\n",
       "      <td>38.0</td>\n",
       "      <td>102.0</td>\n",
       "      <td>0.368932</td>\n",
       "    </tr>\n",
       "    <tr>\n",
       "      <th>1810</th>\n",
       "      <td>620136960</td>\n",
       "      <td>42.0</td>\n",
       "      <td>119.0</td>\n",
       "      <td>0.350000</td>\n",
       "    </tr>\n",
       "    <tr>\n",
       "      <th>2208</th>\n",
       "      <td>989313110602235904</td>\n",
       "      <td>1.0</td>\n",
       "      <td>2.0</td>\n",
       "      <td>0.333333</td>\n",
       "    </tr>\n",
       "    <tr>\n",
       "      <th>1479</th>\n",
       "      <td>36167088</td>\n",
       "      <td>52.0</td>\n",
       "      <td>172.0</td>\n",
       "      <td>0.300578</td>\n",
       "    </tr>\n",
       "  </tbody>\n",
       "</table>\n",
       "</div>"
      ],
      "text/plain": [
       "                author_id  received_retweets_count  post_count  rr_per_post\n",
       "1985             80483638                    290.0       400.0     0.723192\n",
       "1875   720959701651996673                     21.0        31.0     0.656250\n",
       "726             169353953                      4.0         6.0     0.571429\n",
       "403   1352311853263671296                      3.0         5.0     0.500000\n",
       "1606           4311670299                      1.0         1.0     0.500000\n",
       "1478            359528910                      1.0         1.0     0.500000\n",
       "740              17146256                      1.0         1.0     0.500000\n",
       "47    1047247402409840640                      1.0         1.0     0.500000\n",
       "1453            344350643                      1.0         1.0     0.500000\n",
       "775             179226033                      1.0         1.0     0.500000\n",
       "1941   767945051787759616                      8.0        16.0     0.470588\n",
       "537   1457177169407393795                      6.0        13.0     0.428571\n",
       "1178             26950458                      2.0         4.0     0.400000\n",
       "774              17919393                     38.0       102.0     0.368932\n",
       "1810            620136960                     42.0       119.0     0.350000\n",
       "2208   989313110602235904                      1.0         2.0     0.333333\n",
       "1479             36167088                     52.0       172.0     0.300578"
      ]
     },
     "execution_count": 249,
     "metadata": {},
     "output_type": "execute_result"
    }
   ],
   "source": [
    "selected_users_rrpp = user_rrpp_valid[user_rrpp_valid['rr_per_post'] > 0.3]\n",
    "selected_users_rrpp"
   ]
  },
  {
   "cell_type": "code",
   "execution_count": null,
   "id": "b97585fc",
   "metadata": {},
   "outputs": [],
   "source": []
  },
  {
   "cell_type": "code",
   "execution_count": 142,
   "id": "98d7342d",
   "metadata": {},
   "outputs": [
    {
     "data": {
      "application/vnd.microsoft.datawrangler.viewer.v0+json": {
       "columns": [
        {
         "name": "index",
         "rawType": "int64",
         "type": "integer"
        },
        {
         "name": "author_id",
         "rawType": "object",
         "type": "string"
        },
        {
         "name": "last_tweet",
         "rawType": "datetime64[ns, UTC]",
         "type": "unknown"
        }
       ],
       "ref": "6d3d0142-5249-47cf-8351-bcdbfa6ff0cb",
       "rows": [
        [
         "0",
         "1003139946",
         "2022-03-11 14:15:48+00:00"
        ],
        [
         "1",
         "1004065528871247872",
         "2022-03-31 00:55:08+00:00"
        ],
        [
         "2",
         "1005142093369675777",
         "2022-02-08 22:09:12+00:00"
        ],
        [
         "3",
         "1006734899837980672",
         "2022-01-27 22:22:55+00:00"
        ],
        [
         "4",
         "100701580",
         "2021-12-26 01:47:50+00:00"
        ],
        [
         "5",
         "1007405042",
         "2022-03-28 02:43:38+00:00"
        ],
        [
         "6",
         "1007711863159705600",
         "2022-03-21 00:22:13+00:00"
        ],
        [
         "7",
         "1009567321160015872",
         "2022-02-20 02:50:44+00:00"
        ],
        [
         "8",
         "1011011440025600000",
         "2022-03-31 19:17:56+00:00"
        ],
        [
         "9",
         "1011113850",
         "2022-02-16 04:50:15+00:00"
        ],
        [
         "10",
         "1011269412165472256",
         "2022-02-22 18:39:28+00:00"
        ],
        [
         "11",
         "1016112050227908608",
         "2022-03-03 00:00:28+00:00"
        ],
        [
         "12",
         "1016325104026968064",
         "2022-03-29 20:28:58+00:00"
        ],
        [
         "13",
         "1016486686958739457",
         "2022-03-31 16:26:55+00:00"
        ],
        [
         "14",
         "101835305",
         "2022-01-14 17:57:15+00:00"
        ],
        [
         "15",
         "1018854534515494912",
         "2022-03-25 15:25:50+00:00"
        ],
        [
         "16",
         "1021505594388140032",
         "2022-02-16 22:18:47+00:00"
        ],
        [
         "17",
         "1022127404",
         "2022-03-15 14:07:12+00:00"
        ],
        [
         "18",
         "1027760989",
         "2022-03-18 10:57:10+00:00"
        ],
        [
         "19",
         "1028342776201531393",
         "2022-03-21 19:18:51+00:00"
        ],
        [
         "20",
         "102957405",
         "2022-01-27 18:49:07+00:00"
        ],
        [
         "21",
         "103072142",
         "2022-03-22 17:47:26+00:00"
        ],
        [
         "22",
         "1031312835744284677",
         "2022-02-28 07:41:11+00:00"
        ],
        [
         "23",
         "1031332700324540417",
         "2022-03-25 03:43:56+00:00"
        ],
        [
         "24",
         "1035696684318130176",
         "2021-12-31 02:02:03+00:00"
        ],
        [
         "25",
         "103693882",
         "2021-12-21 14:48:12+00:00"
        ],
        [
         "26",
         "1037944847498235904",
         "2022-03-14 03:09:26+00:00"
        ],
        [
         "27",
         "1038974732962619392",
         "2022-03-24 14:19:23+00:00"
        ],
        [
         "28",
         "1039986910851158016",
         "2022-02-01 15:15:02+00:00"
        ],
        [
         "29",
         "10403842",
         "2022-02-05 04:23:25+00:00"
        ],
        [
         "30",
         "1041167624",
         "2022-03-29 18:57:04+00:00"
        ],
        [
         "31",
         "1041961735",
         "2022-03-17 06:04:51+00:00"
        ],
        [
         "32",
         "104262458",
         "2022-04-01 04:52:10+00:00"
        ],
        [
         "33",
         "1043391830962970624",
         "2022-03-21 13:58:13+00:00"
        ],
        [
         "34",
         "10451672",
         "2022-03-31 20:55:55+00:00"
        ],
        [
         "35",
         "104646949",
         "2022-01-18 04:09:47+00:00"
        ],
        [
         "36",
         "1047247402409840640",
         "2021-12-28 20:52:12+00:00"
        ],
        [
         "37",
         "1047639177456582656",
         "2022-02-18 19:25:52+00:00"
        ],
        [
         "38",
         "1049125912816414720",
         "2022-01-30 19:24:56+00:00"
        ],
        [
         "39",
         "10507282",
         "2022-01-30 21:11:35+00:00"
        ],
        [
         "40",
         "1051106773724262400",
         "2022-01-03 20:09:24+00:00"
        ],
        [
         "41",
         "105579156",
         "2022-01-11 04:15:02+00:00"
        ],
        [
         "42",
         "1055833706378788864",
         "2022-03-23 17:48:38+00:00"
        ],
        [
         "43",
         "1056071892",
         "2022-03-17 19:16:15+00:00"
        ],
        [
         "44",
         "1060573081935249409",
         "2022-03-30 18:05:00+00:00"
        ],
        [
         "45",
         "1063196969479241729",
         "2021-12-02 20:00:48+00:00"
        ],
        [
         "46",
         "1066746868296765441",
         "2022-03-21 14:31:04+00:00"
        ],
        [
         "47",
         "1069333070",
         "2022-01-13 03:26:19+00:00"
        ],
        [
         "48",
         "1071862212724064256",
         "2022-03-28 00:43:52+00:00"
        ],
        [
         "49",
         "107767604",
         "2022-03-26 07:54:23+00:00"
        ]
       ],
       "shape": {
        "columns": 2,
        "rows": 1545
       }
      },
      "text/html": [
       "<div>\n",
       "<style scoped>\n",
       "    .dataframe tbody tr th:only-of-type {\n",
       "        vertical-align: middle;\n",
       "    }\n",
       "\n",
       "    .dataframe tbody tr th {\n",
       "        vertical-align: top;\n",
       "    }\n",
       "\n",
       "    .dataframe thead th {\n",
       "        text-align: right;\n",
       "    }\n",
       "</style>\n",
       "<table border=\"1\" class=\"dataframe\">\n",
       "  <thead>\n",
       "    <tr style=\"text-align: right;\">\n",
       "      <th></th>\n",
       "      <th>author_id</th>\n",
       "      <th>last_tweet</th>\n",
       "    </tr>\n",
       "  </thead>\n",
       "  <tbody>\n",
       "    <tr>\n",
       "      <th>0</th>\n",
       "      <td>1003139946</td>\n",
       "      <td>2022-03-11 14:15:48+00:00</td>\n",
       "    </tr>\n",
       "    <tr>\n",
       "      <th>1</th>\n",
       "      <td>1004065528871247872</td>\n",
       "      <td>2022-03-31 00:55:08+00:00</td>\n",
       "    </tr>\n",
       "    <tr>\n",
       "      <th>2</th>\n",
       "      <td>1005142093369675777</td>\n",
       "      <td>2022-02-08 22:09:12+00:00</td>\n",
       "    </tr>\n",
       "    <tr>\n",
       "      <th>3</th>\n",
       "      <td>1006734899837980672</td>\n",
       "      <td>2022-01-27 22:22:55+00:00</td>\n",
       "    </tr>\n",
       "    <tr>\n",
       "      <th>4</th>\n",
       "      <td>100701580</td>\n",
       "      <td>2021-12-26 01:47:50+00:00</td>\n",
       "    </tr>\n",
       "    <tr>\n",
       "      <th>...</th>\n",
       "      <td>...</td>\n",
       "      <td>...</td>\n",
       "    </tr>\n",
       "    <tr>\n",
       "      <th>1540</th>\n",
       "      <td>995877126464303104</td>\n",
       "      <td>2021-12-08 16:11:50+00:00</td>\n",
       "    </tr>\n",
       "    <tr>\n",
       "      <th>1541</th>\n",
       "      <td>996423161053876224</td>\n",
       "      <td>2022-03-24 14:59:44+00:00</td>\n",
       "    </tr>\n",
       "    <tr>\n",
       "      <th>1542</th>\n",
       "      <td>99666729</td>\n",
       "      <td>2021-12-26 15:51:27+00:00</td>\n",
       "    </tr>\n",
       "    <tr>\n",
       "      <th>1543</th>\n",
       "      <td>997931370</td>\n",
       "      <td>2022-03-31 14:45:11+00:00</td>\n",
       "    </tr>\n",
       "    <tr>\n",
       "      <th>1544</th>\n",
       "      <td>999352028064198661</td>\n",
       "      <td>2022-02-07 22:56:18+00:00</td>\n",
       "    </tr>\n",
       "  </tbody>\n",
       "</table>\n",
       "<p>1545 rows × 2 columns</p>\n",
       "</div>"
      ],
      "text/plain": [
       "                author_id                last_tweet\n",
       "0              1003139946 2022-03-11 14:15:48+00:00\n",
       "1     1004065528871247872 2022-03-31 00:55:08+00:00\n",
       "2     1005142093369675777 2022-02-08 22:09:12+00:00\n",
       "3     1006734899837980672 2022-01-27 22:22:55+00:00\n",
       "4               100701580 2021-12-26 01:47:50+00:00\n",
       "...                   ...                       ...\n",
       "1540   995877126464303104 2021-12-08 16:11:50+00:00\n",
       "1541   996423161053876224 2022-03-24 14:59:44+00:00\n",
       "1542             99666729 2021-12-26 15:51:27+00:00\n",
       "1543            997931370 2022-03-31 14:45:11+00:00\n",
       "1544   999352028064198661 2022-02-07 22:56:18+00:00\n",
       "\n",
       "[1545 rows x 2 columns]"
      ]
     },
     "execution_count": 142,
     "metadata": {},
     "output_type": "execute_result"
    }
   ],
   "source": [
    "user_last_tweet_df = df_covid19.groupby('author_id')['created_at'].max().reset_index().rename(columns={'created_at': 'last_tweet'})\n",
    "user_last_tweet_df"
   ]
  },
  {
   "cell_type": "code",
   "execution_count": 144,
   "id": "3b88f386",
   "metadata": {},
   "outputs": [
    {
     "data": {
      "application/vnd.microsoft.datawrangler.viewer.v0+json": {
       "columns": [
        {
         "name": "index",
         "rawType": "int64",
         "type": "integer"
        },
        {
         "name": "author_id",
         "rawType": "object",
         "type": "string"
        },
        {
         "name": "last_tweet",
         "rawType": "datetime64[ns, UTC]",
         "type": "unknown"
        }
       ],
       "ref": "c827f58b-d5e1-4e01-9f99-81acb50db28a",
       "rows": [
        [
         "365",
         "149197471",
         "2022-04-01 03:52:00+00:00"
        ],
        [
         "1532",
         "989320781799743488",
         "2022-03-31 20:50:10+00:00"
        ],
        [
         "349",
         "146569971",
         "2022-03-31 20:00:11+00:00"
        ],
        [
         "1099",
         "43369337",
         "2022-03-31 16:09:52+00:00"
        ],
        [
         "1",
         "1004065528871247872",
         "2022-03-31 00:55:08+00:00"
        ],
        [
         "1446",
         "877629044828667905",
         "2022-03-31 00:07:57+00:00"
        ],
        [
         "1243",
         "620136960",
         "2022-03-30 20:22:23+00:00"
        ],
        [
         "1338",
         "767945051787759616",
         "2022-03-30 17:16:27+00:00"
        ],
        [
         "1005",
         "36167088",
         "2022-03-30 16:31:16+00:00"
        ],
        [
         "1371",
         "80483638",
         "2022-03-30 15:33:56+00:00"
        ],
        [
         "495",
         "17919393",
         "2022-03-30 15:17:48+00:00"
        ],
        [
         "461",
         "17018470",
         "2022-03-29 10:45:14+00:00"
        ],
        [
         "457",
         "169353953",
         "2022-03-27 05:27:40+00:00"
        ],
        [
         "305",
         "1421182643375427584",
         "2022-03-27 03:36:30+00:00"
        ],
        [
         "934",
         "323920783",
         "2022-03-24 00:38:00+00:00"
        ],
        [
         "1206",
         "553010243",
         "2022-03-21 19:39:29+00:00"
        ],
        [
         "408",
         "15850297",
         "2022-03-18 16:15:05+00:00"
        ],
        [
         "1282",
         "709986828066144257",
         "2022-03-17 19:22:35+00:00"
        ],
        [
         "312",
         "142843687",
         "2022-03-17 16:52:15+00:00"
        ],
        [
         "729",
         "2498871378",
         "2022-03-16 12:05:46+00:00"
        ],
        [
         "695",
         "239666710",
         "2022-03-15 23:33:49+00:00"
        ],
        [
         "612",
         "2167134798",
         "2022-03-15 01:10:49+00:00"
        ],
        [
         "1531",
         "989313110602235904",
         "2022-03-13 22:11:54+00:00"
        ],
        [
         "345",
         "14596185",
         "2022-03-12 01:16:50+00:00"
        ],
        [
         "860",
         "294118241",
         "2022-03-11 19:57:19+00:00"
        ],
        [
         "1022",
         "36740674",
         "2022-03-07 20:01:14+00:00"
        ],
        [
         "1040",
         "38282048",
         "2022-03-01 19:27:54+00:00"
        ],
        [
         "496",
         "179226033",
         "2022-02-25 00:17:42+00:00"
        ],
        [
         "925",
         "3173246967",
         "2022-02-22 12:50:00+00:00"
        ],
        [
         "622",
         "21833509",
         "2022-02-18 21:38:38+00:00"
        ],
        [
         "258",
         "1352311853263671296",
         "2022-02-17 22:58:21+00:00"
        ],
        [
         "543",
         "19201304",
         "2022-02-15 00:00:09+00:00"
        ],
        [
         "756",
         "257663572",
         "2022-02-14 19:57:37+00:00"
        ],
        [
         "1292",
         "720959701651996673",
         "2022-02-08 23:01:34+00:00"
        ],
        [
         "1098",
         "4311670299",
         "2022-02-05 14:19:36+00:00"
        ],
        [
         "576",
         "20280574",
         "2022-02-01 17:57:14+00:00"
        ],
        [
         "1004",
         "359528910",
         "2022-02-01 02:22:22+00:00"
        ],
        [
         "987",
         "344350643",
         "2022-01-25 21:37:47+00:00"
        ],
        [
         "1464",
         "898324652",
         "2022-01-19 03:18:01+00:00"
        ],
        [
         "311",
         "1428158156098572291",
         "2022-01-12 19:18:28+00:00"
        ],
        [
         "781",
         "26950458",
         "2022-01-12 01:12:48+00:00"
        ],
        [
         "979",
         "33919623",
         "2022-01-06 21:23:18+00:00"
        ],
        [
         "36",
         "1047247402409840640",
         "2021-12-28 20:52:12+00:00"
        ],
        [
         "341",
         "1457177169407393795",
         "2021-12-27 04:28:51+00:00"
        ],
        [
         "469",
         "17146256",
         "2021-12-25 16:40:26+00:00"
        ]
       ],
       "shape": {
        "columns": 2,
        "rows": 45
       }
      },
      "text/html": [
       "<div>\n",
       "<style scoped>\n",
       "    .dataframe tbody tr th:only-of-type {\n",
       "        vertical-align: middle;\n",
       "    }\n",
       "\n",
       "    .dataframe tbody tr th {\n",
       "        vertical-align: top;\n",
       "    }\n",
       "\n",
       "    .dataframe thead th {\n",
       "        text-align: right;\n",
       "    }\n",
       "</style>\n",
       "<table border=\"1\" class=\"dataframe\">\n",
       "  <thead>\n",
       "    <tr style=\"text-align: right;\">\n",
       "      <th></th>\n",
       "      <th>author_id</th>\n",
       "      <th>last_tweet</th>\n",
       "    </tr>\n",
       "  </thead>\n",
       "  <tbody>\n",
       "    <tr>\n",
       "      <th>365</th>\n",
       "      <td>149197471</td>\n",
       "      <td>2022-04-01 03:52:00+00:00</td>\n",
       "    </tr>\n",
       "    <tr>\n",
       "      <th>1532</th>\n",
       "      <td>989320781799743488</td>\n",
       "      <td>2022-03-31 20:50:10+00:00</td>\n",
       "    </tr>\n",
       "    <tr>\n",
       "      <th>349</th>\n",
       "      <td>146569971</td>\n",
       "      <td>2022-03-31 20:00:11+00:00</td>\n",
       "    </tr>\n",
       "    <tr>\n",
       "      <th>1099</th>\n",
       "      <td>43369337</td>\n",
       "      <td>2022-03-31 16:09:52+00:00</td>\n",
       "    </tr>\n",
       "    <tr>\n",
       "      <th>1</th>\n",
       "      <td>1004065528871247872</td>\n",
       "      <td>2022-03-31 00:55:08+00:00</td>\n",
       "    </tr>\n",
       "    <tr>\n",
       "      <th>1446</th>\n",
       "      <td>877629044828667905</td>\n",
       "      <td>2022-03-31 00:07:57+00:00</td>\n",
       "    </tr>\n",
       "    <tr>\n",
       "      <th>1243</th>\n",
       "      <td>620136960</td>\n",
       "      <td>2022-03-30 20:22:23+00:00</td>\n",
       "    </tr>\n",
       "    <tr>\n",
       "      <th>1338</th>\n",
       "      <td>767945051787759616</td>\n",
       "      <td>2022-03-30 17:16:27+00:00</td>\n",
       "    </tr>\n",
       "    <tr>\n",
       "      <th>1005</th>\n",
       "      <td>36167088</td>\n",
       "      <td>2022-03-30 16:31:16+00:00</td>\n",
       "    </tr>\n",
       "    <tr>\n",
       "      <th>1371</th>\n",
       "      <td>80483638</td>\n",
       "      <td>2022-03-30 15:33:56+00:00</td>\n",
       "    </tr>\n",
       "    <tr>\n",
       "      <th>495</th>\n",
       "      <td>17919393</td>\n",
       "      <td>2022-03-30 15:17:48+00:00</td>\n",
       "    </tr>\n",
       "    <tr>\n",
       "      <th>461</th>\n",
       "      <td>17018470</td>\n",
       "      <td>2022-03-29 10:45:14+00:00</td>\n",
       "    </tr>\n",
       "    <tr>\n",
       "      <th>457</th>\n",
       "      <td>169353953</td>\n",
       "      <td>2022-03-27 05:27:40+00:00</td>\n",
       "    </tr>\n",
       "    <tr>\n",
       "      <th>305</th>\n",
       "      <td>1421182643375427584</td>\n",
       "      <td>2022-03-27 03:36:30+00:00</td>\n",
       "    </tr>\n",
       "    <tr>\n",
       "      <th>934</th>\n",
       "      <td>323920783</td>\n",
       "      <td>2022-03-24 00:38:00+00:00</td>\n",
       "    </tr>\n",
       "    <tr>\n",
       "      <th>1206</th>\n",
       "      <td>553010243</td>\n",
       "      <td>2022-03-21 19:39:29+00:00</td>\n",
       "    </tr>\n",
       "    <tr>\n",
       "      <th>408</th>\n",
       "      <td>15850297</td>\n",
       "      <td>2022-03-18 16:15:05+00:00</td>\n",
       "    </tr>\n",
       "    <tr>\n",
       "      <th>1282</th>\n",
       "      <td>709986828066144257</td>\n",
       "      <td>2022-03-17 19:22:35+00:00</td>\n",
       "    </tr>\n",
       "    <tr>\n",
       "      <th>312</th>\n",
       "      <td>142843687</td>\n",
       "      <td>2022-03-17 16:52:15+00:00</td>\n",
       "    </tr>\n",
       "    <tr>\n",
       "      <th>729</th>\n",
       "      <td>2498871378</td>\n",
       "      <td>2022-03-16 12:05:46+00:00</td>\n",
       "    </tr>\n",
       "    <tr>\n",
       "      <th>695</th>\n",
       "      <td>239666710</td>\n",
       "      <td>2022-03-15 23:33:49+00:00</td>\n",
       "    </tr>\n",
       "    <tr>\n",
       "      <th>612</th>\n",
       "      <td>2167134798</td>\n",
       "      <td>2022-03-15 01:10:49+00:00</td>\n",
       "    </tr>\n",
       "    <tr>\n",
       "      <th>1531</th>\n",
       "      <td>989313110602235904</td>\n",
       "      <td>2022-03-13 22:11:54+00:00</td>\n",
       "    </tr>\n",
       "    <tr>\n",
       "      <th>345</th>\n",
       "      <td>14596185</td>\n",
       "      <td>2022-03-12 01:16:50+00:00</td>\n",
       "    </tr>\n",
       "    <tr>\n",
       "      <th>860</th>\n",
       "      <td>294118241</td>\n",
       "      <td>2022-03-11 19:57:19+00:00</td>\n",
       "    </tr>\n",
       "    <tr>\n",
       "      <th>1022</th>\n",
       "      <td>36740674</td>\n",
       "      <td>2022-03-07 20:01:14+00:00</td>\n",
       "    </tr>\n",
       "    <tr>\n",
       "      <th>1040</th>\n",
       "      <td>38282048</td>\n",
       "      <td>2022-03-01 19:27:54+00:00</td>\n",
       "    </tr>\n",
       "    <tr>\n",
       "      <th>496</th>\n",
       "      <td>179226033</td>\n",
       "      <td>2022-02-25 00:17:42+00:00</td>\n",
       "    </tr>\n",
       "    <tr>\n",
       "      <th>925</th>\n",
       "      <td>3173246967</td>\n",
       "      <td>2022-02-22 12:50:00+00:00</td>\n",
       "    </tr>\n",
       "    <tr>\n",
       "      <th>622</th>\n",
       "      <td>21833509</td>\n",
       "      <td>2022-02-18 21:38:38+00:00</td>\n",
       "    </tr>\n",
       "    <tr>\n",
       "      <th>258</th>\n",
       "      <td>1352311853263671296</td>\n",
       "      <td>2022-02-17 22:58:21+00:00</td>\n",
       "    </tr>\n",
       "    <tr>\n",
       "      <th>543</th>\n",
       "      <td>19201304</td>\n",
       "      <td>2022-02-15 00:00:09+00:00</td>\n",
       "    </tr>\n",
       "    <tr>\n",
       "      <th>756</th>\n",
       "      <td>257663572</td>\n",
       "      <td>2022-02-14 19:57:37+00:00</td>\n",
       "    </tr>\n",
       "    <tr>\n",
       "      <th>1292</th>\n",
       "      <td>720959701651996673</td>\n",
       "      <td>2022-02-08 23:01:34+00:00</td>\n",
       "    </tr>\n",
       "    <tr>\n",
       "      <th>1098</th>\n",
       "      <td>4311670299</td>\n",
       "      <td>2022-02-05 14:19:36+00:00</td>\n",
       "    </tr>\n",
       "    <tr>\n",
       "      <th>576</th>\n",
       "      <td>20280574</td>\n",
       "      <td>2022-02-01 17:57:14+00:00</td>\n",
       "    </tr>\n",
       "    <tr>\n",
       "      <th>1004</th>\n",
       "      <td>359528910</td>\n",
       "      <td>2022-02-01 02:22:22+00:00</td>\n",
       "    </tr>\n",
       "    <tr>\n",
       "      <th>987</th>\n",
       "      <td>344350643</td>\n",
       "      <td>2022-01-25 21:37:47+00:00</td>\n",
       "    </tr>\n",
       "    <tr>\n",
       "      <th>1464</th>\n",
       "      <td>898324652</td>\n",
       "      <td>2022-01-19 03:18:01+00:00</td>\n",
       "    </tr>\n",
       "    <tr>\n",
       "      <th>311</th>\n",
       "      <td>1428158156098572291</td>\n",
       "      <td>2022-01-12 19:18:28+00:00</td>\n",
       "    </tr>\n",
       "    <tr>\n",
       "      <th>781</th>\n",
       "      <td>26950458</td>\n",
       "      <td>2022-01-12 01:12:48+00:00</td>\n",
       "    </tr>\n",
       "    <tr>\n",
       "      <th>979</th>\n",
       "      <td>33919623</td>\n",
       "      <td>2022-01-06 21:23:18+00:00</td>\n",
       "    </tr>\n",
       "    <tr>\n",
       "      <th>36</th>\n",
       "      <td>1047247402409840640</td>\n",
       "      <td>2021-12-28 20:52:12+00:00</td>\n",
       "    </tr>\n",
       "    <tr>\n",
       "      <th>341</th>\n",
       "      <td>1457177169407393795</td>\n",
       "      <td>2021-12-27 04:28:51+00:00</td>\n",
       "    </tr>\n",
       "    <tr>\n",
       "      <th>469</th>\n",
       "      <td>17146256</td>\n",
       "      <td>2021-12-25 16:40:26+00:00</td>\n",
       "    </tr>\n",
       "  </tbody>\n",
       "</table>\n",
       "</div>"
      ],
      "text/plain": [
       "                author_id                last_tweet\n",
       "365             149197471 2022-04-01 03:52:00+00:00\n",
       "1532   989320781799743488 2022-03-31 20:50:10+00:00\n",
       "349             146569971 2022-03-31 20:00:11+00:00\n",
       "1099             43369337 2022-03-31 16:09:52+00:00\n",
       "1     1004065528871247872 2022-03-31 00:55:08+00:00\n",
       "1446   877629044828667905 2022-03-31 00:07:57+00:00\n",
       "1243            620136960 2022-03-30 20:22:23+00:00\n",
       "1338   767945051787759616 2022-03-30 17:16:27+00:00\n",
       "1005             36167088 2022-03-30 16:31:16+00:00\n",
       "1371             80483638 2022-03-30 15:33:56+00:00\n",
       "495              17919393 2022-03-30 15:17:48+00:00\n",
       "461              17018470 2022-03-29 10:45:14+00:00\n",
       "457             169353953 2022-03-27 05:27:40+00:00\n",
       "305   1421182643375427584 2022-03-27 03:36:30+00:00\n",
       "934             323920783 2022-03-24 00:38:00+00:00\n",
       "1206            553010243 2022-03-21 19:39:29+00:00\n",
       "408              15850297 2022-03-18 16:15:05+00:00\n",
       "1282   709986828066144257 2022-03-17 19:22:35+00:00\n",
       "312             142843687 2022-03-17 16:52:15+00:00\n",
       "729            2498871378 2022-03-16 12:05:46+00:00\n",
       "695             239666710 2022-03-15 23:33:49+00:00\n",
       "612            2167134798 2022-03-15 01:10:49+00:00\n",
       "1531   989313110602235904 2022-03-13 22:11:54+00:00\n",
       "345              14596185 2022-03-12 01:16:50+00:00\n",
       "860             294118241 2022-03-11 19:57:19+00:00\n",
       "1022             36740674 2022-03-07 20:01:14+00:00\n",
       "1040             38282048 2022-03-01 19:27:54+00:00\n",
       "496             179226033 2022-02-25 00:17:42+00:00\n",
       "925            3173246967 2022-02-22 12:50:00+00:00\n",
       "622              21833509 2022-02-18 21:38:38+00:00\n",
       "258   1352311853263671296 2022-02-17 22:58:21+00:00\n",
       "543              19201304 2022-02-15 00:00:09+00:00\n",
       "756             257663572 2022-02-14 19:57:37+00:00\n",
       "1292   720959701651996673 2022-02-08 23:01:34+00:00\n",
       "1098           4311670299 2022-02-05 14:19:36+00:00\n",
       "576              20280574 2022-02-01 17:57:14+00:00\n",
       "1004            359528910 2022-02-01 02:22:22+00:00\n",
       "987             344350643 2022-01-25 21:37:47+00:00\n",
       "1464            898324652 2022-01-19 03:18:01+00:00\n",
       "311   1428158156098572291 2022-01-12 19:18:28+00:00\n",
       "781              26950458 2022-01-12 01:12:48+00:00\n",
       "979              33919623 2022-01-06 21:23:18+00:00\n",
       "36    1047247402409840640 2021-12-28 20:52:12+00:00\n",
       "341   1457177169407393795 2021-12-27 04:28:51+00:00\n",
       "469              17146256 2021-12-25 16:40:26+00:00"
      ]
     },
     "execution_count": 144,
     "metadata": {},
     "output_type": "execute_result"
    }
   ],
   "source": [
    "filtered_users = user_last_tweet_df[user_last_tweet_df[\"author_id\"].isin( selected_users_rrpp[\"author_id\"] )].sort_values(by='last_tweet', ascending=False)\n",
    "filtered_users"
   ]
  },
  {
   "cell_type": "code",
   "execution_count": 172,
   "id": "d92c0910",
   "metadata": {},
   "outputs": [
    {
     "name": "stderr",
     "output_type": "stream",
     "text": [
      "c:\\Users\\pog66\\.conda\\envs\\main\\Lib\\site-packages\\pandas\\core\\indexes\\base.py:7588: FutureWarning: Dtype inference on a pandas object (Series, Index, ExtensionArray) is deprecated. The Index constructor will keep the original dtype in the future. Call `infer_objects` on the result to get the old behavior.\n",
      "  return Index(sequences[0], name=names)\n"
     ]
    },
    {
     "data": {
      "application/vnd.microsoft.datawrangler.viewer.v0+json": {
       "columns": [
        {
         "name": "index",
         "rawType": "int64",
         "type": "integer"
        },
        {
         "name": "created_at",
         "rawType": "datetime64[ns, UTC]",
         "type": "unknown"
        },
        {
         "name": "count",
         "rawType": "int64",
         "type": "integer"
        }
       ],
       "ref": "5430b761-f811-45e8-9e19-e162985cf19c",
       "rows": [
        [
         "0",
         "2021-12-01 00:00:00+00:00",
         "412"
        ],
        [
         "1",
         "2021-12-02 00:00:00+00:00",
         "397"
        ],
        [
         "2",
         "2021-12-03 00:00:00+00:00",
         "351"
        ],
        [
         "3",
         "2021-12-04 00:00:00+00:00",
         "232"
        ],
        [
         "4",
         "2021-12-05 00:00:00+00:00",
         "159"
        ],
        [
         "5",
         "2021-12-06 00:00:00+00:00",
         "299"
        ],
        [
         "6",
         "2021-12-07 00:00:00+00:00",
         "318"
        ],
        [
         "7",
         "2021-12-08 00:00:00+00:00",
         "300"
        ],
        [
         "8",
         "2021-12-09 00:00:00+00:00",
         "360"
        ],
        [
         "9",
         "2021-12-10 00:00:00+00:00",
         "301"
        ],
        [
         "10",
         "2021-12-11 00:00:00+00:00",
         "170"
        ],
        [
         "11",
         "2021-12-12 00:00:00+00:00",
         "205"
        ],
        [
         "12",
         "2021-12-13 00:00:00+00:00",
         "308"
        ],
        [
         "13",
         "2021-12-14 00:00:00+00:00",
         "313"
        ],
        [
         "14",
         "2021-12-15 00:00:00+00:00",
         "484"
        ],
        [
         "15",
         "2021-12-16 00:00:00+00:00",
         "401"
        ],
        [
         "16",
         "2021-12-17 00:00:00+00:00",
         "462"
        ],
        [
         "17",
         "2021-12-18 00:00:00+00:00",
         "321"
        ],
        [
         "18",
         "2021-12-19 00:00:00+00:00",
         "308"
        ],
        [
         "19",
         "2021-12-20 00:00:00+00:00",
         "433"
        ],
        [
         "20",
         "2021-12-21 00:00:00+00:00",
         "554"
        ],
        [
         "21",
         "2021-12-22 00:00:00+00:00",
         "460"
        ],
        [
         "22",
         "2021-12-23 00:00:00+00:00",
         "468"
        ],
        [
         "23",
         "2021-12-24 00:00:00+00:00",
         "334"
        ],
        [
         "24",
         "2021-12-25 00:00:00+00:00",
         "211"
        ],
        [
         "25",
         "2021-12-26 00:00:00+00:00",
         "221"
        ],
        [
         "26",
         "2021-12-27 00:00:00+00:00",
         "355"
        ],
        [
         "27",
         "2021-12-28 00:00:00+00:00",
         "507"
        ],
        [
         "28",
         "2021-12-29 00:00:00+00:00",
         "522"
        ],
        [
         "29",
         "2021-12-30 00:00:00+00:00",
         "680"
        ],
        [
         "30",
         "2021-12-31 00:00:00+00:00",
         "454"
        ],
        [
         "31",
         "2022-01-01 00:00:00+00:00",
         "269"
        ],
        [
         "32",
         "2022-01-02 00:00:00+00:00",
         "306"
        ],
        [
         "33",
         "2022-01-03 00:00:00+00:00",
         "341"
        ],
        [
         "34",
         "2022-01-04 00:00:00+00:00",
         "543"
        ],
        [
         "35",
         "2022-01-05 00:00:00+00:00",
         "400"
        ],
        [
         "36",
         "2022-01-06 00:00:00+00:00",
         "403"
        ],
        [
         "37",
         "2022-01-07 00:00:00+00:00",
         "448"
        ],
        [
         "38",
         "2022-01-08 00:00:00+00:00",
         "434"
        ],
        [
         "39",
         "2022-01-09 00:00:00+00:00",
         "300"
        ],
        [
         "40",
         "2022-01-10 00:00:00+00:00",
         "370"
        ],
        [
         "41",
         "2022-01-11 00:00:00+00:00",
         "403"
        ],
        [
         "42",
         "2022-01-12 00:00:00+00:00",
         "416"
        ],
        [
         "43",
         "2022-01-13 00:00:00+00:00",
         "501"
        ],
        [
         "44",
         "2022-01-14 00:00:00+00:00",
         "313"
        ],
        [
         "45",
         "2022-01-15 00:00:00+00:00",
         "283"
        ],
        [
         "46",
         "2022-01-16 00:00:00+00:00",
         "209"
        ],
        [
         "47",
         "2022-01-17 00:00:00+00:00",
         "315"
        ],
        [
         "48",
         "2022-01-18 00:00:00+00:00",
         "406"
        ],
        [
         "49",
         "2022-01-19 00:00:00+00:00",
         "429"
        ]
       ],
       "shape": {
        "columns": 2,
        "rows": 122
       }
      },
      "text/html": [
       "<div>\n",
       "<style scoped>\n",
       "    .dataframe tbody tr th:only-of-type {\n",
       "        vertical-align: middle;\n",
       "    }\n",
       "\n",
       "    .dataframe tbody tr th {\n",
       "        vertical-align: top;\n",
       "    }\n",
       "\n",
       "    .dataframe thead th {\n",
       "        text-align: right;\n",
       "    }\n",
       "</style>\n",
       "<table border=\"1\" class=\"dataframe\">\n",
       "  <thead>\n",
       "    <tr style=\"text-align: right;\">\n",
       "      <th></th>\n",
       "      <th>created_at</th>\n",
       "      <th>count</th>\n",
       "    </tr>\n",
       "  </thead>\n",
       "  <tbody>\n",
       "    <tr>\n",
       "      <th>0</th>\n",
       "      <td>2021-12-01 00:00:00+00:00</td>\n",
       "      <td>412</td>\n",
       "    </tr>\n",
       "    <tr>\n",
       "      <th>1</th>\n",
       "      <td>2021-12-02 00:00:00+00:00</td>\n",
       "      <td>397</td>\n",
       "    </tr>\n",
       "    <tr>\n",
       "      <th>2</th>\n",
       "      <td>2021-12-03 00:00:00+00:00</td>\n",
       "      <td>351</td>\n",
       "    </tr>\n",
       "    <tr>\n",
       "      <th>3</th>\n",
       "      <td>2021-12-04 00:00:00+00:00</td>\n",
       "      <td>232</td>\n",
       "    </tr>\n",
       "    <tr>\n",
       "      <th>4</th>\n",
       "      <td>2021-12-05 00:00:00+00:00</td>\n",
       "      <td>159</td>\n",
       "    </tr>\n",
       "    <tr>\n",
       "      <th>...</th>\n",
       "      <td>...</td>\n",
       "      <td>...</td>\n",
       "    </tr>\n",
       "    <tr>\n",
       "      <th>117</th>\n",
       "      <td>2022-03-28 00:00:00+00:00</td>\n",
       "      <td>138</td>\n",
       "    </tr>\n",
       "    <tr>\n",
       "      <th>118</th>\n",
       "      <td>2022-03-29 00:00:00+00:00</td>\n",
       "      <td>182</td>\n",
       "    </tr>\n",
       "    <tr>\n",
       "      <th>119</th>\n",
       "      <td>2022-03-30 00:00:00+00:00</td>\n",
       "      <td>155</td>\n",
       "    </tr>\n",
       "    <tr>\n",
       "      <th>120</th>\n",
       "      <td>2022-03-31 00:00:00+00:00</td>\n",
       "      <td>177</td>\n",
       "    </tr>\n",
       "    <tr>\n",
       "      <th>121</th>\n",
       "      <td>2022-04-01 00:00:00+00:00</td>\n",
       "      <td>35</td>\n",
       "    </tr>\n",
       "  </tbody>\n",
       "</table>\n",
       "<p>122 rows × 2 columns</p>\n",
       "</div>"
      ],
      "text/plain": [
       "                   created_at  count\n",
       "0   2021-12-01 00:00:00+00:00    412\n",
       "1   2021-12-02 00:00:00+00:00    397\n",
       "2   2021-12-03 00:00:00+00:00    351\n",
       "3   2021-12-04 00:00:00+00:00    232\n",
       "4   2021-12-05 00:00:00+00:00    159\n",
       "..                        ...    ...\n",
       "117 2022-03-28 00:00:00+00:00    138\n",
       "118 2022-03-29 00:00:00+00:00    182\n",
       "119 2022-03-30 00:00:00+00:00    155\n",
       "120 2022-03-31 00:00:00+00:00    177\n",
       "121 2022-04-01 00:00:00+00:00     35\n",
       "\n",
       "[122 rows x 2 columns]"
      ]
     },
     "execution_count": 172,
     "metadata": {},
     "output_type": "execute_result"
    }
   ],
   "source": [
    "date_posts = df_covid19.set_index('created_at').resample('d').size().sort_index().reset_index(name='count')\n",
    "date_posts"
   ]
  },
  {
   "cell_type": "code",
   "execution_count": 154,
   "id": "bebb089d",
   "metadata": {},
   "outputs": [],
   "source": [
    "sorted_users_by_rrpp = [u for u in user_rrpp[\"author_id\"] if u in filtered_users[\"author_id\"].unique()]"
   ]
  },
  {
   "cell_type": "code",
   "execution_count": 163,
   "id": "75b99f48",
   "metadata": {},
   "outputs": [
    {
     "data": {
      "application/vnd.microsoft.datawrangler.viewer.v0+json": {
       "columns": [
        {
         "name": "index",
         "rawType": "int64",
         "type": "integer"
        },
        {
         "name": "author_id",
         "rawType": "object",
         "type": "string"
        },
        {
         "name": "last_tweet",
         "rawType": "datetime64[ns, UTC]",
         "type": "unknown"
        }
       ],
       "ref": "a1d6364d-dbdb-4a89-b21a-7ac35e80e993",
       "rows": [
        [
         "0",
         "80483638",
         "2022-03-30 15:33:56+00:00"
        ],
        [
         "1",
         "720959701651996673",
         "2022-02-08 23:01:34+00:00"
        ],
        [
         "2",
         "169353953",
         "2022-03-27 05:27:40+00:00"
        ],
        [
         "3",
         "1352311853263671296",
         "2022-02-17 22:58:21+00:00"
        ],
        [
         "4",
         "4311670299",
         "2022-02-05 14:19:36+00:00"
        ],
        [
         "5",
         "359528910",
         "2022-02-01 02:22:22+00:00"
        ],
        [
         "6",
         "17146256",
         "2021-12-25 16:40:26+00:00"
        ],
        [
         "7",
         "1047247402409840640",
         "2021-12-28 20:52:12+00:00"
        ],
        [
         "8",
         "344350643",
         "2022-01-25 21:37:47+00:00"
        ],
        [
         "9",
         "179226033",
         "2022-02-25 00:17:42+00:00"
        ],
        [
         "10",
         "767945051787759616",
         "2022-03-30 17:16:27+00:00"
        ],
        [
         "11",
         "1457177169407393795",
         "2021-12-27 04:28:51+00:00"
        ],
        [
         "12",
         "26950458",
         "2022-01-12 01:12:48+00:00"
        ],
        [
         "13",
         "17919393",
         "2022-03-30 15:17:48+00:00"
        ],
        [
         "14",
         "620136960",
         "2022-03-30 20:22:23+00:00"
        ],
        [
         "15",
         "989313110602235904",
         "2022-03-13 22:11:54+00:00"
        ],
        [
         "16",
         "36167088",
         "2022-03-30 16:31:16+00:00"
        ],
        [
         "17",
         "898324652",
         "2022-01-19 03:18:01+00:00"
        ],
        [
         "18",
         "17018470",
         "2022-03-29 10:45:14+00:00"
        ],
        [
         "19",
         "1428158156098572291",
         "2022-01-12 19:18:28+00:00"
        ],
        [
         "20",
         "1004065528871247872",
         "2022-03-31 00:55:08+00:00"
        ],
        [
         "21",
         "877629044828667905",
         "2022-03-31 00:07:57+00:00"
        ],
        [
         "22",
         "20280574",
         "2022-02-01 17:57:14+00:00"
        ],
        [
         "23",
         "3173246967",
         "2022-02-22 12:50:00+00:00"
        ],
        [
         "24",
         "21833509",
         "2022-02-18 21:38:38+00:00"
        ],
        [
         "25",
         "989320781799743488",
         "2022-03-31 20:50:10+00:00"
        ],
        [
         "26",
         "149197471",
         "2022-04-01 03:52:00+00:00"
        ],
        [
         "27",
         "19201304",
         "2022-02-15 00:00:09+00:00"
        ],
        [
         "28",
         "239666710",
         "2022-03-15 23:33:49+00:00"
        ],
        [
         "29",
         "142843687",
         "2022-03-17 16:52:15+00:00"
        ],
        [
         "30",
         "14596185",
         "2022-03-12 01:16:50+00:00"
        ],
        [
         "31",
         "2498871378",
         "2022-03-16 12:05:46+00:00"
        ],
        [
         "32",
         "1421182643375427584",
         "2022-03-27 03:36:30+00:00"
        ],
        [
         "33",
         "33919623",
         "2022-01-06 21:23:18+00:00"
        ],
        [
         "34",
         "323920783",
         "2022-03-24 00:38:00+00:00"
        ],
        [
         "35",
         "36740674",
         "2022-03-07 20:01:14+00:00"
        ],
        [
         "36",
         "257663572",
         "2022-02-14 19:57:37+00:00"
        ],
        [
         "37",
         "294118241",
         "2022-03-11 19:57:19+00:00"
        ],
        [
         "38",
         "38282048",
         "2022-03-01 19:27:54+00:00"
        ],
        [
         "39",
         "146569971",
         "2022-03-31 20:00:11+00:00"
        ],
        [
         "40",
         "2167134798",
         "2022-03-15 01:10:49+00:00"
        ],
        [
         "41",
         "553010243",
         "2022-03-21 19:39:29+00:00"
        ],
        [
         "42",
         "15850297",
         "2022-03-18 16:15:05+00:00"
        ],
        [
         "43",
         "43369337",
         "2022-03-31 16:09:52+00:00"
        ],
        [
         "44",
         "709986828066144257",
         "2022-03-17 19:22:35+00:00"
        ]
       ],
       "shape": {
        "columns": 2,
        "rows": 45
       }
      },
      "text/html": [
       "<div>\n",
       "<style scoped>\n",
       "    .dataframe tbody tr th:only-of-type {\n",
       "        vertical-align: middle;\n",
       "    }\n",
       "\n",
       "    .dataframe tbody tr th {\n",
       "        vertical-align: top;\n",
       "    }\n",
       "\n",
       "    .dataframe thead th {\n",
       "        text-align: right;\n",
       "    }\n",
       "</style>\n",
       "<table border=\"1\" class=\"dataframe\">\n",
       "  <thead>\n",
       "    <tr style=\"text-align: right;\">\n",
       "      <th></th>\n",
       "      <th>author_id</th>\n",
       "      <th>last_tweet</th>\n",
       "    </tr>\n",
       "  </thead>\n",
       "  <tbody>\n",
       "    <tr>\n",
       "      <th>0</th>\n",
       "      <td>80483638</td>\n",
       "      <td>2022-03-30 15:33:56+00:00</td>\n",
       "    </tr>\n",
       "    <tr>\n",
       "      <th>1</th>\n",
       "      <td>720959701651996673</td>\n",
       "      <td>2022-02-08 23:01:34+00:00</td>\n",
       "    </tr>\n",
       "    <tr>\n",
       "      <th>2</th>\n",
       "      <td>169353953</td>\n",
       "      <td>2022-03-27 05:27:40+00:00</td>\n",
       "    </tr>\n",
       "    <tr>\n",
       "      <th>3</th>\n",
       "      <td>1352311853263671296</td>\n",
       "      <td>2022-02-17 22:58:21+00:00</td>\n",
       "    </tr>\n",
       "    <tr>\n",
       "      <th>4</th>\n",
       "      <td>4311670299</td>\n",
       "      <td>2022-02-05 14:19:36+00:00</td>\n",
       "    </tr>\n",
       "    <tr>\n",
       "      <th>5</th>\n",
       "      <td>359528910</td>\n",
       "      <td>2022-02-01 02:22:22+00:00</td>\n",
       "    </tr>\n",
       "    <tr>\n",
       "      <th>6</th>\n",
       "      <td>17146256</td>\n",
       "      <td>2021-12-25 16:40:26+00:00</td>\n",
       "    </tr>\n",
       "    <tr>\n",
       "      <th>7</th>\n",
       "      <td>1047247402409840640</td>\n",
       "      <td>2021-12-28 20:52:12+00:00</td>\n",
       "    </tr>\n",
       "    <tr>\n",
       "      <th>8</th>\n",
       "      <td>344350643</td>\n",
       "      <td>2022-01-25 21:37:47+00:00</td>\n",
       "    </tr>\n",
       "    <tr>\n",
       "      <th>9</th>\n",
       "      <td>179226033</td>\n",
       "      <td>2022-02-25 00:17:42+00:00</td>\n",
       "    </tr>\n",
       "    <tr>\n",
       "      <th>10</th>\n",
       "      <td>767945051787759616</td>\n",
       "      <td>2022-03-30 17:16:27+00:00</td>\n",
       "    </tr>\n",
       "    <tr>\n",
       "      <th>11</th>\n",
       "      <td>1457177169407393795</td>\n",
       "      <td>2021-12-27 04:28:51+00:00</td>\n",
       "    </tr>\n",
       "    <tr>\n",
       "      <th>12</th>\n",
       "      <td>26950458</td>\n",
       "      <td>2022-01-12 01:12:48+00:00</td>\n",
       "    </tr>\n",
       "    <tr>\n",
       "      <th>13</th>\n",
       "      <td>17919393</td>\n",
       "      <td>2022-03-30 15:17:48+00:00</td>\n",
       "    </tr>\n",
       "    <tr>\n",
       "      <th>14</th>\n",
       "      <td>620136960</td>\n",
       "      <td>2022-03-30 20:22:23+00:00</td>\n",
       "    </tr>\n",
       "    <tr>\n",
       "      <th>15</th>\n",
       "      <td>989313110602235904</td>\n",
       "      <td>2022-03-13 22:11:54+00:00</td>\n",
       "    </tr>\n",
       "    <tr>\n",
       "      <th>16</th>\n",
       "      <td>36167088</td>\n",
       "      <td>2022-03-30 16:31:16+00:00</td>\n",
       "    </tr>\n",
       "    <tr>\n",
       "      <th>17</th>\n",
       "      <td>898324652</td>\n",
       "      <td>2022-01-19 03:18:01+00:00</td>\n",
       "    </tr>\n",
       "    <tr>\n",
       "      <th>18</th>\n",
       "      <td>17018470</td>\n",
       "      <td>2022-03-29 10:45:14+00:00</td>\n",
       "    </tr>\n",
       "    <tr>\n",
       "      <th>19</th>\n",
       "      <td>1428158156098572291</td>\n",
       "      <td>2022-01-12 19:18:28+00:00</td>\n",
       "    </tr>\n",
       "    <tr>\n",
       "      <th>20</th>\n",
       "      <td>1004065528871247872</td>\n",
       "      <td>2022-03-31 00:55:08+00:00</td>\n",
       "    </tr>\n",
       "    <tr>\n",
       "      <th>21</th>\n",
       "      <td>877629044828667905</td>\n",
       "      <td>2022-03-31 00:07:57+00:00</td>\n",
       "    </tr>\n",
       "    <tr>\n",
       "      <th>22</th>\n",
       "      <td>20280574</td>\n",
       "      <td>2022-02-01 17:57:14+00:00</td>\n",
       "    </tr>\n",
       "    <tr>\n",
       "      <th>23</th>\n",
       "      <td>3173246967</td>\n",
       "      <td>2022-02-22 12:50:00+00:00</td>\n",
       "    </tr>\n",
       "    <tr>\n",
       "      <th>24</th>\n",
       "      <td>21833509</td>\n",
       "      <td>2022-02-18 21:38:38+00:00</td>\n",
       "    </tr>\n",
       "    <tr>\n",
       "      <th>25</th>\n",
       "      <td>989320781799743488</td>\n",
       "      <td>2022-03-31 20:50:10+00:00</td>\n",
       "    </tr>\n",
       "    <tr>\n",
       "      <th>26</th>\n",
       "      <td>149197471</td>\n",
       "      <td>2022-04-01 03:52:00+00:00</td>\n",
       "    </tr>\n",
       "    <tr>\n",
       "      <th>27</th>\n",
       "      <td>19201304</td>\n",
       "      <td>2022-02-15 00:00:09+00:00</td>\n",
       "    </tr>\n",
       "    <tr>\n",
       "      <th>28</th>\n",
       "      <td>239666710</td>\n",
       "      <td>2022-03-15 23:33:49+00:00</td>\n",
       "    </tr>\n",
       "    <tr>\n",
       "      <th>29</th>\n",
       "      <td>142843687</td>\n",
       "      <td>2022-03-17 16:52:15+00:00</td>\n",
       "    </tr>\n",
       "    <tr>\n",
       "      <th>30</th>\n",
       "      <td>14596185</td>\n",
       "      <td>2022-03-12 01:16:50+00:00</td>\n",
       "    </tr>\n",
       "    <tr>\n",
       "      <th>31</th>\n",
       "      <td>2498871378</td>\n",
       "      <td>2022-03-16 12:05:46+00:00</td>\n",
       "    </tr>\n",
       "    <tr>\n",
       "      <th>32</th>\n",
       "      <td>1421182643375427584</td>\n",
       "      <td>2022-03-27 03:36:30+00:00</td>\n",
       "    </tr>\n",
       "    <tr>\n",
       "      <th>33</th>\n",
       "      <td>33919623</td>\n",
       "      <td>2022-01-06 21:23:18+00:00</td>\n",
       "    </tr>\n",
       "    <tr>\n",
       "      <th>34</th>\n",
       "      <td>323920783</td>\n",
       "      <td>2022-03-24 00:38:00+00:00</td>\n",
       "    </tr>\n",
       "    <tr>\n",
       "      <th>35</th>\n",
       "      <td>36740674</td>\n",
       "      <td>2022-03-07 20:01:14+00:00</td>\n",
       "    </tr>\n",
       "    <tr>\n",
       "      <th>36</th>\n",
       "      <td>257663572</td>\n",
       "      <td>2022-02-14 19:57:37+00:00</td>\n",
       "    </tr>\n",
       "    <tr>\n",
       "      <th>37</th>\n",
       "      <td>294118241</td>\n",
       "      <td>2022-03-11 19:57:19+00:00</td>\n",
       "    </tr>\n",
       "    <tr>\n",
       "      <th>38</th>\n",
       "      <td>38282048</td>\n",
       "      <td>2022-03-01 19:27:54+00:00</td>\n",
       "    </tr>\n",
       "    <tr>\n",
       "      <th>39</th>\n",
       "      <td>146569971</td>\n",
       "      <td>2022-03-31 20:00:11+00:00</td>\n",
       "    </tr>\n",
       "    <tr>\n",
       "      <th>40</th>\n",
       "      <td>2167134798</td>\n",
       "      <td>2022-03-15 01:10:49+00:00</td>\n",
       "    </tr>\n",
       "    <tr>\n",
       "      <th>41</th>\n",
       "      <td>553010243</td>\n",
       "      <td>2022-03-21 19:39:29+00:00</td>\n",
       "    </tr>\n",
       "    <tr>\n",
       "      <th>42</th>\n",
       "      <td>15850297</td>\n",
       "      <td>2022-03-18 16:15:05+00:00</td>\n",
       "    </tr>\n",
       "    <tr>\n",
       "      <th>43</th>\n",
       "      <td>43369337</td>\n",
       "      <td>2022-03-31 16:09:52+00:00</td>\n",
       "    </tr>\n",
       "    <tr>\n",
       "      <th>44</th>\n",
       "      <td>709986828066144257</td>\n",
       "      <td>2022-03-17 19:22:35+00:00</td>\n",
       "    </tr>\n",
       "  </tbody>\n",
       "</table>\n",
       "</div>"
      ],
      "text/plain": [
       "              author_id                last_tweet\n",
       "0              80483638 2022-03-30 15:33:56+00:00\n",
       "1    720959701651996673 2022-02-08 23:01:34+00:00\n",
       "2             169353953 2022-03-27 05:27:40+00:00\n",
       "3   1352311853263671296 2022-02-17 22:58:21+00:00\n",
       "4            4311670299 2022-02-05 14:19:36+00:00\n",
       "5             359528910 2022-02-01 02:22:22+00:00\n",
       "6              17146256 2021-12-25 16:40:26+00:00\n",
       "7   1047247402409840640 2021-12-28 20:52:12+00:00\n",
       "8             344350643 2022-01-25 21:37:47+00:00\n",
       "9             179226033 2022-02-25 00:17:42+00:00\n",
       "10   767945051787759616 2022-03-30 17:16:27+00:00\n",
       "11  1457177169407393795 2021-12-27 04:28:51+00:00\n",
       "12             26950458 2022-01-12 01:12:48+00:00\n",
       "13             17919393 2022-03-30 15:17:48+00:00\n",
       "14            620136960 2022-03-30 20:22:23+00:00\n",
       "15   989313110602235904 2022-03-13 22:11:54+00:00\n",
       "16             36167088 2022-03-30 16:31:16+00:00\n",
       "17            898324652 2022-01-19 03:18:01+00:00\n",
       "18             17018470 2022-03-29 10:45:14+00:00\n",
       "19  1428158156098572291 2022-01-12 19:18:28+00:00\n",
       "20  1004065528871247872 2022-03-31 00:55:08+00:00\n",
       "21   877629044828667905 2022-03-31 00:07:57+00:00\n",
       "22             20280574 2022-02-01 17:57:14+00:00\n",
       "23           3173246967 2022-02-22 12:50:00+00:00\n",
       "24             21833509 2022-02-18 21:38:38+00:00\n",
       "25   989320781799743488 2022-03-31 20:50:10+00:00\n",
       "26            149197471 2022-04-01 03:52:00+00:00\n",
       "27             19201304 2022-02-15 00:00:09+00:00\n",
       "28            239666710 2022-03-15 23:33:49+00:00\n",
       "29            142843687 2022-03-17 16:52:15+00:00\n",
       "30             14596185 2022-03-12 01:16:50+00:00\n",
       "31           2498871378 2022-03-16 12:05:46+00:00\n",
       "32  1421182643375427584 2022-03-27 03:36:30+00:00\n",
       "33             33919623 2022-01-06 21:23:18+00:00\n",
       "34            323920783 2022-03-24 00:38:00+00:00\n",
       "35             36740674 2022-03-07 20:01:14+00:00\n",
       "36            257663572 2022-02-14 19:57:37+00:00\n",
       "37            294118241 2022-03-11 19:57:19+00:00\n",
       "38             38282048 2022-03-01 19:27:54+00:00\n",
       "39            146569971 2022-03-31 20:00:11+00:00\n",
       "40           2167134798 2022-03-15 01:10:49+00:00\n",
       "41            553010243 2022-03-21 19:39:29+00:00\n",
       "42             15850297 2022-03-18 16:15:05+00:00\n",
       "43             43369337 2022-03-31 16:09:52+00:00\n",
       "44   709986828066144257 2022-03-17 19:22:35+00:00"
      ]
     },
     "execution_count": 163,
     "metadata": {},
     "output_type": "execute_result"
    }
   ],
   "source": [
    "sorted_filtered_users = filtered_users.set_index('author_id').loc[sorted_users_by_rrpp]['last_tweet'].reset_index()\n",
    "sorted_filtered_users"
   ]
  },
  {
   "cell_type": "code",
   "execution_count": 158,
   "id": "a309b1de",
   "metadata": {},
   "outputs": [
    {
     "data": {
      "application/vnd.microsoft.datawrangler.viewer.v0+json": {
       "columns": [
        {
         "name": "author_id",
         "rawType": "object",
         "type": "string"
        },
        {
         "name": "rr_per_post",
         "rawType": "float64",
         "type": "float"
        }
       ],
       "ref": "ce514cc1-c547-4bf3-9c66-adff9c6b43a3",
       "rows": [
        [
         "80483638",
         "0.7231920199501247"
        ],
        [
         "720959701651996673",
         "0.65625"
        ],
        [
         "169353953",
         "0.5714285714285714"
        ],
        [
         "1352311853263671296",
         "0.5"
        ],
        [
         "4311670299",
         "0.5"
        ],
        [
         "359528910",
         "0.5"
        ],
        [
         "17146256",
         "0.5"
        ],
        [
         "1047247402409840640",
         "0.5"
        ],
        [
         "344350643",
         "0.5"
        ],
        [
         "179226033",
         "0.5"
        ],
        [
         "767945051787759616",
         "0.47058823529411764"
        ],
        [
         "1457177169407393795",
         "0.42857142857142855"
        ],
        [
         "26950458",
         "0.4"
        ],
        [
         "17919393",
         "0.36893203883495146"
        ],
        [
         "620136960",
         "0.35"
        ],
        [
         "989313110602235904",
         "0.3333333333333333"
        ],
        [
         "36167088",
         "0.30057803468208094"
        ],
        [
         "898324652",
         "0.2857142857142857"
        ],
        [
         "17018470",
         "0.2857142857142857"
        ],
        [
         "1428158156098572291",
         "0.25"
        ],
        [
         "1004065528871247872",
         "0.25"
        ],
        [
         "877629044828667905",
         "0.21830985915492956"
        ],
        [
         "20280574",
         "0.21568627450980393"
        ],
        [
         "3173246967",
         "0.2"
        ],
        [
         "21833509",
         "0.2"
        ],
        [
         "989320781799743488",
         "0.2"
        ],
        [
         "149197471",
         "0.2"
        ],
        [
         "19201304",
         "0.2"
        ],
        [
         "239666710",
         "0.2"
        ],
        [
         "142843687",
         "0.1935483870967742"
        ],
        [
         "14596185",
         "0.16666666666666666"
        ],
        [
         "2498871378",
         "0.16666666666666666"
        ],
        [
         "1421182643375427584",
         "0.16666666666666666"
        ],
        [
         "33919623",
         "0.16666666666666666"
        ],
        [
         "323920783",
         "0.16363636363636364"
        ],
        [
         "36740674",
         "0.1623931623931624"
        ],
        [
         "257663572",
         "0.15384615384615385"
        ],
        [
         "294118241",
         "0.14285714285714285"
        ],
        [
         "38282048",
         "0.14285714285714285"
        ],
        [
         "146569971",
         "0.13034188034188035"
        ],
        [
         "2167134798",
         "0.125"
        ],
        [
         "553010243",
         "0.1111111111111111"
        ],
        [
         "15850297",
         "0.1111111111111111"
        ],
        [
         "43369337",
         "0.10638297872340426"
        ],
        [
         "709986828066144257",
         "0.10526315789473684"
        ]
       ],
       "shape": {
        "columns": 1,
        "rows": 45
       }
      },
      "text/plain": [
       "author_id\n",
       "80483638               0.723192\n",
       "720959701651996673     0.656250\n",
       "169353953              0.571429\n",
       "1352311853263671296    0.500000\n",
       "4311670299             0.500000\n",
       "359528910              0.500000\n",
       "17146256               0.500000\n",
       "1047247402409840640    0.500000\n",
       "344350643              0.500000\n",
       "179226033              0.500000\n",
       "767945051787759616     0.470588\n",
       "1457177169407393795    0.428571\n",
       "26950458               0.400000\n",
       "17919393               0.368932\n",
       "620136960              0.350000\n",
       "989313110602235904     0.333333\n",
       "36167088               0.300578\n",
       "898324652              0.285714\n",
       "17018470               0.285714\n",
       "1428158156098572291    0.250000\n",
       "1004065528871247872    0.250000\n",
       "877629044828667905     0.218310\n",
       "20280574               0.215686\n",
       "3173246967             0.200000\n",
       "21833509               0.200000\n",
       "989320781799743488     0.200000\n",
       "149197471              0.200000\n",
       "19201304               0.200000\n",
       "239666710              0.200000\n",
       "142843687              0.193548\n",
       "14596185               0.166667\n",
       "2498871378             0.166667\n",
       "1421182643375427584    0.166667\n",
       "33919623               0.166667\n",
       "323920783              0.163636\n",
       "36740674               0.162393\n",
       "257663572              0.153846\n",
       "294118241              0.142857\n",
       "38282048               0.142857\n",
       "146569971              0.130342\n",
       "2167134798             0.125000\n",
       "553010243              0.111111\n",
       "15850297               0.111111\n",
       "43369337               0.106383\n",
       "709986828066144257     0.105263\n",
       "Name: rr_per_post, dtype: float64"
      ]
     },
     "execution_count": 158,
     "metadata": {},
     "output_type": "execute_result"
    }
   ],
   "source": [
    "sorted_users_rrpp = user_rrpp.set_index('author_id').loc[sorted_users_by_rrpp]['rr_per_post']\n",
    "sorted_users_rrpp"
   ]
  },
  {
   "cell_type": "code",
   "execution_count": 162,
   "id": "00c48585",
   "metadata": {},
   "outputs": [
    {
     "data": {
      "text/plain": [
       "Index(['80483638', '720959701651996673', '169353953', '1352311853263671296',\n",
       "       '4311670299', '359528910', '17146256', '1047247402409840640',\n",
       "       '344350643', '179226033', '767945051787759616', '1457177169407393795',\n",
       "       '26950458', '17919393', '620136960', '989313110602235904', '36167088',\n",
       "       '898324652', '17018470', '1428158156098572291', '1004065528871247872',\n",
       "       '877629044828667905', '20280574', '3173246967', '21833509',\n",
       "       '989320781799743488', '149197471', '19201304', '239666710', '142843687',\n",
       "       '14596185', '2498871378', '1421182643375427584', '33919623',\n",
       "       '323920783', '36740674', '257663572', '294118241', '38282048',\n",
       "       '146569971', '2167134798', '553010243', '15850297', '43369337',\n",
       "       '709986828066144257'],\n",
       "      dtype='object', name='author_id')"
      ]
     },
     "execution_count": 162,
     "metadata": {},
     "output_type": "execute_result"
    }
   ],
   "source": []
  },
  {
   "cell_type": "code",
   "execution_count": 271,
   "id": "047c069b",
   "metadata": {},
   "outputs": [
    {
     "data": {
      "image/png": "[encoded data removed]",
      "text/plain": [
       "<Figure size 1200x800 with 1 Axes>"
      ]
     },
     "metadata": {},
     "output_type": "display_data"
    }
   ],
   "source": [
    "fig, ax1 = plt.subplots(figsize=(12,8))\n",
    "color = 'tab:blue'\n",
    "ax1.set_ylabel('Author (Sorted by Replies per Post)', color=color)\n",
    "ax1.set_xlabel('Tweet DateTime', color=color)\n",
    "yticklabels = []\n",
    "for i, author in enumerate(sorted_filtered_users['author_id']):\n",
    "    author_tweets = df_covid19[df_covid19['author_id'] == author].sort_values('created_at', ascending=False).head(1)\n",
    "    ax1.scatter(author_tweets['created_at'], [author]*len(author_tweets), color=color, alpha=1, s=40)\n",
    "    yticklabels.append(author)\n",
    "ax1.tick_params(axis='x', labelcolor=color)\n",
    "# Show every other user name for readability\n",
    "yticks = ax1.get_yticks()\n",
    "ax1.set_yticks(yticks)\n",
    "ax1.set_yticklabels([f\"B{i}\" if i%2==0 else '' for i, name in enumerate(yticklabels)])\n",
    "color = 'tab:red'\n",
    "ax1.plot(date_posts['created_at'], date_posts['count']/20, color=color, label='Daily Tweet Count / 20')\n",
    "ax1.legend(loc='upper left')\n",
    "#ax2 = ax1.twiny()\n",
    "#color = 'tab:orange'\n",
    "#ax2.set_xlabel('Tweet Volume', color=color)\n",
    "#ax2.set_xscale('log')\n",
    "#ax2.barh(sorted_filtered_users['author_id'], sorted_users_rrpp, alpha=0.3, color=color, label='Tweet Volume')\n",
    "#ax2.tick_params(axis='x', labelcolor=color)\n",
    "#plt.title('Comparison of Last Tweet DateTime of Users and Tweet Volume (Sorted by Replies per Post)')\n",
    "fig.tight_layout()\n",
    "plt.savefig(\"covid19_user_last_tweet_vs_rrpp.png\", dpi=300)\n",
    "plt.show()"
   ]
  },
  {
   "cell_type": "code",
   "execution_count": 194,
   "id": "c4820f38",
   "metadata": {},
   "outputs": [
    {
     "data": {
      "application/vnd.microsoft.datawrangler.viewer.v0+json": {
       "columns": [
        {
         "name": "author_id",
         "rawType": "object",
         "type": "string"
        },
        {
         "name": "rr_per_post",
         "rawType": "float64",
         "type": "float"
        }
       ],
       "ref": "ff8a85e2-81db-4a2d-a4c5-ef24b0cad4a2",
       "rows": [
        [
         "80483638",
         "0.7231920199501247"
        ],
        [
         "720959701651996673",
         "0.65625"
        ],
        [
         "169353953",
         "0.5714285714285714"
        ],
        [
         "1352311853263671296",
         "0.5"
        ],
        [
         "4311670299",
         "0.5"
        ],
        [
         "359528910",
         "0.5"
        ],
        [
         "17146256",
         "0.5"
        ],
        [
         "1047247402409840640",
         "0.5"
        ]
       ],
       "shape": {
        "columns": 1,
        "rows": 8
       }
      },
      "text/plain": [
       "author_id\n",
       "80483638               0.723192\n",
       "720959701651996673     0.656250\n",
       "169353953              0.571429\n",
       "1352311853263671296    0.500000\n",
       "4311670299             0.500000\n",
       "359528910              0.500000\n",
       "17146256               0.500000\n",
       "1047247402409840640    0.500000\n",
       "Name: rr_per_post, dtype: float64"
      ]
     },
     "execution_count": 194,
     "metadata": {},
     "output_type": "execute_result"
    }
   ],
   "source": [
    "sorted_users_rrpp[:8]"
   ]
  },
  {
   "cell_type": "code",
   "execution_count": 195,
   "id": "9a5c2f3a",
   "metadata": {},
   "outputs": [
    {
     "data": {
      "application/vnd.microsoft.datawrangler.viewer.v0+json": {
       "columns": [
        {
         "name": "index",
         "rawType": "int64",
         "type": "integer"
        },
        {
         "name": "author_id",
         "rawType": "object",
         "type": "string"
        },
        {
         "name": "last_tweet",
         "rawType": "datetime64[ns, UTC]",
         "type": "unknown"
        }
       ],
       "ref": "b1aa03b3-7572-4c60-a393-42daf651f1f5",
       "rows": [
        [
         "0",
         "80483638",
         "2022-03-30 15:33:56+00:00"
        ],
        [
         "1",
         "720959701651996673",
         "2022-02-08 23:01:34+00:00"
        ],
        [
         "2",
         "169353953",
         "2022-03-27 05:27:40+00:00"
        ],
        [
         "3",
         "1352311853263671296",
         "2022-02-17 22:58:21+00:00"
        ],
        [
         "4",
         "4311670299",
         "2022-02-05 14:19:36+00:00"
        ],
        [
         "5",
         "359528910",
         "2022-02-01 02:22:22+00:00"
        ],
        [
         "6",
         "17146256",
         "2021-12-25 16:40:26+00:00"
        ],
        [
         "7",
         "1047247402409840640",
         "2021-12-28 20:52:12+00:00"
        ],
        [
         "8",
         "344350643",
         "2022-01-25 21:37:47+00:00"
        ],
        [
         "9",
         "179226033",
         "2022-02-25 00:17:42+00:00"
        ],
        [
         "10",
         "767945051787759616",
         "2022-03-30 17:16:27+00:00"
        ],
        [
         "11",
         "1457177169407393795",
         "2021-12-27 04:28:51+00:00"
        ],
        [
         "12",
         "26950458",
         "2022-01-12 01:12:48+00:00"
        ],
        [
         "13",
         "17919393",
         "2022-03-30 15:17:48+00:00"
        ],
        [
         "14",
         "620136960",
         "2022-03-30 20:22:23+00:00"
        ],
        [
         "15",
         "989313110602235904",
         "2022-03-13 22:11:54+00:00"
        ],
        [
         "16",
         "36167088",
         "2022-03-30 16:31:16+00:00"
        ],
        [
         "17",
         "898324652",
         "2022-01-19 03:18:01+00:00"
        ],
        [
         "18",
         "17018470",
         "2022-03-29 10:45:14+00:00"
        ],
        [
         "19",
         "1428158156098572291",
         "2022-01-12 19:18:28+00:00"
        ],
        [
         "20",
         "1004065528871247872",
         "2022-03-31 00:55:08+00:00"
        ],
        [
         "21",
         "877629044828667905",
         "2022-03-31 00:07:57+00:00"
        ],
        [
         "22",
         "20280574",
         "2022-02-01 17:57:14+00:00"
        ],
        [
         "23",
         "3173246967",
         "2022-02-22 12:50:00+00:00"
        ],
        [
         "24",
         "21833509",
         "2022-02-18 21:38:38+00:00"
        ],
        [
         "25",
         "989320781799743488",
         "2022-03-31 20:50:10+00:00"
        ],
        [
         "26",
         "149197471",
         "2022-04-01 03:52:00+00:00"
        ],
        [
         "27",
         "19201304",
         "2022-02-15 00:00:09+00:00"
        ],
        [
         "28",
         "239666710",
         "2022-03-15 23:33:49+00:00"
        ],
        [
         "29",
         "142843687",
         "2022-03-17 16:52:15+00:00"
        ],
        [
         "30",
         "14596185",
         "2022-03-12 01:16:50+00:00"
        ],
        [
         "31",
         "2498871378",
         "2022-03-16 12:05:46+00:00"
        ],
        [
         "32",
         "1421182643375427584",
         "2022-03-27 03:36:30+00:00"
        ],
        [
         "33",
         "33919623",
         "2022-01-06 21:23:18+00:00"
        ],
        [
         "34",
         "323920783",
         "2022-03-24 00:38:00+00:00"
        ],
        [
         "35",
         "36740674",
         "2022-03-07 20:01:14+00:00"
        ],
        [
         "36",
         "257663572",
         "2022-02-14 19:57:37+00:00"
        ],
        [
         "37",
         "294118241",
         "2022-03-11 19:57:19+00:00"
        ],
        [
         "38",
         "38282048",
         "2022-03-01 19:27:54+00:00"
        ],
        [
         "39",
         "146569971",
         "2022-03-31 20:00:11+00:00"
        ],
        [
         "40",
         "2167134798",
         "2022-03-15 01:10:49+00:00"
        ],
        [
         "41",
         "553010243",
         "2022-03-21 19:39:29+00:00"
        ],
        [
         "42",
         "15850297",
         "2022-03-18 16:15:05+00:00"
        ],
        [
         "43",
         "43369337",
         "2022-03-31 16:09:52+00:00"
        ],
        [
         "44",
         "709986828066144257",
         "2022-03-17 19:22:35+00:00"
        ]
       ],
       "shape": {
        "columns": 2,
        "rows": 45
       }
      },
      "text/html": [
       "<div>\n",
       "<style scoped>\n",
       "    .dataframe tbody tr th:only-of-type {\n",
       "        vertical-align: middle;\n",
       "    }\n",
       "\n",
       "    .dataframe tbody tr th {\n",
       "        vertical-align: top;\n",
       "    }\n",
       "\n",
       "    .dataframe thead th {\n",
       "        text-align: right;\n",
       "    }\n",
       "</style>\n",
       "<table border=\"1\" class=\"dataframe\">\n",
       "  <thead>\n",
       "    <tr style=\"text-align: right;\">\n",
       "      <th></th>\n",
       "      <th>author_id</th>\n",
       "      <th>last_tweet</th>\n",
       "    </tr>\n",
       "  </thead>\n",
       "  <tbody>\n",
       "    <tr>\n",
       "      <th>0</th>\n",
       "      <td>80483638</td>\n",
       "      <td>2022-03-30 15:33:56+00:00</td>\n",
       "    </tr>\n",
       "    <tr>\n",
       "      <th>1</th>\n",
       "      <td>720959701651996673</td>\n",
       "      <td>2022-02-08 23:01:34+00:00</td>\n",
       "    </tr>\n",
       "    <tr>\n",
       "      <th>2</th>\n",
       "      <td>169353953</td>\n",
       "      <td>2022-03-27 05:27:40+00:00</td>\n",
       "    </tr>\n",
       "    <tr>\n",
       "      <th>3</th>\n",
       "      <td>1352311853263671296</td>\n",
       "      <td>2022-02-17 22:58:21+00:00</td>\n",
       "    </tr>\n",
       "    <tr>\n",
       "      <th>4</th>\n",
       "      <td>4311670299</td>\n",
       "      <td>2022-02-05 14:19:36+00:00</td>\n",
       "    </tr>\n",
       "    <tr>\n",
       "      <th>5</th>\n",
       "      <td>359528910</td>\n",
       "      <td>2022-02-01 02:22:22+00:00</td>\n",
       "    </tr>\n",
       "    <tr>\n",
       "      <th>6</th>\n",
       "      <td>17146256</td>\n",
       "      <td>2021-12-25 16:40:26+00:00</td>\n",
       "    </tr>\n",
       "    <tr>\n",
       "      <th>7</th>\n",
       "      <td>1047247402409840640</td>\n",
       "      <td>2021-12-28 20:52:12+00:00</td>\n",
       "    </tr>\n",
       "    <tr>\n",
       "      <th>8</th>\n",
       "      <td>344350643</td>\n",
       "      <td>2022-01-25 21:37:47+00:00</td>\n",
       "    </tr>\n",
       "    <tr>\n",
       "      <th>9</th>\n",
       "      <td>179226033</td>\n",
       "      <td>2022-02-25 00:17:42+00:00</td>\n",
       "    </tr>\n",
       "    <tr>\n",
       "      <th>10</th>\n",
       "      <td>767945051787759616</td>\n",
       "      <td>2022-03-30 17:16:27+00:00</td>\n",
       "    </tr>\n",
       "    <tr>\n",
       "      <th>11</th>\n",
       "      <td>1457177169407393795</td>\n",
       "      <td>2021-12-27 04:28:51+00:00</td>\n",
       "    </tr>\n",
       "    <tr>\n",
       "      <th>12</th>\n",
       "      <td>26950458</td>\n",
       "      <td>2022-01-12 01:12:48+00:00</td>\n",
       "    </tr>\n",
       "    <tr>\n",
       "      <th>13</th>\n",
       "      <td>17919393</td>\n",
       "      <td>2022-03-30 15:17:48+00:00</td>\n",
       "    </tr>\n",
       "    <tr>\n",
       "      <th>14</th>\n",
       "      <td>620136960</td>\n",
       "      <td>2022-03-30 20:22:23+00:00</td>\n",
       "    </tr>\n",
       "    <tr>\n",
       "      <th>15</th>\n",
       "      <td>989313110602235904</td>\n",
       "      <td>2022-03-13 22:11:54+00:00</td>\n",
       "    </tr>\n",
       "    <tr>\n",
       "      <th>16</th>\n",
       "      <td>36167088</td>\n",
       "      <td>2022-03-30 16:31:16+00:00</td>\n",
       "    </tr>\n",
       "    <tr>\n",
       "      <th>17</th>\n",
       "      <td>898324652</td>\n",
       "      <td>2022-01-19 03:18:01+00:00</td>\n",
       "    </tr>\n",
       "    <tr>\n",
       "      <th>18</th>\n",
       "      <td>17018470</td>\n",
       "      <td>2022-03-29 10:45:14+00:00</td>\n",
       "    </tr>\n",
       "    <tr>\n",
       "      <th>19</th>\n",
       "      <td>1428158156098572291</td>\n",
       "      <td>2022-01-12 19:18:28+00:00</td>\n",
       "    </tr>\n",
       "    <tr>\n",
       "      <th>20</th>\n",
       "      <td>1004065528871247872</td>\n",
       "      <td>2022-03-31 00:55:08+00:00</td>\n",
       "    </tr>\n",
       "    <tr>\n",
       "      <th>21</th>\n",
       "      <td>877629044828667905</td>\n",
       "      <td>2022-03-31 00:07:57+00:00</td>\n",
       "    </tr>\n",
       "    <tr>\n",
       "      <th>22</th>\n",
       "      <td>20280574</td>\n",
       "      <td>2022-02-01 17:57:14+00:00</td>\n",
       "    </tr>\n",
       "    <tr>\n",
       "      <th>23</th>\n",
       "      <td>3173246967</td>\n",
       "      <td>2022-02-22 12:50:00+00:00</td>\n",
       "    </tr>\n",
       "    <tr>\n",
       "      <th>24</th>\n",
       "      <td>21833509</td>\n",
       "      <td>2022-02-18 21:38:38+00:00</td>\n",
       "    </tr>\n",
       "    <tr>\n",
       "      <th>25</th>\n",
       "      <td>989320781799743488</td>\n",
       "      <td>2022-03-31 20:50:10+00:00</td>\n",
       "    </tr>\n",
       "    <tr>\n",
       "      <th>26</th>\n",
       "      <td>149197471</td>\n",
       "      <td>2022-04-01 03:52:00+00:00</td>\n",
       "    </tr>\n",
       "    <tr>\n",
       "      <th>27</th>\n",
       "      <td>19201304</td>\n",
       "      <td>2022-02-15 00:00:09+00:00</td>\n",
       "    </tr>\n",
       "    <tr>\n",
       "      <th>28</th>\n",
       "      <td>239666710</td>\n",
       "      <td>2022-03-15 23:33:49+00:00</td>\n",
       "    </tr>\n",
       "    <tr>\n",
       "      <th>29</th>\n",
       "      <td>142843687</td>\n",
       "      <td>2022-03-17 16:52:15+00:00</td>\n",
       "    </tr>\n",
       "    <tr>\n",
       "      <th>30</th>\n",
       "      <td>14596185</td>\n",
       "      <td>2022-03-12 01:16:50+00:00</td>\n",
       "    </tr>\n",
       "    <tr>\n",
       "      <th>31</th>\n",
       "      <td>2498871378</td>\n",
       "      <td>2022-03-16 12:05:46+00:00</td>\n",
       "    </tr>\n",
       "    <tr>\n",
       "      <th>32</th>\n",
       "      <td>1421182643375427584</td>\n",
       "      <td>2022-03-27 03:36:30+00:00</td>\n",
       "    </tr>\n",
       "    <tr>\n",
       "      <th>33</th>\n",
       "      <td>33919623</td>\n",
       "      <td>2022-01-06 21:23:18+00:00</td>\n",
       "    </tr>\n",
       "    <tr>\n",
       "      <th>34</th>\n",
       "      <td>323920783</td>\n",
       "      <td>2022-03-24 00:38:00+00:00</td>\n",
       "    </tr>\n",
       "    <tr>\n",
       "      <th>35</th>\n",
       "      <td>36740674</td>\n",
       "      <td>2022-03-07 20:01:14+00:00</td>\n",
       "    </tr>\n",
       "    <tr>\n",
       "      <th>36</th>\n",
       "      <td>257663572</td>\n",
       "      <td>2022-02-14 19:57:37+00:00</td>\n",
       "    </tr>\n",
       "    <tr>\n",
       "      <th>37</th>\n",
       "      <td>294118241</td>\n",
       "      <td>2022-03-11 19:57:19+00:00</td>\n",
       "    </tr>\n",
       "    <tr>\n",
       "      <th>38</th>\n",
       "      <td>38282048</td>\n",
       "      <td>2022-03-01 19:27:54+00:00</td>\n",
       "    </tr>\n",
       "    <tr>\n",
       "      <th>39</th>\n",
       "      <td>146569971</td>\n",
       "      <td>2022-03-31 20:00:11+00:00</td>\n",
       "    </tr>\n",
       "    <tr>\n",
       "      <th>40</th>\n",
       "      <td>2167134798</td>\n",
       "      <td>2022-03-15 01:10:49+00:00</td>\n",
       "    </tr>\n",
       "    <tr>\n",
       "      <th>41</th>\n",
       "      <td>553010243</td>\n",
       "      <td>2022-03-21 19:39:29+00:00</td>\n",
       "    </tr>\n",
       "    <tr>\n",
       "      <th>42</th>\n",
       "      <td>15850297</td>\n",
       "      <td>2022-03-18 16:15:05+00:00</td>\n",
       "    </tr>\n",
       "    <tr>\n",
       "      <th>43</th>\n",
       "      <td>43369337</td>\n",
       "      <td>2022-03-31 16:09:52+00:00</td>\n",
       "    </tr>\n",
       "    <tr>\n",
       "      <th>44</th>\n",
       "      <td>709986828066144257</td>\n",
       "      <td>2022-03-17 19:22:35+00:00</td>\n",
       "    </tr>\n",
       "  </tbody>\n",
       "</table>\n",
       "</div>"
      ],
      "text/plain": [
       "              author_id                last_tweet\n",
       "0              80483638 2022-03-30 15:33:56+00:00\n",
       "1    720959701651996673 2022-02-08 23:01:34+00:00\n",
       "2             169353953 2022-03-27 05:27:40+00:00\n",
       "3   1352311853263671296 2022-02-17 22:58:21+00:00\n",
       "4            4311670299 2022-02-05 14:19:36+00:00\n",
       "5             359528910 2022-02-01 02:22:22+00:00\n",
       "6              17146256 2021-12-25 16:40:26+00:00\n",
       "7   1047247402409840640 2021-12-28 20:52:12+00:00\n",
       "8             344350643 2022-01-25 21:37:47+00:00\n",
       "9             179226033 2022-02-25 00:17:42+00:00\n",
       "10   767945051787759616 2022-03-30 17:16:27+00:00\n",
       "11  1457177169407393795 2021-12-27 04:28:51+00:00\n",
       "12             26950458 2022-01-12 01:12:48+00:00\n",
       "13             17919393 2022-03-30 15:17:48+00:00\n",
       "14            620136960 2022-03-30 20:22:23+00:00\n",
       "15   989313110602235904 2022-03-13 22:11:54+00:00\n",
       "16             36167088 2022-03-30 16:31:16+00:00\n",
       "17            898324652 2022-01-19 03:18:01+00:00\n",
       "18             17018470 2022-03-29 10:45:14+00:00\n",
       "19  1428158156098572291 2022-01-12 19:18:28+00:00\n",
       "20  1004065528871247872 2022-03-31 00:55:08+00:00\n",
       "21   877629044828667905 2022-03-31 00:07:57+00:00\n",
       "22             20280574 2022-02-01 17:57:14+00:00\n",
       "23           3173246967 2022-02-22 12:50:00+00:00\n",
       "24             21833509 2022-02-18 21:38:38+00:00\n",
       "25   989320781799743488 2022-03-31 20:50:10+00:00\n",
       "26            149197471 2022-04-01 03:52:00+00:00\n",
       "27             19201304 2022-02-15 00:00:09+00:00\n",
       "28            239666710 2022-03-15 23:33:49+00:00\n",
       "29            142843687 2022-03-17 16:52:15+00:00\n",
       "30             14596185 2022-03-12 01:16:50+00:00\n",
       "31           2498871378 2022-03-16 12:05:46+00:00\n",
       "32  1421182643375427584 2022-03-27 03:36:30+00:00\n",
       "33             33919623 2022-01-06 21:23:18+00:00\n",
       "34            323920783 2022-03-24 00:38:00+00:00\n",
       "35             36740674 2022-03-07 20:01:14+00:00\n",
       "36            257663572 2022-02-14 19:57:37+00:00\n",
       "37            294118241 2022-03-11 19:57:19+00:00\n",
       "38             38282048 2022-03-01 19:27:54+00:00\n",
       "39            146569971 2022-03-31 20:00:11+00:00\n",
       "40           2167134798 2022-03-15 01:10:49+00:00\n",
       "41            553010243 2022-03-21 19:39:29+00:00\n",
       "42             15850297 2022-03-18 16:15:05+00:00\n",
       "43             43369337 2022-03-31 16:09:52+00:00\n",
       "44   709986828066144257 2022-03-17 19:22:35+00:00"
      ]
     },
     "execution_count": 195,
     "metadata": {},
     "output_type": "execute_result"
    }
   ],
   "source": [
    "sorted_filtered_users"
   ]
  },
  {
   "cell_type": "code",
   "execution_count": 200,
   "id": "15f8fdfc",
   "metadata": {},
   "outputs": [
    {
     "data": {
      "application/vnd.microsoft.datawrangler.viewer.v0+json": {
       "columns": [
        {
         "name": "index",
         "rawType": "int64",
         "type": "integer"
        },
        {
         "name": "rr_per_post",
         "rawType": "float64",
         "type": "float"
        },
        {
         "name": "author_id",
         "rawType": "object",
         "type": "string"
        },
        {
         "name": "last_tweet",
         "rawType": "datetime64[ns, UTC]",
         "type": "unknown"
        }
       ],
       "ref": "135226a8-3e1d-4c24-a04d-5daf67bef01d",
       "rows": [
        [
         "0",
         "0.7231920199501247",
         "80483638",
         "2022-03-30 15:33:56+00:00"
        ],
        [
         "1",
         "0.65625",
         "720959701651996673",
         "2022-02-08 23:01:34+00:00"
        ],
        [
         "2",
         "0.5714285714285714",
         "169353953",
         "2022-03-27 05:27:40+00:00"
        ],
        [
         "3",
         "0.5",
         "1352311853263671296",
         "2022-02-17 22:58:21+00:00"
        ],
        [
         "4",
         "0.5",
         "4311670299",
         "2022-02-05 14:19:36+00:00"
        ],
        [
         "5",
         "0.5",
         "359528910",
         "2022-02-01 02:22:22+00:00"
        ],
        [
         "6",
         "0.5",
         "17146256",
         "2021-12-25 16:40:26+00:00"
        ],
        [
         "7",
         "0.5",
         "1047247402409840640",
         "2021-12-28 20:52:12+00:00"
        ],
        [
         "8",
         "0.5",
         "344350643",
         "2022-01-25 21:37:47+00:00"
        ],
        [
         "9",
         "0.5",
         "179226033",
         "2022-02-25 00:17:42+00:00"
        ],
        [
         "10",
         "0.47058823529411764",
         "767945051787759616",
         "2022-03-30 17:16:27+00:00"
        ],
        [
         "11",
         "0.42857142857142855",
         "1457177169407393795",
         "2021-12-27 04:28:51+00:00"
        ],
        [
         "12",
         "0.4",
         "26950458",
         "2022-01-12 01:12:48+00:00"
        ],
        [
         "13",
         "0.36893203883495146",
         "17919393",
         "2022-03-30 15:17:48+00:00"
        ],
        [
         "14",
         "0.35",
         "620136960",
         "2022-03-30 20:22:23+00:00"
        ],
        [
         "15",
         "0.3333333333333333",
         "989313110602235904",
         "2022-03-13 22:11:54+00:00"
        ],
        [
         "16",
         "0.30057803468208094",
         "36167088",
         "2022-03-30 16:31:16+00:00"
        ],
        [
         "17",
         "0.2857142857142857",
         "898324652",
         "2022-01-19 03:18:01+00:00"
        ],
        [
         "18",
         "0.2857142857142857",
         "17018470",
         "2022-03-29 10:45:14+00:00"
        ],
        [
         "19",
         "0.25",
         "1428158156098572291",
         "2022-01-12 19:18:28+00:00"
        ],
        [
         "20",
         "0.25",
         "1004065528871247872",
         "2022-03-31 00:55:08+00:00"
        ],
        [
         "21",
         "0.21830985915492956",
         "877629044828667905",
         "2022-03-31 00:07:57+00:00"
        ],
        [
         "22",
         "0.21568627450980393",
         "20280574",
         "2022-02-01 17:57:14+00:00"
        ],
        [
         "23",
         "0.2",
         "3173246967",
         "2022-02-22 12:50:00+00:00"
        ],
        [
         "24",
         "0.2",
         "21833509",
         "2022-02-18 21:38:38+00:00"
        ],
        [
         "25",
         "0.2",
         "989320781799743488",
         "2022-03-31 20:50:10+00:00"
        ],
        [
         "26",
         "0.2",
         "149197471",
         "2022-04-01 03:52:00+00:00"
        ],
        [
         "27",
         "0.2",
         "19201304",
         "2022-02-15 00:00:09+00:00"
        ],
        [
         "28",
         "0.2",
         "239666710",
         "2022-03-15 23:33:49+00:00"
        ],
        [
         "29",
         "0.1935483870967742",
         "142843687",
         "2022-03-17 16:52:15+00:00"
        ],
        [
         "30",
         "0.16666666666666666",
         "14596185",
         "2022-03-12 01:16:50+00:00"
        ],
        [
         "31",
         "0.16666666666666666",
         "2498871378",
         "2022-03-16 12:05:46+00:00"
        ],
        [
         "32",
         "0.16666666666666666",
         "1421182643375427584",
         "2022-03-27 03:36:30+00:00"
        ],
        [
         "33",
         "0.16666666666666666",
         "33919623",
         "2022-01-06 21:23:18+00:00"
        ],
        [
         "34",
         "0.16363636363636364",
         "323920783",
         "2022-03-24 00:38:00+00:00"
        ],
        [
         "35",
         "0.1623931623931624",
         "36740674",
         "2022-03-07 20:01:14+00:00"
        ],
        [
         "36",
         "0.15384615384615385",
         "257663572",
         "2022-02-14 19:57:37+00:00"
        ],
        [
         "37",
         "0.14285714285714285",
         "294118241",
         "2022-03-11 19:57:19+00:00"
        ],
        [
         "38",
         "0.14285714285714285",
         "38282048",
         "2022-03-01 19:27:54+00:00"
        ],
        [
         "39",
         "0.13034188034188035",
         "146569971",
         "2022-03-31 20:00:11+00:00"
        ],
        [
         "40",
         "0.125",
         "2167134798",
         "2022-03-15 01:10:49+00:00"
        ],
        [
         "41",
         "0.1111111111111111",
         "553010243",
         "2022-03-21 19:39:29+00:00"
        ],
        [
         "42",
         "0.1111111111111111",
         "15850297",
         "2022-03-18 16:15:05+00:00"
        ],
        [
         "43",
         "0.10638297872340426",
         "43369337",
         "2022-03-31 16:09:52+00:00"
        ],
        [
         "44",
         "0.10526315789473684",
         "709986828066144257",
         "2022-03-17 19:22:35+00:00"
        ]
       ],
       "shape": {
        "columns": 3,
        "rows": 45
       }
      },
      "text/html": [
       "<div>\n",
       "<style scoped>\n",
       "    .dataframe tbody tr th:only-of-type {\n",
       "        vertical-align: middle;\n",
       "    }\n",
       "\n",
       "    .dataframe tbody tr th {\n",
       "        vertical-align: top;\n",
       "    }\n",
       "\n",
       "    .dataframe thead th {\n",
       "        text-align: right;\n",
       "    }\n",
       "</style>\n",
       "<table border=\"1\" class=\"dataframe\">\n",
       "  <thead>\n",
       "    <tr style=\"text-align: right;\">\n",
       "      <th></th>\n",
       "      <th>rr_per_post</th>\n",
       "      <th>author_id</th>\n",
       "      <th>last_tweet</th>\n",
       "    </tr>\n",
       "  </thead>\n",
       "  <tbody>\n",
       "    <tr>\n",
       "      <th>0</th>\n",
       "      <td>0.723192</td>\n",
       "      <td>80483638</td>\n",
       "      <td>2022-03-30 15:33:56+00:00</td>\n",
       "    </tr>\n",
       "    <tr>\n",
       "      <th>1</th>\n",
       "      <td>0.656250</td>\n",
       "      <td>720959701651996673</td>\n",
       "      <td>2022-02-08 23:01:34+00:00</td>\n",
       "    </tr>\n",
       "    <tr>\n",
       "      <th>2</th>\n",
       "      <td>0.571429</td>\n",
       "      <td>169353953</td>\n",
       "      <td>2022-03-27 05:27:40+00:00</td>\n",
       "    </tr>\n",
       "    <tr>\n",
       "      <th>3</th>\n",
       "      <td>0.500000</td>\n",
       "      <td>1352311853263671296</td>\n",
       "      <td>2022-02-17 22:58:21+00:00</td>\n",
       "    </tr>\n",
       "    <tr>\n",
       "      <th>4</th>\n",
       "      <td>0.500000</td>\n",
       "      <td>4311670299</td>\n",
       "      <td>2022-02-05 14:19:36+00:00</td>\n",
       "    </tr>\n",
       "    <tr>\n",
       "      <th>5</th>\n",
       "      <td>0.500000</td>\n",
       "      <td>359528910</td>\n",
       "      <td>2022-02-01 02:22:22+00:00</td>\n",
       "    </tr>\n",
       "    <tr>\n",
       "      <th>6</th>\n",
       "      <td>0.500000</td>\n",
       "      <td>17146256</td>\n",
       "      <td>2021-12-25 16:40:26+00:00</td>\n",
       "    </tr>\n",
       "    <tr>\n",
       "      <th>7</th>\n",
       "      <td>0.500000</td>\n",
       "      <td>1047247402409840640</td>\n",
       "      <td>2021-12-28 20:52:12+00:00</td>\n",
       "    </tr>\n",
       "    <tr>\n",
       "      <th>8</th>\n",
       "      <td>0.500000</td>\n",
       "      <td>344350643</td>\n",
       "      <td>2022-01-25 21:37:47+00:00</td>\n",
       "    </tr>\n",
       "    <tr>\n",
       "      <th>9</th>\n",
       "      <td>0.500000</td>\n",
       "      <td>179226033</td>\n",
       "      <td>2022-02-25 00:17:42+00:00</td>\n",
       "    </tr>\n",
       "    <tr>\n",
       "      <th>10</th>\n",
       "      <td>0.470588</td>\n",
       "      <td>767945051787759616</td>\n",
       "      <td>2022-03-30 17:16:27+00:00</td>\n",
       "    </tr>\n",
       "    <tr>\n",
       "      <th>11</th>\n",
       "      <td>0.428571</td>\n",
       "      <td>1457177169407393795</td>\n",
       "      <td>2021-12-27 04:28:51+00:00</td>\n",
       "    </tr>\n",
       "    <tr>\n",
       "      <th>12</th>\n",
       "      <td>0.400000</td>\n",
       "      <td>26950458</td>\n",
       "      <td>2022-01-12 01:12:48+00:00</td>\n",
       "    </tr>\n",
       "    <tr>\n",
       "      <th>13</th>\n",
       "      <td>0.368932</td>\n",
       "      <td>17919393</td>\n",
       "      <td>2022-03-30 15:17:48+00:00</td>\n",
       "    </tr>\n",
       "    <tr>\n",
       "      <th>14</th>\n",
       "      <td>0.350000</td>\n",
       "      <td>620136960</td>\n",
       "      <td>2022-03-30 20:22:23+00:00</td>\n",
       "    </tr>\n",
       "    <tr>\n",
       "      <th>15</th>\n",
       "      <td>0.333333</td>\n",
       "      <td>989313110602235904</td>\n",
       "      <td>2022-03-13 22:11:54+00:00</td>\n",
       "    </tr>\n",
       "    <tr>\n",
       "      <th>16</th>\n",
       "      <td>0.300578</td>\n",
       "      <td>36167088</td>\n",
       "      <td>2022-03-30 16:31:16+00:00</td>\n",
       "    </tr>\n",
       "    <tr>\n",
       "      <th>17</th>\n",
       "      <td>0.285714</td>\n",
       "      <td>898324652</td>\n",
       "      <td>2022-01-19 03:18:01+00:00</td>\n",
       "    </tr>\n",
       "    <tr>\n",
       "      <th>18</th>\n",
       "      <td>0.285714</td>\n",
       "      <td>17018470</td>\n",
       "      <td>2022-03-29 10:45:14+00:00</td>\n",
       "    </tr>\n",
       "    <tr>\n",
       "      <th>19</th>\n",
       "      <td>0.250000</td>\n",
       "      <td>1428158156098572291</td>\n",
       "      <td>2022-01-12 19:18:28+00:00</td>\n",
       "    </tr>\n",
       "    <tr>\n",
       "      <th>20</th>\n",
       "      <td>0.250000</td>\n",
       "      <td>1004065528871247872</td>\n",
       "      <td>2022-03-31 00:55:08+00:00</td>\n",
       "    </tr>\n",
       "    <tr>\n",
       "      <th>21</th>\n",
       "      <td>0.218310</td>\n",
       "      <td>877629044828667905</td>\n",
       "      <td>2022-03-31 00:07:57+00:00</td>\n",
       "    </tr>\n",
       "    <tr>\n",
       "      <th>22</th>\n",
       "      <td>0.215686</td>\n",
       "      <td>20280574</td>\n",
       "      <td>2022-02-01 17:57:14+00:00</td>\n",
       "    </tr>\n",
       "    <tr>\n",
       "      <th>23</th>\n",
       "      <td>0.200000</td>\n",
       "      <td>3173246967</td>\n",
       "      <td>2022-02-22 12:50:00+00:00</td>\n",
       "    </tr>\n",
       "    <tr>\n",
       "      <th>24</th>\n",
       "      <td>0.200000</td>\n",
       "      <td>21833509</td>\n",
       "      <td>2022-02-18 21:38:38+00:00</td>\n",
       "    </tr>\n",
       "    <tr>\n",
       "      <th>25</th>\n",
       "      <td>0.200000</td>\n",
       "      <td>989320781799743488</td>\n",
       "      <td>2022-03-31 20:50:10+00:00</td>\n",
       "    </tr>\n",
       "    <tr>\n",
       "      <th>26</th>\n",
       "      <td>0.200000</td>\n",
       "      <td>149197471</td>\n",
       "      <td>2022-04-01 03:52:00+00:00</td>\n",
       "    </tr>\n",
       "    <tr>\n",
       "      <th>27</th>\n",
       "      <td>0.200000</td>\n",
       "      <td>19201304</td>\n",
       "      <td>2022-02-15 00:00:09+00:00</td>\n",
       "    </tr>\n",
       "    <tr>\n",
       "      <th>28</th>\n",
       "      <td>0.200000</td>\n",
       "      <td>239666710</td>\n",
       "      <td>2022-03-15 23:33:49+00:00</td>\n",
       "    </tr>\n",
       "    <tr>\n",
       "      <th>29</th>\n",
       "      <td>0.193548</td>\n",
       "      <td>142843687</td>\n",
       "      <td>2022-03-17 16:52:15+00:00</td>\n",
       "    </tr>\n",
       "    <tr>\n",
       "      <th>30</th>\n",
       "      <td>0.166667</td>\n",
       "      <td>14596185</td>\n",
       "      <td>2022-03-12 01:16:50+00:00</td>\n",
       "    </tr>\n",
       "    <tr>\n",
       "      <th>31</th>\n",
       "      <td>0.166667</td>\n",
       "      <td>2498871378</td>\n",
       "      <td>2022-03-16 12:05:46+00:00</td>\n",
       "    </tr>\n",
       "    <tr>\n",
       "      <th>32</th>\n",
       "      <td>0.166667</td>\n",
       "      <td>1421182643375427584</td>\n",
       "      <td>2022-03-27 03:36:30+00:00</td>\n",
       "    </tr>\n",
       "    <tr>\n",
       "      <th>33</th>\n",
       "      <td>0.166667</td>\n",
       "      <td>33919623</td>\n",
       "      <td>2022-01-06 21:23:18+00:00</td>\n",
       "    </tr>\n",
       "    <tr>\n",
       "      <th>34</th>\n",
       "      <td>0.163636</td>\n",
       "      <td>323920783</td>\n",
       "      <td>2022-03-24 00:38:00+00:00</td>\n",
       "    </tr>\n",
       "    <tr>\n",
       "      <th>35</th>\n",
       "      <td>0.162393</td>\n",
       "      <td>36740674</td>\n",
       "      <td>2022-03-07 20:01:14+00:00</td>\n",
       "    </tr>\n",
       "    <tr>\n",
       "      <th>36</th>\n",
       "      <td>0.153846</td>\n",
       "      <td>257663572</td>\n",
       "      <td>2022-02-14 19:57:37+00:00</td>\n",
       "    </tr>\n",
       "    <tr>\n",
       "      <th>37</th>\n",
       "      <td>0.142857</td>\n",
       "      <td>294118241</td>\n",
       "      <td>2022-03-11 19:57:19+00:00</td>\n",
       "    </tr>\n",
       "    <tr>\n",
       "      <th>38</th>\n",
       "      <td>0.142857</td>\n",
       "      <td>38282048</td>\n",
       "      <td>2022-03-01 19:27:54+00:00</td>\n",
       "    </tr>\n",
       "    <tr>\n",
       "      <th>39</th>\n",
       "      <td>0.130342</td>\n",
       "      <td>146569971</td>\n",
       "      <td>2022-03-31 20:00:11+00:00</td>\n",
       "    </tr>\n",
       "    <tr>\n",
       "      <th>40</th>\n",
       "      <td>0.125000</td>\n",
       "      <td>2167134798</td>\n",
       "      <td>2022-03-15 01:10:49+00:00</td>\n",
       "    </tr>\n",
       "    <tr>\n",
       "      <th>41</th>\n",
       "      <td>0.111111</td>\n",
       "      <td>553010243</td>\n",
       "      <td>2022-03-21 19:39:29+00:00</td>\n",
       "    </tr>\n",
       "    <tr>\n",
       "      <th>42</th>\n",
       "      <td>0.111111</td>\n",
       "      <td>15850297</td>\n",
       "      <td>2022-03-18 16:15:05+00:00</td>\n",
       "    </tr>\n",
       "    <tr>\n",
       "      <th>43</th>\n",
       "      <td>0.106383</td>\n",
       "      <td>43369337</td>\n",
       "      <td>2022-03-31 16:09:52+00:00</td>\n",
       "    </tr>\n",
       "    <tr>\n",
       "      <th>44</th>\n",
       "      <td>0.105263</td>\n",
       "      <td>709986828066144257</td>\n",
       "      <td>2022-03-17 19:22:35+00:00</td>\n",
       "    </tr>\n",
       "  </tbody>\n",
       "</table>\n",
       "</div>"
      ],
      "text/plain": [
       "    rr_per_post            author_id                last_tweet\n",
       "0      0.723192             80483638 2022-03-30 15:33:56+00:00\n",
       "1      0.656250   720959701651996673 2022-02-08 23:01:34+00:00\n",
       "2      0.571429            169353953 2022-03-27 05:27:40+00:00\n",
       "3      0.500000  1352311853263671296 2022-02-17 22:58:21+00:00\n",
       "4      0.500000           4311670299 2022-02-05 14:19:36+00:00\n",
       "5      0.500000            359528910 2022-02-01 02:22:22+00:00\n",
       "6      0.500000             17146256 2021-12-25 16:40:26+00:00\n",
       "7      0.500000  1047247402409840640 2021-12-28 20:52:12+00:00\n",
       "8      0.500000            344350643 2022-01-25 21:37:47+00:00\n",
       "9      0.500000            179226033 2022-02-25 00:17:42+00:00\n",
       "10     0.470588   767945051787759616 2022-03-30 17:16:27+00:00\n",
       "11     0.428571  1457177169407393795 2021-12-27 04:28:51+00:00\n",
       "12     0.400000             26950458 2022-01-12 01:12:48+00:00\n",
       "13     0.368932             17919393 2022-03-30 15:17:48+00:00\n",
       "14     0.350000            620136960 2022-03-30 20:22:23+00:00\n",
       "15     0.333333   989313110602235904 2022-03-13 22:11:54+00:00\n",
       "16     0.300578             36167088 2022-03-30 16:31:16+00:00\n",
       "17     0.285714            898324652 2022-01-19 03:18:01+00:00\n",
       "18     0.285714             17018470 2022-03-29 10:45:14+00:00\n",
       "19     0.250000  1428158156098572291 2022-01-12 19:18:28+00:00\n",
       "20     0.250000  1004065528871247872 2022-03-31 00:55:08+00:00\n",
       "21     0.218310   877629044828667905 2022-03-31 00:07:57+00:00\n",
       "22     0.215686             20280574 2022-02-01 17:57:14+00:00\n",
       "23     0.200000           3173246967 2022-02-22 12:50:00+00:00\n",
       "24     0.200000             21833509 2022-02-18 21:38:38+00:00\n",
       "25     0.200000   989320781799743488 2022-03-31 20:50:10+00:00\n",
       "26     0.200000            149197471 2022-04-01 03:52:00+00:00\n",
       "27     0.200000             19201304 2022-02-15 00:00:09+00:00\n",
       "28     0.200000            239666710 2022-03-15 23:33:49+00:00\n",
       "29     0.193548            142843687 2022-03-17 16:52:15+00:00\n",
       "30     0.166667             14596185 2022-03-12 01:16:50+00:00\n",
       "31     0.166667           2498871378 2022-03-16 12:05:46+00:00\n",
       "32     0.166667  1421182643375427584 2022-03-27 03:36:30+00:00\n",
       "33     0.166667             33919623 2022-01-06 21:23:18+00:00\n",
       "34     0.163636            323920783 2022-03-24 00:38:00+00:00\n",
       "35     0.162393             36740674 2022-03-07 20:01:14+00:00\n",
       "36     0.153846            257663572 2022-02-14 19:57:37+00:00\n",
       "37     0.142857            294118241 2022-03-11 19:57:19+00:00\n",
       "38     0.142857             38282048 2022-03-01 19:27:54+00:00\n",
       "39     0.130342            146569971 2022-03-31 20:00:11+00:00\n",
       "40     0.125000           2167134798 2022-03-15 01:10:49+00:00\n",
       "41     0.111111            553010243 2022-03-21 19:39:29+00:00\n",
       "42     0.111111             15850297 2022-03-18 16:15:05+00:00\n",
       "43     0.106383             43369337 2022-03-31 16:09:52+00:00\n",
       "44     0.105263   709986828066144257 2022-03-17 19:22:35+00:00"
      ]
     },
     "execution_count": 200,
     "metadata": {},
     "output_type": "execute_result"
    }
   ],
   "source": [
    "author_rrpp_data = pd.merge(sorted_users_rrpp, sorted_filtered_users, left_index=True, right_on='author_id').sort_values(by='rr_per_post', ascending=False)\n",
    "author_rrpp_data"
   ]
  },
  {
   "cell_type": "code",
   "execution_count": 205,
   "id": "87947ddb",
   "metadata": {},
   "outputs": [
    {
     "data": {
      "application/vnd.microsoft.datawrangler.viewer.v0+json": {
       "columns": [
        {
         "name": "index",
         "rawType": "int64",
         "type": "integer"
        },
        {
         "name": "created_at",
         "rawType": "datetime64[ns, UTC]",
         "type": "unknown"
        },
        {
         "name": "count",
         "rawType": "int64",
         "type": "integer"
        },
        {
         "name": "timeline_norm",
         "rawType": "float64",
         "type": "float"
        }
       ],
       "ref": "a83f9d34-59aa-426f-b918-722f87894dee",
       "rows": [
        [
         "0",
         "2021-12-01 00:00:00+00:00",
         "412",
         "0.0"
        ],
        [
         "1",
         "2021-12-02 00:00:00+00:00",
         "397",
         "0.008264462809917356"
        ],
        [
         "2",
         "2021-12-03 00:00:00+00:00",
         "351",
         "0.01652892561983471"
        ],
        [
         "3",
         "2021-12-04 00:00:00+00:00",
         "232",
         "0.024793388429752067"
        ],
        [
         "4",
         "2021-12-05 00:00:00+00:00",
         "159",
         "0.03305785123966942"
        ],
        [
         "5",
         "2021-12-06 00:00:00+00:00",
         "299",
         "0.04132231404958678"
        ],
        [
         "6",
         "2021-12-07 00:00:00+00:00",
         "318",
         "0.049586776859504134"
        ],
        [
         "7",
         "2021-12-08 00:00:00+00:00",
         "300",
         "0.05785123966942149"
        ],
        [
         "8",
         "2021-12-09 00:00:00+00:00",
         "360",
         "0.06611570247933884"
        ],
        [
         "9",
         "2021-12-10 00:00:00+00:00",
         "301",
         "0.0743801652892562"
        ],
        [
         "10",
         "2021-12-11 00:00:00+00:00",
         "170",
         "0.08264462809917356"
        ],
        [
         "11",
         "2021-12-12 00:00:00+00:00",
         "205",
         "0.09090909090909091"
        ],
        [
         "12",
         "2021-12-13 00:00:00+00:00",
         "308",
         "0.09917355371900827"
        ],
        [
         "13",
         "2021-12-14 00:00:00+00:00",
         "313",
         "0.10743801652892562"
        ],
        [
         "14",
         "2021-12-15 00:00:00+00:00",
         "484",
         "0.11570247933884298"
        ],
        [
         "15",
         "2021-12-16 00:00:00+00:00",
         "401",
         "0.12396694214876033"
        ],
        [
         "16",
         "2021-12-17 00:00:00+00:00",
         "462",
         "0.1322314049586777"
        ],
        [
         "17",
         "2021-12-18 00:00:00+00:00",
         "321",
         "0.14049586776859505"
        ],
        [
         "18",
         "2021-12-19 00:00:00+00:00",
         "308",
         "0.1487603305785124"
        ],
        [
         "19",
         "2021-12-20 00:00:00+00:00",
         "433",
         "0.15702479338842976"
        ],
        [
         "20",
         "2021-12-21 00:00:00+00:00",
         "554",
         "0.1652892561983471"
        ],
        [
         "21",
         "2021-12-22 00:00:00+00:00",
         "460",
         "0.17355371900826447"
        ],
        [
         "22",
         "2021-12-23 00:00:00+00:00",
         "468",
         "0.18181818181818182"
        ],
        [
         "23",
         "2021-12-24 00:00:00+00:00",
         "334",
         "0.19008264462809918"
        ],
        [
         "24",
         "2021-12-25 00:00:00+00:00",
         "211",
         "0.19834710743801653"
        ],
        [
         "25",
         "2021-12-26 00:00:00+00:00",
         "221",
         "0.2066115702479339"
        ],
        [
         "26",
         "2021-12-27 00:00:00+00:00",
         "355",
         "0.21487603305785125"
        ],
        [
         "27",
         "2021-12-28 00:00:00+00:00",
         "507",
         "0.2231404958677686"
        ],
        [
         "28",
         "2021-12-29 00:00:00+00:00",
         "522",
         "0.23140495867768596"
        ],
        [
         "29",
         "2021-12-30 00:00:00+00:00",
         "680",
         "0.2396694214876033"
        ],
        [
         "30",
         "2021-12-31 00:00:00+00:00",
         "454",
         "0.24793388429752067"
        ],
        [
         "31",
         "2022-01-01 00:00:00+00:00",
         "269",
         "0.256198347107438"
        ],
        [
         "32",
         "2022-01-02 00:00:00+00:00",
         "306",
         "0.2644628099173554"
        ],
        [
         "33",
         "2022-01-03 00:00:00+00:00",
         "341",
         "0.2727272727272727"
        ],
        [
         "34",
         "2022-01-04 00:00:00+00:00",
         "543",
         "0.2809917355371901"
        ],
        [
         "35",
         "2022-01-05 00:00:00+00:00",
         "400",
         "0.2892561983471074"
        ],
        [
         "36",
         "2022-01-06 00:00:00+00:00",
         "403",
         "0.2975206611570248"
        ],
        [
         "37",
         "2022-01-07 00:00:00+00:00",
         "448",
         "0.30578512396694213"
        ],
        [
         "38",
         "2022-01-08 00:00:00+00:00",
         "434",
         "0.3140495867768595"
        ],
        [
         "39",
         "2022-01-09 00:00:00+00:00",
         "300",
         "0.32231404958677684"
        ],
        [
         "40",
         "2022-01-10 00:00:00+00:00",
         "370",
         "0.3305785123966942"
        ],
        [
         "41",
         "2022-01-11 00:00:00+00:00",
         "403",
         "0.33884297520661155"
        ],
        [
         "42",
         "2022-01-12 00:00:00+00:00",
         "416",
         "0.34710743801652894"
        ],
        [
         "43",
         "2022-01-13 00:00:00+00:00",
         "501",
         "0.35537190082644626"
        ],
        [
         "44",
         "2022-01-14 00:00:00+00:00",
         "313",
         "0.36363636363636365"
        ],
        [
         "45",
         "2022-01-15 00:00:00+00:00",
         "283",
         "0.371900826446281"
        ],
        [
         "46",
         "2022-01-16 00:00:00+00:00",
         "209",
         "0.38016528925619836"
        ],
        [
         "47",
         "2022-01-17 00:00:00+00:00",
         "315",
         "0.3884297520661157"
        ],
        [
         "48",
         "2022-01-18 00:00:00+00:00",
         "406",
         "0.39669421487603307"
        ],
        [
         "49",
         "2022-01-19 00:00:00+00:00",
         "429",
         "0.4049586776859504"
        ]
       ],
       "shape": {
        "columns": 3,
        "rows": 122
       }
      },
      "text/html": [
       "<div>\n",
       "<style scoped>\n",
       "    .dataframe tbody tr th:only-of-type {\n",
       "        vertical-align: middle;\n",
       "    }\n",
       "\n",
       "    .dataframe tbody tr th {\n",
       "        vertical-align: top;\n",
       "    }\n",
       "\n",
       "    .dataframe thead th {\n",
       "        text-align: right;\n",
       "    }\n",
       "</style>\n",
       "<table border=\"1\" class=\"dataframe\">\n",
       "  <thead>\n",
       "    <tr style=\"text-align: right;\">\n",
       "      <th></th>\n",
       "      <th>created_at</th>\n",
       "      <th>count</th>\n",
       "      <th>timeline_norm</th>\n",
       "    </tr>\n",
       "  </thead>\n",
       "  <tbody>\n",
       "    <tr>\n",
       "      <th>0</th>\n",
       "      <td>2021-12-01 00:00:00+00:00</td>\n",
       "      <td>412</td>\n",
       "      <td>0.000000</td>\n",
       "    </tr>\n",
       "    <tr>\n",
       "      <th>1</th>\n",
       "      <td>2021-12-02 00:00:00+00:00</td>\n",
       "      <td>397</td>\n",
       "      <td>0.008264</td>\n",
       "    </tr>\n",
       "    <tr>\n",
       "      <th>2</th>\n",
       "      <td>2021-12-03 00:00:00+00:00</td>\n",
       "      <td>351</td>\n",
       "      <td>0.016529</td>\n",
       "    </tr>\n",
       "    <tr>\n",
       "      <th>3</th>\n",
       "      <td>2021-12-04 00:00:00+00:00</td>\n",
       "      <td>232</td>\n",
       "      <td>0.024793</td>\n",
       "    </tr>\n",
       "    <tr>\n",
       "      <th>4</th>\n",
       "      <td>2021-12-05 00:00:00+00:00</td>\n",
       "      <td>159</td>\n",
       "      <td>0.033058</td>\n",
       "    </tr>\n",
       "    <tr>\n",
       "      <th>...</th>\n",
       "      <td>...</td>\n",
       "      <td>...</td>\n",
       "      <td>...</td>\n",
       "    </tr>\n",
       "    <tr>\n",
       "      <th>117</th>\n",
       "      <td>2022-03-28 00:00:00+00:00</td>\n",
       "      <td>138</td>\n",
       "      <td>0.966942</td>\n",
       "    </tr>\n",
       "    <tr>\n",
       "      <th>118</th>\n",
       "      <td>2022-03-29 00:00:00+00:00</td>\n",
       "      <td>182</td>\n",
       "      <td>0.975207</td>\n",
       "    </tr>\n",
       "    <tr>\n",
       "      <th>119</th>\n",
       "      <td>2022-03-30 00:00:00+00:00</td>\n",
       "      <td>155</td>\n",
       "      <td>0.983471</td>\n",
       "    </tr>\n",
       "    <tr>\n",
       "      <th>120</th>\n",
       "      <td>2022-03-31 00:00:00+00:00</td>\n",
       "      <td>177</td>\n",
       "      <td>0.991736</td>\n",
       "    </tr>\n",
       "    <tr>\n",
       "      <th>121</th>\n",
       "      <td>2022-04-01 00:00:00+00:00</td>\n",
       "      <td>35</td>\n",
       "      <td>1.000000</td>\n",
       "    </tr>\n",
       "  </tbody>\n",
       "</table>\n",
       "<p>122 rows × 3 columns</p>\n",
       "</div>"
      ],
      "text/plain": [
       "                   created_at  count  timeline_norm\n",
       "0   2021-12-01 00:00:00+00:00    412       0.000000\n",
       "1   2021-12-02 00:00:00+00:00    397       0.008264\n",
       "2   2021-12-03 00:00:00+00:00    351       0.016529\n",
       "3   2021-12-04 00:00:00+00:00    232       0.024793\n",
       "4   2021-12-05 00:00:00+00:00    159       0.033058\n",
       "..                        ...    ...            ...\n",
       "117 2022-03-28 00:00:00+00:00    138       0.966942\n",
       "118 2022-03-29 00:00:00+00:00    182       0.975207\n",
       "119 2022-03-30 00:00:00+00:00    155       0.983471\n",
       "120 2022-03-31 00:00:00+00:00    177       0.991736\n",
       "121 2022-04-01 00:00:00+00:00     35       1.000000\n",
       "\n",
       "[122 rows x 3 columns]"
      ]
     },
     "execution_count": 205,
     "metadata": {},
     "output_type": "execute_result"
    }
   ],
   "source": [
    "date_min = date_posts[\"created_at\"].min()\n",
    "date_max = date_posts[\"created_at\"].max()\n",
    "date_posts[\"timeline_norm\"] = (date_posts[\"created_at\"] - date_min) / (date_max - date_min)\n",
    "date_posts"
   ]
  },
  {
   "cell_type": "code",
   "execution_count": 207,
   "id": "a1918028",
   "metadata": {},
   "outputs": [
    {
     "data": {
      "application/vnd.microsoft.datawrangler.viewer.v0+json": {
       "columns": [
        {
         "name": "index",
         "rawType": "int64",
         "type": "integer"
        },
        {
         "name": "rr_per_post",
         "rawType": "float64",
         "type": "float"
        },
        {
         "name": "author_id",
         "rawType": "object",
         "type": "string"
        },
        {
         "name": "last_tweet",
         "rawType": "datetime64[ns, UTC]",
         "type": "unknown"
        },
        {
         "name": "last_tweet_norm",
         "rawType": "float64",
         "type": "float"
        },
        {
         "name": "timeline_score",
         "rawType": "float64",
         "type": "float"
        }
       ],
       "ref": "e2ddaf56-27bb-4d77-85bc-3d6180e76da2",
       "rows": [
        [
         "0",
         "0.7231920199501247",
         "80483638",
         "2022-03-30 15:33:56+00:00",
         "0.9888311141720233",
         "0.7151147708475979"
        ],
        [
         "1",
         "0.65625",
         "720959701651996673",
         "2022-02-08 23:01:34+00:00",
         "0.578177035506581",
         "0.37942867955119375"
        ],
        [
         "2",
         "0.5714285714285714",
         "169353953",
         "2022-03-27 05:27:40+00:00",
         "0.9605582338536884",
         "0.5488904193449647"
        ],
        [
         "3",
         "0.5",
         "1352311853263671296",
         "2022-02-17 22:58:21+00:00",
         "0.6525387396694214",
         "0.3262693698347107"
        ],
        [
         "4",
         "0.5",
         "4311670299",
         "2022-02-05 14:19:36+00:00",
         "0.5503879706152434",
         "0.2751939853076217"
        ],
        [
         "5",
         "0.5",
         "359528910",
         "2022-02-01 02:22:22+00:00",
         "0.5132137664524028",
         "0.2566068832262014"
        ],
        [
         "6",
         "0.5",
         "17146256",
         "2021-12-25 16:40:26+00:00",
         "0.20408880471380472",
         "0.10204440235690236"
        ],
        [
         "7",
         "0.5",
         "1047247402409840640",
         "2021-12-28 20:52:12+00:00",
         "0.2303271349862259",
         "0.11516356749311295"
        ],
        [
         "8",
         "0.5",
         "344350643",
         "2022-01-25 21:37:47+00:00",
         "0.4619937059993878",
         "0.2309968529996939"
        ],
        [
         "9",
         "0.5",
         "179226033",
         "2022-02-25 00:17:42+00:00",
         "0.7108453856749312",
         "0.3554226928374656"
        ],
        [
         "10",
         "0.47058823529411764",
         "767945051787759616",
         "2022-03-30 17:16:27+00:00",
         "0.9894194788797062",
         "0.46560916653162643"
        ],
        [
         "11",
         "0.42857142857142855",
         "1457177169407393795",
         "2021-12-27 04:28:51+00:00",
         "0.21641901974288338",
         "0.09275100846123573"
        ],
        [
         "12",
         "0.4",
         "26950458",
         "2022-01-12 01:12:48+00:00",
         "0.3475252525252525",
         "0.139010101010101"
        ],
        [
         "13",
         "0.36893203883495146",
         "17919393",
         "2022-03-30 15:17:48+00:00",
         "0.9887385215794307",
         "0.364777318640955"
        ],
        [
         "14",
         "0.35",
         "620136960",
         "2022-03-30 20:22:23+00:00",
         "0.9904865893786349",
         "0.3466703062825222"
        ],
        [
         "15",
         "0.3333333333333333",
         "989313110602235904",
         "2022-03-13 22:11:54+00:00",
         "0.8506192607897153",
         "0.28353975359657174"
        ],
        [
         "16",
         "0.30057803468208094",
         "36167088",
         "2022-03-30 16:31:16+00:00",
         "0.989160162228344",
         "0.297319817548404"
        ],
        [
         "17",
         "0.2857142857142857",
         "898324652",
         "2022-01-19 03:18:01+00:00",
         "0.4060951369758188",
         "0.11602718199309107"
        ],
        [
         "18",
         "0.2857142857142857",
         "17018470",
         "2022-03-29 10:45:14+00:00",
         "0.9789097413529232",
         "0.2796884975294066"
        ],
        [
         "19",
         "0.25",
         "1428158156098572291",
         "2022-01-12 19:18:28+00:00",
         "0.35375612182430366",
         "0.08843903045607591"
        ],
        [
         "20",
         "0.25",
         "1004065528871247872",
         "2022-03-31 00:55:08+00:00",
         "0.9920519589837772",
         "0.2480129897459443"
        ],
        [
         "21",
         "0.21830985915492956",
         "877629044828667905",
         "2022-03-31 00:07:57+00:00",
         "0.9917811639118457",
         "0.21651560620610713"
        ],
        [
         "22",
         "0.21568627450980393",
         "20280574",
         "2022-02-01 17:57:14+00:00",
         "0.5185791628405265",
         "0.11185040767148612"
        ],
        [
         "23",
         "0.2",
         "3173246967",
         "2022-02-22 12:50:00+00:00",
         "0.6903696051423324",
         "0.13807392102846647"
        ],
        [
         "24",
         "0.2",
         "21833509",
         "2022-02-18 21:38:38+00:00",
         "0.6603456917661463",
         "0.13206913835322928"
        ],
        [
         "25",
         "0.2",
         "989320781799743488",
         "2022-03-31 20:50:10+00:00",
         "0.9989105065809611",
         "0.19978210131619223"
        ],
        [
         "26",
         "0.2",
         "149197471",
         "2022-04-01 03:52:00+00:00",
         "1.0013314967860423",
         "0.20026629935720847"
        ],
        [
         "27",
         "0.2",
         "19201304",
         "2022-02-15 00:00:09+00:00",
         "0.6281000344352617",
         "0.12562000688705235"
        ],
        [
         "28",
         "0.2",
         "239666710",
         "2022-03-15 23:33:49+00:00",
         "0.8676183233853688",
         "0.17352366467707378"
        ],
        [
         "29",
         "0.1935483870967742",
         "142843687",
         "2022-03-17 16:52:15+00:00",
         "0.8818425734618917",
         "0.17067920776681775"
        ],
        [
         "30",
         "0.16666666666666666",
         "14596185",
         "2022-03-12 01:16:50+00:00",
         "0.8351517064585247",
         "0.13919195107642077"
        ],
        [
         "31",
         "0.16666666666666666",
         "2498871378",
         "2022-03-16 12:05:46+00:00",
         "0.8719339225589225",
         "0.14532232042648707"
        ],
        [
         "32",
         "0.16666666666666666",
         "1421182643375427584",
         "2022-03-27 03:36:30+00:00",
         "0.9599202249770432",
         "0.15998670416284053"
        ],
        [
         "33",
         "0.16666666666666666",
         "33919623",
         "2022-01-06 21:23:18+00:00",
         "0.30488578971533514",
         "0.05081429828588919"
        ],
        [
         "34",
         "0.16363636363636364",
         "323920783",
         "2022-03-24 00:38:00+00:00",
         "0.9341023875114784",
         "0.15285311795642376"
        ],
        [
         "35",
         "0.1623931623931624",
         "36740674",
         "2022-03-07 20:01:14+00:00",
         "0.800282560453015",
         "0.1299604158000623"
        ],
        [
         "36",
         "0.15384615384615385",
         "257663572",
         "2022-02-14 19:57:37+00:00",
         "0.626708084634221",
         "0.09641662840526477"
        ],
        [
         "37",
         "0.14285714285714285",
         "294118241",
         "2022-03-11 19:57:19+00:00",
         "0.8333179331190694",
         "0.1190454190170099"
        ],
        [
         "38",
         "0.14285714285714285",
         "38282048",
         "2022-03-01 19:27:54+00:00",
         "0.7505044765840221",
         "0.10721492522628887"
        ],
        [
         "39",
         "0.13034188034188035",
         "146569971",
         "2022-03-31 20:00:11+00:00",
         "0.9986236417202327",
         "0.13016248321567137"
        ],
        [
         "40",
         "0.125",
         "2167134798",
         "2022-03-15 01:10:49+00:00",
         "0.859910563973064",
         "0.107488820496633"
        ],
        [
         "41",
         "0.1111111111111111",
         "553010243",
         "2022-03-21 19:39:29+00:00",
         "0.9158602119681665",
         "0.10176224577424071"
        ],
        [
         "42",
         "0.1111111111111111",
         "15850297",
         "2022-03-18 16:15:05+00:00",
         "0.889893728956229",
         "0.09887708099513655"
        ],
        [
         "43",
         "0.10638297872340426",
         "43369337",
         "2022-03-31 16:09:52+00:00",
         "0.9973018059381695",
         "0.10609593680193292"
        ],
        [
         "44",
         "0.10526315789473684",
         "709986828066144257",
         "2022-03-17 19:22:35+00:00",
         "0.8827053680746862",
         "0.0929163545341775"
        ]
       ],
       "shape": {
        "columns": 5,
        "rows": 45
       }
      },
      "text/html": [
       "<div>\n",
       "<style scoped>\n",
       "    .dataframe tbody tr th:only-of-type {\n",
       "        vertical-align: middle;\n",
       "    }\n",
       "\n",
       "    .dataframe tbody tr th {\n",
       "        vertical-align: top;\n",
       "    }\n",
       "\n",
       "    .dataframe thead th {\n",
       "        text-align: right;\n",
       "    }\n",
       "</style>\n",
       "<table border=\"1\" class=\"dataframe\">\n",
       "  <thead>\n",
       "    <tr style=\"text-align: right;\">\n",
       "      <th></th>\n",
       "      <th>rr_per_post</th>\n",
       "      <th>author_id</th>\n",
       "      <th>last_tweet</th>\n",
       "      <th>last_tweet_norm</th>\n",
       "      <th>timeline_score</th>\n",
       "    </tr>\n",
       "  </thead>\n",
       "  <tbody>\n",
       "    <tr>\n",
       "      <th>0</th>\n",
       "      <td>0.723192</td>\n",
       "      <td>80483638</td>\n",
       "      <td>2022-03-30 15:33:56+00:00</td>\n",
       "      <td>0.988831</td>\n",
       "      <td>0.715115</td>\n",
       "    </tr>\n",
       "    <tr>\n",
       "      <th>1</th>\n",
       "      <td>0.656250</td>\n",
       "      <td>720959701651996673</td>\n",
       "      <td>2022-02-08 23:01:34+00:00</td>\n",
       "      <td>0.578177</td>\n",
       "      <td>0.379429</td>\n",
       "    </tr>\n",
       "    <tr>\n",
       "      <th>2</th>\n",
       "      <td>0.571429</td>\n",
       "      <td>169353953</td>\n",
       "      <td>2022-03-27 05:27:40+00:00</td>\n",
       "      <td>0.960558</td>\n",
       "      <td>0.548890</td>\n",
       "    </tr>\n",
       "    <tr>\n",
       "      <th>3</th>\n",
       "      <td>0.500000</td>\n",
       "      <td>1352311853263671296</td>\n",
       "      <td>2022-02-17 22:58:21+00:00</td>\n",
       "      <td>0.652539</td>\n",
       "      <td>0.326269</td>\n",
       "    </tr>\n",
       "    <tr>\n",
       "      <th>4</th>\n",
       "      <td>0.500000</td>\n",
       "      <td>4311670299</td>\n",
       "      <td>2022-02-05 14:19:36+00:00</td>\n",
       "      <td>0.550388</td>\n",
       "      <td>0.275194</td>\n",
       "    </tr>\n",
       "    <tr>\n",
       "      <th>5</th>\n",
       "      <td>0.500000</td>\n",
       "      <td>359528910</td>\n",
       "      <td>2022-02-01 02:22:22+00:00</td>\n",
       "      <td>0.513214</td>\n",
       "      <td>0.256607</td>\n",
       "    </tr>\n",
       "    <tr>\n",
       "      <th>6</th>\n",
       "      <td>0.500000</td>\n",
       "      <td>17146256</td>\n",
       "      <td>2021-12-25 16:40:26+00:00</td>\n",
       "      <td>0.204089</td>\n",
       "      <td>0.102044</td>\n",
       "    </tr>\n",
       "    <tr>\n",
       "      <th>7</th>\n",
       "      <td>0.500000</td>\n",
       "      <td>1047247402409840640</td>\n",
       "      <td>2021-12-28 20:52:12+00:00</td>\n",
       "      <td>0.230327</td>\n",
       "      <td>0.115164</td>\n",
       "    </tr>\n",
       "    <tr>\n",
       "      <th>8</th>\n",
       "      <td>0.500000</td>\n",
       "      <td>344350643</td>\n",
       "      <td>2022-01-25 21:37:47+00:00</td>\n",
       "      <td>0.461994</td>\n",
       "      <td>0.230997</td>\n",
       "    </tr>\n",
       "    <tr>\n",
       "      <th>9</th>\n",
       "      <td>0.500000</td>\n",
       "      <td>179226033</td>\n",
       "      <td>2022-02-25 00:17:42+00:00</td>\n",
       "      <td>0.710845</td>\n",
       "      <td>0.355423</td>\n",
       "    </tr>\n",
       "    <tr>\n",
       "      <th>10</th>\n",
       "      <td>0.470588</td>\n",
       "      <td>767945051787759616</td>\n",
       "      <td>2022-03-30 17:16:27+00:00</td>\n",
       "      <td>0.989419</td>\n",
       "      <td>0.465609</td>\n",
       "    </tr>\n",
       "    <tr>\n",
       "      <th>11</th>\n",
       "      <td>0.428571</td>\n",
       "      <td>1457177169407393795</td>\n",
       "      <td>2021-12-27 04:28:51+00:00</td>\n",
       "      <td>0.216419</td>\n",
       "      <td>0.092751</td>\n",
       "    </tr>\n",
       "    <tr>\n",
       "      <th>12</th>\n",
       "      <td>0.400000</td>\n",
       "      <td>26950458</td>\n",
       "      <td>2022-01-12 01:12:48+00:00</td>\n",
       "      <td>0.347525</td>\n",
       "      <td>0.139010</td>\n",
       "    </tr>\n",
       "    <tr>\n",
       "      <th>13</th>\n",
       "      <td>0.368932</td>\n",
       "      <td>17919393</td>\n",
       "      <td>2022-03-30 15:17:48+00:00</td>\n",
       "      <td>0.988739</td>\n",
       "      <td>0.364777</td>\n",
       "    </tr>\n",
       "    <tr>\n",
       "      <th>14</th>\n",
       "      <td>0.350000</td>\n",
       "      <td>620136960</td>\n",
       "      <td>2022-03-30 20:22:23+00:00</td>\n",
       "      <td>0.990487</td>\n",
       "      <td>0.346670</td>\n",
       "    </tr>\n",
       "    <tr>\n",
       "      <th>15</th>\n",
       "      <td>0.333333</td>\n",
       "      <td>989313110602235904</td>\n",
       "      <td>2022-03-13 22:11:54+00:00</td>\n",
       "      <td>0.850619</td>\n",
       "      <td>0.283540</td>\n",
       "    </tr>\n",
       "    <tr>\n",
       "      <th>16</th>\n",
       "      <td>0.300578</td>\n",
       "      <td>36167088</td>\n",
       "      <td>2022-03-30 16:31:16+00:00</td>\n",
       "      <td>0.989160</td>\n",
       "      <td>0.297320</td>\n",
       "    </tr>\n",
       "    <tr>\n",
       "      <th>17</th>\n",
       "      <td>0.285714</td>\n",
       "      <td>898324652</td>\n",
       "      <td>2022-01-19 03:18:01+00:00</td>\n",
       "      <td>0.406095</td>\n",
       "      <td>0.116027</td>\n",
       "    </tr>\n",
       "    <tr>\n",
       "      <th>18</th>\n",
       "      <td>0.285714</td>\n",
       "      <td>17018470</td>\n",
       "      <td>2022-03-29 10:45:14+00:00</td>\n",
       "      <td>0.978910</td>\n",
       "      <td>0.279688</td>\n",
       "    </tr>\n",
       "    <tr>\n",
       "      <th>19</th>\n",
       "      <td>0.250000</td>\n",
       "      <td>1428158156098572291</td>\n",
       "      <td>2022-01-12 19:18:28+00:00</td>\n",
       "      <td>0.353756</td>\n",
       "      <td>0.088439</td>\n",
       "    </tr>\n",
       "    <tr>\n",
       "      <th>20</th>\n",
       "      <td>0.250000</td>\n",
       "      <td>1004065528871247872</td>\n",
       "      <td>2022-03-31 00:55:08+00:00</td>\n",
       "      <td>0.992052</td>\n",
       "      <td>0.248013</td>\n",
       "    </tr>\n",
       "    <tr>\n",
       "      <th>21</th>\n",
       "      <td>0.218310</td>\n",
       "      <td>877629044828667905</td>\n",
       "      <td>2022-03-31 00:07:57+00:00</td>\n",
       "      <td>0.991781</td>\n",
       "      <td>0.216516</td>\n",
       "    </tr>\n",
       "    <tr>\n",
       "      <th>22</th>\n",
       "      <td>0.215686</td>\n",
       "      <td>20280574</td>\n",
       "      <td>2022-02-01 17:57:14+00:00</td>\n",
       "      <td>0.518579</td>\n",
       "      <td>0.111850</td>\n",
       "    </tr>\n",
       "    <tr>\n",
       "      <th>23</th>\n",
       "      <td>0.200000</td>\n",
       "      <td>3173246967</td>\n",
       "      <td>2022-02-22 12:50:00+00:00</td>\n",
       "      <td>0.690370</td>\n",
       "      <td>0.138074</td>\n",
       "    </tr>\n",
       "    <tr>\n",
       "      <th>24</th>\n",
       "      <td>0.200000</td>\n",
       "      <td>21833509</td>\n",
       "      <td>2022-02-18 21:38:38+00:00</td>\n",
       "      <td>0.660346</td>\n",
       "      <td>0.132069</td>\n",
       "    </tr>\n",
       "    <tr>\n",
       "      <th>25</th>\n",
       "      <td>0.200000</td>\n",
       "      <td>989320781799743488</td>\n",
       "      <td>2022-03-31 20:50:10+00:00</td>\n",
       "      <td>0.998911</td>\n",
       "      <td>0.199782</td>\n",
       "    </tr>\n",
       "    <tr>\n",
       "      <th>26</th>\n",
       "      <td>0.200000</td>\n",
       "      <td>149197471</td>\n",
       "      <td>2022-04-01 03:52:00+00:00</td>\n",
       "      <td>1.001331</td>\n",
       "      <td>0.200266</td>\n",
       "    </tr>\n",
       "    <tr>\n",
       "      <th>27</th>\n",
       "      <td>0.200000</td>\n",
       "      <td>19201304</td>\n",
       "      <td>2022-02-15 00:00:09+00:00</td>\n",
       "      <td>0.628100</td>\n",
       "      <td>0.125620</td>\n",
       "    </tr>\n",
       "    <tr>\n",
       "      <th>28</th>\n",
       "      <td>0.200000</td>\n",
       "      <td>239666710</td>\n",
       "      <td>2022-03-15 23:33:49+00:00</td>\n",
       "      <td>0.867618</td>\n",
       "      <td>0.173524</td>\n",
       "    </tr>\n",
       "    <tr>\n",
       "      <th>29</th>\n",
       "      <td>0.193548</td>\n",
       "      <td>142843687</td>\n",
       "      <td>2022-03-17 16:52:15+00:00</td>\n",
       "      <td>0.881843</td>\n",
       "      <td>0.170679</td>\n",
       "    </tr>\n",
       "    <tr>\n",
       "      <th>30</th>\n",
       "      <td>0.166667</td>\n",
       "      <td>14596185</td>\n",
       "      <td>2022-03-12 01:16:50+00:00</td>\n",
       "      <td>0.835152</td>\n",
       "      <td>0.139192</td>\n",
       "    </tr>\n",
       "    <tr>\n",
       "      <th>31</th>\n",
       "      <td>0.166667</td>\n",
       "      <td>2498871378</td>\n",
       "      <td>2022-03-16 12:05:46+00:00</td>\n",
       "      <td>0.871934</td>\n",
       "      <td>0.145322</td>\n",
       "    </tr>\n",
       "    <tr>\n",
       "      <th>32</th>\n",
       "      <td>0.166667</td>\n",
       "      <td>1421182643375427584</td>\n",
       "      <td>2022-03-27 03:36:30+00:00</td>\n",
       "      <td>0.959920</td>\n",
       "      <td>0.159987</td>\n",
       "    </tr>\n",
       "    <tr>\n",
       "      <th>33</th>\n",
       "      <td>0.166667</td>\n",
       "      <td>33919623</td>\n",
       "      <td>2022-01-06 21:23:18+00:00</td>\n",
       "      <td>0.304886</td>\n",
       "      <td>0.050814</td>\n",
       "    </tr>\n",
       "    <tr>\n",
       "      <th>34</th>\n",
       "      <td>0.163636</td>\n",
       "      <td>323920783</td>\n",
       "      <td>2022-03-24 00:38:00+00:00</td>\n",
       "      <td>0.934102</td>\n",
       "      <td>0.152853</td>\n",
       "    </tr>\n",
       "    <tr>\n",
       "      <th>35</th>\n",
       "      <td>0.162393</td>\n",
       "      <td>36740674</td>\n",
       "      <td>2022-03-07 20:01:14+00:00</td>\n",
       "      <td>0.800283</td>\n",
       "      <td>0.129960</td>\n",
       "    </tr>\n",
       "    <tr>\n",
       "      <th>36</th>\n",
       "      <td>0.153846</td>\n",
       "      <td>257663572</td>\n",
       "      <td>2022-02-14 19:57:37+00:00</td>\n",
       "      <td>0.626708</td>\n",
       "      <td>0.096417</td>\n",
       "    </tr>\n",
       "    <tr>\n",
       "      <th>37</th>\n",
       "      <td>0.142857</td>\n",
       "      <td>294118241</td>\n",
       "      <td>2022-03-11 19:57:19+00:00</td>\n",
       "      <td>0.833318</td>\n",
       "      <td>0.119045</td>\n",
       "    </tr>\n",
       "    <tr>\n",
       "      <th>38</th>\n",
       "      <td>0.142857</td>\n",
       "      <td>38282048</td>\n",
       "      <td>2022-03-01 19:27:54+00:00</td>\n",
       "      <td>0.750504</td>\n",
       "      <td>0.107215</td>\n",
       "    </tr>\n",
       "    <tr>\n",
       "      <th>39</th>\n",
       "      <td>0.130342</td>\n",
       "      <td>146569971</td>\n",
       "      <td>2022-03-31 20:00:11+00:00</td>\n",
       "      <td>0.998624</td>\n",
       "      <td>0.130162</td>\n",
       "    </tr>\n",
       "    <tr>\n",
       "      <th>40</th>\n",
       "      <td>0.125000</td>\n",
       "      <td>2167134798</td>\n",
       "      <td>2022-03-15 01:10:49+00:00</td>\n",
       "      <td>0.859911</td>\n",
       "      <td>0.107489</td>\n",
       "    </tr>\n",
       "    <tr>\n",
       "      <th>41</th>\n",
       "      <td>0.111111</td>\n",
       "      <td>553010243</td>\n",
       "      <td>2022-03-21 19:39:29+00:00</td>\n",
       "      <td>0.915860</td>\n",
       "      <td>0.101762</td>\n",
       "    </tr>\n",
       "    <tr>\n",
       "      <th>42</th>\n",
       "      <td>0.111111</td>\n",
       "      <td>15850297</td>\n",
       "      <td>2022-03-18 16:15:05+00:00</td>\n",
       "      <td>0.889894</td>\n",
       "      <td>0.098877</td>\n",
       "    </tr>\n",
       "    <tr>\n",
       "      <th>43</th>\n",
       "      <td>0.106383</td>\n",
       "      <td>43369337</td>\n",
       "      <td>2022-03-31 16:09:52+00:00</td>\n",
       "      <td>0.997302</td>\n",
       "      <td>0.106096</td>\n",
       "    </tr>\n",
       "    <tr>\n",
       "      <th>44</th>\n",
       "      <td>0.105263</td>\n",
       "      <td>709986828066144257</td>\n",
       "      <td>2022-03-17 19:22:35+00:00</td>\n",
       "      <td>0.882705</td>\n",
       "      <td>0.092916</td>\n",
       "    </tr>\n",
       "  </tbody>\n",
       "</table>\n",
       "</div>"
      ],
      "text/plain": [
       "    rr_per_post            author_id                last_tweet  \\\n",
       "0      0.723192             80483638 2022-03-30 15:33:56+00:00   \n",
       "1      0.656250   720959701651996673 2022-02-08 23:01:34+00:00   \n",
       "2      0.571429            169353953 2022-03-27 05:27:40+00:00   \n",
       "3      0.500000  1352311853263671296 2022-02-17 22:58:21+00:00   \n",
       "4      0.500000           4311670299 2022-02-05 14:19:36+00:00   \n",
       "5      0.500000            359528910 2022-02-01 02:22:22+00:00   \n",
       "6      0.500000             17146256 2021-12-25 16:40:26+00:00   \n",
       "7      0.500000  1047247402409840640 2021-12-28 20:52:12+00:00   \n",
       "8      0.500000            344350643 2022-01-25 21:37:47+00:00   \n",
       "9      0.500000            179226033 2022-02-25 00:17:42+00:00   \n",
       "10     0.470588   767945051787759616 2022-03-30 17:16:27+00:00   \n",
       "11     0.428571  1457177169407393795 2021-12-27 04:28:51+00:00   \n",
       "12     0.400000             26950458 2022-01-12 01:12:48+00:00   \n",
       "13     0.368932             17919393 2022-03-30 15:17:48+00:00   \n",
       "14     0.350000            620136960 2022-03-30 20:22:23+00:00   \n",
       "15     0.333333   989313110602235904 2022-03-13 22:11:54+00:00   \n",
       "16     0.300578             36167088 2022-03-30 16:31:16+00:00   \n",
       "17     0.285714            898324652 2022-01-19 03:18:01+00:00   \n",
       "18     0.285714             17018470 2022-03-29 10:45:14+00:00   \n",
       "19     0.250000  1428158156098572291 2022-01-12 19:18:28+00:00   \n",
       "20     0.250000  1004065528871247872 2022-03-31 00:55:08+00:00   \n",
       "21     0.218310   877629044828667905 2022-03-31 00:07:57+00:00   \n",
       "22     0.215686             20280574 2022-02-01 17:57:14+00:00   \n",
       "23     0.200000           3173246967 2022-02-22 12:50:00+00:00   \n",
       "24     0.200000             21833509 2022-02-18 21:38:38+00:00   \n",
       "25     0.200000   989320781799743488 2022-03-31 20:50:10+00:00   \n",
       "26     0.200000            149197471 2022-04-01 03:52:00+00:00   \n",
       "27     0.200000             19201304 2022-02-15 00:00:09+00:00   \n",
       "28     0.200000            239666710 2022-03-15 23:33:49+00:00   \n",
       "29     0.193548            142843687 2022-03-17 16:52:15+00:00   \n",
       "30     0.166667             14596185 2022-03-12 01:16:50+00:00   \n",
       "31     0.166667           2498871378 2022-03-16 12:05:46+00:00   \n",
       "32     0.166667  1421182643375427584 2022-03-27 03:36:30+00:00   \n",
       "33     0.166667             33919623 2022-01-06 21:23:18+00:00   \n",
       "34     0.163636            323920783 2022-03-24 00:38:00+00:00   \n",
       "35     0.162393             36740674 2022-03-07 20:01:14+00:00   \n",
       "36     0.153846            257663572 2022-02-14 19:57:37+00:00   \n",
       "37     0.142857            294118241 2022-03-11 19:57:19+00:00   \n",
       "38     0.142857             38282048 2022-03-01 19:27:54+00:00   \n",
       "39     0.130342            146569971 2022-03-31 20:00:11+00:00   \n",
       "40     0.125000           2167134798 2022-03-15 01:10:49+00:00   \n",
       "41     0.111111            553010243 2022-03-21 19:39:29+00:00   \n",
       "42     0.111111             15850297 2022-03-18 16:15:05+00:00   \n",
       "43     0.106383             43369337 2022-03-31 16:09:52+00:00   \n",
       "44     0.105263   709986828066144257 2022-03-17 19:22:35+00:00   \n",
       "\n",
       "    last_tweet_norm  timeline_score  \n",
       "0          0.988831        0.715115  \n",
       "1          0.578177        0.379429  \n",
       "2          0.960558        0.548890  \n",
       "3          0.652539        0.326269  \n",
       "4          0.550388        0.275194  \n",
       "5          0.513214        0.256607  \n",
       "6          0.204089        0.102044  \n",
       "7          0.230327        0.115164  \n",
       "8          0.461994        0.230997  \n",
       "9          0.710845        0.355423  \n",
       "10         0.989419        0.465609  \n",
       "11         0.216419        0.092751  \n",
       "12         0.347525        0.139010  \n",
       "13         0.988739        0.364777  \n",
       "14         0.990487        0.346670  \n",
       "15         0.850619        0.283540  \n",
       "16         0.989160        0.297320  \n",
       "17         0.406095        0.116027  \n",
       "18         0.978910        0.279688  \n",
       "19         0.353756        0.088439  \n",
       "20         0.992052        0.248013  \n",
       "21         0.991781        0.216516  \n",
       "22         0.518579        0.111850  \n",
       "23         0.690370        0.138074  \n",
       "24         0.660346        0.132069  \n",
       "25         0.998911        0.199782  \n",
       "26         1.001331        0.200266  \n",
       "27         0.628100        0.125620  \n",
       "28         0.867618        0.173524  \n",
       "29         0.881843        0.170679  \n",
       "30         0.835152        0.139192  \n",
       "31         0.871934        0.145322  \n",
       "32         0.959920        0.159987  \n",
       "33         0.304886        0.050814  \n",
       "34         0.934102        0.152853  \n",
       "35         0.800283        0.129960  \n",
       "36         0.626708        0.096417  \n",
       "37         0.833318        0.119045  \n",
       "38         0.750504        0.107215  \n",
       "39         0.998624        0.130162  \n",
       "40         0.859911        0.107489  \n",
       "41         0.915860        0.101762  \n",
       "42         0.889894        0.098877  \n",
       "43         0.997302        0.106096  \n",
       "44         0.882705        0.092916  "
      ]
     },
     "execution_count": 207,
     "metadata": {},
     "output_type": "execute_result"
    }
   ],
   "source": [
    "author_rrpp_data[\"last_tweet_norm\"] = (author_rrpp_data[\"last_tweet\"] - date_min) / (date_max - date_min)\n",
    "author_rrpp_data[\"timeline_score\"] = author_rrpp_data[\"rr_per_post\"] * author_rrpp_data[\"last_tweet_norm\"]\n",
    "author_rrpp_data"
   ]
  },
  {
   "cell_type": "code",
   "execution_count": 209,
   "id": "0630a36a",
   "metadata": {},
   "outputs": [
    {
     "data": {
      "image/png": "[encoded data removed]",
      "text/plain": [
       "<Figure size 1400x1000 with 1 Axes>"
      ]
     },
     "metadata": {},
     "output_type": "display_data"
    }
   ],
   "source": [
    "author_rrpp_data.plot(x='author_id', y='timeline_score', kind='barh', figsize=(14,10))\n",
    "plt.xlabel('Timeline Score')\n",
    "plt.ylabel('Author ID')\n",
    "plt.title('Timeline Score of Each Author')\n",
    "plt.tight_layout()\n",
    "plt.show()\n"
   ]
  },
  {
   "cell_type": "code",
   "execution_count": 213,
   "id": "1aeaa589",
   "metadata": {},
   "outputs": [
    {
     "data": {
      "application/vnd.microsoft.datawrangler.viewer.v0+json": {
       "columns": [
        {
         "name": "index",
         "rawType": "int64",
         "type": "integer"
        },
        {
         "name": "rr_per_post",
         "rawType": "float64",
         "type": "float"
        },
        {
         "name": "author_id",
         "rawType": "object",
         "type": "string"
        },
        {
         "name": "last_tweet",
         "rawType": "datetime64[ns, UTC]",
         "type": "unknown"
        },
        {
         "name": "last_tweet_norm",
         "rawType": "float64",
         "type": "float"
        },
        {
         "name": "timeline_score",
         "rawType": "float64",
         "type": "float"
        }
       ],
       "ref": "0eeb939a-6b3d-47b5-84a6-6d866731f8fc",
       "rows": [
        [
         "0",
         "0.7231920199501247",
         "80483638",
         "2022-03-30 15:33:56+00:00",
         "0.9888311141720233",
         "0.7151147708475979"
        ],
        [
         "1",
         "0.65625",
         "720959701651996673",
         "2022-02-08 23:01:34+00:00",
         "0.578177035506581",
         "0.37942867955119375"
        ],
        [
         "2",
         "0.5714285714285714",
         "169353953",
         "2022-03-27 05:27:40+00:00",
         "0.9605582338536884",
         "0.5488904193449647"
        ],
        [
         "3",
         "0.5",
         "1352311853263671296",
         "2022-02-17 22:58:21+00:00",
         "0.6525387396694214",
         "0.3262693698347107"
        ],
        [
         "4",
         "0.5",
         "4311670299",
         "2022-02-05 14:19:36+00:00",
         "0.5503879706152434",
         "0.2751939853076217"
        ],
        [
         "5",
         "0.5",
         "359528910",
         "2022-02-01 02:22:22+00:00",
         "0.5132137664524028",
         "0.2566068832262014"
        ],
        [
         "6",
         "0.5",
         "17146256",
         "2021-12-25 16:40:26+00:00",
         "0.20408880471380472",
         "0.10204440235690236"
        ],
        [
         "7",
         "0.5",
         "1047247402409840640",
         "2021-12-28 20:52:12+00:00",
         "0.2303271349862259",
         "0.11516356749311295"
        ],
        [
         "8",
         "0.5",
         "344350643",
         "2022-01-25 21:37:47+00:00",
         "0.4619937059993878",
         "0.2309968529996939"
        ],
        [
         "9",
         "0.5",
         "179226033",
         "2022-02-25 00:17:42+00:00",
         "0.7108453856749312",
         "0.3554226928374656"
        ],
        [
         "10",
         "0.47058823529411764",
         "767945051787759616",
         "2022-03-30 17:16:27+00:00",
         "0.9894194788797062",
         "0.46560916653162643"
        ],
        [
         "11",
         "0.42857142857142855",
         "1457177169407393795",
         "2021-12-27 04:28:51+00:00",
         "0.21641901974288338",
         "0.09275100846123573"
        ],
        [
         "12",
         "0.4",
         "26950458",
         "2022-01-12 01:12:48+00:00",
         "0.3475252525252525",
         "0.139010101010101"
        ],
        [
         "13",
         "0.36893203883495146",
         "17919393",
         "2022-03-30 15:17:48+00:00",
         "0.9887385215794307",
         "0.364777318640955"
        ],
        [
         "14",
         "0.35",
         "620136960",
         "2022-03-30 20:22:23+00:00",
         "0.9904865893786349",
         "0.3466703062825222"
        ],
        [
         "15",
         "0.3333333333333333",
         "989313110602235904",
         "2022-03-13 22:11:54+00:00",
         "0.8506192607897153",
         "0.28353975359657174"
        ],
        [
         "16",
         "0.30057803468208094",
         "36167088",
         "2022-03-30 16:31:16+00:00",
         "0.989160162228344",
         "0.297319817548404"
        ],
        [
         "17",
         "0.2857142857142857",
         "898324652",
         "2022-01-19 03:18:01+00:00",
         "0.4060951369758188",
         "0.11602718199309107"
        ],
        [
         "18",
         "0.2857142857142857",
         "17018470",
         "2022-03-29 10:45:14+00:00",
         "0.9789097413529232",
         "0.2796884975294066"
        ],
        [
         "19",
         "0.25",
         "1428158156098572291",
         "2022-01-12 19:18:28+00:00",
         "0.35375612182430366",
         "0.08843903045607591"
        ],
        [
         "20",
         "0.25",
         "1004065528871247872",
         "2022-03-31 00:55:08+00:00",
         "0.9920519589837772",
         "0.2480129897459443"
        ],
        [
         "21",
         "0.21830985915492956",
         "877629044828667905",
         "2022-03-31 00:07:57+00:00",
         "0.9917811639118457",
         "0.21651560620610713"
        ],
        [
         "22",
         "0.21568627450980393",
         "20280574",
         "2022-02-01 17:57:14+00:00",
         "0.5185791628405265",
         "0.11185040767148612"
        ],
        [
         "23",
         "0.2",
         "3173246967",
         "2022-02-22 12:50:00+00:00",
         "0.6903696051423324",
         "0.13807392102846647"
        ],
        [
         "24",
         "0.2",
         "21833509",
         "2022-02-18 21:38:38+00:00",
         "0.6603456917661463",
         "0.13206913835322928"
        ],
        [
         "25",
         "0.2",
         "989320781799743488",
         "2022-03-31 20:50:10+00:00",
         "0.9989105065809611",
         "0.19978210131619223"
        ],
        [
         "26",
         "0.2",
         "149197471",
         "2022-04-01 03:52:00+00:00",
         "1.0013314967860423",
         "0.20026629935720847"
        ],
        [
         "27",
         "0.2",
         "19201304",
         "2022-02-15 00:00:09+00:00",
         "0.6281000344352617",
         "0.12562000688705235"
        ],
        [
         "28",
         "0.2",
         "239666710",
         "2022-03-15 23:33:49+00:00",
         "0.8676183233853688",
         "0.17352366467707378"
        ],
        [
         "29",
         "0.1935483870967742",
         "142843687",
         "2022-03-17 16:52:15+00:00",
         "0.8818425734618917",
         "0.17067920776681775"
        ],
        [
         "30",
         "0.16666666666666666",
         "14596185",
         "2022-03-12 01:16:50+00:00",
         "0.8351517064585247",
         "0.13919195107642077"
        ],
        [
         "31",
         "0.16666666666666666",
         "2498871378",
         "2022-03-16 12:05:46+00:00",
         "0.8719339225589225",
         "0.14532232042648707"
        ],
        [
         "32",
         "0.16666666666666666",
         "1421182643375427584",
         "2022-03-27 03:36:30+00:00",
         "0.9599202249770432",
         "0.15998670416284053"
        ],
        [
         "33",
         "0.16666666666666666",
         "33919623",
         "2022-01-06 21:23:18+00:00",
         "0.30488578971533514",
         "0.05081429828588919"
        ],
        [
         "34",
         "0.16363636363636364",
         "323920783",
         "2022-03-24 00:38:00+00:00",
         "0.9341023875114784",
         "0.15285311795642376"
        ],
        [
         "35",
         "0.1623931623931624",
         "36740674",
         "2022-03-07 20:01:14+00:00",
         "0.800282560453015",
         "0.1299604158000623"
        ],
        [
         "36",
         "0.15384615384615385",
         "257663572",
         "2022-02-14 19:57:37+00:00",
         "0.626708084634221",
         "0.09641662840526477"
        ],
        [
         "37",
         "0.14285714285714285",
         "294118241",
         "2022-03-11 19:57:19+00:00",
         "0.8333179331190694",
         "0.1190454190170099"
        ],
        [
         "38",
         "0.14285714285714285",
         "38282048",
         "2022-03-01 19:27:54+00:00",
         "0.7505044765840221",
         "0.10721492522628887"
        ],
        [
         "39",
         "0.13034188034188035",
         "146569971",
         "2022-03-31 20:00:11+00:00",
         "0.9986236417202327",
         "0.13016248321567137"
        ],
        [
         "40",
         "0.125",
         "2167134798",
         "2022-03-15 01:10:49+00:00",
         "0.859910563973064",
         "0.107488820496633"
        ],
        [
         "41",
         "0.1111111111111111",
         "553010243",
         "2022-03-21 19:39:29+00:00",
         "0.9158602119681665",
         "0.10176224577424071"
        ],
        [
         "42",
         "0.1111111111111111",
         "15850297",
         "2022-03-18 16:15:05+00:00",
         "0.889893728956229",
         "0.09887708099513655"
        ],
        [
         "43",
         "0.10638297872340426",
         "43369337",
         "2022-03-31 16:09:52+00:00",
         "0.9973018059381695",
         "0.10609593680193292"
        ],
        [
         "44",
         "0.10526315789473684",
         "709986828066144257",
         "2022-03-17 19:22:35+00:00",
         "0.8827053680746862",
         "0.0929163545341775"
        ]
       ],
       "shape": {
        "columns": 5,
        "rows": 45
       }
      },
      "text/html": [
       "<div>\n",
       "<style scoped>\n",
       "    .dataframe tbody tr th:only-of-type {\n",
       "        vertical-align: middle;\n",
       "    }\n",
       "\n",
       "    .dataframe tbody tr th {\n",
       "        vertical-align: top;\n",
       "    }\n",
       "\n",
       "    .dataframe thead th {\n",
       "        text-align: right;\n",
       "    }\n",
       "</style>\n",
       "<table border=\"1\" class=\"dataframe\">\n",
       "  <thead>\n",
       "    <tr style=\"text-align: right;\">\n",
       "      <th></th>\n",
       "      <th>rr_per_post</th>\n",
       "      <th>author_id</th>\n",
       "      <th>last_tweet</th>\n",
       "      <th>last_tweet_norm</th>\n",
       "      <th>timeline_score</th>\n",
       "    </tr>\n",
       "  </thead>\n",
       "  <tbody>\n",
       "    <tr>\n",
       "      <th>0</th>\n",
       "      <td>0.723192</td>\n",
       "      <td>80483638</td>\n",
       "      <td>2022-03-30 15:33:56+00:00</td>\n",
       "      <td>0.988831</td>\n",
       "      <td>0.715115</td>\n",
       "    </tr>\n",
       "    <tr>\n",
       "      <th>1</th>\n",
       "      <td>0.656250</td>\n",
       "      <td>720959701651996673</td>\n",
       "      <td>2022-02-08 23:01:34+00:00</td>\n",
       "      <td>0.578177</td>\n",
       "      <td>0.379429</td>\n",
       "    </tr>\n",
       "    <tr>\n",
       "      <th>2</th>\n",
       "      <td>0.571429</td>\n",
       "      <td>169353953</td>\n",
       "      <td>2022-03-27 05:27:40+00:00</td>\n",
       "      <td>0.960558</td>\n",
       "      <td>0.548890</td>\n",
       "    </tr>\n",
       "    <tr>\n",
       "      <th>3</th>\n",
       "      <td>0.500000</td>\n",
       "      <td>1352311853263671296</td>\n",
       "      <td>2022-02-17 22:58:21+00:00</td>\n",
       "      <td>0.652539</td>\n",
       "      <td>0.326269</td>\n",
       "    </tr>\n",
       "    <tr>\n",
       "      <th>4</th>\n",
       "      <td>0.500000</td>\n",
       "      <td>4311670299</td>\n",
       "      <td>2022-02-05 14:19:36+00:00</td>\n",
       "      <td>0.550388</td>\n",
       "      <td>0.275194</td>\n",
       "    </tr>\n",
       "    <tr>\n",
       "      <th>5</th>\n",
       "      <td>0.500000</td>\n",
       "      <td>359528910</td>\n",
       "      <td>2022-02-01 02:22:22+00:00</td>\n",
       "      <td>0.513214</td>\n",
       "      <td>0.256607</td>\n",
       "    </tr>\n",
       "    <tr>\n",
       "      <th>6</th>\n",
       "      <td>0.500000</td>\n",
       "      <td>17146256</td>\n",
       "      <td>2021-12-25 16:40:26+00:00</td>\n",
       "      <td>0.204089</td>\n",
       "      <td>0.102044</td>\n",
       "    </tr>\n",
       "    <tr>\n",
       "      <th>7</th>\n",
       "      <td>0.500000</td>\n",
       "      <td>1047247402409840640</td>\n",
       "      <td>2021-12-28 20:52:12+00:00</td>\n",
       "      <td>0.230327</td>\n",
       "      <td>0.115164</td>\n",
       "    </tr>\n",
       "    <tr>\n",
       "      <th>8</th>\n",
       "      <td>0.500000</td>\n",
       "      <td>344350643</td>\n",
       "      <td>2022-01-25 21:37:47+00:00</td>\n",
       "      <td>0.461994</td>\n",
       "      <td>0.230997</td>\n",
       "    </tr>\n",
       "    <tr>\n",
       "      <th>9</th>\n",
       "      <td>0.500000</td>\n",
       "      <td>179226033</td>\n",
       "      <td>2022-02-25 00:17:42+00:00</td>\n",
       "      <td>0.710845</td>\n",
       "      <td>0.355423</td>\n",
       "    </tr>\n",
       "    <tr>\n",
       "      <th>10</th>\n",
       "      <td>0.470588</td>\n",
       "      <td>767945051787759616</td>\n",
       "      <td>2022-03-30 17:16:27+00:00</td>\n",
       "      <td>0.989419</td>\n",
       "      <td>0.465609</td>\n",
       "    </tr>\n",
       "    <tr>\n",
       "      <th>11</th>\n",
       "      <td>0.428571</td>\n",
       "      <td>1457177169407393795</td>\n",
       "      <td>2021-12-27 04:28:51+00:00</td>\n",
       "      <td>0.216419</td>\n",
       "      <td>0.092751</td>\n",
       "    </tr>\n",
       "    <tr>\n",
       "      <th>12</th>\n",
       "      <td>0.400000</td>\n",
       "      <td>26950458</td>\n",
       "      <td>2022-01-12 01:12:48+00:00</td>\n",
       "      <td>0.347525</td>\n",
       "      <td>0.139010</td>\n",
       "    </tr>\n",
       "    <tr>\n",
       "      <th>13</th>\n",
       "      <td>0.368932</td>\n",
       "      <td>17919393</td>\n",
       "      <td>2022-03-30 15:17:48+00:00</td>\n",
       "      <td>0.988739</td>\n",
       "      <td>0.364777</td>\n",
       "    </tr>\n",
       "    <tr>\n",
       "      <th>14</th>\n",
       "      <td>0.350000</td>\n",
       "      <td>620136960</td>\n",
       "      <td>2022-03-30 20:22:23+00:00</td>\n",
       "      <td>0.990487</td>\n",
       "      <td>0.346670</td>\n",
       "    </tr>\n",
       "    <tr>\n",
       "      <th>15</th>\n",
       "      <td>0.333333</td>\n",
       "      <td>989313110602235904</td>\n",
       "      <td>2022-03-13 22:11:54+00:00</td>\n",
       "      <td>0.850619</td>\n",
       "      <td>0.283540</td>\n",
       "    </tr>\n",
       "    <tr>\n",
       "      <th>16</th>\n",
       "      <td>0.300578</td>\n",
       "      <td>36167088</td>\n",
       "      <td>2022-03-30 16:31:16+00:00</td>\n",
       "      <td>0.989160</td>\n",
       "      <td>0.297320</td>\n",
       "    </tr>\n",
       "    <tr>\n",
       "      <th>17</th>\n",
       "      <td>0.285714</td>\n",
       "      <td>898324652</td>\n",
       "      <td>2022-01-19 03:18:01+00:00</td>\n",
       "      <td>0.406095</td>\n",
       "      <td>0.116027</td>\n",
       "    </tr>\n",
       "    <tr>\n",
       "      <th>18</th>\n",
       "      <td>0.285714</td>\n",
       "      <td>17018470</td>\n",
       "      <td>2022-03-29 10:45:14+00:00</td>\n",
       "      <td>0.978910</td>\n",
       "      <td>0.279688</td>\n",
       "    </tr>\n",
       "    <tr>\n",
       "      <th>19</th>\n",
       "      <td>0.250000</td>\n",
       "      <td>1428158156098572291</td>\n",
       "      <td>2022-01-12 19:18:28+00:00</td>\n",
       "      <td>0.353756</td>\n",
       "      <td>0.088439</td>\n",
       "    </tr>\n",
       "    <tr>\n",
       "      <th>20</th>\n",
       "      <td>0.250000</td>\n",
       "      <td>1004065528871247872</td>\n",
       "      <td>2022-03-31 00:55:08+00:00</td>\n",
       "      <td>0.992052</td>\n",
       "      <td>0.248013</td>\n",
       "    </tr>\n",
       "    <tr>\n",
       "      <th>21</th>\n",
       "      <td>0.218310</td>\n",
       "      <td>877629044828667905</td>\n",
       "      <td>2022-03-31 00:07:57+00:00</td>\n",
       "      <td>0.991781</td>\n",
       "      <td>0.216516</td>\n",
       "    </tr>\n",
       "    <tr>\n",
       "      <th>22</th>\n",
       "      <td>0.215686</td>\n",
       "      <td>20280574</td>\n",
       "      <td>2022-02-01 17:57:14+00:00</td>\n",
       "      <td>0.518579</td>\n",
       "      <td>0.111850</td>\n",
       "    </tr>\n",
       "    <tr>\n",
       "      <th>23</th>\n",
       "      <td>0.200000</td>\n",
       "      <td>3173246967</td>\n",
       "      <td>2022-02-22 12:50:00+00:00</td>\n",
       "      <td>0.690370</td>\n",
       "      <td>0.138074</td>\n",
       "    </tr>\n",
       "    <tr>\n",
       "      <th>24</th>\n",
       "      <td>0.200000</td>\n",
       "      <td>21833509</td>\n",
       "      <td>2022-02-18 21:38:38+00:00</td>\n",
       "      <td>0.660346</td>\n",
       "      <td>0.132069</td>\n",
       "    </tr>\n",
       "    <tr>\n",
       "      <th>25</th>\n",
       "      <td>0.200000</td>\n",
       "      <td>989320781799743488</td>\n",
       "      <td>2022-03-31 20:50:10+00:00</td>\n",
       "      <td>0.998911</td>\n",
       "      <td>0.199782</td>\n",
       "    </tr>\n",
       "    <tr>\n",
       "      <th>26</th>\n",
       "      <td>0.200000</td>\n",
       "      <td>149197471</td>\n",
       "      <td>2022-04-01 03:52:00+00:00</td>\n",
       "      <td>1.001331</td>\n",
       "      <td>0.200266</td>\n",
       "    </tr>\n",
       "    <tr>\n",
       "      <th>27</th>\n",
       "      <td>0.200000</td>\n",
       "      <td>19201304</td>\n",
       "      <td>2022-02-15 00:00:09+00:00</td>\n",
       "      <td>0.628100</td>\n",
       "      <td>0.125620</td>\n",
       "    </tr>\n",
       "    <tr>\n",
       "      <th>28</th>\n",
       "      <td>0.200000</td>\n",
       "      <td>239666710</td>\n",
       "      <td>2022-03-15 23:33:49+00:00</td>\n",
       "      <td>0.867618</td>\n",
       "      <td>0.173524</td>\n",
       "    </tr>\n",
       "    <tr>\n",
       "      <th>29</th>\n",
       "      <td>0.193548</td>\n",
       "      <td>142843687</td>\n",
       "      <td>2022-03-17 16:52:15+00:00</td>\n",
       "      <td>0.881843</td>\n",
       "      <td>0.170679</td>\n",
       "    </tr>\n",
       "    <tr>\n",
       "      <th>30</th>\n",
       "      <td>0.166667</td>\n",
       "      <td>14596185</td>\n",
       "      <td>2022-03-12 01:16:50+00:00</td>\n",
       "      <td>0.835152</td>\n",
       "      <td>0.139192</td>\n",
       "    </tr>\n",
       "    <tr>\n",
       "      <th>31</th>\n",
       "      <td>0.166667</td>\n",
       "      <td>2498871378</td>\n",
       "      <td>2022-03-16 12:05:46+00:00</td>\n",
       "      <td>0.871934</td>\n",
       "      <td>0.145322</td>\n",
       "    </tr>\n",
       "    <tr>\n",
       "      <th>32</th>\n",
       "      <td>0.166667</td>\n",
       "      <td>1421182643375427584</td>\n",
       "      <td>2022-03-27 03:36:30+00:00</td>\n",
       "      <td>0.959920</td>\n",
       "      <td>0.159987</td>\n",
       "    </tr>\n",
       "    <tr>\n",
       "      <th>33</th>\n",
       "      <td>0.166667</td>\n",
       "      <td>33919623</td>\n",
       "      <td>2022-01-06 21:23:18+00:00</td>\n",
       "      <td>0.304886</td>\n",
       "      <td>0.050814</td>\n",
       "    </tr>\n",
       "    <tr>\n",
       "      <th>34</th>\n",
       "      <td>0.163636</td>\n",
       "      <td>323920783</td>\n",
       "      <td>2022-03-24 00:38:00+00:00</td>\n",
       "      <td>0.934102</td>\n",
       "      <td>0.152853</td>\n",
       "    </tr>\n",
       "    <tr>\n",
       "      <th>35</th>\n",
       "      <td>0.162393</td>\n",
       "      <td>36740674</td>\n",
       "      <td>2022-03-07 20:01:14+00:00</td>\n",
       "      <td>0.800283</td>\n",
       "      <td>0.129960</td>\n",
       "    </tr>\n",
       "    <tr>\n",
       "      <th>36</th>\n",
       "      <td>0.153846</td>\n",
       "      <td>257663572</td>\n",
       "      <td>2022-02-14 19:57:37+00:00</td>\n",
       "      <td>0.626708</td>\n",
       "      <td>0.096417</td>\n",
       "    </tr>\n",
       "    <tr>\n",
       "      <th>37</th>\n",
       "      <td>0.142857</td>\n",
       "      <td>294118241</td>\n",
       "      <td>2022-03-11 19:57:19+00:00</td>\n",
       "      <td>0.833318</td>\n",
       "      <td>0.119045</td>\n",
       "    </tr>\n",
       "    <tr>\n",
       "      <th>38</th>\n",
       "      <td>0.142857</td>\n",
       "      <td>38282048</td>\n",
       "      <td>2022-03-01 19:27:54+00:00</td>\n",
       "      <td>0.750504</td>\n",
       "      <td>0.107215</td>\n",
       "    </tr>\n",
       "    <tr>\n",
       "      <th>39</th>\n",
       "      <td>0.130342</td>\n",
       "      <td>146569971</td>\n",
       "      <td>2022-03-31 20:00:11+00:00</td>\n",
       "      <td>0.998624</td>\n",
       "      <td>0.130162</td>\n",
       "    </tr>\n",
       "    <tr>\n",
       "      <th>40</th>\n",
       "      <td>0.125000</td>\n",
       "      <td>2167134798</td>\n",
       "      <td>2022-03-15 01:10:49+00:00</td>\n",
       "      <td>0.859911</td>\n",
       "      <td>0.107489</td>\n",
       "    </tr>\n",
       "    <tr>\n",
       "      <th>41</th>\n",
       "      <td>0.111111</td>\n",
       "      <td>553010243</td>\n",
       "      <td>2022-03-21 19:39:29+00:00</td>\n",
       "      <td>0.915860</td>\n",
       "      <td>0.101762</td>\n",
       "    </tr>\n",
       "    <tr>\n",
       "      <th>42</th>\n",
       "      <td>0.111111</td>\n",
       "      <td>15850297</td>\n",
       "      <td>2022-03-18 16:15:05+00:00</td>\n",
       "      <td>0.889894</td>\n",
       "      <td>0.098877</td>\n",
       "    </tr>\n",
       "    <tr>\n",
       "      <th>43</th>\n",
       "      <td>0.106383</td>\n",
       "      <td>43369337</td>\n",
       "      <td>2022-03-31 16:09:52+00:00</td>\n",
       "      <td>0.997302</td>\n",
       "      <td>0.106096</td>\n",
       "    </tr>\n",
       "    <tr>\n",
       "      <th>44</th>\n",
       "      <td>0.105263</td>\n",
       "      <td>709986828066144257</td>\n",
       "      <td>2022-03-17 19:22:35+00:00</td>\n",
       "      <td>0.882705</td>\n",
       "      <td>0.092916</td>\n",
       "    </tr>\n",
       "  </tbody>\n",
       "</table>\n",
       "</div>"
      ],
      "text/plain": [
       "    rr_per_post            author_id                last_tweet  \\\n",
       "0      0.723192             80483638 2022-03-30 15:33:56+00:00   \n",
       "1      0.656250   720959701651996673 2022-02-08 23:01:34+00:00   \n",
       "2      0.571429            169353953 2022-03-27 05:27:40+00:00   \n",
       "3      0.500000  1352311853263671296 2022-02-17 22:58:21+00:00   \n",
       "4      0.500000           4311670299 2022-02-05 14:19:36+00:00   \n",
       "5      0.500000            359528910 2022-02-01 02:22:22+00:00   \n",
       "6      0.500000             17146256 2021-12-25 16:40:26+00:00   \n",
       "7      0.500000  1047247402409840640 2021-12-28 20:52:12+00:00   \n",
       "8      0.500000            344350643 2022-01-25 21:37:47+00:00   \n",
       "9      0.500000            179226033 2022-02-25 00:17:42+00:00   \n",
       "10     0.470588   767945051787759616 2022-03-30 17:16:27+00:00   \n",
       "11     0.428571  1457177169407393795 2021-12-27 04:28:51+00:00   \n",
       "12     0.400000             26950458 2022-01-12 01:12:48+00:00   \n",
       "13     0.368932             17919393 2022-03-30 15:17:48+00:00   \n",
       "14     0.350000            620136960 2022-03-30 20:22:23+00:00   \n",
       "15     0.333333   989313110602235904 2022-03-13 22:11:54+00:00   \n",
       "16     0.300578             36167088 2022-03-30 16:31:16+00:00   \n",
       "17     0.285714            898324652 2022-01-19 03:18:01+00:00   \n",
       "18     0.285714             17018470 2022-03-29 10:45:14+00:00   \n",
       "19     0.250000  1428158156098572291 2022-01-12 19:18:28+00:00   \n",
       "20     0.250000  1004065528871247872 2022-03-31 00:55:08+00:00   \n",
       "21     0.218310   877629044828667905 2022-03-31 00:07:57+00:00   \n",
       "22     0.215686             20280574 2022-02-01 17:57:14+00:00   \n",
       "23     0.200000           3173246967 2022-02-22 12:50:00+00:00   \n",
       "24     0.200000             21833509 2022-02-18 21:38:38+00:00   \n",
       "25     0.200000   989320781799743488 2022-03-31 20:50:10+00:00   \n",
       "26     0.200000            149197471 2022-04-01 03:52:00+00:00   \n",
       "27     0.200000             19201304 2022-02-15 00:00:09+00:00   \n",
       "28     0.200000            239666710 2022-03-15 23:33:49+00:00   \n",
       "29     0.193548            142843687 2022-03-17 16:52:15+00:00   \n",
       "30     0.166667             14596185 2022-03-12 01:16:50+00:00   \n",
       "31     0.166667           2498871378 2022-03-16 12:05:46+00:00   \n",
       "32     0.166667  1421182643375427584 2022-03-27 03:36:30+00:00   \n",
       "33     0.166667             33919623 2022-01-06 21:23:18+00:00   \n",
       "34     0.163636            323920783 2022-03-24 00:38:00+00:00   \n",
       "35     0.162393             36740674 2022-03-07 20:01:14+00:00   \n",
       "36     0.153846            257663572 2022-02-14 19:57:37+00:00   \n",
       "37     0.142857            294118241 2022-03-11 19:57:19+00:00   \n",
       "38     0.142857             38282048 2022-03-01 19:27:54+00:00   \n",
       "39     0.130342            146569971 2022-03-31 20:00:11+00:00   \n",
       "40     0.125000           2167134798 2022-03-15 01:10:49+00:00   \n",
       "41     0.111111            553010243 2022-03-21 19:39:29+00:00   \n",
       "42     0.111111             15850297 2022-03-18 16:15:05+00:00   \n",
       "43     0.106383             43369337 2022-03-31 16:09:52+00:00   \n",
       "44     0.105263   709986828066144257 2022-03-17 19:22:35+00:00   \n",
       "\n",
       "    last_tweet_norm  timeline_score  \n",
       "0          0.988831        0.715115  \n",
       "1          0.578177        0.379429  \n",
       "2          0.960558        0.548890  \n",
       "3          0.652539        0.326269  \n",
       "4          0.550388        0.275194  \n",
       "5          0.513214        0.256607  \n",
       "6          0.204089        0.102044  \n",
       "7          0.230327        0.115164  \n",
       "8          0.461994        0.230997  \n",
       "9          0.710845        0.355423  \n",
       "10         0.989419        0.465609  \n",
       "11         0.216419        0.092751  \n",
       "12         0.347525        0.139010  \n",
       "13         0.988739        0.364777  \n",
       "14         0.990487        0.346670  \n",
       "15         0.850619        0.283540  \n",
       "16         0.989160        0.297320  \n",
       "17         0.406095        0.116027  \n",
       "18         0.978910        0.279688  \n",
       "19         0.353756        0.088439  \n",
       "20         0.992052        0.248013  \n",
       "21         0.991781        0.216516  \n",
       "22         0.518579        0.111850  \n",
       "23         0.690370        0.138074  \n",
       "24         0.660346        0.132069  \n",
       "25         0.998911        0.199782  \n",
       "26         1.001331        0.200266  \n",
       "27         0.628100        0.125620  \n",
       "28         0.867618        0.173524  \n",
       "29         0.881843        0.170679  \n",
       "30         0.835152        0.139192  \n",
       "31         0.871934        0.145322  \n",
       "32         0.959920        0.159987  \n",
       "33         0.304886        0.050814  \n",
       "34         0.934102        0.152853  \n",
       "35         0.800283        0.129960  \n",
       "36         0.626708        0.096417  \n",
       "37         0.833318        0.119045  \n",
       "38         0.750504        0.107215  \n",
       "39         0.998624        0.130162  \n",
       "40         0.859911        0.107489  \n",
       "41         0.915860        0.101762  \n",
       "42         0.889894        0.098877  \n",
       "43         0.997302        0.106096  \n",
       "44         0.882705        0.092916  "
      ]
     },
     "execution_count": 213,
     "metadata": {},
     "output_type": "execute_result"
    }
   ],
   "source": [
    "author_rrpp_data"
   ]
  },
  {
   "cell_type": "code",
   "execution_count": 214,
   "id": "981681aa",
   "metadata": {},
   "outputs": [
    {
     "data": {
      "application/vnd.microsoft.datawrangler.viewer.v0+json": {
       "columns": [
        {
         "name": "index",
         "rawType": "int64",
         "type": "integer"
        },
        {
         "name": "created_at",
         "rawType": "datetime64[ns, UTC]",
         "type": "unknown"
        },
        {
         "name": "count",
         "rawType": "int64",
         "type": "integer"
        },
        {
         "name": "timeline_norm",
         "rawType": "float64",
         "type": "float"
        }
       ],
       "ref": "67f8d0ef-b52f-45cb-be73-2739665ef6d2",
       "rows": [
        [
         "0",
         "2021-12-01 00:00:00+00:00",
         "412",
         "0.0"
        ],
        [
         "1",
         "2021-12-02 00:00:00+00:00",
         "397",
         "0.008264462809917356"
        ],
        [
         "2",
         "2021-12-03 00:00:00+00:00",
         "351",
         "0.01652892561983471"
        ],
        [
         "3",
         "2021-12-04 00:00:00+00:00",
         "232",
         "0.024793388429752067"
        ],
        [
         "4",
         "2021-12-05 00:00:00+00:00",
         "159",
         "0.03305785123966942"
        ],
        [
         "5",
         "2021-12-06 00:00:00+00:00",
         "299",
         "0.04132231404958678"
        ],
        [
         "6",
         "2021-12-07 00:00:00+00:00",
         "318",
         "0.049586776859504134"
        ],
        [
         "7",
         "2021-12-08 00:00:00+00:00",
         "300",
         "0.05785123966942149"
        ],
        [
         "8",
         "2021-12-09 00:00:00+00:00",
         "360",
         "0.06611570247933884"
        ],
        [
         "9",
         "2021-12-10 00:00:00+00:00",
         "301",
         "0.0743801652892562"
        ],
        [
         "10",
         "2021-12-11 00:00:00+00:00",
         "170",
         "0.08264462809917356"
        ],
        [
         "11",
         "2021-12-12 00:00:00+00:00",
         "205",
         "0.09090909090909091"
        ],
        [
         "12",
         "2021-12-13 00:00:00+00:00",
         "308",
         "0.09917355371900827"
        ],
        [
         "13",
         "2021-12-14 00:00:00+00:00",
         "313",
         "0.10743801652892562"
        ],
        [
         "14",
         "2021-12-15 00:00:00+00:00",
         "484",
         "0.11570247933884298"
        ],
        [
         "15",
         "2021-12-16 00:00:00+00:00",
         "401",
         "0.12396694214876033"
        ],
        [
         "16",
         "2021-12-17 00:00:00+00:00",
         "462",
         "0.1322314049586777"
        ],
        [
         "17",
         "2021-12-18 00:00:00+00:00",
         "321",
         "0.14049586776859505"
        ],
        [
         "18",
         "2021-12-19 00:00:00+00:00",
         "308",
         "0.1487603305785124"
        ],
        [
         "19",
         "2021-12-20 00:00:00+00:00",
         "433",
         "0.15702479338842976"
        ],
        [
         "20",
         "2021-12-21 00:00:00+00:00",
         "554",
         "0.1652892561983471"
        ],
        [
         "21",
         "2021-12-22 00:00:00+00:00",
         "460",
         "0.17355371900826447"
        ],
        [
         "22",
         "2021-12-23 00:00:00+00:00",
         "468",
         "0.18181818181818182"
        ],
        [
         "23",
         "2021-12-24 00:00:00+00:00",
         "334",
         "0.19008264462809918"
        ],
        [
         "24",
         "2021-12-25 00:00:00+00:00",
         "211",
         "0.19834710743801653"
        ],
        [
         "25",
         "2021-12-26 00:00:00+00:00",
         "221",
         "0.2066115702479339"
        ],
        [
         "26",
         "2021-12-27 00:00:00+00:00",
         "355",
         "0.21487603305785125"
        ],
        [
         "27",
         "2021-12-28 00:00:00+00:00",
         "507",
         "0.2231404958677686"
        ],
        [
         "28",
         "2021-12-29 00:00:00+00:00",
         "522",
         "0.23140495867768596"
        ],
        [
         "29",
         "2021-12-30 00:00:00+00:00",
         "680",
         "0.2396694214876033"
        ],
        [
         "30",
         "2021-12-31 00:00:00+00:00",
         "454",
         "0.24793388429752067"
        ],
        [
         "31",
         "2022-01-01 00:00:00+00:00",
         "269",
         "0.256198347107438"
        ],
        [
         "32",
         "2022-01-02 00:00:00+00:00",
         "306",
         "0.2644628099173554"
        ],
        [
         "33",
         "2022-01-03 00:00:00+00:00",
         "341",
         "0.2727272727272727"
        ],
        [
         "34",
         "2022-01-04 00:00:00+00:00",
         "543",
         "0.2809917355371901"
        ],
        [
         "35",
         "2022-01-05 00:00:00+00:00",
         "400",
         "0.2892561983471074"
        ],
        [
         "36",
         "2022-01-06 00:00:00+00:00",
         "403",
         "0.2975206611570248"
        ],
        [
         "37",
         "2022-01-07 00:00:00+00:00",
         "448",
         "0.30578512396694213"
        ],
        [
         "38",
         "2022-01-08 00:00:00+00:00",
         "434",
         "0.3140495867768595"
        ],
        [
         "39",
         "2022-01-09 00:00:00+00:00",
         "300",
         "0.32231404958677684"
        ],
        [
         "40",
         "2022-01-10 00:00:00+00:00",
         "370",
         "0.3305785123966942"
        ],
        [
         "41",
         "2022-01-11 00:00:00+00:00",
         "403",
         "0.33884297520661155"
        ],
        [
         "42",
         "2022-01-12 00:00:00+00:00",
         "416",
         "0.34710743801652894"
        ],
        [
         "43",
         "2022-01-13 00:00:00+00:00",
         "501",
         "0.35537190082644626"
        ],
        [
         "44",
         "2022-01-14 00:00:00+00:00",
         "313",
         "0.36363636363636365"
        ],
        [
         "45",
         "2022-01-15 00:00:00+00:00",
         "283",
         "0.371900826446281"
        ],
        [
         "46",
         "2022-01-16 00:00:00+00:00",
         "209",
         "0.38016528925619836"
        ],
        [
         "47",
         "2022-01-17 00:00:00+00:00",
         "315",
         "0.3884297520661157"
        ],
        [
         "48",
         "2022-01-18 00:00:00+00:00",
         "406",
         "0.39669421487603307"
        ],
        [
         "49",
         "2022-01-19 00:00:00+00:00",
         "429",
         "0.4049586776859504"
        ]
       ],
       "shape": {
        "columns": 3,
        "rows": 122
       }
      },
      "text/html": [
       "<div>\n",
       "<style scoped>\n",
       "    .dataframe tbody tr th:only-of-type {\n",
       "        vertical-align: middle;\n",
       "    }\n",
       "\n",
       "    .dataframe tbody tr th {\n",
       "        vertical-align: top;\n",
       "    }\n",
       "\n",
       "    .dataframe thead th {\n",
       "        text-align: right;\n",
       "    }\n",
       "</style>\n",
       "<table border=\"1\" class=\"dataframe\">\n",
       "  <thead>\n",
       "    <tr style=\"text-align: right;\">\n",
       "      <th></th>\n",
       "      <th>created_at</th>\n",
       "      <th>count</th>\n",
       "      <th>timeline_norm</th>\n",
       "    </tr>\n",
       "  </thead>\n",
       "  <tbody>\n",
       "    <tr>\n",
       "      <th>0</th>\n",
       "      <td>2021-12-01 00:00:00+00:00</td>\n",
       "      <td>412</td>\n",
       "      <td>0.000000</td>\n",
       "    </tr>\n",
       "    <tr>\n",
       "      <th>1</th>\n",
       "      <td>2021-12-02 00:00:00+00:00</td>\n",
       "      <td>397</td>\n",
       "      <td>0.008264</td>\n",
       "    </tr>\n",
       "    <tr>\n",
       "      <th>2</th>\n",
       "      <td>2021-12-03 00:00:00+00:00</td>\n",
       "      <td>351</td>\n",
       "      <td>0.016529</td>\n",
       "    </tr>\n",
       "    <tr>\n",
       "      <th>3</th>\n",
       "      <td>2021-12-04 00:00:00+00:00</td>\n",
       "      <td>232</td>\n",
       "      <td>0.024793</td>\n",
       "    </tr>\n",
       "    <tr>\n",
       "      <th>4</th>\n",
       "      <td>2021-12-05 00:00:00+00:00</td>\n",
       "      <td>159</td>\n",
       "      <td>0.033058</td>\n",
       "    </tr>\n",
       "    <tr>\n",
       "      <th>...</th>\n",
       "      <td>...</td>\n",
       "      <td>...</td>\n",
       "      <td>...</td>\n",
       "    </tr>\n",
       "    <tr>\n",
       "      <th>117</th>\n",
       "      <td>2022-03-28 00:00:00+00:00</td>\n",
       "      <td>138</td>\n",
       "      <td>0.966942</td>\n",
       "    </tr>\n",
       "    <tr>\n",
       "      <th>118</th>\n",
       "      <td>2022-03-29 00:00:00+00:00</td>\n",
       "      <td>182</td>\n",
       "      <td>0.975207</td>\n",
       "    </tr>\n",
       "    <tr>\n",
       "      <th>119</th>\n",
       "      <td>2022-03-30 00:00:00+00:00</td>\n",
       "      <td>155</td>\n",
       "      <td>0.983471</td>\n",
       "    </tr>\n",
       "    <tr>\n",
       "      <th>120</th>\n",
       "      <td>2022-03-31 00:00:00+00:00</td>\n",
       "      <td>177</td>\n",
       "      <td>0.991736</td>\n",
       "    </tr>\n",
       "    <tr>\n",
       "      <th>121</th>\n",
       "      <td>2022-04-01 00:00:00+00:00</td>\n",
       "      <td>35</td>\n",
       "      <td>1.000000</td>\n",
       "    </tr>\n",
       "  </tbody>\n",
       "</table>\n",
       "<p>122 rows × 3 columns</p>\n",
       "</div>"
      ],
      "text/plain": [
       "                   created_at  count  timeline_norm\n",
       "0   2021-12-01 00:00:00+00:00    412       0.000000\n",
       "1   2021-12-02 00:00:00+00:00    397       0.008264\n",
       "2   2021-12-03 00:00:00+00:00    351       0.016529\n",
       "3   2021-12-04 00:00:00+00:00    232       0.024793\n",
       "4   2021-12-05 00:00:00+00:00    159       0.033058\n",
       "..                        ...    ...            ...\n",
       "117 2022-03-28 00:00:00+00:00    138       0.966942\n",
       "118 2022-03-29 00:00:00+00:00    182       0.975207\n",
       "119 2022-03-30 00:00:00+00:00    155       0.983471\n",
       "120 2022-03-31 00:00:00+00:00    177       0.991736\n",
       "121 2022-04-01 00:00:00+00:00     35       1.000000\n",
       "\n",
       "[122 rows x 3 columns]"
      ]
     },
     "execution_count": 214,
     "metadata": {},
     "output_type": "execute_result"
    }
   ],
   "source": [
    "\n",
    "date_posts"
   ]
  },
  {
   "cell_type": "code",
   "execution_count": 265,
   "id": "dacb82c9",
   "metadata": {},
   "outputs": [
    {
     "data": {
      "application/vnd.microsoft.datawrangler.viewer.v0+json": {
       "columns": [
        {
         "name": "index",
         "rawType": "int64",
         "type": "integer"
        },
        {
         "name": "author_id",
         "rawType": "object",
         "type": "string"
        },
        {
         "name": "avg_posts_before",
         "rawType": "float64",
         "type": "float"
        },
        {
         "name": "avg_posts_after",
         "rawType": "float64",
         "type": "float"
        }
       ],
       "ref": "e89cf079-6ad9-4e59-953e-7583728e2471",
       "rows": [
        [
         "0",
         "80483638",
         "261.84166666666664",
         "106.0"
        ],
        [
         "1",
         "720959701651996673",
         "333.64285714285717",
         "159.19230769230768"
        ],
        [
         "2",
         "169353953",
         "264.4957264957265",
         "137.4"
        ],
        [
         "3",
         "1352311853263671296",
         "318.4177215189873",
         "150.65116279069767"
        ],
        [
         "4",
         "4311670299",
         "339.5820895522388",
         "161.47272727272727"
        ],
        [
         "5",
         "359528910",
         "348.1587301587302",
         "164.38983050847457"
        ],
        [
         "6",
         "17146256",
         "342.44",
         "237.8556701030928"
        ],
        [
         "7",
         "1047247402409840640",
         "344.42857142857144",
         "233.9255319148936"
        ],
        [
         "8",
         "344350643",
         "358.875",
         "174.78787878787878"
        ],
        [
         "9",
         "179226033",
         "303.51724137931035",
         "149.34285714285716"
        ],
        [
         "10",
         "767945051787759616",
         "261.84166666666664",
         "106.0"
        ],
        [
         "11",
         "1457177169407393795",
         "338.4074074074074",
         "236.8"
        ],
        [
         "12",
         "26950458",
         "370.5348837209302",
         "198.73417721518987"
        ],
        [
         "13",
         "17919393",
         "261.84166666666664",
         "106.0"
        ],
        [
         "14",
         "620136960",
         "261.84166666666664",
         "106.0"
        ],
        [
         "15",
         "989313110602235904",
         "279.252427184466",
         "151.05263157894737"
        ],
        [
         "16",
         "36167088",
         "261.84166666666664",
         "106.0"
        ],
        [
         "17",
         "898324652",
         "367.78",
         "183.94444444444446"
        ],
        [
         "18",
         "17018470",
         "262.73949579831935",
         "122.33333333333333"
        ],
        [
         "19",
         "1428158156098572291",
         "370.5348837209302",
         "198.73417721518987"
        ],
        [
         "20",
         "1004065528871247872",
         "261.1404958677686",
         "35.0"
        ],
        [
         "21",
         "877629044828667905",
         "261.1404958677686",
         "35.0"
        ],
        [
         "22",
         "20280574",
         "348.1587301587302",
         "164.38983050847457"
        ],
        [
         "23",
         "3173246967",
         "308.9404761904762",
         "149.52631578947367"
        ],
        [
         "24",
         "21833509",
         "316.925",
         "149.5"
        ],
        [
         "25",
         "989320781799743488",
         "261.1404958677686",
         "35.0"
        ],
        [
         "27",
         "19201304",
         "321.5194805194805",
         "152.8"
        ],
        [
         "28",
         "239666710",
         "277.3809523809524",
         "147.52941176470588"
        ],
        [
         "29",
         "142843687",
         "275.7102803738318",
         "142.13333333333333"
        ],
        [
         "30",
         "14596185",
         "280.70588235294116",
         "150.05"
        ],
        [
         "31",
         "2498871378",
         "276.4339622641509",
         "145.6875"
        ],
        [
         "32",
         "1421182643375427584",
         "264.4957264957265",
         "137.4"
        ],
        [
         "33",
         "33919623",
         "366.5405405405405",
         "212.6"
        ],
        [
         "34",
         "323920783",
         "268.280701754386",
         "131.125"
        ],
        [
         "35",
         "36740674",
         "285.3298969072165",
         "158.24"
        ],
        [
         "36",
         "257663572",
         "322.5131578947368",
         "154.82608695652175"
        ],
        [
         "37",
         "294118241",
         "281.970297029703",
         "150.1904761904762"
        ],
        [
         "38",
         "38282048",
         "295.34065934065933",
         "153.4516129032258"
        ],
        [
         "39",
         "146569971",
         "261.1404958677686",
         "35.0"
        ],
        [
         "40",
         "2167134798",
         "277.3809523809524",
         "147.52941176470588"
        ],
        [
         "41",
         "553010243",
         "271.1081081081081",
         "140.0"
        ],
        [
         "42",
         "15850297",
         "274.72222222222223",
         "140.21428571428572"
        ],
        [
         "43",
         "43369337",
         "261.1404958677686",
         "35.0"
        ],
        [
         "44",
         "709986828066144257",
         "275.7102803738318",
         "142.13333333333333"
        ]
       ],
       "shape": {
        "columns": 3,
        "rows": 44
       }
      },
      "text/html": [
       "<div>\n",
       "<style scoped>\n",
       "    .dataframe tbody tr th:only-of-type {\n",
       "        vertical-align: middle;\n",
       "    }\n",
       "\n",
       "    .dataframe tbody tr th {\n",
       "        vertical-align: top;\n",
       "    }\n",
       "\n",
       "    .dataframe thead th {\n",
       "        text-align: right;\n",
       "    }\n",
       "</style>\n",
       "<table border=\"1\" class=\"dataframe\">\n",
       "  <thead>\n",
       "    <tr style=\"text-align: right;\">\n",
       "      <th></th>\n",
       "      <th>author_id</th>\n",
       "      <th>avg_posts_before</th>\n",
       "      <th>avg_posts_after</th>\n",
       "    </tr>\n",
       "  </thead>\n",
       "  <tbody>\n",
       "    <tr>\n",
       "      <th>0</th>\n",
       "      <td>80483638</td>\n",
       "      <td>261.841667</td>\n",
       "      <td>106.000000</td>\n",
       "    </tr>\n",
       "    <tr>\n",
       "      <th>1</th>\n",
       "      <td>720959701651996673</td>\n",
       "      <td>333.642857</td>\n",
       "      <td>159.192308</td>\n",
       "    </tr>\n",
       "    <tr>\n",
       "      <th>2</th>\n",
       "      <td>169353953</td>\n",
       "      <td>264.495726</td>\n",
       "      <td>137.400000</td>\n",
       "    </tr>\n",
       "    <tr>\n",
       "      <th>3</th>\n",
       "      <td>1352311853263671296</td>\n",
       "      <td>318.417722</td>\n",
       "      <td>150.651163</td>\n",
       "    </tr>\n",
       "    <tr>\n",
       "      <th>4</th>\n",
       "      <td>4311670299</td>\n",
       "      <td>339.582090</td>\n",
       "      <td>161.472727</td>\n",
       "    </tr>\n",
       "    <tr>\n",
       "      <th>5</th>\n",
       "      <td>359528910</td>\n",
       "      <td>348.158730</td>\n",
       "      <td>164.389831</td>\n",
       "    </tr>\n",
       "    <tr>\n",
       "      <th>6</th>\n",
       "      <td>17146256</td>\n",
       "      <td>342.440000</td>\n",
       "      <td>237.855670</td>\n",
       "    </tr>\n",
       "    <tr>\n",
       "      <th>7</th>\n",
       "      <td>1047247402409840640</td>\n",
       "      <td>344.428571</td>\n",
       "      <td>233.925532</td>\n",
       "    </tr>\n",
       "    <tr>\n",
       "      <th>8</th>\n",
       "      <td>344350643</td>\n",
       "      <td>358.875000</td>\n",
       "      <td>174.787879</td>\n",
       "    </tr>\n",
       "    <tr>\n",
       "      <th>9</th>\n",
       "      <td>179226033</td>\n",
       "      <td>303.517241</td>\n",
       "      <td>149.342857</td>\n",
       "    </tr>\n",
       "    <tr>\n",
       "      <th>10</th>\n",
       "      <td>767945051787759616</td>\n",
       "      <td>261.841667</td>\n",
       "      <td>106.000000</td>\n",
       "    </tr>\n",
       "    <tr>\n",
       "      <th>11</th>\n",
       "      <td>1457177169407393795</td>\n",
       "      <td>338.407407</td>\n",
       "      <td>236.800000</td>\n",
       "    </tr>\n",
       "    <tr>\n",
       "      <th>12</th>\n",
       "      <td>26950458</td>\n",
       "      <td>370.534884</td>\n",
       "      <td>198.734177</td>\n",
       "    </tr>\n",
       "    <tr>\n",
       "      <th>13</th>\n",
       "      <td>17919393</td>\n",
       "      <td>261.841667</td>\n",
       "      <td>106.000000</td>\n",
       "    </tr>\n",
       "    <tr>\n",
       "      <th>14</th>\n",
       "      <td>620136960</td>\n",
       "      <td>261.841667</td>\n",
       "      <td>106.000000</td>\n",
       "    </tr>\n",
       "    <tr>\n",
       "      <th>15</th>\n",
       "      <td>989313110602235904</td>\n",
       "      <td>279.252427</td>\n",
       "      <td>151.052632</td>\n",
       "    </tr>\n",
       "    <tr>\n",
       "      <th>16</th>\n",
       "      <td>36167088</td>\n",
       "      <td>261.841667</td>\n",
       "      <td>106.000000</td>\n",
       "    </tr>\n",
       "    <tr>\n",
       "      <th>17</th>\n",
       "      <td>898324652</td>\n",
       "      <td>367.780000</td>\n",
       "      <td>183.944444</td>\n",
       "    </tr>\n",
       "    <tr>\n",
       "      <th>18</th>\n",
       "      <td>17018470</td>\n",
       "      <td>262.739496</td>\n",
       "      <td>122.333333</td>\n",
       "    </tr>\n",
       "    <tr>\n",
       "      <th>19</th>\n",
       "      <td>1428158156098572291</td>\n",
       "      <td>370.534884</td>\n",
       "      <td>198.734177</td>\n",
       "    </tr>\n",
       "    <tr>\n",
       "      <th>20</th>\n",
       "      <td>1004065528871247872</td>\n",
       "      <td>261.140496</td>\n",
       "      <td>35.000000</td>\n",
       "    </tr>\n",
       "    <tr>\n",
       "      <th>21</th>\n",
       "      <td>877629044828667905</td>\n",
       "      <td>261.140496</td>\n",
       "      <td>35.000000</td>\n",
       "    </tr>\n",
       "    <tr>\n",
       "      <th>22</th>\n",
       "      <td>20280574</td>\n",
       "      <td>348.158730</td>\n",
       "      <td>164.389831</td>\n",
       "    </tr>\n",
       "    <tr>\n",
       "      <th>23</th>\n",
       "      <td>3173246967</td>\n",
       "      <td>308.940476</td>\n",
       "      <td>149.526316</td>\n",
       "    </tr>\n",
       "    <tr>\n",
       "      <th>24</th>\n",
       "      <td>21833509</td>\n",
       "      <td>316.925000</td>\n",
       "      <td>149.500000</td>\n",
       "    </tr>\n",
       "    <tr>\n",
       "      <th>25</th>\n",
       "      <td>989320781799743488</td>\n",
       "      <td>261.140496</td>\n",
       "      <td>35.000000</td>\n",
       "    </tr>\n",
       "    <tr>\n",
       "      <th>27</th>\n",
       "      <td>19201304</td>\n",
       "      <td>321.519481</td>\n",
       "      <td>152.800000</td>\n",
       "    </tr>\n",
       "    <tr>\n",
       "      <th>28</th>\n",
       "      <td>239666710</td>\n",
       "      <td>277.380952</td>\n",
       "      <td>147.529412</td>\n",
       "    </tr>\n",
       "    <tr>\n",
       "      <th>29</th>\n",
       "      <td>142843687</td>\n",
       "      <td>275.710280</td>\n",
       "      <td>142.133333</td>\n",
       "    </tr>\n",
       "    <tr>\n",
       "      <th>30</th>\n",
       "      <td>14596185</td>\n",
       "      <td>280.705882</td>\n",
       "      <td>150.050000</td>\n",
       "    </tr>\n",
       "    <tr>\n",
       "      <th>31</th>\n",
       "      <td>2498871378</td>\n",
       "      <td>276.433962</td>\n",
       "      <td>145.687500</td>\n",
       "    </tr>\n",
       "    <tr>\n",
       "      <th>32</th>\n",
       "      <td>1421182643375427584</td>\n",
       "      <td>264.495726</td>\n",
       "      <td>137.400000</td>\n",
       "    </tr>\n",
       "    <tr>\n",
       "      <th>33</th>\n",
       "      <td>33919623</td>\n",
       "      <td>366.540541</td>\n",
       "      <td>212.600000</td>\n",
       "    </tr>\n",
       "    <tr>\n",
       "      <th>34</th>\n",
       "      <td>323920783</td>\n",
       "      <td>268.280702</td>\n",
       "      <td>131.125000</td>\n",
       "    </tr>\n",
       "    <tr>\n",
       "      <th>35</th>\n",
       "      <td>36740674</td>\n",
       "      <td>285.329897</td>\n",
       "      <td>158.240000</td>\n",
       "    </tr>\n",
       "    <tr>\n",
       "      <th>36</th>\n",
       "      <td>257663572</td>\n",
       "      <td>322.513158</td>\n",
       "      <td>154.826087</td>\n",
       "    </tr>\n",
       "    <tr>\n",
       "      <th>37</th>\n",
       "      <td>294118241</td>\n",
       "      <td>281.970297</td>\n",
       "      <td>150.190476</td>\n",
       "    </tr>\n",
       "    <tr>\n",
       "      <th>38</th>\n",
       "      <td>38282048</td>\n",
       "      <td>295.340659</td>\n",
       "      <td>153.451613</td>\n",
       "    </tr>\n",
       "    <tr>\n",
       "      <th>39</th>\n",
       "      <td>146569971</td>\n",
       "      <td>261.140496</td>\n",
       "      <td>35.000000</td>\n",
       "    </tr>\n",
       "    <tr>\n",
       "      <th>40</th>\n",
       "      <td>2167134798</td>\n",
       "      <td>277.380952</td>\n",
       "      <td>147.529412</td>\n",
       "    </tr>\n",
       "    <tr>\n",
       "      <th>41</th>\n",
       "      <td>553010243</td>\n",
       "      <td>271.108108</td>\n",
       "      <td>140.000000</td>\n",
       "    </tr>\n",
       "    <tr>\n",
       "      <th>42</th>\n",
       "      <td>15850297</td>\n",
       "      <td>274.722222</td>\n",
       "      <td>140.214286</td>\n",
       "    </tr>\n",
       "    <tr>\n",
       "      <th>43</th>\n",
       "      <td>43369337</td>\n",
       "      <td>261.140496</td>\n",
       "      <td>35.000000</td>\n",
       "    </tr>\n",
       "    <tr>\n",
       "      <th>44</th>\n",
       "      <td>709986828066144257</td>\n",
       "      <td>275.710280</td>\n",
       "      <td>142.133333</td>\n",
       "    </tr>\n",
       "  </tbody>\n",
       "</table>\n",
       "</div>"
      ],
      "text/plain": [
       "              author_id  avg_posts_before  avg_posts_after\n",
       "0              80483638        261.841667       106.000000\n",
       "1    720959701651996673        333.642857       159.192308\n",
       "2             169353953        264.495726       137.400000\n",
       "3   1352311853263671296        318.417722       150.651163\n",
       "4            4311670299        339.582090       161.472727\n",
       "5             359528910        348.158730       164.389831\n",
       "6              17146256        342.440000       237.855670\n",
       "7   1047247402409840640        344.428571       233.925532\n",
       "8             344350643        358.875000       174.787879\n",
       "9             179226033        303.517241       149.342857\n",
       "10   767945051787759616        261.841667       106.000000\n",
       "11  1457177169407393795        338.407407       236.800000\n",
       "12             26950458        370.534884       198.734177\n",
       "13             17919393        261.841667       106.000000\n",
       "14            620136960        261.841667       106.000000\n",
       "15   989313110602235904        279.252427       151.052632\n",
       "16             36167088        261.841667       106.000000\n",
       "17            898324652        367.780000       183.944444\n",
       "18             17018470        262.739496       122.333333\n",
       "19  1428158156098572291        370.534884       198.734177\n",
       "20  1004065528871247872        261.140496        35.000000\n",
       "21   877629044828667905        261.140496        35.000000\n",
       "22             20280574        348.158730       164.389831\n",
       "23           3173246967        308.940476       149.526316\n",
       "24             21833509        316.925000       149.500000\n",
       "25   989320781799743488        261.140496        35.000000\n",
       "27             19201304        321.519481       152.800000\n",
       "28            239666710        277.380952       147.529412\n",
       "29            142843687        275.710280       142.133333\n",
       "30             14596185        280.705882       150.050000\n",
       "31           2498871378        276.433962       145.687500\n",
       "32  1421182643375427584        264.495726       137.400000\n",
       "33             33919623        366.540541       212.600000\n",
       "34            323920783        268.280702       131.125000\n",
       "35             36740674        285.329897       158.240000\n",
       "36            257663572        322.513158       154.826087\n",
       "37            294118241        281.970297       150.190476\n",
       "38             38282048        295.340659       153.451613\n",
       "39            146569971        261.140496        35.000000\n",
       "40           2167134798        277.380952       147.529412\n",
       "41            553010243        271.108108       140.000000\n",
       "42             15850297        274.722222       140.214286\n",
       "43             43369337        261.140496        35.000000\n",
       "44   709986828066144257        275.710280       142.133333"
      ]
     },
     "execution_count": 265,
     "metadata": {},
     "output_type": "execute_result"
    }
   ],
   "source": [
    "before = []\n",
    "after = []\n",
    "for idx, row in author_rrpp_data.iterrows():\n",
    "    author = row['author_id']\n",
    "    last_tweet = row['last_tweet']\n",
    "    avg_posts_before = date_posts[date_posts['created_at'] <= last_tweet]['count'].mean()\n",
    "    avg_posts_after = date_posts[date_posts['created_at'] > last_tweet]['count'].mean()\n",
    "    before.append(avg_posts_before)\n",
    "    after.append(avg_posts_after)\n",
    "before_after_df = pd.DataFrame({'author_id': author_rrpp_data['author_id'], 'avg_posts_before': before, 'avg_posts_after': after})\n",
    "before_after_df.dropna(inplace=True)\n",
    "before_after_df"
   ]
  },
  {
   "cell_type": "code",
   "execution_count": 266,
   "id": "02273c38",
   "metadata": {},
   "outputs": [
    {
     "name": "stdout",
     "output_type": "stream",
     "text": [
      "Student's t-test statistic: 31.640199504579634, two-sided p-value: 2.032341242562278e-31\n"
     ]
    }
   ],
   "source": [
    "from scipy.stats import ttest_rel\n",
    "t_stat, p_val = ttest_rel(before_after_df['avg_posts_before'], before_after_df['avg_posts_after'])\n",
    "print(f\"Student's t-test statistic: {t_stat}, two-sided p-value: {p_val}\")"
   ]
  },
  {
   "cell_type": "code",
   "execution_count": 267,
   "id": "b0676dc9",
   "metadata": {},
   "outputs": [
    {
     "name": "stdout",
     "output_type": "stream",
     "text": [
      "t-statistic: 31.640199504579634, one-sided p-value: 2.032341242562278e-31\n"
     ]
    }
   ],
   "source": [
    "from scipy.stats import ttest_rel\n",
    "t_stat, p_val = ttest_rel(before_after_df['avg_posts_before'], before_after_df['avg_posts_after'])\n",
    "print(f\"t-statistic: {t_stat}, one-sided p-value: {p_val}\")"
   ]
  },
  {
   "cell_type": "code",
   "execution_count": 268,
   "id": "266d1cfb",
   "metadata": {},
   "outputs": [
    {
     "name": "stdout",
     "output_type": "stream",
     "text": [
      "Wilcoxon statistic: 990.0 p-value: 5.684341886080802e-14\n"
     ]
    }
   ],
   "source": [
    "from scipy.stats import wilcoxon\n",
    "stat, p_val = wilcoxon(before_after_df['avg_posts_before'], before_after_df['avg_posts_after'], alternative=\"greater\")\n",
    "print(\"Wilcoxon statistic:\", stat, \"p-value:\", p_val)\n"
   ]
  },
  {
   "cell_type": "code",
   "execution_count": 258,
   "id": "dbbc3a27",
   "metadata": {},
   "outputs": [
    {
     "data": {
      "application/vnd.microsoft.datawrangler.viewer.v0+json": {
       "columns": [
        {
         "name": "index",
         "rawType": "int64",
         "type": "integer"
        },
        {
         "name": "author_id",
         "rawType": "object",
         "type": "string"
        },
        {
         "name": "avg_posts_before",
         "rawType": "float64",
         "type": "float"
        },
        {
         "name": "avg_posts_after",
         "rawType": "float64",
         "type": "float"
        }
       ],
       "ref": "4161a07d-09bf-469f-9f3d-8812b1057f9f",
       "rows": [
        [
         "0",
         "80483638",
         "155.0",
         "177.0"
        ],
        [
         "1",
         "720959701651996673",
         "215.0",
         "270.0"
        ],
        [
         "2",
         "169353953",
         "86.0",
         "138.0"
        ],
        [
         "3",
         "1352311853263671296",
         "192.0",
         "199.0"
        ],
        [
         "4",
         "4311670299",
         "157.0",
         "146.0"
        ],
        [
         "5",
         "359528910",
         "270.0",
         "240.0"
        ],
        [
         "6",
         "17146256",
         "211.0",
         "221.0"
        ],
        [
         "7",
         "1047247402409840640",
         "507.0",
         "522.0"
        ],
        [
         "8",
         "344350643",
         "325.0",
         "333.0"
        ],
        [
         "9",
         "179226033",
         "170.0",
         "91.0"
        ],
        [
         "10",
         "767945051787759616",
         "155.0",
         "177.0"
        ],
        [
         "11",
         "1457177169407393795",
         "355.0",
         "507.0"
        ],
        [
         "12",
         "26950458",
         "416.0",
         "501.0"
        ],
        [
         "13",
         "17919393",
         "155.0",
         "177.0"
        ],
        [
         "14",
         "620136960",
         "155.0",
         "177.0"
        ],
        [
         "15",
         "989313110602235904",
         "131.0",
         "175.0"
        ],
        [
         "16",
         "36167088",
         "155.0",
         "177.0"
        ],
        [
         "17",
         "898324652",
         "429.0",
         "311.0"
        ],
        [
         "18",
         "17018470",
         "182.0",
         "155.0"
        ],
        [
         "19",
         "1428158156098572291",
         "416.0",
         "501.0"
        ],
        [
         "20",
         "1004065528871247872",
         "177.0",
         "35.0"
        ],
        [
         "21",
         "877629044828667905",
         "177.0",
         "35.0"
        ],
        [
         "22",
         "20280574",
         "270.0",
         "240.0"
        ],
        [
         "23",
         "3173246967",
         "144.0",
         "144.0"
        ],
        [
         "24",
         "21833509",
         "199.0",
         "132.0"
        ],
        [
         "25",
         "989320781799743488",
         "177.0",
         "35.0"
        ],
        [
         "27",
         "19201304",
         "246.0",
         "206.0"
        ],
        [
         "28",
         "239666710",
         "187.0",
         "177.0"
        ],
        [
         "29",
         "142843687",
         "199.0",
         "169.0"
        ],
        [
         "30",
         "14596185",
         "153.0",
         "131.0"
        ],
        [
         "31",
         "2498871378",
         "177.0",
         "199.0"
        ],
        [
         "32",
         "1421182643375427584",
         "86.0",
         "138.0"
        ],
        [
         "33",
         "33919623",
         "403.0",
         "448.0"
        ],
        [
         "34",
         "323920783",
         "151.0",
         "159.0"
        ],
        [
         "35",
         "36740674",
         "161.0",
         "261.0"
        ],
        [
         "36",
         "257663572",
         "154.0",
         "246.0"
        ],
        [
         "37",
         "294118241",
         "189.0",
         "153.0"
        ],
        [
         "38",
         "38282048",
         "179.0",
         "183.0"
        ],
        [
         "39",
         "146569971",
         "177.0",
         "35.0"
        ],
        [
         "40",
         "2167134798",
         "187.0",
         "177.0"
        ],
        [
         "41",
         "553010243",
         "135.0",
         "153.0"
        ],
        [
         "42",
         "15850297",
         "169.0",
         "134.0"
        ],
        [
         "43",
         "43369337",
         "177.0",
         "35.0"
        ],
        [
         "44",
         "709986828066144257",
         "199.0",
         "169.0"
        ]
       ],
       "shape": {
        "columns": 3,
        "rows": 44
       }
      },
      "text/html": [
       "<div>\n",
       "<style scoped>\n",
       "    .dataframe tbody tr th:only-of-type {\n",
       "        vertical-align: middle;\n",
       "    }\n",
       "\n",
       "    .dataframe tbody tr th {\n",
       "        vertical-align: top;\n",
       "    }\n",
       "\n",
       "    .dataframe thead th {\n",
       "        text-align: right;\n",
       "    }\n",
       "</style>\n",
       "<table border=\"1\" class=\"dataframe\">\n",
       "  <thead>\n",
       "    <tr style=\"text-align: right;\">\n",
       "      <th></th>\n",
       "      <th>author_id</th>\n",
       "      <th>avg_posts_before</th>\n",
       "      <th>avg_posts_after</th>\n",
       "    </tr>\n",
       "  </thead>\n",
       "  <tbody>\n",
       "    <tr>\n",
       "      <th>0</th>\n",
       "      <td>80483638</td>\n",
       "      <td>155.0</td>\n",
       "      <td>177.0</td>\n",
       "    </tr>\n",
       "    <tr>\n",
       "      <th>1</th>\n",
       "      <td>720959701651996673</td>\n",
       "      <td>215.0</td>\n",
       "      <td>270.0</td>\n",
       "    </tr>\n",
       "    <tr>\n",
       "      <th>2</th>\n",
       "      <td>169353953</td>\n",
       "      <td>86.0</td>\n",
       "      <td>138.0</td>\n",
       "    </tr>\n",
       "    <tr>\n",
       "      <th>3</th>\n",
       "      <td>1352311853263671296</td>\n",
       "      <td>192.0</td>\n",
       "      <td>199.0</td>\n",
       "    </tr>\n",
       "    <tr>\n",
       "      <th>4</th>\n",
       "      <td>4311670299</td>\n",
       "      <td>157.0</td>\n",
       "      <td>146.0</td>\n",
       "    </tr>\n",
       "    <tr>\n",
       "      <th>5</th>\n",
       "      <td>359528910</td>\n",
       "      <td>270.0</td>\n",
       "      <td>240.0</td>\n",
       "    </tr>\n",
       "    <tr>\n",
       "      <th>6</th>\n",
       "      <td>17146256</td>\n",
       "      <td>211.0</td>\n",
       "      <td>221.0</td>\n",
       "    </tr>\n",
       "    <tr>\n",
       "      <th>7</th>\n",
       "      <td>1047247402409840640</td>\n",
       "      <td>507.0</td>\n",
       "      <td>522.0</td>\n",
       "    </tr>\n",
       "    <tr>\n",
       "      <th>8</th>\n",
       "      <td>344350643</td>\n",
       "      <td>325.0</td>\n",
       "      <td>333.0</td>\n",
       "    </tr>\n",
       "    <tr>\n",
       "      <th>9</th>\n",
       "      <td>179226033</td>\n",
       "      <td>170.0</td>\n",
       "      <td>91.0</td>\n",
       "    </tr>\n",
       "    <tr>\n",
       "      <th>10</th>\n",
       "      <td>767945051787759616</td>\n",
       "      <td>155.0</td>\n",
       "      <td>177.0</td>\n",
       "    </tr>\n",
       "    <tr>\n",
       "      <th>11</th>\n",
       "      <td>1457177169407393795</td>\n",
       "      <td>355.0</td>\n",
       "      <td>507.0</td>\n",
       "    </tr>\n",
       "    <tr>\n",
       "      <th>12</th>\n",
       "      <td>26950458</td>\n",
       "      <td>416.0</td>\n",
       "      <td>501.0</td>\n",
       "    </tr>\n",
       "    <tr>\n",
       "      <th>13</th>\n",
       "      <td>17919393</td>\n",
       "      <td>155.0</td>\n",
       "      <td>177.0</td>\n",
       "    </tr>\n",
       "    <tr>\n",
       "      <th>14</th>\n",
       "      <td>620136960</td>\n",
       "      <td>155.0</td>\n",
       "      <td>177.0</td>\n",
       "    </tr>\n",
       "    <tr>\n",
       "      <th>15</th>\n",
       "      <td>989313110602235904</td>\n",
       "      <td>131.0</td>\n",
       "      <td>175.0</td>\n",
       "    </tr>\n",
       "    <tr>\n",
       "      <th>16</th>\n",
       "      <td>36167088</td>\n",
       "      <td>155.0</td>\n",
       "      <td>177.0</td>\n",
       "    </tr>\n",
       "    <tr>\n",
       "      <th>17</th>\n",
       "      <td>898324652</td>\n",
       "      <td>429.0</td>\n",
       "      <td>311.0</td>\n",
       "    </tr>\n",
       "    <tr>\n",
       "      <th>18</th>\n",
       "      <td>17018470</td>\n",
       "      <td>182.0</td>\n",
       "      <td>155.0</td>\n",
       "    </tr>\n",
       "    <tr>\n",
       "      <th>19</th>\n",
       "      <td>1428158156098572291</td>\n",
       "      <td>416.0</td>\n",
       "      <td>501.0</td>\n",
       "    </tr>\n",
       "    <tr>\n",
       "      <th>20</th>\n",
       "      <td>1004065528871247872</td>\n",
       "      <td>177.0</td>\n",
       "      <td>35.0</td>\n",
       "    </tr>\n",
       "    <tr>\n",
       "      <th>21</th>\n",
       "      <td>877629044828667905</td>\n",
       "      <td>177.0</td>\n",
       "      <td>35.0</td>\n",
       "    </tr>\n",
       "    <tr>\n",
       "      <th>22</th>\n",
       "      <td>20280574</td>\n",
       "      <td>270.0</td>\n",
       "      <td>240.0</td>\n",
       "    </tr>\n",
       "    <tr>\n",
       "      <th>23</th>\n",
       "      <td>3173246967</td>\n",
       "      <td>144.0</td>\n",
       "      <td>144.0</td>\n",
       "    </tr>\n",
       "    <tr>\n",
       "      <th>24</th>\n",
       "      <td>21833509</td>\n",
       "      <td>199.0</td>\n",
       "      <td>132.0</td>\n",
       "    </tr>\n",
       "    <tr>\n",
       "      <th>25</th>\n",
       "      <td>989320781799743488</td>\n",
       "      <td>177.0</td>\n",
       "      <td>35.0</td>\n",
       "    </tr>\n",
       "    <tr>\n",
       "      <th>27</th>\n",
       "      <td>19201304</td>\n",
       "      <td>246.0</td>\n",
       "      <td>206.0</td>\n",
       "    </tr>\n",
       "    <tr>\n",
       "      <th>28</th>\n",
       "      <td>239666710</td>\n",
       "      <td>187.0</td>\n",
       "      <td>177.0</td>\n",
       "    </tr>\n",
       "    <tr>\n",
       "      <th>29</th>\n",
       "      <td>142843687</td>\n",
       "      <td>199.0</td>\n",
       "      <td>169.0</td>\n",
       "    </tr>\n",
       "    <tr>\n",
       "      <th>30</th>\n",
       "      <td>14596185</td>\n",
       "      <td>153.0</td>\n",
       "      <td>131.0</td>\n",
       "    </tr>\n",
       "    <tr>\n",
       "      <th>31</th>\n",
       "      <td>2498871378</td>\n",
       "      <td>177.0</td>\n",
       "      <td>199.0</td>\n",
       "    </tr>\n",
       "    <tr>\n",
       "      <th>32</th>\n",
       "      <td>1421182643375427584</td>\n",
       "      <td>86.0</td>\n",
       "      <td>138.0</td>\n",
       "    </tr>\n",
       "    <tr>\n",
       "      <th>33</th>\n",
       "      <td>33919623</td>\n",
       "      <td>403.0</td>\n",
       "      <td>448.0</td>\n",
       "    </tr>\n",
       "    <tr>\n",
       "      <th>34</th>\n",
       "      <td>323920783</td>\n",
       "      <td>151.0</td>\n",
       "      <td>159.0</td>\n",
       "    </tr>\n",
       "    <tr>\n",
       "      <th>35</th>\n",
       "      <td>36740674</td>\n",
       "      <td>161.0</td>\n",
       "      <td>261.0</td>\n",
       "    </tr>\n",
       "    <tr>\n",
       "      <th>36</th>\n",
       "      <td>257663572</td>\n",
       "      <td>154.0</td>\n",
       "      <td>246.0</td>\n",
       "    </tr>\n",
       "    <tr>\n",
       "      <th>37</th>\n",
       "      <td>294118241</td>\n",
       "      <td>189.0</td>\n",
       "      <td>153.0</td>\n",
       "    </tr>\n",
       "    <tr>\n",
       "      <th>38</th>\n",
       "      <td>38282048</td>\n",
       "      <td>179.0</td>\n",
       "      <td>183.0</td>\n",
       "    </tr>\n",
       "    <tr>\n",
       "      <th>39</th>\n",
       "      <td>146569971</td>\n",
       "      <td>177.0</td>\n",
       "      <td>35.0</td>\n",
       "    </tr>\n",
       "    <tr>\n",
       "      <th>40</th>\n",
       "      <td>2167134798</td>\n",
       "      <td>187.0</td>\n",
       "      <td>177.0</td>\n",
       "    </tr>\n",
       "    <tr>\n",
       "      <th>41</th>\n",
       "      <td>553010243</td>\n",
       "      <td>135.0</td>\n",
       "      <td>153.0</td>\n",
       "    </tr>\n",
       "    <tr>\n",
       "      <th>42</th>\n",
       "      <td>15850297</td>\n",
       "      <td>169.0</td>\n",
       "      <td>134.0</td>\n",
       "    </tr>\n",
       "    <tr>\n",
       "      <th>43</th>\n",
       "      <td>43369337</td>\n",
       "      <td>177.0</td>\n",
       "      <td>35.0</td>\n",
       "    </tr>\n",
       "    <tr>\n",
       "      <th>44</th>\n",
       "      <td>709986828066144257</td>\n",
       "      <td>199.0</td>\n",
       "      <td>169.0</td>\n",
       "    </tr>\n",
       "  </tbody>\n",
       "</table>\n",
       "</div>"
      ],
      "text/plain": [
       "              author_id  avg_posts_before  avg_posts_after\n",
       "0              80483638             155.0            177.0\n",
       "1    720959701651996673             215.0            270.0\n",
       "2             169353953              86.0            138.0\n",
       "3   1352311853263671296             192.0            199.0\n",
       "4            4311670299             157.0            146.0\n",
       "5             359528910             270.0            240.0\n",
       "6              17146256             211.0            221.0\n",
       "7   1047247402409840640             507.0            522.0\n",
       "8             344350643             325.0            333.0\n",
       "9             179226033             170.0             91.0\n",
       "10   767945051787759616             155.0            177.0\n",
       "11  1457177169407393795             355.0            507.0\n",
       "12             26950458             416.0            501.0\n",
       "13             17919393             155.0            177.0\n",
       "14            620136960             155.0            177.0\n",
       "15   989313110602235904             131.0            175.0\n",
       "16             36167088             155.0            177.0\n",
       "17            898324652             429.0            311.0\n",
       "18             17018470             182.0            155.0\n",
       "19  1428158156098572291             416.0            501.0\n",
       "20  1004065528871247872             177.0             35.0\n",
       "21   877629044828667905             177.0             35.0\n",
       "22             20280574             270.0            240.0\n",
       "23           3173246967             144.0            144.0\n",
       "24             21833509             199.0            132.0\n",
       "25   989320781799743488             177.0             35.0\n",
       "27             19201304             246.0            206.0\n",
       "28            239666710             187.0            177.0\n",
       "29            142843687             199.0            169.0\n",
       "30             14596185             153.0            131.0\n",
       "31           2498871378             177.0            199.0\n",
       "32  1421182643375427584              86.0            138.0\n",
       "33             33919623             403.0            448.0\n",
       "34            323920783             151.0            159.0\n",
       "35             36740674             161.0            261.0\n",
       "36            257663572             154.0            246.0\n",
       "37            294118241             189.0            153.0\n",
       "38             38282048             179.0            183.0\n",
       "39            146569971             177.0             35.0\n",
       "40           2167134798             187.0            177.0\n",
       "41            553010243             135.0            153.0\n",
       "42             15850297             169.0            134.0\n",
       "43             43369337             177.0             35.0\n",
       "44   709986828066144257             199.0            169.0"
      ]
     },
     "execution_count": 258,
     "metadata": {},
     "output_type": "execute_result"
    }
   ],
   "source": [
    "before = []\n",
    "after = []\n",
    "for idx, row in author_rrpp_data.iterrows():\n",
    "    author = row['author_id']\n",
    "    last_tweet = row['last_tweet']\n",
    "    two_days_after_last_tweet = last_tweet + pd.Timedelta(days=1)\n",
    "    two_days_before_last_tweet = last_tweet - pd.Timedelta(days=1)\n",
    "    avg_posts_before = date_posts[(date_posts['created_at'] <= last_tweet) & (date_posts['created_at'] >= two_days_before_last_tweet)]['count'].mean()\n",
    "    avg_posts_after = date_posts[(date_posts['created_at'] > last_tweet) & (date_posts['created_at'] <= two_days_after_last_tweet)]['count'].mean()\n",
    "    before.append(avg_posts_before)\n",
    "    after.append(avg_posts_after)\n",
    "before_after_df = pd.DataFrame({'author_id': author_rrpp_data['author_id'], 'avg_posts_before': before, 'avg_posts_after': after})\n",
    "before_after_df.dropna(inplace=True)\n",
    "before_after_df"
   ]
  },
  {
   "cell_type": "code",
   "execution_count": 259,
   "id": "d7948505",
   "metadata": {},
   "outputs": [
    {
     "name": "stdout",
     "output_type": "stream",
     "text": [
      "t-statistic: -0.3975456594205905, one-sided p-value: 0.7002291224534907\n"
     ]
    }
   ],
   "source": [
    "from scipy.stats import ttest_rel\n",
    "t_stat, p_val = ttest_rel(before_after_df.iloc[:10]['avg_posts_before'], before_after_df.iloc[:10]['avg_posts_after'])\n",
    "print(f\"t-statistic: {t_stat}, one-sided p-value: {p_val}\")"
   ]
  },
  {
   "cell_type": "code",
   "execution_count": 263,
   "id": "dcc8cdaf",
   "metadata": {},
   "outputs": [
    {
     "name": "stdout",
     "output_type": "stream",
     "text": [
      "Wilcoxon statistic: 506.0 p-value: 0.34501602864613945\n"
     ]
    }
   ],
   "source": [
    "from scipy.stats import wilcoxon\n",
    "stat, p_val = wilcoxon(before_after_df['avg_posts_before'], before_after_df['avg_posts_after'], alternative=\"greater\")\n",
    "print(\"Wilcoxon statistic:\", stat, \"p-value:\", p_val)\n"
   ]
  },
  {
   "cell_type": "code",
   "execution_count": 272,
   "id": "0682ca77",
   "metadata": {},
   "outputs": [
    {
     "data": {
      "text/plain": [
       "3903"
      ]
     },
     "execution_count": 272,
     "metadata": {},
     "output_type": "execute_result"
    }
   ],
   "source": [
    "df[\"author_id\"].nunique()"
   ]
  },
  {
   "cell_type": "code",
   "execution_count": null,
   "id": "6a0d1d1f",
   "metadata": {},
   "outputs": [],
   "source": []
  }
 ],
 "metadata": {
  "kernelspec": {
   "display_name": "main",
   "language": "python",
   "name": "python3"
  },
  "language_info": {
   "codemirror_mode": {
    "name": "ipython",
    "version": 3
   },
   "file_extension": ".py",
   "mimetype": "text/x-python",
   "name": "python",
   "nbconvert_exporter": "python",
   "pygments_lexer": "ipython3",
   "version": "3.12.5"
  }
 },
 "nbformat": 4,
 "nbformat_minor": 5
}
