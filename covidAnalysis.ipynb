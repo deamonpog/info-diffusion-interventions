{
 "cells": [
  {
   "cell_type": "code",
   "execution_count": 1,
   "id": "5a3e2800",
   "metadata": {},
   "outputs": [],
   "source": [
    "import pandas as pd\n",
    "import matplotlib.pyplot as plt\n",
    "import numpy as np\n",
    "import gzip\n",
    "import json\n",
    "import glob\n",
    "from collections import Counter"
   ]
  },
  {
   "cell_type": "code",
   "execution_count": 2,
   "id": "41dcdbf4",
   "metadata": {},
   "outputs": [
    {
     "data": {
      "application/vnd.microsoft.datawrangler.viewer.v0+json": {
       "columns": [
        {
         "name": "index",
         "rawType": "int64",
         "type": "integer"
        },
        {
         "name": "created_at",
         "rawType": "datetime64[ns, UTC]",
         "type": "unknown"
        },
        {
         "name": "author_id",
         "rawType": "object",
         "type": "string"
        },
        {
         "name": "in_reply_to_user_id",
         "rawType": "object",
         "type": "unknown"
        },
        {
         "name": "hashtags",
         "rawType": "object",
         "type": "string"
        }
       ],
       "ref": "f5fe73dd-d98c-4563-8bd1-891460da10b1",
       "rows": [
        [
         "0",
         "2022-04-01 04:58:38+00:00",
         "1385729645740449804",
         "1500536286591033351",
         "[]"
        ],
        [
         "1",
         "2022-04-01 04:56:47+00:00",
         "4501930040",
         null,
         "[]"
        ],
        [
         "2",
         "2022-04-01 04:56:23+00:00",
         "28729354",
         "3173688997",
         "[]"
        ],
        [
         "3",
         "2022-04-01 04:55:32+00:00",
         "4501930040",
         "1248074962377699328",
         "[]"
        ],
        [
         "4",
         "2022-04-01 04:55:00+00:00",
         "4501930040",
         null,
         "[]"
        ],
        [
         "5",
         "2022-04-01 04:53:25+00:00",
         "1031312835744284677",
         null,
         "[]"
        ],
        [
         "6",
         "2022-04-01 04:27:57+00:00",
         "28729354",
         null,
         "['#journalism', '#dallas']"
        ],
        [
         "7",
         "2022-04-01 04:10:12+00:00",
         "2919219271",
         null,
         "[]"
        ],
        [
         "8",
         "2022-04-01 03:49:55+00:00",
         "1385729645740449804",
         "1280478731874848769",
         "[]"
        ],
        [
         "9",
         "2022-04-01 03:47:28+00:00",
         "15220806",
         null,
         "[]"
        ],
        [
         "10",
         "2022-04-01 03:46:59+00:00",
         "1385729645740449804",
         "1361449070116691968",
         "[]"
        ],
        [
         "11",
         "2022-04-01 03:42:13+00:00",
         "1385729645740449804",
         null,
         "['#InsectThursday', '#insects', '#insect', '#IndiAves', '#Entomology', '#bees', '#saveour']"
        ],
        [
         "12",
         "2022-04-01 03:25:07+00:00",
         "1458918114322628637",
         null,
         "[]"
        ],
        [
         "13",
         "2022-04-01 03:24:43+00:00",
         "1374024870212861955",
         null,
         "[]"
        ],
        [
         "14",
         "2022-04-01 03:24:24+00:00",
         "1374024870212861955",
         null,
         "[]"
        ],
        [
         "15",
         "2022-04-01 03:23:10+00:00",
         "1374024870212861955",
         null,
         "[]"
        ],
        [
         "16",
         "2022-04-01 03:22:54+00:00",
         "1374024870212861955",
         null,
         "['#antifa']"
        ],
        [
         "17",
         "2022-04-01 03:22:23+00:00",
         "28729354",
         null,
         "[]"
        ],
        [
         "18",
         "2022-04-01 03:18:30+00:00",
         "1374024870212861955",
         null,
         "[]"
        ],
        [
         "19",
         "2022-04-01 03:15:05+00:00",
         "1374024870212861955",
         null,
         "[]"
        ],
        [
         "20",
         "2022-04-01 03:14:54+00:00",
         "1374024870212861955",
         null,
         "[]"
        ],
        [
         "21",
         "2022-04-01 03:14:01+00:00",
         "1374024870212861955",
         null,
         "[]"
        ],
        [
         "22",
         "2022-04-01 03:13:22+00:00",
         "1374024870212861955",
         null,
         "[]"
        ],
        [
         "23",
         "2022-04-01 03:11:55+00:00",
         "1374024870212861955",
         null,
         "[]"
        ],
        [
         "24",
         "2022-04-01 03:10:35+00:00",
         "2919219271",
         null,
         "[]"
        ],
        [
         "25",
         "2022-04-01 03:09:50+00:00",
         "2919219271",
         null,
         "[]"
        ],
        [
         "26",
         "2022-04-01 03:08:06+00:00",
         "1374024870212861955",
         null,
         "[]"
        ],
        [
         "27",
         "2022-04-01 03:06:20+00:00",
         "1374024870212861955",
         null,
         "[]"
        ],
        [
         "28",
         "2022-04-01 03:06:13+00:00",
         "1374024870212861955",
         null,
         "[]"
        ],
        [
         "29",
         "2022-04-01 03:04:34+00:00",
         "1374024870212861955",
         null,
         "[]"
        ],
        [
         "30",
         "2022-04-01 03:04:32+00:00",
         "273039428",
         "273039428",
         "[]"
        ],
        [
         "31",
         "2022-04-01 03:03:57+00:00",
         "1385729645740449804",
         null,
         "[]"
        ],
        [
         "32",
         "2022-04-01 03:02:38+00:00",
         "273039428",
         null,
         "[]"
        ],
        [
         "33",
         "2022-04-01 03:02:00+00:00",
         "1374024870212861955",
         null,
         "[]"
        ],
        [
         "34",
         "2022-04-01 03:01:53+00:00",
         "1385729645740449804",
         null,
         "[]"
        ],
        [
         "35",
         "2022-04-01 03:00:09+00:00",
         "1385729645740449804",
         null,
         "['#IndianAirForce', '#Army', '#LightCombatHelicopters', '#MadeInIndia', '#AtmanirbharBharat', '#Defenc']"
        ],
        [
         "36",
         "2022-04-01 02:56:28+00:00",
         "1385729645740449804",
         "708432710772121602",
         "[]"
        ],
        [
         "37",
         "2022-04-01 02:55:18+00:00",
         "1385729645740449804",
         null,
         "[]"
        ],
        [
         "38",
         "2022-04-01 02:54:26+00:00",
         "1385729645740449804",
         null,
         "[]"
        ],
        [
         "39",
         "2022-04-01 02:52:22+00:00",
         "1385729645740449804",
         null,
         "['#naturephotography']"
        ],
        [
         "40",
         "2022-04-01 02:46:31+00:00",
         "15220806",
         null,
         "[]"
        ],
        [
         "41",
         "2022-04-01 02:46:14+00:00",
         "1385729645740449804",
         null,
         "[]"
        ],
        [
         "42",
         "2022-04-01 02:43:12+00:00",
         "1385729645740449804",
         null,
         "['#写真好きな人と繋がりたい', '#写真撮ってる人と繫がりた']"
        ],
        [
         "43",
         "2022-04-01 02:41:13+00:00",
         "1385729645740449804",
         null,
         "[]"
        ],
        [
         "44",
         "2022-04-01 02:40:00+00:00",
         "1385729645740449804",
         null,
         "[]"
        ],
        [
         "45",
         "2022-04-01 02:34:53+00:00",
         "1385729645740449804",
         null,
         "[]"
        ],
        [
         "46",
         "2022-04-01 02:34:27+00:00",
         "1385729645740449804",
         null,
         "[]"
        ],
        [
         "47",
         "2022-04-01 02:34:19+00:00",
         "1385729645740449804",
         null,
         "[]"
        ],
        [
         "48",
         "2022-04-01 02:29:54+00:00",
         "15220806",
         null,
         "[]"
        ],
        [
         "49",
         "2022-04-01 02:27:28+00:00",
         "1385729645740449804",
         null,
         "[]"
        ]
       ],
       "shape": {
        "columns": 4,
        "rows": 14060535
       }
      },
      "text/html": [
       "<div>\n",
       "<style scoped>\n",
       "    .dataframe tbody tr th:only-of-type {\n",
       "        vertical-align: middle;\n",
       "    }\n",
       "\n",
       "    .dataframe tbody tr th {\n",
       "        vertical-align: top;\n",
       "    }\n",
       "\n",
       "    .dataframe thead th {\n",
       "        text-align: right;\n",
       "    }\n",
       "</style>\n",
       "<table border=\"1\" class=\"dataframe\">\n",
       "  <thead>\n",
       "    <tr style=\"text-align: right;\">\n",
       "      <th></th>\n",
       "      <th>created_at</th>\n",
       "      <th>author_id</th>\n",
       "      <th>in_reply_to_user_id</th>\n",
       "      <th>hashtags</th>\n",
       "    </tr>\n",
       "  </thead>\n",
       "  <tbody>\n",
       "    <tr>\n",
       "      <th>0</th>\n",
       "      <td>2022-04-01 04:58:38+00:00</td>\n",
       "      <td>1385729645740449804</td>\n",
       "      <td>1500536286591033351</td>\n",
       "      <td>[]</td>\n",
       "    </tr>\n",
       "    <tr>\n",
       "      <th>1</th>\n",
       "      <td>2022-04-01 04:56:47+00:00</td>\n",
       "      <td>4501930040</td>\n",
       "      <td>NaN</td>\n",
       "      <td>[]</td>\n",
       "    </tr>\n",
       "    <tr>\n",
       "      <th>2</th>\n",
       "      <td>2022-04-01 04:56:23+00:00</td>\n",
       "      <td>28729354</td>\n",
       "      <td>3173688997</td>\n",
       "      <td>[]</td>\n",
       "    </tr>\n",
       "    <tr>\n",
       "      <th>3</th>\n",
       "      <td>2022-04-01 04:55:32+00:00</td>\n",
       "      <td>4501930040</td>\n",
       "      <td>1248074962377699328</td>\n",
       "      <td>[]</td>\n",
       "    </tr>\n",
       "    <tr>\n",
       "      <th>4</th>\n",
       "      <td>2022-04-01 04:55:00+00:00</td>\n",
       "      <td>4501930040</td>\n",
       "      <td>NaN</td>\n",
       "      <td>[]</td>\n",
       "    </tr>\n",
       "    <tr>\n",
       "      <th>...</th>\n",
       "      <td>...</td>\n",
       "      <td>...</td>\n",
       "      <td>...</td>\n",
       "      <td>...</td>\n",
       "    </tr>\n",
       "    <tr>\n",
       "      <th>14060530</th>\n",
       "      <td>2021-12-01 05:38:24+00:00</td>\n",
       "      <td>25444322</td>\n",
       "      <td>NaN</td>\n",
       "      <td>['#GetVaccinated']</td>\n",
       "    </tr>\n",
       "    <tr>\n",
       "      <th>14060531</th>\n",
       "      <td>2021-12-01 05:37:57+00:00</td>\n",
       "      <td>25444322</td>\n",
       "      <td>NaN</td>\n",
       "      <td>[]</td>\n",
       "    </tr>\n",
       "    <tr>\n",
       "      <th>14060532</th>\n",
       "      <td>2021-12-01 05:25:36+00:00</td>\n",
       "      <td>40091601</td>\n",
       "      <td>48928145</td>\n",
       "      <td>[]</td>\n",
       "    </tr>\n",
       "    <tr>\n",
       "      <th>14060533</th>\n",
       "      <td>2021-12-01 05:23:12+00:00</td>\n",
       "      <td>40091601</td>\n",
       "      <td>732409522778742784</td>\n",
       "      <td>[]</td>\n",
       "    </tr>\n",
       "    <tr>\n",
       "      <th>14060534</th>\n",
       "      <td>2021-12-01 05:04:41+00:00</td>\n",
       "      <td>17448914</td>\n",
       "      <td>NaN</td>\n",
       "      <td>[]</td>\n",
       "    </tr>\n",
       "  </tbody>\n",
       "</table>\n",
       "<p>14060535 rows × 4 columns</p>\n",
       "</div>"
      ],
      "text/plain": [
       "                        created_at            author_id  in_reply_to_user_id  \\\n",
       "0        2022-04-01 04:58:38+00:00  1385729645740449804  1500536286591033351   \n",
       "1        2022-04-01 04:56:47+00:00           4501930040                  NaN   \n",
       "2        2022-04-01 04:56:23+00:00             28729354           3173688997   \n",
       "3        2022-04-01 04:55:32+00:00           4501930040  1248074962377699328   \n",
       "4        2022-04-01 04:55:00+00:00           4501930040                  NaN   \n",
       "...                            ...                  ...                  ...   \n",
       "14060530 2021-12-01 05:38:24+00:00             25444322                  NaN   \n",
       "14060531 2021-12-01 05:37:57+00:00             25444322                  NaN   \n",
       "14060532 2021-12-01 05:25:36+00:00             40091601             48928145   \n",
       "14060533 2021-12-01 05:23:12+00:00             40091601   732409522778742784   \n",
       "14060534 2021-12-01 05:04:41+00:00             17448914                  NaN   \n",
       "\n",
       "                    hashtags  \n",
       "0                         []  \n",
       "1                         []  \n",
       "2                         []  \n",
       "3                         []  \n",
       "4                         []  \n",
       "...                      ...  \n",
       "14060530  ['#GetVaccinated']  \n",
       "14060531                  []  \n",
       "14060532                  []  \n",
       "14060533                  []  \n",
       "14060534                  []  \n",
       "\n",
       "[14060535 rows x 4 columns]"
      ]
     },
     "execution_count": 2,
     "metadata": {},
     "output_type": "execute_result"
    }
   ],
   "source": [
    "df = pd.read_csv(\"../all_data_minimal_with_hashtags.csv\", parse_dates=[\"created_at\"], dtype={\"author_id\": str, \"in_reply_to_user_id\": str}, usecols=[\"created_at\", \"author_id\", \"in_reply_to_user_id\", \"hashtags\"])\n",
    "df"
   ]
  },
  {
   "cell_type": "code",
   "execution_count": 3,
   "id": "82dfc1af",
   "metadata": {},
   "outputs": [
    {
     "data": {
      "application/vnd.microsoft.datawrangler.viewer.v0+json": {
       "columns": [
        {
         "name": "index",
         "rawType": "int64",
         "type": "integer"
        },
        {
         "name": "created_at",
         "rawType": "datetime64[ns, UTC]",
         "type": "unknown"
        },
        {
         "name": "author_id",
         "rawType": "object",
         "type": "string"
        },
        {
         "name": "in_reply_to_user_id",
         "rawType": "object",
         "type": "unknown"
        },
        {
         "name": "hashtags",
         "rawType": "object",
         "type": "string"
        }
       ],
       "ref": "37aec63f-f503-4d2d-a1eb-ed86196d160c",
       "rows": [
        [
         "388",
         "2022-03-31 20:22:08+00:00",
         "218538023",
         null,
         "['#COVID19', '#flu', '#influenza', '#COVID19Aus']"
        ],
        [
         "393",
         "2022-03-31 20:20:44+00:00",
         "218538023",
         null,
         "['#COVID19']"
        ],
        [
         "395",
         "2022-03-31 20:19:45+00:00",
         "218538023",
         null,
         "['#COVID19']"
        ],
        [
         "1063",
         "2022-03-31 12:29:30+00:00",
         "218538023",
         null,
         "['#COVID19']"
        ],
        [
         "1065",
         "2022-03-31 12:28:10+00:00",
         "218538023",
         null,
         "['#COVID19']"
        ],
        [
         "1644",
         "2022-03-31 00:55:08+00:00",
         "1004065528871247872",
         null,
         "['#NationalDoctorsDay', '#COVID19']"
        ],
        [
         "2236",
         "2022-03-30 20:03:29+00:00",
         "1379878022577283092",
         null,
         "['#COVID19', '#satellite', '#space', '#Government']"
        ],
        [
         "2882",
         "2022-03-30 01:19:07+00:00",
         "218538023",
         null,
         "['#COVID19', '#LongCovid', '#AMR']"
        ],
        [
         "2883",
         "2022-03-30 01:18:49+00:00",
         "218538023",
         null,
         "['#COVID19']"
        ],
        [
         "2889",
         "2022-03-30 01:17:01+00:00",
         "218538023",
         null,
         "['#COVID19']"
        ],
        [
         "2893",
         "2022-03-30 01:15:49+00:00",
         "218538023",
         null,
         "['#COVID19']"
        ],
        [
         "4110",
         "2022-03-28 17:19:43+00:00",
         "218538023",
         null,
         "['#COVID19']"
        ],
        [
         "8159",
         "2022-03-24 18:51:43+00:00",
         "218538023",
         null,
         "['#COVID19']"
        ],
        [
         "8204",
         "2022-03-24 17:10:20+00:00",
         "218538023",
         null,
         "['#COVID19', '#AMR', '#AntibioticStewardship']"
        ],
        [
         "8281",
         "2022-03-24 16:09:13+00:00",
         "61399101",
         null,
         "['#COVID19']"
        ],
        [
         "8463",
         "2022-03-24 15:30:02+00:00",
         "218538023",
         null,
         "['#COVID19']"
        ],
        [
         "11314",
         "2022-03-22 20:32:35+00:00",
         "218538023",
         null,
         "['#COVID19']"
        ],
        [
         "11340",
         "2022-03-22 20:06:55+00:00",
         "218538023",
         null,
         "['#COVID19']"
        ],
        [
         "11341",
         "2022-03-22 20:05:33+00:00",
         "218538023",
         null,
         "['#COVID19']"
        ],
        [
         "12056",
         "2022-03-22 03:44:07+00:00",
         "1598709793",
         null,
         "['#COVID19']"
        ],
        [
         "12802",
         "2022-03-21 18:01:29+00:00",
         "61399101",
         null,
         "['#COVID19']"
        ],
        [
         "14313",
         "2022-03-20 12:17:12+00:00",
         "218538023",
         null,
         "['#COVID19']"
        ],
        [
         "14933",
         "2022-03-19 18:31:44+00:00",
         "218538023",
         null,
         "['#COVID19']"
        ],
        [
         "15178",
         "2022-03-19 13:02:04+00:00",
         "218538023",
         null,
         "['#HowToSurviveAPandemic', '#COVID19']"
        ],
        [
         "15185",
         "2022-03-19 12:52:07+00:00",
         "218538023",
         null,
         "['#COVID19']"
        ],
        [
         "15186",
         "2022-03-19 12:51:23+00:00",
         "218538023",
         null,
         "['#COVID19']"
        ],
        [
         "16393",
         "2022-03-18 20:49:49+00:00",
         "61399101",
         null,
         "['#COVID19']"
        ],
        [
         "17603",
         "2022-03-17 23:04:04+00:00",
         "218538023",
         null,
         "['#COVID19', '#COVID']"
        ],
        [
         "17688",
         "2022-03-17 21:25:32+00:00",
         "218538023",
         null,
         "['#COVID19']"
        ],
        [
         "18029",
         "2022-03-17 17:29:49+00:00",
         "218538023",
         null,
         "['#COVID19']"
        ],
        [
         "18046",
         "2022-03-17 17:08:58+00:00",
         "218538023",
         null,
         "['#COVID19']"
        ],
        [
         "18048",
         "2022-03-17 17:08:17+00:00",
         "218538023",
         null,
         "['#COVID19']"
        ],
        [
         "18049",
         "2022-03-17 17:08:06+00:00",
         "218538023",
         null,
         "['#COVID19']"
        ],
        [
         "18669",
         "2022-03-17 02:44:47+00:00",
         "218538023",
         null,
         "['#COVID19']"
        ],
        [
         "20757",
         "2022-03-15 15:35:27+00:00",
         "218538023",
         null,
         "['#COVID19']"
        ],
        [
         "20781",
         "2022-03-15 14:55:36+00:00",
         "2919219271",
         null,
         "['#rural', '#COVID19']"
        ],
        [
         "24617",
         "2022-03-11 18:28:36+00:00",
         "61399101",
         null,
         "['#COVID19', '#OurCounty']"
        ],
        [
         "26190",
         "2022-03-10 19:02:29+00:00",
         "4501930040",
         null,
         "['#China', '#COVID19', '#Mexico']"
        ],
        [
         "26914",
         "2022-03-10 12:21:40+00:00",
         "218538023",
         null,
         "['#COVID19']"
        ],
        [
         "26921",
         "2022-03-10 12:17:45+00:00",
         "218538023",
         null,
         "['#COVID19']"
        ],
        [
         "29292",
         "2022-03-08 23:34:38+00:00",
         "218538023",
         null,
         "['#COVID19']"
        ],
        [
         "29372",
         "2022-03-08 22:19:26+00:00",
         "218538023",
         null,
         "['#COVID19']"
        ],
        [
         "30854",
         "2022-03-07 21:56:05+00:00",
         "218538023",
         null,
         "['#COVID19']"
        ],
        [
         "33567",
         "2022-03-05 19:35:31+00:00",
         "28729354",
         null,
         "['#COVID19', '#COVID', '#journalism', '#coronavirus']"
        ],
        [
         "33680",
         "2022-03-05 16:51:49+00:00",
         "28729354",
         null,
         "['#COVID19', '#pandemic']"
        ],
        [
         "35220",
         "2022-03-04 20:28:29+00:00",
         "218538023",
         null,
         "['#COVID19', '#AvianFlu', '#Polio', '#JapaneseEncephalitis']"
        ],
        [
         "35221",
         "2022-03-04 20:28:02+00:00",
         "218538023",
         null,
         "['#COVID19']"
        ],
        [
         "36155",
         "2022-03-04 02:49:21+00:00",
         "218538023",
         null,
         "['#COVID19', '#AvianFlu', '#DURC']"
        ],
        [
         "36157",
         "2022-03-04 02:48:53+00:00",
         "218538023",
         null,
         "['#COVID19']"
        ],
        [
         "36160",
         "2022-03-04 02:48:05+00:00",
         "218538023",
         null,
         "['#COVID19']"
        ]
       ],
       "shape": {
        "columns": 4,
        "rows": 33228
       }
      },
      "text/html": [
       "<div>\n",
       "<style scoped>\n",
       "    .dataframe tbody tr th:only-of-type {\n",
       "        vertical-align: middle;\n",
       "    }\n",
       "\n",
       "    .dataframe tbody tr th {\n",
       "        vertical-align: top;\n",
       "    }\n",
       "\n",
       "    .dataframe thead th {\n",
       "        text-align: right;\n",
       "    }\n",
       "</style>\n",
       "<table border=\"1\" class=\"dataframe\">\n",
       "  <thead>\n",
       "    <tr style=\"text-align: right;\">\n",
       "      <th></th>\n",
       "      <th>created_at</th>\n",
       "      <th>author_id</th>\n",
       "      <th>in_reply_to_user_id</th>\n",
       "      <th>hashtags</th>\n",
       "    </tr>\n",
       "  </thead>\n",
       "  <tbody>\n",
       "    <tr>\n",
       "      <th>388</th>\n",
       "      <td>2022-03-31 20:22:08+00:00</td>\n",
       "      <td>218538023</td>\n",
       "      <td>NaN</td>\n",
       "      <td>['#COVID19', '#flu', '#influenza', '#COVID19Aus']</td>\n",
       "    </tr>\n",
       "    <tr>\n",
       "      <th>393</th>\n",
       "      <td>2022-03-31 20:20:44+00:00</td>\n",
       "      <td>218538023</td>\n",
       "      <td>NaN</td>\n",
       "      <td>['#COVID19']</td>\n",
       "    </tr>\n",
       "    <tr>\n",
       "      <th>395</th>\n",
       "      <td>2022-03-31 20:19:45+00:00</td>\n",
       "      <td>218538023</td>\n",
       "      <td>NaN</td>\n",
       "      <td>['#COVID19']</td>\n",
       "    </tr>\n",
       "    <tr>\n",
       "      <th>1063</th>\n",
       "      <td>2022-03-31 12:29:30+00:00</td>\n",
       "      <td>218538023</td>\n",
       "      <td>NaN</td>\n",
       "      <td>['#COVID19']</td>\n",
       "    </tr>\n",
       "    <tr>\n",
       "      <th>1065</th>\n",
       "      <td>2022-03-31 12:28:10+00:00</td>\n",
       "      <td>218538023</td>\n",
       "      <td>NaN</td>\n",
       "      <td>['#COVID19']</td>\n",
       "    </tr>\n",
       "    <tr>\n",
       "      <th>...</th>\n",
       "      <td>...</td>\n",
       "      <td>...</td>\n",
       "      <td>...</td>\n",
       "      <td>...</td>\n",
       "    </tr>\n",
       "    <tr>\n",
       "      <th>14060112</th>\n",
       "      <td>2021-12-02 15:21:10+00:00</td>\n",
       "      <td>15570694</td>\n",
       "      <td>NaN</td>\n",
       "      <td>['#COVID19']</td>\n",
       "    </tr>\n",
       "    <tr>\n",
       "      <th>14060159</th>\n",
       "      <td>2021-12-02 12:24:23+00:00</td>\n",
       "      <td>982564830</td>\n",
       "      <td>NaN</td>\n",
       "      <td>['#COVID19']</td>\n",
       "    </tr>\n",
       "    <tr>\n",
       "      <th>14060290</th>\n",
       "      <td>2021-12-01 22:02:19+00:00</td>\n",
       "      <td>982564830</td>\n",
       "      <td>NaN</td>\n",
       "      <td>['#DrOz', '#COVID19']</td>\n",
       "    </tr>\n",
       "    <tr>\n",
       "      <th>14060330</th>\n",
       "      <td>2021-12-01 19:50:52+00:00</td>\n",
       "      <td>982564830</td>\n",
       "      <td>NaN</td>\n",
       "      <td>['#Parents', '#COVID19']</td>\n",
       "    </tr>\n",
       "    <tr>\n",
       "      <th>14060365</th>\n",
       "      <td>2021-12-01 18:04:49+00:00</td>\n",
       "      <td>17448914</td>\n",
       "      <td>NaN</td>\n",
       "      <td>['#COVID19']</td>\n",
       "    </tr>\n",
       "  </tbody>\n",
       "</table>\n",
       "<p>33228 rows × 4 columns</p>\n",
       "</div>"
      ],
      "text/plain": [
       "                        created_at  author_id in_reply_to_user_id  \\\n",
       "388      2022-03-31 20:22:08+00:00  218538023                 NaN   \n",
       "393      2022-03-31 20:20:44+00:00  218538023                 NaN   \n",
       "395      2022-03-31 20:19:45+00:00  218538023                 NaN   \n",
       "1063     2022-03-31 12:29:30+00:00  218538023                 NaN   \n",
       "1065     2022-03-31 12:28:10+00:00  218538023                 NaN   \n",
       "...                            ...        ...                 ...   \n",
       "14060112 2021-12-02 15:21:10+00:00   15570694                 NaN   \n",
       "14060159 2021-12-02 12:24:23+00:00  982564830                 NaN   \n",
       "14060290 2021-12-01 22:02:19+00:00  982564830                 NaN   \n",
       "14060330 2021-12-01 19:50:52+00:00  982564830                 NaN   \n",
       "14060365 2021-12-01 18:04:49+00:00   17448914                 NaN   \n",
       "\n",
       "                                                   hashtags  \n",
       "388       ['#COVID19', '#flu', '#influenza', '#COVID19Aus']  \n",
       "393                                            ['#COVID19']  \n",
       "395                                            ['#COVID19']  \n",
       "1063                                           ['#COVID19']  \n",
       "1065                                           ['#COVID19']  \n",
       "...                                                     ...  \n",
       "14060112                                       ['#COVID19']  \n",
       "14060159                                       ['#COVID19']  \n",
       "14060290                              ['#DrOz', '#COVID19']  \n",
       "14060330                           ['#Parents', '#COVID19']  \n",
       "14060365                                       ['#COVID19']  \n",
       "\n",
       "[33228 rows x 4 columns]"
      ]
     },
     "execution_count": 3,
     "metadata": {},
     "output_type": "execute_result"
    }
   ],
   "source": [
    "df_covid19 = df[df['hashtags'].apply(lambda hashtags: \"#COVID19\" in hashtags)]\n",
    "df_covid19"
   ]
  },
  {
   "cell_type": "code",
   "execution_count": 4,
   "id": "8df0362e",
   "metadata": {},
   "outputs": [
    {
     "data": {
      "text/plain": [
       "<Axes: xlabel='created_at'>"
      ]
     },
     "execution_count": 4,
     "metadata": {},
     "output_type": "execute_result"
    },
    {
     "data": {
      "image/png": "[encoded data removed]",
      "text/plain": [
       "<Figure size 640x480 with 1 Axes>"
      ]
     },
     "metadata": {},
     "output_type": "display_data"
    }
   ],
   "source": [
    "df_covid19.set_index(\"created_at\").resample(\"D\").size().plot()"
   ]
  },
  {
   "cell_type": "code",
   "execution_count": 5,
   "id": "a83bbfd1",
   "metadata": {},
   "outputs": [
    {
     "data": {
      "application/vnd.microsoft.datawrangler.viewer.v0+json": {
       "columns": [
        {
         "name": "index",
         "rawType": "int64",
         "type": "integer"
        },
        {
         "name": "author_id",
         "rawType": "object",
         "type": "string"
        },
        {
         "name": "post_count",
         "rawType": "int64",
         "type": "integer"
        }
       ],
       "ref": "b0dd134e-4c69-45f8-b338-80c73abfe814",
       "rows": [
        [
         "0",
         "118788479",
         "1220"
        ],
        [
         "1",
         "29097819",
         "1065"
        ],
        [
         "2",
         "736710115",
         "820"
        ],
        [
         "3",
         "4937061",
         "588"
        ],
        [
         "4",
         "38978291",
         "573"
        ],
        [
         "5",
         "879751182696230912",
         "467"
        ],
        [
         "6",
         "146569971",
         "467"
        ],
        [
         "7",
         "17449331",
         "436"
        ],
        [
         "8",
         "1310982818206547968",
         "428"
        ],
        [
         "9",
         "4481687056",
         "423"
        ],
        [
         "10",
         "796209435865661440",
         "413"
        ],
        [
         "11",
         "80483638",
         "400"
        ],
        [
         "12",
         "327811537",
         "398"
        ],
        [
         "13",
         "992307060",
         "351"
        ],
        [
         "14",
         "1398747840",
         "310"
        ],
        [
         "15",
         "23948496",
         "269"
        ],
        [
         "16",
         "23026561",
         "255"
        ],
        [
         "17",
         "48219360",
         "252"
        ],
        [
         "18",
         "134971995",
         "230"
        ],
        [
         "19",
         "912185165048410112",
         "224"
        ],
        [
         "20",
         "44783853",
         "215"
        ],
        [
         "21",
         "218538023",
         "212"
        ],
        [
         "22",
         "4697664391",
         "212"
        ],
        [
         "23",
         "1011011440025600000",
         "210"
        ],
        [
         "24",
         "3653083512",
         "199"
        ],
        [
         "25",
         "2856133189",
         "196"
        ],
        [
         "26",
         "218289191",
         "189"
        ],
        [
         "27",
         "1374837540079960069",
         "187"
        ],
        [
         "28",
         "451585651",
         "178"
        ],
        [
         "29",
         "21265939",
         "176"
        ],
        [
         "30",
         "838902662263357441",
         "175"
        ],
        [
         "31",
         "16685803",
         "173"
        ],
        [
         "32",
         "110838368",
         "173"
        ],
        [
         "33",
         "36167088",
         "172"
        ],
        [
         "34",
         "3253228622",
         "171"
        ],
        [
         "35",
         "19658936",
         "170"
        ],
        [
         "36",
         "2894327814",
         "165"
        ],
        [
         "37",
         "719690726641164288",
         "149"
        ],
        [
         "38",
         "29295613",
         "148"
        ],
        [
         "39",
         "877629044828667905",
         "142"
        ],
        [
         "40",
         "43369337",
         "140"
        ],
        [
         "41",
         "1159924250624569344",
         "139"
        ],
        [
         "42",
         "297261364",
         "136"
        ],
        [
         "43",
         "29967129",
         "134"
        ],
        [
         "44",
         "541068411",
         "130"
        ],
        [
         "45",
         "8731312",
         "129"
        ],
        [
         "46",
         "871399252815204354",
         "128"
        ],
        [
         "47",
         "1406397502924877828",
         "128"
        ],
        [
         "48",
         "1396930447641251840",
         "127"
        ],
        [
         "49",
         "1060573081935249409",
         "126"
        ]
       ],
       "shape": {
        "columns": 2,
        "rows": 1561
       }
      },
      "text/html": [
       "<div>\n",
       "<style scoped>\n",
       "    .dataframe tbody tr th:only-of-type {\n",
       "        vertical-align: middle;\n",
       "    }\n",
       "\n",
       "    .dataframe tbody tr th {\n",
       "        vertical-align: top;\n",
       "    }\n",
       "\n",
       "    .dataframe thead th {\n",
       "        text-align: right;\n",
       "    }\n",
       "</style>\n",
       "<table border=\"1\" class=\"dataframe\">\n",
       "  <thead>\n",
       "    <tr style=\"text-align: right;\">\n",
       "      <th></th>\n",
       "      <th>author_id</th>\n",
       "      <th>post_count</th>\n",
       "    </tr>\n",
       "  </thead>\n",
       "  <tbody>\n",
       "    <tr>\n",
       "      <th>0</th>\n",
       "      <td>118788479</td>\n",
       "      <td>1220</td>\n",
       "    </tr>\n",
       "    <tr>\n",
       "      <th>1</th>\n",
       "      <td>29097819</td>\n",
       "      <td>1065</td>\n",
       "    </tr>\n",
       "    <tr>\n",
       "      <th>2</th>\n",
       "      <td>736710115</td>\n",
       "      <td>820</td>\n",
       "    </tr>\n",
       "    <tr>\n",
       "      <th>3</th>\n",
       "      <td>4937061</td>\n",
       "      <td>588</td>\n",
       "    </tr>\n",
       "    <tr>\n",
       "      <th>4</th>\n",
       "      <td>38978291</td>\n",
       "      <td>573</td>\n",
       "    </tr>\n",
       "    <tr>\n",
       "      <th>...</th>\n",
       "      <td>...</td>\n",
       "      <td>...</td>\n",
       "    </tr>\n",
       "    <tr>\n",
       "      <th>1556</th>\n",
       "      <td>768695606223130624</td>\n",
       "      <td>1</td>\n",
       "    </tr>\n",
       "    <tr>\n",
       "      <th>1557</th>\n",
       "      <td>2513803810</td>\n",
       "      <td>1</td>\n",
       "    </tr>\n",
       "    <tr>\n",
       "      <th>1558</th>\n",
       "      <td>1069333070</td>\n",
       "      <td>1</td>\n",
       "    </tr>\n",
       "    <tr>\n",
       "      <th>1559</th>\n",
       "      <td>98269730</td>\n",
       "      <td>1</td>\n",
       "    </tr>\n",
       "    <tr>\n",
       "      <th>1560</th>\n",
       "      <td>2557553012</td>\n",
       "      <td>1</td>\n",
       "    </tr>\n",
       "  </tbody>\n",
       "</table>\n",
       "<p>1561 rows × 2 columns</p>\n",
       "</div>"
      ],
      "text/plain": [
       "               author_id  post_count\n",
       "0              118788479        1220\n",
       "1               29097819        1065\n",
       "2              736710115         820\n",
       "3                4937061         588\n",
       "4               38978291         573\n",
       "...                  ...         ...\n",
       "1556  768695606223130624           1\n",
       "1557          2513803810           1\n",
       "1558          1069333070           1\n",
       "1559            98269730           1\n",
       "1560          2557553012           1\n",
       "\n",
       "[1561 rows x 2 columns]"
      ]
     },
     "execution_count": 5,
     "metadata": {},
     "output_type": "execute_result"
    }
   ],
   "source": [
    "user_post_count = df_covid19[\"author_id\"].value_counts().rename_axis(\"author_id\").rename(\"post_count\").reset_index()\n",
    "user_post_count"
   ]
  },
  {
   "cell_type": "code",
   "execution_count": 6,
   "id": "1950169e",
   "metadata": {},
   "outputs": [
    {
     "data": {
      "application/vnd.microsoft.datawrangler.viewer.v0+json": {
       "columns": [
        {
         "name": "index",
         "rawType": "int64",
         "type": "integer"
        },
        {
         "name": "author_id",
         "rawType": "object",
         "type": "string"
        },
        {
         "name": "received_retweets_count",
         "rawType": "int64",
         "type": "integer"
        }
       ],
       "ref": "18082ad4-e0bc-4493-86f2-974e3617dd3f",
       "rows": [
        [
         "0",
         "80483638",
         "290"
        ],
        [
         "1",
         "146569971",
         "61"
        ],
        [
         "2",
         "36167088",
         "52"
        ],
        [
         "3",
         "620136960",
         "44"
        ],
        [
         "4",
         "17919393",
         "38"
        ],
        [
         "5",
         "877629044828667905",
         "31"
        ],
        [
         "6",
         "38978291",
         "25"
        ],
        [
         "7",
         "1295803342162210817",
         "21"
        ],
        [
         "8",
         "720959701651996673",
         "21"
        ],
        [
         "9",
         "20525702",
         "19"
        ],
        [
         "10",
         "1398747840",
         "19"
        ],
        [
         "11",
         "36740674",
         "19"
        ],
        [
         "12",
         "19834403",
         "15"
        ],
        [
         "13",
         "43369337",
         "15"
        ],
        [
         "14",
         "3180247177",
         "13"
        ],
        [
         "15",
         "1282853745945202688",
         "11"
        ],
        [
         "16",
         "20280574",
         "11"
        ],
        [
         "17",
         "451585651",
         "10"
        ],
        [
         "18",
         "76780096",
         "10"
        ],
        [
         "19",
         "16685803",
         "9"
        ],
        [
         "20",
         "323920783",
         "9"
        ],
        [
         "21",
         "8731312",
         "9"
        ],
        [
         "22",
         "1386292556766515200",
         "9"
        ],
        [
         "23",
         "767945051787759616",
         "8"
        ],
        [
         "24",
         "15632680",
         "8"
        ],
        [
         "25",
         "11134252",
         "8"
        ],
        [
         "26",
         "51241574",
         "8"
        ],
        [
         "27",
         "573210043",
         "8"
        ],
        [
         "28",
         "269992801",
         "8"
        ],
        [
         "29",
         "1349149096909668363",
         "8"
        ],
        [
         "30",
         "17143007",
         "7"
        ],
        [
         "31",
         "593289567",
         "7"
        ],
        [
         "32",
         "22828837",
         "6"
        ],
        [
         "33",
         "1457177169407393795",
         "6"
        ],
        [
         "34",
         "142843687",
         "6"
        ],
        [
         "35",
         "1421182643375427584",
         "6"
        ],
        [
         "36",
         "21151732",
         "5"
        ],
        [
         "37",
         "766325395708870656",
         "5"
        ],
        [
         "38",
         "22049097",
         "5"
        ],
        [
         "39",
         "114268609",
         "5"
        ],
        [
         "40",
         "800936305",
         "5"
        ],
        [
         "41",
         "2977083957",
         "5"
        ],
        [
         "42",
         "1239194270365614087",
         "5"
        ],
        [
         "43",
         "23026561",
         "5"
        ],
        [
         "44",
         "964559256509960192",
         "5"
        ],
        [
         "45",
         "84932964",
         "5"
        ],
        [
         "46",
         "14260960",
         "4"
        ],
        [
         "47",
         "912185165048410112",
         "4"
        ],
        [
         "48",
         "17018470",
         "4"
        ],
        [
         "49",
         "87358629",
         "4"
        ]
       ],
       "shape": {
        "columns": 2,
        "rows": 771
       }
      },
      "text/html": [
       "<div>\n",
       "<style scoped>\n",
       "    .dataframe tbody tr th:only-of-type {\n",
       "        vertical-align: middle;\n",
       "    }\n",
       "\n",
       "    .dataframe tbody tr th {\n",
       "        vertical-align: top;\n",
       "    }\n",
       "\n",
       "    .dataframe thead th {\n",
       "        text-align: right;\n",
       "    }\n",
       "</style>\n",
       "<table border=\"1\" class=\"dataframe\">\n",
       "  <thead>\n",
       "    <tr style=\"text-align: right;\">\n",
       "      <th></th>\n",
       "      <th>author_id</th>\n",
       "      <th>received_retweets_count</th>\n",
       "    </tr>\n",
       "  </thead>\n",
       "  <tbody>\n",
       "    <tr>\n",
       "      <th>0</th>\n",
       "      <td>80483638</td>\n",
       "      <td>290</td>\n",
       "    </tr>\n",
       "    <tr>\n",
       "      <th>1</th>\n",
       "      <td>146569971</td>\n",
       "      <td>61</td>\n",
       "    </tr>\n",
       "    <tr>\n",
       "      <th>2</th>\n",
       "      <td>36167088</td>\n",
       "      <td>52</td>\n",
       "    </tr>\n",
       "    <tr>\n",
       "      <th>3</th>\n",
       "      <td>620136960</td>\n",
       "      <td>44</td>\n",
       "    </tr>\n",
       "    <tr>\n",
       "      <th>4</th>\n",
       "      <td>17919393</td>\n",
       "      <td>38</td>\n",
       "    </tr>\n",
       "    <tr>\n",
       "      <th>...</th>\n",
       "      <td>...</td>\n",
       "      <td>...</td>\n",
       "    </tr>\n",
       "    <tr>\n",
       "      <th>766</th>\n",
       "      <td>18149465</td>\n",
       "      <td>1</td>\n",
       "    </tr>\n",
       "    <tr>\n",
       "      <th>767</th>\n",
       "      <td>14124059</td>\n",
       "      <td>1</td>\n",
       "    </tr>\n",
       "    <tr>\n",
       "      <th>768</th>\n",
       "      <td>382386622</td>\n",
       "      <td>1</td>\n",
       "    </tr>\n",
       "    <tr>\n",
       "      <th>769</th>\n",
       "      <td>19368770</td>\n",
       "      <td>1</td>\n",
       "    </tr>\n",
       "    <tr>\n",
       "      <th>770</th>\n",
       "      <td>344350643</td>\n",
       "      <td>1</td>\n",
       "    </tr>\n",
       "  </tbody>\n",
       "</table>\n",
       "<p>771 rows × 2 columns</p>\n",
       "</div>"
      ],
      "text/plain": [
       "     author_id  received_retweets_count\n",
       "0     80483638                      290\n",
       "1    146569971                       61\n",
       "2     36167088                       52\n",
       "3    620136960                       44\n",
       "4     17919393                       38\n",
       "..         ...                      ...\n",
       "766   18149465                        1\n",
       "767   14124059                        1\n",
       "768  382386622                        1\n",
       "769   19368770                        1\n",
       "770  344350643                        1\n",
       "\n",
       "[771 rows x 2 columns]"
      ]
     },
     "execution_count": 6,
     "metadata": {},
     "output_type": "execute_result"
    }
   ],
   "source": [
    "user_rr_count = df_covid19[\"in_reply_to_user_id\"].value_counts().rename_axis(\"author_id\").rename(\"received_retweets_count\").reset_index()#.drop(0) # drop NaN\n",
    "user_rr_count"
   ]
  },
  {
   "cell_type": "code",
   "execution_count": 7,
   "id": "88ef257b",
   "metadata": {},
   "outputs": [
    {
     "data": {
      "application/vnd.microsoft.datawrangler.viewer.v0+json": {
       "columns": [
        {
         "name": "index",
         "rawType": "int64",
         "type": "integer"
        },
        {
         "name": "author_id",
         "rawType": "object",
         "type": "string"
        },
        {
         "name": "received_retweets_count",
         "rawType": "float64",
         "type": "float"
        },
        {
         "name": "post_count",
         "rawType": "float64",
         "type": "float"
        },
        {
         "name": "rr_per_post",
         "rawType": "float64",
         "type": "float"
        }
       ],
       "ref": "22eaeb83-7172-4a30-a157-52ebdcf46fed",
       "rows": [
        [
         "327",
         "1295803342162210817",
         "21.0",
         "0.0",
         "21.0"
        ],
        [
         "917",
         "20525702",
         "19.0",
         "0.0",
         "19.0"
        ],
        [
         "894",
         "19834403",
         "15.0",
         "0.0",
         "15.0"
        ],
        [
         "1392",
         "3180247177",
         "13.0",
         "0.0",
         "13.0"
        ],
        [
         "308",
         "1282853745945202688",
         "11.0",
         "0.0",
         "11.0"
        ],
        [
         "1965",
         "76780096",
         "10.0",
         "0.0",
         "10.0"
        ],
        [
         "447",
         "1386292556766515200",
         "9.0",
         "0.0",
         "9.0"
        ],
        [
         "1200",
         "269992801",
         "8.0",
         "0.0",
         "8.0"
        ],
        [
         "399",
         "1349149096909668363",
         "8.0",
         "0.0",
         "8.0"
        ],
        [
         "645",
         "15632680",
         "8.0",
         "0.0",
         "8.0"
        ],
        [
         "1739",
         "51241574",
         "8.0",
         "0.0",
         "8.0"
        ],
        [
         "108",
         "11134252",
         "8.0",
         "0.0",
         "8.0"
        ],
        [
         "1800",
         "573210043",
         "8.0",
         "0.0",
         "8.0"
        ],
        [
         "1821",
         "593289567",
         "7.0",
         "0.0",
         "7.0"
        ],
        [
         "750",
         "17143007",
         "7.0",
         "0.0",
         "7.0"
        ],
        [
         "1317",
         "2977083957",
         "5.0",
         "0.0",
         "5.0"
        ],
        [
         "2209",
         "964559256509960192",
         "5.0",
         "0.0",
         "5.0"
        ],
        [
         "1961",
         "766325395708870656",
         "5.0",
         "0.0",
         "5.0"
        ],
        [
         "135",
         "114268609",
         "5.0",
         "0.0",
         "5.0"
        ],
        [
         "983",
         "22049097",
         "5.0",
         "0.0",
         "5.0"
        ],
        [
         "945",
         "21151732",
         "5.0",
         "0.0",
         "5.0"
        ],
        [
         "2004",
         "800936305",
         "5.0",
         "0.0",
         "5.0"
        ],
        [
         "238",
         "1239194270365614087",
         "5.0",
         "0.0",
         "5.0"
        ],
        [
         "864",
         "193441812",
         "4.0",
         "0.0",
         "4.0"
        ],
        [
         "2106",
         "87358629",
         "4.0",
         "0.0",
         "4.0"
        ],
        [
         "493",
         "14260960",
         "4.0",
         "0.0",
         "4.0"
        ],
        [
         "2117",
         "883712822563274752",
         "4.0",
         "0.0",
         "4.0"
        ],
        [
         "1184",
         "2638962893",
         "3.0",
         "0.0",
         "3.0"
        ],
        [
         "42",
         "1043185714437992449",
         "3.0",
         "0.0",
         "3.0"
        ],
        [
         "1394",
         "3193073724",
         "3.0",
         "0.0",
         "3.0"
        ],
        [
         "154",
         "116507727",
         "3.0",
         "0.0",
         "3.0"
        ],
        [
         "851",
         "1917731",
         "3.0",
         "0.0",
         "3.0"
        ],
        [
         "760",
         "1734946358",
         "3.0",
         "0.0",
         "3.0"
        ],
        [
         "968",
         "2174481686",
         "3.0",
         "0.0",
         "3.0"
        ],
        [
         "564",
         "1469037807884816393",
         "3.0",
         "0.0",
         "3.0"
        ],
        [
         "424",
         "1364259892299767810",
         "3.0",
         "0.0",
         "3.0"
        ],
        [
         "1539",
         "380285402",
         "3.0",
         "0.0",
         "3.0"
        ],
        [
         "719",
         "16635277",
         "3.0",
         "0.0",
         "3.0"
        ],
        [
         "301",
         "1280478731874848769",
         "3.0",
         "0.0",
         "3.0"
        ],
        [
         "1519",
         "366481377",
         "3.0",
         "0.0",
         "3.0"
        ],
        [
         "84",
         "1087380412089987077",
         "3.0",
         "0.0",
         "3.0"
        ],
        [
         "221",
         "1225975177978294272",
         "3.0",
         "0.0",
         "3.0"
        ],
        [
         "1826",
         "605153786",
         "3.0",
         "0.0",
         "3.0"
        ],
        [
         "1223",
         "27493883",
         "3.0",
         "0.0",
         "3.0"
        ],
        [
         "1954",
         "760219193195302912",
         "3.0",
         "0.0",
         "3.0"
        ],
        [
         "2243",
         "993910268701765632",
         "3.0",
         "0.0",
         "3.0"
        ],
        [
         "1859",
         "65474965",
         "3.0",
         "0.0",
         "3.0"
        ],
        [
         "1099",
         "245424983",
         "3.0",
         "0.0",
         "3.0"
        ],
        [
         "1951",
         "760087898",
         "3.0",
         "0.0",
         "3.0"
        ],
        [
         "1321",
         "2985479932",
         "3.0",
         "0.0",
         "3.0"
        ]
       ],
       "shape": {
        "columns": 4,
        "rows": 2252
       }
      },
      "text/html": [
       "<div>\n",
       "<style scoped>\n",
       "    .dataframe tbody tr th:only-of-type {\n",
       "        vertical-align: middle;\n",
       "    }\n",
       "\n",
       "    .dataframe tbody tr th {\n",
       "        vertical-align: top;\n",
       "    }\n",
       "\n",
       "    .dataframe thead th {\n",
       "        text-align: right;\n",
       "    }\n",
       "</style>\n",
       "<table border=\"1\" class=\"dataframe\">\n",
       "  <thead>\n",
       "    <tr style=\"text-align: right;\">\n",
       "      <th></th>\n",
       "      <th>author_id</th>\n",
       "      <th>received_retweets_count</th>\n",
       "      <th>post_count</th>\n",
       "      <th>rr_per_post</th>\n",
       "    </tr>\n",
       "  </thead>\n",
       "  <tbody>\n",
       "    <tr>\n",
       "      <th>327</th>\n",
       "      <td>1295803342162210817</td>\n",
       "      <td>21.0</td>\n",
       "      <td>0.0</td>\n",
       "      <td>21.0</td>\n",
       "    </tr>\n",
       "    <tr>\n",
       "      <th>917</th>\n",
       "      <td>20525702</td>\n",
       "      <td>19.0</td>\n",
       "      <td>0.0</td>\n",
       "      <td>19.0</td>\n",
       "    </tr>\n",
       "    <tr>\n",
       "      <th>894</th>\n",
       "      <td>19834403</td>\n",
       "      <td>15.0</td>\n",
       "      <td>0.0</td>\n",
       "      <td>15.0</td>\n",
       "    </tr>\n",
       "    <tr>\n",
       "      <th>1392</th>\n",
       "      <td>3180247177</td>\n",
       "      <td>13.0</td>\n",
       "      <td>0.0</td>\n",
       "      <td>13.0</td>\n",
       "    </tr>\n",
       "    <tr>\n",
       "      <th>308</th>\n",
       "      <td>1282853745945202688</td>\n",
       "      <td>11.0</td>\n",
       "      <td>0.0</td>\n",
       "      <td>11.0</td>\n",
       "    </tr>\n",
       "    <tr>\n",
       "      <th>...</th>\n",
       "      <td>...</td>\n",
       "      <td>...</td>\n",
       "      <td>...</td>\n",
       "      <td>...</td>\n",
       "    </tr>\n",
       "    <tr>\n",
       "      <th>958</th>\n",
       "      <td>21612122</td>\n",
       "      <td>0.0</td>\n",
       "      <td>6.0</td>\n",
       "      <td>0.0</td>\n",
       "    </tr>\n",
       "    <tr>\n",
       "      <th>957</th>\n",
       "      <td>2158643891</td>\n",
       "      <td>0.0</td>\n",
       "      <td>1.0</td>\n",
       "      <td>0.0</td>\n",
       "    </tr>\n",
       "    <tr>\n",
       "      <th>956</th>\n",
       "      <td>2157244796</td>\n",
       "      <td>0.0</td>\n",
       "      <td>23.0</td>\n",
       "      <td>0.0</td>\n",
       "    </tr>\n",
       "    <tr>\n",
       "      <th>955</th>\n",
       "      <td>21544108</td>\n",
       "      <td>0.0</td>\n",
       "      <td>2.0</td>\n",
       "      <td>0.0</td>\n",
       "    </tr>\n",
       "    <tr>\n",
       "      <th>2251</th>\n",
       "      <td>999352028064198661</td>\n",
       "      <td>0.0</td>\n",
       "      <td>6.0</td>\n",
       "      <td>0.0</td>\n",
       "    </tr>\n",
       "  </tbody>\n",
       "</table>\n",
       "<p>2252 rows × 4 columns</p>\n",
       "</div>"
      ],
      "text/plain": [
       "                author_id  received_retweets_count  post_count  rr_per_post\n",
       "327   1295803342162210817                     21.0         0.0         21.0\n",
       "917              20525702                     19.0         0.0         19.0\n",
       "894              19834403                     15.0         0.0         15.0\n",
       "1392           3180247177                     13.0         0.0         13.0\n",
       "308   1282853745945202688                     11.0         0.0         11.0\n",
       "...                   ...                      ...         ...          ...\n",
       "958              21612122                      0.0         6.0          0.0\n",
       "957            2158643891                      0.0         1.0          0.0\n",
       "956            2157244796                      0.0        23.0          0.0\n",
       "955              21544108                      0.0         2.0          0.0\n",
       "2251   999352028064198661                      0.0         6.0          0.0\n",
       "\n",
       "[2252 rows x 4 columns]"
      ]
     },
     "execution_count": 7,
     "metadata": {},
     "output_type": "execute_result"
    }
   ],
   "source": [
    "user_rrpp = user_rr_count.set_index('author_id').join(\n",
    "    user_post_count.set_index('author_id'), how='outer'\n",
    ").fillna(0)\n",
    "user_rrpp['rr_per_post'] = user_rrpp['received_retweets_count'] / (user_rrpp['post_count'] + 1)\n",
    "user_rrpp = user_rrpp.reset_index().sort_values(by='rr_per_post', ascending=False)\n",
    "user_rrpp"
   ]
  },
  {
   "cell_type": "code",
   "execution_count": 8,
   "id": "98a53702",
   "metadata": {},
   "outputs": [
    {
     "data": {
      "application/vnd.microsoft.datawrangler.viewer.v0+json": {
       "columns": [
        {
         "name": "index",
         "rawType": "int64",
         "type": "integer"
        },
        {
         "name": "author_id",
         "rawType": "object",
         "type": "string"
        },
        {
         "name": "received_retweets_count",
         "rawType": "float64",
         "type": "float"
        },
        {
         "name": "post_count",
         "rawType": "float64",
         "type": "float"
        },
        {
         "name": "rr_per_post",
         "rawType": "float64",
         "type": "float"
        }
       ],
       "ref": "d8019f39-9e94-41b3-a586-4fb3530144da",
       "rows": [
        [
         "2011",
         "80483638",
         "290.0",
         "400.0",
         "0.7231920199501247"
        ],
        [
         "1899",
         "720959701651996673",
         "21.0",
         "31.0",
         "0.65625"
        ],
        [
         "738",
         "169353953",
         "4.0",
         "6.0",
         "0.5714285714285714"
        ],
        [
         "1475",
         "344350643",
         "1.0",
         "1.0",
         "0.5"
        ],
        [
         "409",
         "1352311853263671296",
         "3.0",
         "5.0",
         "0.5"
        ],
        [
         "752",
         "17146256",
         "1.0",
         "1.0",
         "0.5"
        ],
        [
         "1500",
         "359528910",
         "1.0",
         "1.0",
         "0.5"
        ],
        [
         "48",
         "1047247402409840640",
         "1.0",
         "1.0",
         "0.5"
        ],
        [
         "1628",
         "4311670299",
         "1.0",
         "1.0",
         "0.5"
        ],
        [
         "787",
         "179226033",
         "1.0",
         "1.0",
         "0.5"
        ],
        [
         "1966",
         "767945051787759616",
         "8.0",
         "16.0",
         "0.47058823529411764"
        ],
        [
         "545",
         "1457177169407393795",
         "6.0",
         "13.0",
         "0.42857142857142855"
        ],
        [
         "1195",
         "26950458",
         "2.0",
         "4.0",
         "0.4"
        ],
        [
         "786",
         "17919393",
         "38.0",
         "102.0",
         "0.36893203883495146"
        ],
        [
         "1833",
         "620136960",
         "44.0",
         "121.0",
         "0.36065573770491804"
        ],
        [
         "2235",
         "989313110602235904",
         "1.0",
         "2.0",
         "0.3333333333333333"
        ],
        [
         "1501",
         "36167088",
         "52.0",
         "172.0",
         "0.30057803468208094"
        ],
        [
         "2134",
         "898324652",
         "2.0",
         "6.0",
         "0.2857142857142857"
        ],
        [
         "743",
         "17018470",
         "4.0",
         "14.0",
         "0.26666666666666666"
        ],
        [
         "496",
         "1428158156098572291",
         "1.0",
         "3.0",
         "0.25"
        ],
        [
         "2",
         "1004065528871247872",
         "2.0",
         "7.0",
         "0.25"
        ],
        [
         "2110",
         "877629044828667905",
         "31.0",
         "142.0",
         "0.21678321678321677"
        ],
        [
         "910",
         "20280574",
         "11.0",
         "50.0",
         "0.21568627450980393"
        ],
        [
         "1072",
         "239666710",
         "1.0",
         "4.0",
         "0.2"
        ],
        [
         "1391",
         "3173246967",
         "1.0",
         "4.0",
         "0.2"
        ],
        [
         "596",
         "149197471",
         "3.0",
         "14.0",
         "0.2"
        ],
        [
         "2236",
         "989320781799743488",
         "1.0",
         "4.0",
         "0.2"
        ],
        [
         "974",
         "21833509",
         "1.0",
         "4.0",
         "0.2"
        ],
        [
         "854",
         "19201304",
         "1.0",
         "4.0",
         "0.2"
        ],
        [
         "497",
         "142843687",
         "6.0",
         "30.0",
         "0.1935483870967742"
        ],
        [
         "551",
         "14596185",
         "1.0",
         "5.0",
         "0.16666666666666666"
        ],
        [
         "1117",
         "2498871378",
         "1.0",
         "5.0",
         "0.16666666666666666"
        ],
        [
         "1463",
         "33919623",
         "1.0",
         "5.0",
         "0.16666666666666666"
        ],
        [
         "486",
         "1421182643375427584",
         "6.0",
         "35.0",
         "0.16666666666666666"
        ],
        [
         "1406",
         "323920783",
         "9.0",
         "54.0",
         "0.16363636363636364"
        ],
        [
         "1523",
         "36740674",
         "19.0",
         "120.0",
         "0.15702479338842976"
        ],
        [
         "1156",
         "257663572",
         "2.0",
         "12.0",
         "0.15384615384615385"
        ],
        [
         "1546",
         "38282048",
         "1.0",
         "6.0",
         "0.14285714285714285"
        ],
        [
         "1301",
         "294118241",
         "1.0",
         "6.0",
         "0.14285714285714285"
        ],
        [
         "559",
         "146569971",
         "61.0",
         "467.0",
         "0.13034188034188035"
        ],
        [
         "962",
         "2167134798",
         "1.0",
         "7.0",
         "0.125"
        ],
        [
         "1779",
         "553010243",
         "1.0",
         "8.0",
         "0.1111111111111111"
        ],
        [
         "661",
         "15850297",
         "1.0",
         "8.0",
         "0.1111111111111111"
        ],
        [
         "1630",
         "43369337",
         "15.0",
         "140.0",
         "0.10638297872340426"
        ],
        [
         "1888",
         "709986828066144257",
         "2.0",
         "18.0",
         "0.10526315789473684"
        ],
        [
         "172",
         "118611326",
         "1.0",
         "9.0",
         "0.1"
        ],
        [
         "1761",
         "53192639",
         "1.0",
         "9.0",
         "0.1"
        ],
        [
         "225",
         "1228784608231272450",
         "1.0",
         "9.0",
         "0.1"
        ],
        [
         "1338",
         "30281854",
         "1.0",
         "10.0",
         "0.09090909090909091"
        ],
        [
         "1913",
         "73452506",
         "2.0",
         "22.0",
         "0.08695652173913043"
        ]
       ],
       "shape": {
        "columns": 4,
        "rows": 1561
       }
      },
      "text/html": [
       "<div>\n",
       "<style scoped>\n",
       "    .dataframe tbody tr th:only-of-type {\n",
       "        vertical-align: middle;\n",
       "    }\n",
       "\n",
       "    .dataframe tbody tr th {\n",
       "        vertical-align: top;\n",
       "    }\n",
       "\n",
       "    .dataframe thead th {\n",
       "        text-align: right;\n",
       "    }\n",
       "</style>\n",
       "<table border=\"1\" class=\"dataframe\">\n",
       "  <thead>\n",
       "    <tr style=\"text-align: right;\">\n",
       "      <th></th>\n",
       "      <th>author_id</th>\n",
       "      <th>received_retweets_count</th>\n",
       "      <th>post_count</th>\n",
       "      <th>rr_per_post</th>\n",
       "    </tr>\n",
       "  </thead>\n",
       "  <tbody>\n",
       "    <tr>\n",
       "      <th>2011</th>\n",
       "      <td>80483638</td>\n",
       "      <td>290.0</td>\n",
       "      <td>400.0</td>\n",
       "      <td>0.723192</td>\n",
       "    </tr>\n",
       "    <tr>\n",
       "      <th>1899</th>\n",
       "      <td>720959701651996673</td>\n",
       "      <td>21.0</td>\n",
       "      <td>31.0</td>\n",
       "      <td>0.656250</td>\n",
       "    </tr>\n",
       "    <tr>\n",
       "      <th>738</th>\n",
       "      <td>169353953</td>\n",
       "      <td>4.0</td>\n",
       "      <td>6.0</td>\n",
       "      <td>0.571429</td>\n",
       "    </tr>\n",
       "    <tr>\n",
       "      <th>1475</th>\n",
       "      <td>344350643</td>\n",
       "      <td>1.0</td>\n",
       "      <td>1.0</td>\n",
       "      <td>0.500000</td>\n",
       "    </tr>\n",
       "    <tr>\n",
       "      <th>409</th>\n",
       "      <td>1352311853263671296</td>\n",
       "      <td>3.0</td>\n",
       "      <td>5.0</td>\n",
       "      <td>0.500000</td>\n",
       "    </tr>\n",
       "    <tr>\n",
       "      <th>...</th>\n",
       "      <td>...</td>\n",
       "      <td>...</td>\n",
       "      <td>...</td>\n",
       "      <td>...</td>\n",
       "    </tr>\n",
       "    <tr>\n",
       "      <th>1710</th>\n",
       "      <td>4819630852</td>\n",
       "      <td>0.0</td>\n",
       "      <td>13.0</td>\n",
       "      <td>0.000000</td>\n",
       "    </tr>\n",
       "    <tr>\n",
       "      <th>1711</th>\n",
       "      <td>48219360</td>\n",
       "      <td>0.0</td>\n",
       "      <td>252.0</td>\n",
       "      <td>0.000000</td>\n",
       "    </tr>\n",
       "    <tr>\n",
       "      <th>1712</th>\n",
       "      <td>482403268</td>\n",
       "      <td>0.0</td>\n",
       "      <td>11.0</td>\n",
       "      <td>0.000000</td>\n",
       "    </tr>\n",
       "    <tr>\n",
       "      <th>1713</th>\n",
       "      <td>4838743006</td>\n",
       "      <td>0.0</td>\n",
       "      <td>28.0</td>\n",
       "      <td>0.000000</td>\n",
       "    </tr>\n",
       "    <tr>\n",
       "      <th>2251</th>\n",
       "      <td>999352028064198661</td>\n",
       "      <td>0.0</td>\n",
       "      <td>6.0</td>\n",
       "      <td>0.000000</td>\n",
       "    </tr>\n",
       "  </tbody>\n",
       "</table>\n",
       "<p>1561 rows × 4 columns</p>\n",
       "</div>"
      ],
      "text/plain": [
       "                author_id  received_retweets_count  post_count  rr_per_post\n",
       "2011             80483638                    290.0       400.0     0.723192\n",
       "1899   720959701651996673                     21.0        31.0     0.656250\n",
       "738             169353953                      4.0         6.0     0.571429\n",
       "1475            344350643                      1.0         1.0     0.500000\n",
       "409   1352311853263671296                      3.0         5.0     0.500000\n",
       "...                   ...                      ...         ...          ...\n",
       "1710           4819630852                      0.0        13.0     0.000000\n",
       "1711             48219360                      0.0       252.0     0.000000\n",
       "1712            482403268                      0.0        11.0     0.000000\n",
       "1713           4838743006                      0.0        28.0     0.000000\n",
       "2251   999352028064198661                      0.0         6.0     0.000000\n",
       "\n",
       "[1561 rows x 4 columns]"
      ]
     },
     "execution_count": 8,
     "metadata": {},
     "output_type": "execute_result"
    }
   ],
   "source": [
    "user_rrpp_valid = user_rrpp[user_rrpp['author_id'].isin(user_post_count['author_id'])].sort_values(by='rr_per_post', ascending=False)\n",
    "user_rrpp_valid"
   ]
  },
  {
   "cell_type": "code",
   "execution_count": 9,
   "id": "d6ffef4e",
   "metadata": {},
   "outputs": [
    {
     "data": {
      "application/vnd.microsoft.datawrangler.viewer.v0+json": {
       "columns": [
        {
         "name": "index",
         "rawType": "int64",
         "type": "integer"
        },
        {
         "name": "author_id",
         "rawType": "object",
         "type": "string"
        },
        {
         "name": "received_retweets_count",
         "rawType": "float64",
         "type": "float"
        },
        {
         "name": "post_count",
         "rawType": "float64",
         "type": "float"
        },
        {
         "name": "rr_per_post",
         "rawType": "float64",
         "type": "float"
        }
       ],
       "ref": "281992a2-808d-493f-bfae-56c0bac79623",
       "rows": [
        [
         "2011",
         "80483638",
         "290.0",
         "400.0",
         "0.7231920199501247"
        ],
        [
         "1899",
         "720959701651996673",
         "21.0",
         "31.0",
         "0.65625"
        ],
        [
         "738",
         "169353953",
         "4.0",
         "6.0",
         "0.5714285714285714"
        ],
        [
         "1475",
         "344350643",
         "1.0",
         "1.0",
         "0.5"
        ],
        [
         "409",
         "1352311853263671296",
         "3.0",
         "5.0",
         "0.5"
        ],
        [
         "752",
         "17146256",
         "1.0",
         "1.0",
         "0.5"
        ],
        [
         "1500",
         "359528910",
         "1.0",
         "1.0",
         "0.5"
        ],
        [
         "48",
         "1047247402409840640",
         "1.0",
         "1.0",
         "0.5"
        ],
        [
         "1628",
         "4311670299",
         "1.0",
         "1.0",
         "0.5"
        ],
        [
         "787",
         "179226033",
         "1.0",
         "1.0",
         "0.5"
        ],
        [
         "1966",
         "767945051787759616",
         "8.0",
         "16.0",
         "0.47058823529411764"
        ],
        [
         "545",
         "1457177169407393795",
         "6.0",
         "13.0",
         "0.42857142857142855"
        ],
        [
         "1195",
         "26950458",
         "2.0",
         "4.0",
         "0.4"
        ],
        [
         "786",
         "17919393",
         "38.0",
         "102.0",
         "0.36893203883495146"
        ],
        [
         "1833",
         "620136960",
         "44.0",
         "121.0",
         "0.36065573770491804"
        ],
        [
         "2235",
         "989313110602235904",
         "1.0",
         "2.0",
         "0.3333333333333333"
        ],
        [
         "1501",
         "36167088",
         "52.0",
         "172.0",
         "0.30057803468208094"
        ],
        [
         "2134",
         "898324652",
         "2.0",
         "6.0",
         "0.2857142857142857"
        ],
        [
         "743",
         "17018470",
         "4.0",
         "14.0",
         "0.26666666666666666"
        ],
        [
         "496",
         "1428158156098572291",
         "1.0",
         "3.0",
         "0.25"
        ],
        [
         "2",
         "1004065528871247872",
         "2.0",
         "7.0",
         "0.25"
        ],
        [
         "2110",
         "877629044828667905",
         "31.0",
         "142.0",
         "0.21678321678321677"
        ],
        [
         "910",
         "20280574",
         "11.0",
         "50.0",
         "0.21568627450980393"
        ],
        [
         "1072",
         "239666710",
         "1.0",
         "4.0",
         "0.2"
        ],
        [
         "1391",
         "3173246967",
         "1.0",
         "4.0",
         "0.2"
        ],
        [
         "596",
         "149197471",
         "3.0",
         "14.0",
         "0.2"
        ],
        [
         "2236",
         "989320781799743488",
         "1.0",
         "4.0",
         "0.2"
        ],
        [
         "974",
         "21833509",
         "1.0",
         "4.0",
         "0.2"
        ],
        [
         "854",
         "19201304",
         "1.0",
         "4.0",
         "0.2"
        ],
        [
         "497",
         "142843687",
         "6.0",
         "30.0",
         "0.1935483870967742"
        ],
        [
         "551",
         "14596185",
         "1.0",
         "5.0",
         "0.16666666666666666"
        ],
        [
         "1117",
         "2498871378",
         "1.0",
         "5.0",
         "0.16666666666666666"
        ],
        [
         "1463",
         "33919623",
         "1.0",
         "5.0",
         "0.16666666666666666"
        ],
        [
         "486",
         "1421182643375427584",
         "6.0",
         "35.0",
         "0.16666666666666666"
        ],
        [
         "1406",
         "323920783",
         "9.0",
         "54.0",
         "0.16363636363636364"
        ],
        [
         "1523",
         "36740674",
         "19.0",
         "120.0",
         "0.15702479338842976"
        ],
        [
         "1156",
         "257663572",
         "2.0",
         "12.0",
         "0.15384615384615385"
        ],
        [
         "1546",
         "38282048",
         "1.0",
         "6.0",
         "0.14285714285714285"
        ],
        [
         "1301",
         "294118241",
         "1.0",
         "6.0",
         "0.14285714285714285"
        ],
        [
         "559",
         "146569971",
         "61.0",
         "467.0",
         "0.13034188034188035"
        ],
        [
         "962",
         "2167134798",
         "1.0",
         "7.0",
         "0.125"
        ],
        [
         "1779",
         "553010243",
         "1.0",
         "8.0",
         "0.1111111111111111"
        ],
        [
         "661",
         "15850297",
         "1.0",
         "8.0",
         "0.1111111111111111"
        ],
        [
         "1630",
         "43369337",
         "15.0",
         "140.0",
         "0.10638297872340426"
        ],
        [
         "1888",
         "709986828066144257",
         "2.0",
         "18.0",
         "0.10526315789473684"
        ]
       ],
       "shape": {
        "columns": 4,
        "rows": 45
       }
      },
      "text/html": [
       "<div>\n",
       "<style scoped>\n",
       "    .dataframe tbody tr th:only-of-type {\n",
       "        vertical-align: middle;\n",
       "    }\n",
       "\n",
       "    .dataframe tbody tr th {\n",
       "        vertical-align: top;\n",
       "    }\n",
       "\n",
       "    .dataframe thead th {\n",
       "        text-align: right;\n",
       "    }\n",
       "</style>\n",
       "<table border=\"1\" class=\"dataframe\">\n",
       "  <thead>\n",
       "    <tr style=\"text-align: right;\">\n",
       "      <th></th>\n",
       "      <th>author_id</th>\n",
       "      <th>received_retweets_count</th>\n",
       "      <th>post_count</th>\n",
       "      <th>rr_per_post</th>\n",
       "    </tr>\n",
       "  </thead>\n",
       "  <tbody>\n",
       "    <tr>\n",
       "      <th>2011</th>\n",
       "      <td>80483638</td>\n",
       "      <td>290.0</td>\n",
       "      <td>400.0</td>\n",
       "      <td>0.723192</td>\n",
       "    </tr>\n",
       "    <tr>\n",
       "      <th>1899</th>\n",
       "      <td>720959701651996673</td>\n",
       "      <td>21.0</td>\n",
       "      <td>31.0</td>\n",
       "      <td>0.656250</td>\n",
       "    </tr>\n",
       "    <tr>\n",
       "      <th>738</th>\n",
       "      <td>169353953</td>\n",
       "      <td>4.0</td>\n",
       "      <td>6.0</td>\n",
       "      <td>0.571429</td>\n",
       "    </tr>\n",
       "    <tr>\n",
       "      <th>1475</th>\n",
       "      <td>344350643</td>\n",
       "      <td>1.0</td>\n",
       "      <td>1.0</td>\n",
       "      <td>0.500000</td>\n",
       "    </tr>\n",
       "    <tr>\n",
       "      <th>409</th>\n",
       "      <td>1352311853263671296</td>\n",
       "      <td>3.0</td>\n",
       "      <td>5.0</td>\n",
       "      <td>0.500000</td>\n",
       "    </tr>\n",
       "    <tr>\n",
       "      <th>752</th>\n",
       "      <td>17146256</td>\n",
       "      <td>1.0</td>\n",
       "      <td>1.0</td>\n",
       "      <td>0.500000</td>\n",
       "    </tr>\n",
       "    <tr>\n",
       "      <th>1500</th>\n",
       "      <td>359528910</td>\n",
       "      <td>1.0</td>\n",
       "      <td>1.0</td>\n",
       "      <td>0.500000</td>\n",
       "    </tr>\n",
       "    <tr>\n",
       "      <th>48</th>\n",
       "      <td>1047247402409840640</td>\n",
       "      <td>1.0</td>\n",
       "      <td>1.0</td>\n",
       "      <td>0.500000</td>\n",
       "    </tr>\n",
       "    <tr>\n",
       "      <th>1628</th>\n",
       "      <td>4311670299</td>\n",
       "      <td>1.0</td>\n",
       "      <td>1.0</td>\n",
       "      <td>0.500000</td>\n",
       "    </tr>\n",
       "    <tr>\n",
       "      <th>787</th>\n",
       "      <td>179226033</td>\n",
       "      <td>1.0</td>\n",
       "      <td>1.0</td>\n",
       "      <td>0.500000</td>\n",
       "    </tr>\n",
       "    <tr>\n",
       "      <th>1966</th>\n",
       "      <td>767945051787759616</td>\n",
       "      <td>8.0</td>\n",
       "      <td>16.0</td>\n",
       "      <td>0.470588</td>\n",
       "    </tr>\n",
       "    <tr>\n",
       "      <th>545</th>\n",
       "      <td>1457177169407393795</td>\n",
       "      <td>6.0</td>\n",
       "      <td>13.0</td>\n",
       "      <td>0.428571</td>\n",
       "    </tr>\n",
       "    <tr>\n",
       "      <th>1195</th>\n",
       "      <td>26950458</td>\n",
       "      <td>2.0</td>\n",
       "      <td>4.0</td>\n",
       "      <td>0.400000</td>\n",
       "    </tr>\n",
       "    <tr>\n",
       "      <th>786</th>\n",
       "      <td>17919393</td>\n",
       "      <td>38.0</td>\n",
       "      <td>102.0</td>\n",
       "      <td>0.368932</td>\n",
       "    </tr>\n",
       "    <tr>\n",
       "      <th>1833</th>\n",
       "      <td>620136960</td>\n",
       "      <td>44.0</td>\n",
       "      <td>121.0</td>\n",
       "      <td>0.360656</td>\n",
       "    </tr>\n",
       "    <tr>\n",
       "      <th>2235</th>\n",
       "      <td>989313110602235904</td>\n",
       "      <td>1.0</td>\n",
       "      <td>2.0</td>\n",
       "      <td>0.333333</td>\n",
       "    </tr>\n",
       "    <tr>\n",
       "      <th>1501</th>\n",
       "      <td>36167088</td>\n",
       "      <td>52.0</td>\n",
       "      <td>172.0</td>\n",
       "      <td>0.300578</td>\n",
       "    </tr>\n",
       "    <tr>\n",
       "      <th>2134</th>\n",
       "      <td>898324652</td>\n",
       "      <td>2.0</td>\n",
       "      <td>6.0</td>\n",
       "      <td>0.285714</td>\n",
       "    </tr>\n",
       "    <tr>\n",
       "      <th>743</th>\n",
       "      <td>17018470</td>\n",
       "      <td>4.0</td>\n",
       "      <td>14.0</td>\n",
       "      <td>0.266667</td>\n",
       "    </tr>\n",
       "    <tr>\n",
       "      <th>496</th>\n",
       "      <td>1428158156098572291</td>\n",
       "      <td>1.0</td>\n",
       "      <td>3.0</td>\n",
       "      <td>0.250000</td>\n",
       "    </tr>\n",
       "    <tr>\n",
       "      <th>2</th>\n",
       "      <td>1004065528871247872</td>\n",
       "      <td>2.0</td>\n",
       "      <td>7.0</td>\n",
       "      <td>0.250000</td>\n",
       "    </tr>\n",
       "    <tr>\n",
       "      <th>2110</th>\n",
       "      <td>877629044828667905</td>\n",
       "      <td>31.0</td>\n",
       "      <td>142.0</td>\n",
       "      <td>0.216783</td>\n",
       "    </tr>\n",
       "    <tr>\n",
       "      <th>910</th>\n",
       "      <td>20280574</td>\n",
       "      <td>11.0</td>\n",
       "      <td>50.0</td>\n",
       "      <td>0.215686</td>\n",
       "    </tr>\n",
       "    <tr>\n",
       "      <th>1072</th>\n",
       "      <td>239666710</td>\n",
       "      <td>1.0</td>\n",
       "      <td>4.0</td>\n",
       "      <td>0.200000</td>\n",
       "    </tr>\n",
       "    <tr>\n",
       "      <th>1391</th>\n",
       "      <td>3173246967</td>\n",
       "      <td>1.0</td>\n",
       "      <td>4.0</td>\n",
       "      <td>0.200000</td>\n",
       "    </tr>\n",
       "    <tr>\n",
       "      <th>596</th>\n",
       "      <td>149197471</td>\n",
       "      <td>3.0</td>\n",
       "      <td>14.0</td>\n",
       "      <td>0.200000</td>\n",
       "    </tr>\n",
       "    <tr>\n",
       "      <th>2236</th>\n",
       "      <td>989320781799743488</td>\n",
       "      <td>1.0</td>\n",
       "      <td>4.0</td>\n",
       "      <td>0.200000</td>\n",
       "    </tr>\n",
       "    <tr>\n",
       "      <th>974</th>\n",
       "      <td>21833509</td>\n",
       "      <td>1.0</td>\n",
       "      <td>4.0</td>\n",
       "      <td>0.200000</td>\n",
       "    </tr>\n",
       "    <tr>\n",
       "      <th>854</th>\n",
       "      <td>19201304</td>\n",
       "      <td>1.0</td>\n",
       "      <td>4.0</td>\n",
       "      <td>0.200000</td>\n",
       "    </tr>\n",
       "    <tr>\n",
       "      <th>497</th>\n",
       "      <td>142843687</td>\n",
       "      <td>6.0</td>\n",
       "      <td>30.0</td>\n",
       "      <td>0.193548</td>\n",
       "    </tr>\n",
       "    <tr>\n",
       "      <th>551</th>\n",
       "      <td>14596185</td>\n",
       "      <td>1.0</td>\n",
       "      <td>5.0</td>\n",
       "      <td>0.166667</td>\n",
       "    </tr>\n",
       "    <tr>\n",
       "      <th>1117</th>\n",
       "      <td>2498871378</td>\n",
       "      <td>1.0</td>\n",
       "      <td>5.0</td>\n",
       "      <td>0.166667</td>\n",
       "    </tr>\n",
       "    <tr>\n",
       "      <th>1463</th>\n",
       "      <td>33919623</td>\n",
       "      <td>1.0</td>\n",
       "      <td>5.0</td>\n",
       "      <td>0.166667</td>\n",
       "    </tr>\n",
       "    <tr>\n",
       "      <th>486</th>\n",
       "      <td>1421182643375427584</td>\n",
       "      <td>6.0</td>\n",
       "      <td>35.0</td>\n",
       "      <td>0.166667</td>\n",
       "    </tr>\n",
       "    <tr>\n",
       "      <th>1406</th>\n",
       "      <td>323920783</td>\n",
       "      <td>9.0</td>\n",
       "      <td>54.0</td>\n",
       "      <td>0.163636</td>\n",
       "    </tr>\n",
       "    <tr>\n",
       "      <th>1523</th>\n",
       "      <td>36740674</td>\n",
       "      <td>19.0</td>\n",
       "      <td>120.0</td>\n",
       "      <td>0.157025</td>\n",
       "    </tr>\n",
       "    <tr>\n",
       "      <th>1156</th>\n",
       "      <td>257663572</td>\n",
       "      <td>2.0</td>\n",
       "      <td>12.0</td>\n",
       "      <td>0.153846</td>\n",
       "    </tr>\n",
       "    <tr>\n",
       "      <th>1546</th>\n",
       "      <td>38282048</td>\n",
       "      <td>1.0</td>\n",
       "      <td>6.0</td>\n",
       "      <td>0.142857</td>\n",
       "    </tr>\n",
       "    <tr>\n",
       "      <th>1301</th>\n",
       "      <td>294118241</td>\n",
       "      <td>1.0</td>\n",
       "      <td>6.0</td>\n",
       "      <td>0.142857</td>\n",
       "    </tr>\n",
       "    <tr>\n",
       "      <th>559</th>\n",
       "      <td>146569971</td>\n",
       "      <td>61.0</td>\n",
       "      <td>467.0</td>\n",
       "      <td>0.130342</td>\n",
       "    </tr>\n",
       "    <tr>\n",
       "      <th>962</th>\n",
       "      <td>2167134798</td>\n",
       "      <td>1.0</td>\n",
       "      <td>7.0</td>\n",
       "      <td>0.125000</td>\n",
       "    </tr>\n",
       "    <tr>\n",
       "      <th>1779</th>\n",
       "      <td>553010243</td>\n",
       "      <td>1.0</td>\n",
       "      <td>8.0</td>\n",
       "      <td>0.111111</td>\n",
       "    </tr>\n",
       "    <tr>\n",
       "      <th>661</th>\n",
       "      <td>15850297</td>\n",
       "      <td>1.0</td>\n",
       "      <td>8.0</td>\n",
       "      <td>0.111111</td>\n",
       "    </tr>\n",
       "    <tr>\n",
       "      <th>1630</th>\n",
       "      <td>43369337</td>\n",
       "      <td>15.0</td>\n",
       "      <td>140.0</td>\n",
       "      <td>0.106383</td>\n",
       "    </tr>\n",
       "    <tr>\n",
       "      <th>1888</th>\n",
       "      <td>709986828066144257</td>\n",
       "      <td>2.0</td>\n",
       "      <td>18.0</td>\n",
       "      <td>0.105263</td>\n",
       "    </tr>\n",
       "  </tbody>\n",
       "</table>\n",
       "</div>"
      ],
      "text/plain": [
       "                author_id  received_retweets_count  post_count  rr_per_post\n",
       "2011             80483638                    290.0       400.0     0.723192\n",
       "1899   720959701651996673                     21.0        31.0     0.656250\n",
       "738             169353953                      4.0         6.0     0.571429\n",
       "1475            344350643                      1.0         1.0     0.500000\n",
       "409   1352311853263671296                      3.0         5.0     0.500000\n",
       "752              17146256                      1.0         1.0     0.500000\n",
       "1500            359528910                      1.0         1.0     0.500000\n",
       "48    1047247402409840640                      1.0         1.0     0.500000\n",
       "1628           4311670299                      1.0         1.0     0.500000\n",
       "787             179226033                      1.0         1.0     0.500000\n",
       "1966   767945051787759616                      8.0        16.0     0.470588\n",
       "545   1457177169407393795                      6.0        13.0     0.428571\n",
       "1195             26950458                      2.0         4.0     0.400000\n",
       "786              17919393                     38.0       102.0     0.368932\n",
       "1833            620136960                     44.0       121.0     0.360656\n",
       "2235   989313110602235904                      1.0         2.0     0.333333\n",
       "1501             36167088                     52.0       172.0     0.300578\n",
       "2134            898324652                      2.0         6.0     0.285714\n",
       "743              17018470                      4.0        14.0     0.266667\n",
       "496   1428158156098572291                      1.0         3.0     0.250000\n",
       "2     1004065528871247872                      2.0         7.0     0.250000\n",
       "2110   877629044828667905                     31.0       142.0     0.216783\n",
       "910              20280574                     11.0        50.0     0.215686\n",
       "1072            239666710                      1.0         4.0     0.200000\n",
       "1391           3173246967                      1.0         4.0     0.200000\n",
       "596             149197471                      3.0        14.0     0.200000\n",
       "2236   989320781799743488                      1.0         4.0     0.200000\n",
       "974              21833509                      1.0         4.0     0.200000\n",
       "854              19201304                      1.0         4.0     0.200000\n",
       "497             142843687                      6.0        30.0     0.193548\n",
       "551              14596185                      1.0         5.0     0.166667\n",
       "1117           2498871378                      1.0         5.0     0.166667\n",
       "1463             33919623                      1.0         5.0     0.166667\n",
       "486   1421182643375427584                      6.0        35.0     0.166667\n",
       "1406            323920783                      9.0        54.0     0.163636\n",
       "1523             36740674                     19.0       120.0     0.157025\n",
       "1156            257663572                      2.0        12.0     0.153846\n",
       "1546             38282048                      1.0         6.0     0.142857\n",
       "1301            294118241                      1.0         6.0     0.142857\n",
       "559             146569971                     61.0       467.0     0.130342\n",
       "962            2167134798                      1.0         7.0     0.125000\n",
       "1779            553010243                      1.0         8.0     0.111111\n",
       "661              15850297                      1.0         8.0     0.111111\n",
       "1630             43369337                     15.0       140.0     0.106383\n",
       "1888   709986828066144257                      2.0        18.0     0.105263"
      ]
     },
     "execution_count": 9,
     "metadata": {},
     "output_type": "execute_result"
    }
   ],
   "source": [
    "selected_users_rrpp = user_rrpp_valid[user_rrpp_valid['rr_per_post'] > 0.1]\n",
    "selected_users_rrpp"
   ]
  },
  {
   "cell_type": "code",
   "execution_count": null,
   "id": "b97585fc",
   "metadata": {},
   "outputs": [],
   "source": []
  },
  {
   "cell_type": "code",
   "execution_count": 10,
   "id": "98d7342d",
   "metadata": {},
   "outputs": [
    {
     "data": {
      "application/vnd.microsoft.datawrangler.viewer.v0+json": {
       "columns": [
        {
         "name": "index",
         "rawType": "int64",
         "type": "integer"
        },
        {
         "name": "author_id",
         "rawType": "object",
         "type": "string"
        },
        {
         "name": "last_tweet",
         "rawType": "datetime64[ns, UTC]",
         "type": "unknown"
        }
       ],
       "ref": "2889dd67-299e-48d7-8dd8-a1d6a899af8f",
       "rows": [
        [
         "0",
         "1003139946",
         "2022-03-11 14:15:48+00:00"
        ],
        [
         "1",
         "1004065528871247872",
         "2022-03-31 00:55:08+00:00"
        ],
        [
         "2",
         "1005142093369675777",
         "2022-02-08 22:09:12+00:00"
        ],
        [
         "3",
         "1006734899837980672",
         "2022-01-27 22:22:55+00:00"
        ],
        [
         "4",
         "100701580",
         "2021-12-26 01:47:50+00:00"
        ],
        [
         "5",
         "1007405042",
         "2022-03-28 02:43:38+00:00"
        ],
        [
         "6",
         "1007711863159705600",
         "2022-03-21 00:22:13+00:00"
        ],
        [
         "7",
         "1009567321160015872",
         "2022-02-20 02:50:44+00:00"
        ],
        [
         "8",
         "1011011440025600000",
         "2022-03-31 19:17:56+00:00"
        ],
        [
         "9",
         "1011113850",
         "2022-02-16 04:50:15+00:00"
        ],
        [
         "10",
         "1011269412165472256",
         "2022-02-22 18:39:28+00:00"
        ],
        [
         "11",
         "1016112050227908608",
         "2022-03-03 00:00:28+00:00"
        ],
        [
         "12",
         "1016325104026968064",
         "2022-03-29 20:28:58+00:00"
        ],
        [
         "13",
         "1016486686958739457",
         "2022-03-31 16:26:55+00:00"
        ],
        [
         "14",
         "1017627671415537666",
         "2021-12-09 14:29:55+00:00"
        ],
        [
         "15",
         "101835305",
         "2022-01-14 17:57:15+00:00"
        ],
        [
         "16",
         "1018854534515494912",
         "2022-03-25 15:25:50+00:00"
        ],
        [
         "17",
         "1021505594388140032",
         "2022-02-16 22:18:47+00:00"
        ],
        [
         "18",
         "1022127404",
         "2022-03-15 14:07:12+00:00"
        ],
        [
         "19",
         "1027760989",
         "2022-03-18 10:57:10+00:00"
        ],
        [
         "20",
         "1028342776201531393",
         "2022-03-21 19:18:51+00:00"
        ],
        [
         "21",
         "102957405",
         "2022-01-27 18:49:07+00:00"
        ],
        [
         "22",
         "103072142",
         "2022-03-22 17:47:26+00:00"
        ],
        [
         "23",
         "1031312835744284677",
         "2022-02-28 07:41:11+00:00"
        ],
        [
         "24",
         "1031332700324540417",
         "2022-03-25 03:43:56+00:00"
        ],
        [
         "25",
         "1035696684318130176",
         "2021-12-31 02:02:03+00:00"
        ],
        [
         "26",
         "103693882",
         "2021-12-21 14:48:12+00:00"
        ],
        [
         "27",
         "1037944847498235904",
         "2022-03-14 03:09:26+00:00"
        ],
        [
         "28",
         "1038974732962619392",
         "2022-03-24 14:19:23+00:00"
        ],
        [
         "29",
         "1039986910851158016",
         "2022-02-01 15:15:02+00:00"
        ],
        [
         "30",
         "10403842",
         "2022-02-05 04:23:25+00:00"
        ],
        [
         "31",
         "1041167624",
         "2022-03-29 18:57:04+00:00"
        ],
        [
         "32",
         "1041961735",
         "2022-03-17 06:04:51+00:00"
        ],
        [
         "33",
         "104262458",
         "2022-04-01 04:52:10+00:00"
        ],
        [
         "34",
         "1043391830962970624",
         "2022-03-21 13:58:13+00:00"
        ],
        [
         "35",
         "10451672",
         "2022-03-31 20:55:55+00:00"
        ],
        [
         "36",
         "104646949",
         "2022-01-18 04:09:47+00:00"
        ],
        [
         "37",
         "1047247402409840640",
         "2021-12-28 20:52:12+00:00"
        ],
        [
         "38",
         "1047639177456582656",
         "2022-02-18 19:25:52+00:00"
        ],
        [
         "39",
         "1049125912816414720",
         "2022-01-30 19:24:56+00:00"
        ],
        [
         "40",
         "10507282",
         "2022-01-30 21:11:35+00:00"
        ],
        [
         "41",
         "1051106773724262400",
         "2022-01-03 20:09:24+00:00"
        ],
        [
         "42",
         "105579156",
         "2022-01-11 04:15:02+00:00"
        ],
        [
         "43",
         "1055833706378788864",
         "2022-03-23 17:48:38+00:00"
        ],
        [
         "44",
         "1056071892",
         "2022-03-17 19:16:15+00:00"
        ],
        [
         "45",
         "1060573081935249409",
         "2022-03-30 18:05:00+00:00"
        ],
        [
         "46",
         "1063196969479241729",
         "2021-12-02 20:00:48+00:00"
        ],
        [
         "47",
         "1066746868296765441",
         "2022-03-21 14:31:04+00:00"
        ],
        [
         "48",
         "1069333070",
         "2022-01-13 03:26:19+00:00"
        ],
        [
         "49",
         "1071862212724064256",
         "2022-03-28 00:43:52+00:00"
        ]
       ],
       "shape": {
        "columns": 2,
        "rows": 1561
       }
      },
      "text/html": [
       "<div>\n",
       "<style scoped>\n",
       "    .dataframe tbody tr th:only-of-type {\n",
       "        vertical-align: middle;\n",
       "    }\n",
       "\n",
       "    .dataframe tbody tr th {\n",
       "        vertical-align: top;\n",
       "    }\n",
       "\n",
       "    .dataframe thead th {\n",
       "        text-align: right;\n",
       "    }\n",
       "</style>\n",
       "<table border=\"1\" class=\"dataframe\">\n",
       "  <thead>\n",
       "    <tr style=\"text-align: right;\">\n",
       "      <th></th>\n",
       "      <th>author_id</th>\n",
       "      <th>last_tweet</th>\n",
       "    </tr>\n",
       "  </thead>\n",
       "  <tbody>\n",
       "    <tr>\n",
       "      <th>0</th>\n",
       "      <td>1003139946</td>\n",
       "      <td>2022-03-11 14:15:48+00:00</td>\n",
       "    </tr>\n",
       "    <tr>\n",
       "      <th>1</th>\n",
       "      <td>1004065528871247872</td>\n",
       "      <td>2022-03-31 00:55:08+00:00</td>\n",
       "    </tr>\n",
       "    <tr>\n",
       "      <th>2</th>\n",
       "      <td>1005142093369675777</td>\n",
       "      <td>2022-02-08 22:09:12+00:00</td>\n",
       "    </tr>\n",
       "    <tr>\n",
       "      <th>3</th>\n",
       "      <td>1006734899837980672</td>\n",
       "      <td>2022-01-27 22:22:55+00:00</td>\n",
       "    </tr>\n",
       "    <tr>\n",
       "      <th>4</th>\n",
       "      <td>100701580</td>\n",
       "      <td>2021-12-26 01:47:50+00:00</td>\n",
       "    </tr>\n",
       "    <tr>\n",
       "      <th>...</th>\n",
       "      <td>...</td>\n",
       "      <td>...</td>\n",
       "    </tr>\n",
       "    <tr>\n",
       "      <th>1556</th>\n",
       "      <td>995877126464303104</td>\n",
       "      <td>2021-12-08 16:11:50+00:00</td>\n",
       "    </tr>\n",
       "    <tr>\n",
       "      <th>1557</th>\n",
       "      <td>996423161053876224</td>\n",
       "      <td>2022-03-24 14:59:44+00:00</td>\n",
       "    </tr>\n",
       "    <tr>\n",
       "      <th>1558</th>\n",
       "      <td>99666729</td>\n",
       "      <td>2021-12-26 15:51:27+00:00</td>\n",
       "    </tr>\n",
       "    <tr>\n",
       "      <th>1559</th>\n",
       "      <td>997931370</td>\n",
       "      <td>2022-03-31 14:45:11+00:00</td>\n",
       "    </tr>\n",
       "    <tr>\n",
       "      <th>1560</th>\n",
       "      <td>999352028064198661</td>\n",
       "      <td>2022-02-07 22:56:18+00:00</td>\n",
       "    </tr>\n",
       "  </tbody>\n",
       "</table>\n",
       "<p>1561 rows × 2 columns</p>\n",
       "</div>"
      ],
      "text/plain": [
       "                author_id                last_tweet\n",
       "0              1003139946 2022-03-11 14:15:48+00:00\n",
       "1     1004065528871247872 2022-03-31 00:55:08+00:00\n",
       "2     1005142093369675777 2022-02-08 22:09:12+00:00\n",
       "3     1006734899837980672 2022-01-27 22:22:55+00:00\n",
       "4               100701580 2021-12-26 01:47:50+00:00\n",
       "...                   ...                       ...\n",
       "1556   995877126464303104 2021-12-08 16:11:50+00:00\n",
       "1557   996423161053876224 2022-03-24 14:59:44+00:00\n",
       "1558             99666729 2021-12-26 15:51:27+00:00\n",
       "1559            997931370 2022-03-31 14:45:11+00:00\n",
       "1560   999352028064198661 2022-02-07 22:56:18+00:00\n",
       "\n",
       "[1561 rows x 2 columns]"
      ]
     },
     "execution_count": 10,
     "metadata": {},
     "output_type": "execute_result"
    }
   ],
   "source": [
    "user_last_tweet_df = df_covid19.groupby('author_id')['created_at'].max().reset_index().rename(columns={'created_at': 'last_tweet'})\n",
    "user_last_tweet_df"
   ]
  },
  {
   "cell_type": "code",
   "execution_count": 11,
   "id": "3b88f386",
   "metadata": {},
   "outputs": [
    {
     "data": {
      "application/vnd.microsoft.datawrangler.viewer.v0+json": {
       "columns": [
        {
         "name": "index",
         "rawType": "int64",
         "type": "integer"
        },
        {
         "name": "author_id",
         "rawType": "object",
         "type": "string"
        },
        {
         "name": "last_tweet",
         "rawType": "datetime64[ns, UTC]",
         "type": "unknown"
        }
       ],
       "ref": "58780f1e-a5df-4806-92b6-506d89e33ada",
       "rows": [
        [
         "367",
         "149197471",
         "2022-04-01 03:52:00+00:00"
        ],
        [
         "1548",
         "989320781799743488",
         "2022-03-31 20:50:10+00:00"
        ],
        [
         "351",
         "146569971",
         "2022-03-31 20:00:11+00:00"
        ],
        [
         "1113",
         "43369337",
         "2022-03-31 16:09:52+00:00"
        ],
        [
         "1",
         "1004065528871247872",
         "2022-03-31 00:55:08+00:00"
        ],
        [
         "1461",
         "877629044828667905",
         "2022-03-31 00:07:57+00:00"
        ],
        [
         "1257",
         "620136960",
         "2022-03-30 20:22:23+00:00"
        ],
        [
         "1352",
         "767945051787759616",
         "2022-03-30 17:16:27+00:00"
        ],
        [
         "1019",
         "36167088",
         "2022-03-30 16:31:16+00:00"
        ],
        [
         "1386",
         "80483638",
         "2022-03-30 15:33:56+00:00"
        ],
        [
         "500",
         "17919393",
         "2022-03-30 15:17:48+00:00"
        ],
        [
         "466",
         "17018470",
         "2022-03-29 10:45:14+00:00"
        ],
        [
         "462",
         "169353953",
         "2022-03-27 05:27:40+00:00"
        ],
        [
         "307",
         "1421182643375427584",
         "2022-03-27 03:36:30+00:00"
        ],
        [
         "947",
         "323920783",
         "2022-03-24 00:38:00+00:00"
        ],
        [
         "1220",
         "553010243",
         "2022-03-21 19:39:29+00:00"
        ],
        [
         "412",
         "15850297",
         "2022-03-18 16:15:05+00:00"
        ],
        [
         "1296",
         "709986828066144257",
         "2022-03-17 19:22:35+00:00"
        ],
        [
         "314",
         "142843687",
         "2022-03-17 16:52:15+00:00"
        ],
        [
         "737",
         "2498871378",
         "2022-03-16 12:05:46+00:00"
        ],
        [
         "703",
         "239666710",
         "2022-03-15 23:33:49+00:00"
        ],
        [
         "620",
         "2167134798",
         "2022-03-15 01:10:49+00:00"
        ],
        [
         "1547",
         "989313110602235904",
         "2022-03-13 22:11:54+00:00"
        ],
        [
         "347",
         "14596185",
         "2022-03-12 01:16:50+00:00"
        ],
        [
         "872",
         "294118241",
         "2022-03-11 19:57:19+00:00"
        ],
        [
         "1036",
         "36740674",
         "2022-03-07 20:01:14+00:00"
        ],
        [
         "1054",
         "38282048",
         "2022-03-01 19:27:54+00:00"
        ],
        [
         "501",
         "179226033",
         "2022-02-25 00:17:42+00:00"
        ],
        [
         "938",
         "3173246967",
         "2022-02-22 12:50:00+00:00"
        ],
        [
         "630",
         "21833509",
         "2022-02-18 21:38:38+00:00"
        ],
        [
         "260",
         "1352311853263671296",
         "2022-02-17 22:58:21+00:00"
        ],
        [
         "550",
         "19201304",
         "2022-02-15 00:00:09+00:00"
        ],
        [
         "765",
         "257663572",
         "2022-02-14 19:57:37+00:00"
        ],
        [
         "1306",
         "720959701651996673",
         "2022-02-08 23:01:34+00:00"
        ],
        [
         "1112",
         "4311670299",
         "2022-02-05 14:19:36+00:00"
        ],
        [
         "583",
         "20280574",
         "2022-02-01 17:57:14+00:00"
        ],
        [
         "1018",
         "359528910",
         "2022-02-01 02:22:22+00:00"
        ],
        [
         "1001",
         "344350643",
         "2022-01-25 21:37:47+00:00"
        ],
        [
         "1480",
         "898324652",
         "2022-01-19 03:18:01+00:00"
        ],
        [
         "313",
         "1428158156098572291",
         "2022-01-12 19:18:28+00:00"
        ],
        [
         "791",
         "26950458",
         "2022-01-12 01:12:48+00:00"
        ],
        [
         "993",
         "33919623",
         "2022-01-06 21:23:18+00:00"
        ],
        [
         "37",
         "1047247402409840640",
         "2021-12-28 20:52:12+00:00"
        ],
        [
         "343",
         "1457177169407393795",
         "2021-12-27 04:28:51+00:00"
        ],
        [
         "474",
         "17146256",
         "2021-12-25 16:40:26+00:00"
        ]
       ],
       "shape": {
        "columns": 2,
        "rows": 45
       }
      },
      "text/html": [
       "<div>\n",
       "<style scoped>\n",
       "    .dataframe tbody tr th:only-of-type {\n",
       "        vertical-align: middle;\n",
       "    }\n",
       "\n",
       "    .dataframe tbody tr th {\n",
       "        vertical-align: top;\n",
       "    }\n",
       "\n",
       "    .dataframe thead th {\n",
       "        text-align: right;\n",
       "    }\n",
       "</style>\n",
       "<table border=\"1\" class=\"dataframe\">\n",
       "  <thead>\n",
       "    <tr style=\"text-align: right;\">\n",
       "      <th></th>\n",
       "      <th>author_id</th>\n",
       "      <th>last_tweet</th>\n",
       "    </tr>\n",
       "  </thead>\n",
       "  <tbody>\n",
       "    <tr>\n",
       "      <th>367</th>\n",
       "      <td>149197471</td>\n",
       "      <td>2022-04-01 03:52:00+00:00</td>\n",
       "    </tr>\n",
       "    <tr>\n",
       "      <th>1548</th>\n",
       "      <td>989320781799743488</td>\n",
       "      <td>2022-03-31 20:50:10+00:00</td>\n",
       "    </tr>\n",
       "    <tr>\n",
       "      <th>351</th>\n",
       "      <td>146569971</td>\n",
       "      <td>2022-03-31 20:00:11+00:00</td>\n",
       "    </tr>\n",
       "    <tr>\n",
       "      <th>1113</th>\n",
       "      <td>43369337</td>\n",
       "      <td>2022-03-31 16:09:52+00:00</td>\n",
       "    </tr>\n",
       "    <tr>\n",
       "      <th>1</th>\n",
       "      <td>1004065528871247872</td>\n",
       "      <td>2022-03-31 00:55:08+00:00</td>\n",
       "    </tr>\n",
       "    <tr>\n",
       "      <th>1461</th>\n",
       "      <td>877629044828667905</td>\n",
       "      <td>2022-03-31 00:07:57+00:00</td>\n",
       "    </tr>\n",
       "    <tr>\n",
       "      <th>1257</th>\n",
       "      <td>620136960</td>\n",
       "      <td>2022-03-30 20:22:23+00:00</td>\n",
       "    </tr>\n",
       "    <tr>\n",
       "      <th>1352</th>\n",
       "      <td>767945051787759616</td>\n",
       "      <td>2022-03-30 17:16:27+00:00</td>\n",
       "    </tr>\n",
       "    <tr>\n",
       "      <th>1019</th>\n",
       "      <td>36167088</td>\n",
       "      <td>2022-03-30 16:31:16+00:00</td>\n",
       "    </tr>\n",
       "    <tr>\n",
       "      <th>1386</th>\n",
       "      <td>80483638</td>\n",
       "      <td>2022-03-30 15:33:56+00:00</td>\n",
       "    </tr>\n",
       "    <tr>\n",
       "      <th>500</th>\n",
       "      <td>17919393</td>\n",
       "      <td>2022-03-30 15:17:48+00:00</td>\n",
       "    </tr>\n",
       "    <tr>\n",
       "      <th>466</th>\n",
       "      <td>17018470</td>\n",
       "      <td>2022-03-29 10:45:14+00:00</td>\n",
       "    </tr>\n",
       "    <tr>\n",
       "      <th>462</th>\n",
       "      <td>169353953</td>\n",
       "      <td>2022-03-27 05:27:40+00:00</td>\n",
       "    </tr>\n",
       "    <tr>\n",
       "      <th>307</th>\n",
       "      <td>1421182643375427584</td>\n",
       "      <td>2022-03-27 03:36:30+00:00</td>\n",
       "    </tr>\n",
       "    <tr>\n",
       "      <th>947</th>\n",
       "      <td>323920783</td>\n",
       "      <td>2022-03-24 00:38:00+00:00</td>\n",
       "    </tr>\n",
       "    <tr>\n",
       "      <th>1220</th>\n",
       "      <td>553010243</td>\n",
       "      <td>2022-03-21 19:39:29+00:00</td>\n",
       "    </tr>\n",
       "    <tr>\n",
       "      <th>412</th>\n",
       "      <td>15850297</td>\n",
       "      <td>2022-03-18 16:15:05+00:00</td>\n",
       "    </tr>\n",
       "    <tr>\n",
       "      <th>1296</th>\n",
       "      <td>709986828066144257</td>\n",
       "      <td>2022-03-17 19:22:35+00:00</td>\n",
       "    </tr>\n",
       "    <tr>\n",
       "      <th>314</th>\n",
       "      <td>142843687</td>\n",
       "      <td>2022-03-17 16:52:15+00:00</td>\n",
       "    </tr>\n",
       "    <tr>\n",
       "      <th>737</th>\n",
       "      <td>2498871378</td>\n",
       "      <td>2022-03-16 12:05:46+00:00</td>\n",
       "    </tr>\n",
       "    <tr>\n",
       "      <th>703</th>\n",
       "      <td>239666710</td>\n",
       "      <td>2022-03-15 23:33:49+00:00</td>\n",
       "    </tr>\n",
       "    <tr>\n",
       "      <th>620</th>\n",
       "      <td>2167134798</td>\n",
       "      <td>2022-03-15 01:10:49+00:00</td>\n",
       "    </tr>\n",
       "    <tr>\n",
       "      <th>1547</th>\n",
       "      <td>989313110602235904</td>\n",
       "      <td>2022-03-13 22:11:54+00:00</td>\n",
       "    </tr>\n",
       "    <tr>\n",
       "      <th>347</th>\n",
       "      <td>14596185</td>\n",
       "      <td>2022-03-12 01:16:50+00:00</td>\n",
       "    </tr>\n",
       "    <tr>\n",
       "      <th>872</th>\n",
       "      <td>294118241</td>\n",
       "      <td>2022-03-11 19:57:19+00:00</td>\n",
       "    </tr>\n",
       "    <tr>\n",
       "      <th>1036</th>\n",
       "      <td>36740674</td>\n",
       "      <td>2022-03-07 20:01:14+00:00</td>\n",
       "    </tr>\n",
       "    <tr>\n",
       "      <th>1054</th>\n",
       "      <td>38282048</td>\n",
       "      <td>2022-03-01 19:27:54+00:00</td>\n",
       "    </tr>\n",
       "    <tr>\n",
       "      <th>501</th>\n",
       "      <td>179226033</td>\n",
       "      <td>2022-02-25 00:17:42+00:00</td>\n",
       "    </tr>\n",
       "    <tr>\n",
       "      <th>938</th>\n",
       "      <td>3173246967</td>\n",
       "      <td>2022-02-22 12:50:00+00:00</td>\n",
       "    </tr>\n",
       "    <tr>\n",
       "      <th>630</th>\n",
       "      <td>21833509</td>\n",
       "      <td>2022-02-18 21:38:38+00:00</td>\n",
       "    </tr>\n",
       "    <tr>\n",
       "      <th>260</th>\n",
       "      <td>1352311853263671296</td>\n",
       "      <td>2022-02-17 22:58:21+00:00</td>\n",
       "    </tr>\n",
       "    <tr>\n",
       "      <th>550</th>\n",
       "      <td>19201304</td>\n",
       "      <td>2022-02-15 00:00:09+00:00</td>\n",
       "    </tr>\n",
       "    <tr>\n",
       "      <th>765</th>\n",
       "      <td>257663572</td>\n",
       "      <td>2022-02-14 19:57:37+00:00</td>\n",
       "    </tr>\n",
       "    <tr>\n",
       "      <th>1306</th>\n",
       "      <td>720959701651996673</td>\n",
       "      <td>2022-02-08 23:01:34+00:00</td>\n",
       "    </tr>\n",
       "    <tr>\n",
       "      <th>1112</th>\n",
       "      <td>4311670299</td>\n",
       "      <td>2022-02-05 14:19:36+00:00</td>\n",
       "    </tr>\n",
       "    <tr>\n",
       "      <th>583</th>\n",
       "      <td>20280574</td>\n",
       "      <td>2022-02-01 17:57:14+00:00</td>\n",
       "    </tr>\n",
       "    <tr>\n",
       "      <th>1018</th>\n",
       "      <td>359528910</td>\n",
       "      <td>2022-02-01 02:22:22+00:00</td>\n",
       "    </tr>\n",
       "    <tr>\n",
       "      <th>1001</th>\n",
       "      <td>344350643</td>\n",
       "      <td>2022-01-25 21:37:47+00:00</td>\n",
       "    </tr>\n",
       "    <tr>\n",
       "      <th>1480</th>\n",
       "      <td>898324652</td>\n",
       "      <td>2022-01-19 03:18:01+00:00</td>\n",
       "    </tr>\n",
       "    <tr>\n",
       "      <th>313</th>\n",
       "      <td>1428158156098572291</td>\n",
       "      <td>2022-01-12 19:18:28+00:00</td>\n",
       "    </tr>\n",
       "    <tr>\n",
       "      <th>791</th>\n",
       "      <td>26950458</td>\n",
       "      <td>2022-01-12 01:12:48+00:00</td>\n",
       "    </tr>\n",
       "    <tr>\n",
       "      <th>993</th>\n",
       "      <td>33919623</td>\n",
       "      <td>2022-01-06 21:23:18+00:00</td>\n",
       "    </tr>\n",
       "    <tr>\n",
       "      <th>37</th>\n",
       "      <td>1047247402409840640</td>\n",
       "      <td>2021-12-28 20:52:12+00:00</td>\n",
       "    </tr>\n",
       "    <tr>\n",
       "      <th>343</th>\n",
       "      <td>1457177169407393795</td>\n",
       "      <td>2021-12-27 04:28:51+00:00</td>\n",
       "    </tr>\n",
       "    <tr>\n",
       "      <th>474</th>\n",
       "      <td>17146256</td>\n",
       "      <td>2021-12-25 16:40:26+00:00</td>\n",
       "    </tr>\n",
       "  </tbody>\n",
       "</table>\n",
       "</div>"
      ],
      "text/plain": [
       "                author_id                last_tweet\n",
       "367             149197471 2022-04-01 03:52:00+00:00\n",
       "1548   989320781799743488 2022-03-31 20:50:10+00:00\n",
       "351             146569971 2022-03-31 20:00:11+00:00\n",
       "1113             43369337 2022-03-31 16:09:52+00:00\n",
       "1     1004065528871247872 2022-03-31 00:55:08+00:00\n",
       "1461   877629044828667905 2022-03-31 00:07:57+00:00\n",
       "1257            620136960 2022-03-30 20:22:23+00:00\n",
       "1352   767945051787759616 2022-03-30 17:16:27+00:00\n",
       "1019             36167088 2022-03-30 16:31:16+00:00\n",
       "1386             80483638 2022-03-30 15:33:56+00:00\n",
       "500              17919393 2022-03-30 15:17:48+00:00\n",
       "466              17018470 2022-03-29 10:45:14+00:00\n",
       "462             169353953 2022-03-27 05:27:40+00:00\n",
       "307   1421182643375427584 2022-03-27 03:36:30+00:00\n",
       "947             323920783 2022-03-24 00:38:00+00:00\n",
       "1220            553010243 2022-03-21 19:39:29+00:00\n",
       "412              15850297 2022-03-18 16:15:05+00:00\n",
       "1296   709986828066144257 2022-03-17 19:22:35+00:00\n",
       "314             142843687 2022-03-17 16:52:15+00:00\n",
       "737            2498871378 2022-03-16 12:05:46+00:00\n",
       "703             239666710 2022-03-15 23:33:49+00:00\n",
       "620            2167134798 2022-03-15 01:10:49+00:00\n",
       "1547   989313110602235904 2022-03-13 22:11:54+00:00\n",
       "347              14596185 2022-03-12 01:16:50+00:00\n",
       "872             294118241 2022-03-11 19:57:19+00:00\n",
       "1036             36740674 2022-03-07 20:01:14+00:00\n",
       "1054             38282048 2022-03-01 19:27:54+00:00\n",
       "501             179226033 2022-02-25 00:17:42+00:00\n",
       "938            3173246967 2022-02-22 12:50:00+00:00\n",
       "630              21833509 2022-02-18 21:38:38+00:00\n",
       "260   1352311853263671296 2022-02-17 22:58:21+00:00\n",
       "550              19201304 2022-02-15 00:00:09+00:00\n",
       "765             257663572 2022-02-14 19:57:37+00:00\n",
       "1306   720959701651996673 2022-02-08 23:01:34+00:00\n",
       "1112           4311670299 2022-02-05 14:19:36+00:00\n",
       "583              20280574 2022-02-01 17:57:14+00:00\n",
       "1018            359528910 2022-02-01 02:22:22+00:00\n",
       "1001            344350643 2022-01-25 21:37:47+00:00\n",
       "1480            898324652 2022-01-19 03:18:01+00:00\n",
       "313   1428158156098572291 2022-01-12 19:18:28+00:00\n",
       "791              26950458 2022-01-12 01:12:48+00:00\n",
       "993              33919623 2022-01-06 21:23:18+00:00\n",
       "37    1047247402409840640 2021-12-28 20:52:12+00:00\n",
       "343   1457177169407393795 2021-12-27 04:28:51+00:00\n",
       "474              17146256 2021-12-25 16:40:26+00:00"
      ]
     },
     "execution_count": 11,
     "metadata": {},
     "output_type": "execute_result"
    }
   ],
   "source": [
    "filtered_users = user_last_tweet_df[user_last_tweet_df[\"author_id\"].isin( selected_users_rrpp[\"author_id\"] )].sort_values(by='last_tweet', ascending=False)\n",
    "filtered_users"
   ]
  },
  {
   "cell_type": "code",
   "execution_count": 12,
   "id": "d92c0910",
   "metadata": {},
   "outputs": [
    {
     "data": {
      "application/vnd.microsoft.datawrangler.viewer.v0+json": {
       "columns": [
        {
         "name": "index",
         "rawType": "int64",
         "type": "integer"
        },
        {
         "name": "created_at",
         "rawType": "datetime64[ns, UTC]",
         "type": "unknown"
        },
        {
         "name": "count",
         "rawType": "int64",
         "type": "integer"
        }
       ],
       "ref": "0a951a46-a7cf-4326-96c7-bb4d60993a1b",
       "rows": [
        [
         "0",
         "2021-12-01 00:00:00+00:00",
         "414"
        ],
        [
         "1",
         "2021-12-02 00:00:00+00:00",
         "416"
        ],
        [
         "2",
         "2021-12-03 00:00:00+00:00",
         "364"
        ],
        [
         "3",
         "2021-12-04 00:00:00+00:00",
         "248"
        ],
        [
         "4",
         "2021-12-05 00:00:00+00:00",
         "167"
        ],
        [
         "5",
         "2021-12-06 00:00:00+00:00",
         "305"
        ],
        [
         "6",
         "2021-12-07 00:00:00+00:00",
         "330"
        ],
        [
         "7",
         "2021-12-08 00:00:00+00:00",
         "318"
        ],
        [
         "8",
         "2021-12-09 00:00:00+00:00",
         "375"
        ],
        [
         "9",
         "2021-12-10 00:00:00+00:00",
         "315"
        ],
        [
         "10",
         "2021-12-11 00:00:00+00:00",
         "185"
        ],
        [
         "11",
         "2021-12-12 00:00:00+00:00",
         "219"
        ],
        [
         "12",
         "2021-12-13 00:00:00+00:00",
         "325"
        ],
        [
         "13",
         "2021-12-14 00:00:00+00:00",
         "332"
        ],
        [
         "14",
         "2021-12-15 00:00:00+00:00",
         "506"
        ],
        [
         "15",
         "2021-12-16 00:00:00+00:00",
         "419"
        ],
        [
         "16",
         "2021-12-17 00:00:00+00:00",
         "474"
        ],
        [
         "17",
         "2021-12-18 00:00:00+00:00",
         "343"
        ],
        [
         "18",
         "2021-12-19 00:00:00+00:00",
         "320"
        ],
        [
         "19",
         "2021-12-20 00:00:00+00:00",
         "453"
        ],
        [
         "20",
         "2021-12-21 00:00:00+00:00",
         "579"
        ],
        [
         "21",
         "2021-12-22 00:00:00+00:00",
         "477"
        ],
        [
         "22",
         "2021-12-23 00:00:00+00:00",
         "483"
        ],
        [
         "23",
         "2021-12-24 00:00:00+00:00",
         "345"
        ],
        [
         "24",
         "2021-12-25 00:00:00+00:00",
         "218"
        ],
        [
         "25",
         "2021-12-26 00:00:00+00:00",
         "223"
        ],
        [
         "26",
         "2021-12-27 00:00:00+00:00",
         "367"
        ],
        [
         "27",
         "2021-12-28 00:00:00+00:00",
         "522"
        ],
        [
         "28",
         "2021-12-29 00:00:00+00:00",
         "539"
        ],
        [
         "29",
         "2021-12-30 00:00:00+00:00",
         "709"
        ],
        [
         "30",
         "2021-12-31 00:00:00+00:00",
         "468"
        ],
        [
         "31",
         "2022-01-01 00:00:00+00:00",
         "277"
        ],
        [
         "32",
         "2022-01-02 00:00:00+00:00",
         "312"
        ],
        [
         "33",
         "2022-01-03 00:00:00+00:00",
         "351"
        ],
        [
         "34",
         "2022-01-04 00:00:00+00:00",
         "570"
        ],
        [
         "35",
         "2022-01-05 00:00:00+00:00",
         "418"
        ],
        [
         "36",
         "2022-01-06 00:00:00+00:00",
         "426"
        ],
        [
         "37",
         "2022-01-07 00:00:00+00:00",
         "465"
        ],
        [
         "38",
         "2022-01-08 00:00:00+00:00",
         "448"
        ],
        [
         "39",
         "2022-01-09 00:00:00+00:00",
         "311"
        ],
        [
         "40",
         "2022-01-10 00:00:00+00:00",
         "395"
        ],
        [
         "41",
         "2022-01-11 00:00:00+00:00",
         "421"
        ],
        [
         "42",
         "2022-01-12 00:00:00+00:00",
         "437"
        ],
        [
         "43",
         "2022-01-13 00:00:00+00:00",
         "518"
        ],
        [
         "44",
         "2022-01-14 00:00:00+00:00",
         "327"
        ],
        [
         "45",
         "2022-01-15 00:00:00+00:00",
         "298"
        ],
        [
         "46",
         "2022-01-16 00:00:00+00:00",
         "220"
        ],
        [
         "47",
         "2022-01-17 00:00:00+00:00",
         "323"
        ],
        [
         "48",
         "2022-01-18 00:00:00+00:00",
         "418"
        ],
        [
         "49",
         "2022-01-19 00:00:00+00:00",
         "454"
        ]
       ],
       "shape": {
        "columns": 2,
        "rows": 122
       }
      },
      "text/html": [
       "<div>\n",
       "<style scoped>\n",
       "    .dataframe tbody tr th:only-of-type {\n",
       "        vertical-align: middle;\n",
       "    }\n",
       "\n",
       "    .dataframe tbody tr th {\n",
       "        vertical-align: top;\n",
       "    }\n",
       "\n",
       "    .dataframe thead th {\n",
       "        text-align: right;\n",
       "    }\n",
       "</style>\n",
       "<table border=\"1\" class=\"dataframe\">\n",
       "  <thead>\n",
       "    <tr style=\"text-align: right;\">\n",
       "      <th></th>\n",
       "      <th>created_at</th>\n",
       "      <th>count</th>\n",
       "    </tr>\n",
       "  </thead>\n",
       "  <tbody>\n",
       "    <tr>\n",
       "      <th>0</th>\n",
       "      <td>2021-12-01 00:00:00+00:00</td>\n",
       "      <td>414</td>\n",
       "    </tr>\n",
       "    <tr>\n",
       "      <th>1</th>\n",
       "      <td>2021-12-02 00:00:00+00:00</td>\n",
       "      <td>416</td>\n",
       "    </tr>\n",
       "    <tr>\n",
       "      <th>2</th>\n",
       "      <td>2021-12-03 00:00:00+00:00</td>\n",
       "      <td>364</td>\n",
       "    </tr>\n",
       "    <tr>\n",
       "      <th>3</th>\n",
       "      <td>2021-12-04 00:00:00+00:00</td>\n",
       "      <td>248</td>\n",
       "    </tr>\n",
       "    <tr>\n",
       "      <th>4</th>\n",
       "      <td>2021-12-05 00:00:00+00:00</td>\n",
       "      <td>167</td>\n",
       "    </tr>\n",
       "    <tr>\n",
       "      <th>...</th>\n",
       "      <td>...</td>\n",
       "      <td>...</td>\n",
       "    </tr>\n",
       "    <tr>\n",
       "      <th>117</th>\n",
       "      <td>2022-03-28 00:00:00+00:00</td>\n",
       "      <td>150</td>\n",
       "    </tr>\n",
       "    <tr>\n",
       "      <th>118</th>\n",
       "      <td>2022-03-29 00:00:00+00:00</td>\n",
       "      <td>193</td>\n",
       "    </tr>\n",
       "    <tr>\n",
       "      <th>119</th>\n",
       "      <td>2022-03-30 00:00:00+00:00</td>\n",
       "      <td>165</td>\n",
       "    </tr>\n",
       "    <tr>\n",
       "      <th>120</th>\n",
       "      <td>2022-03-31 00:00:00+00:00</td>\n",
       "      <td>187</td>\n",
       "    </tr>\n",
       "    <tr>\n",
       "      <th>121</th>\n",
       "      <td>2022-04-01 00:00:00+00:00</td>\n",
       "      <td>43</td>\n",
       "    </tr>\n",
       "  </tbody>\n",
       "</table>\n",
       "<p>122 rows × 2 columns</p>\n",
       "</div>"
      ],
      "text/plain": [
       "                   created_at  count\n",
       "0   2021-12-01 00:00:00+00:00    414\n",
       "1   2021-12-02 00:00:00+00:00    416\n",
       "2   2021-12-03 00:00:00+00:00    364\n",
       "3   2021-12-04 00:00:00+00:00    248\n",
       "4   2021-12-05 00:00:00+00:00    167\n",
       "..                        ...    ...\n",
       "117 2022-03-28 00:00:00+00:00    150\n",
       "118 2022-03-29 00:00:00+00:00    193\n",
       "119 2022-03-30 00:00:00+00:00    165\n",
       "120 2022-03-31 00:00:00+00:00    187\n",
       "121 2022-04-01 00:00:00+00:00     43\n",
       "\n",
       "[122 rows x 2 columns]"
      ]
     },
     "execution_count": 12,
     "metadata": {},
     "output_type": "execute_result"
    }
   ],
   "source": [
    "date_posts = df_covid19.set_index('created_at').resample('d').size().sort_index().reset_index(name='count')\n",
    "date_posts"
   ]
  },
  {
   "cell_type": "code",
   "execution_count": 13,
   "id": "bebb089d",
   "metadata": {},
   "outputs": [],
   "source": [
    "sorted_users_by_rrpp = [u for u in user_rrpp[\"author_id\"] if u in filtered_users[\"author_id\"].unique()]"
   ]
  },
  {
   "cell_type": "code",
   "execution_count": 14,
   "id": "75b99f48",
   "metadata": {},
   "outputs": [
    {
     "data": {
      "application/vnd.microsoft.datawrangler.viewer.v0+json": {
       "columns": [
        {
         "name": "index",
         "rawType": "int64",
         "type": "integer"
        },
        {
         "name": "author_id",
         "rawType": "object",
         "type": "string"
        },
        {
         "name": "last_tweet",
         "rawType": "datetime64[ns, UTC]",
         "type": "unknown"
        }
       ],
       "ref": "40e4f8d0-1a83-4b40-a2b5-2a71152b00e9",
       "rows": [
        [
         "0",
         "80483638",
         "2022-03-30 15:33:56+00:00"
        ],
        [
         "1",
         "720959701651996673",
         "2022-02-08 23:01:34+00:00"
        ],
        [
         "2",
         "169353953",
         "2022-03-27 05:27:40+00:00"
        ],
        [
         "3",
         "344350643",
         "2022-01-25 21:37:47+00:00"
        ],
        [
         "4",
         "1352311853263671296",
         "2022-02-17 22:58:21+00:00"
        ],
        [
         "5",
         "17146256",
         "2021-12-25 16:40:26+00:00"
        ],
        [
         "6",
         "359528910",
         "2022-02-01 02:22:22+00:00"
        ],
        [
         "7",
         "1047247402409840640",
         "2021-12-28 20:52:12+00:00"
        ],
        [
         "8",
         "4311670299",
         "2022-02-05 14:19:36+00:00"
        ],
        [
         "9",
         "179226033",
         "2022-02-25 00:17:42+00:00"
        ],
        [
         "10",
         "767945051787759616",
         "2022-03-30 17:16:27+00:00"
        ],
        [
         "11",
         "1457177169407393795",
         "2021-12-27 04:28:51+00:00"
        ],
        [
         "12",
         "26950458",
         "2022-01-12 01:12:48+00:00"
        ],
        [
         "13",
         "17919393",
         "2022-03-30 15:17:48+00:00"
        ],
        [
         "14",
         "620136960",
         "2022-03-30 20:22:23+00:00"
        ],
        [
         "15",
         "989313110602235904",
         "2022-03-13 22:11:54+00:00"
        ],
        [
         "16",
         "36167088",
         "2022-03-30 16:31:16+00:00"
        ],
        [
         "17",
         "898324652",
         "2022-01-19 03:18:01+00:00"
        ],
        [
         "18",
         "17018470",
         "2022-03-29 10:45:14+00:00"
        ],
        [
         "19",
         "1428158156098572291",
         "2022-01-12 19:18:28+00:00"
        ],
        [
         "20",
         "1004065528871247872",
         "2022-03-31 00:55:08+00:00"
        ],
        [
         "21",
         "877629044828667905",
         "2022-03-31 00:07:57+00:00"
        ],
        [
         "22",
         "20280574",
         "2022-02-01 17:57:14+00:00"
        ],
        [
         "23",
         "239666710",
         "2022-03-15 23:33:49+00:00"
        ],
        [
         "24",
         "3173246967",
         "2022-02-22 12:50:00+00:00"
        ],
        [
         "25",
         "149197471",
         "2022-04-01 03:52:00+00:00"
        ],
        [
         "26",
         "989320781799743488",
         "2022-03-31 20:50:10+00:00"
        ],
        [
         "27",
         "21833509",
         "2022-02-18 21:38:38+00:00"
        ],
        [
         "28",
         "19201304",
         "2022-02-15 00:00:09+00:00"
        ],
        [
         "29",
         "142843687",
         "2022-03-17 16:52:15+00:00"
        ],
        [
         "30",
         "1421182643375427584",
         "2022-03-27 03:36:30+00:00"
        ],
        [
         "31",
         "33919623",
         "2022-01-06 21:23:18+00:00"
        ],
        [
         "32",
         "14596185",
         "2022-03-12 01:16:50+00:00"
        ],
        [
         "33",
         "2498871378",
         "2022-03-16 12:05:46+00:00"
        ],
        [
         "34",
         "323920783",
         "2022-03-24 00:38:00+00:00"
        ],
        [
         "35",
         "36740674",
         "2022-03-07 20:01:14+00:00"
        ],
        [
         "36",
         "257663572",
         "2022-02-14 19:57:37+00:00"
        ],
        [
         "37",
         "38282048",
         "2022-03-01 19:27:54+00:00"
        ],
        [
         "38",
         "294118241",
         "2022-03-11 19:57:19+00:00"
        ],
        [
         "39",
         "146569971",
         "2022-03-31 20:00:11+00:00"
        ],
        [
         "40",
         "2167134798",
         "2022-03-15 01:10:49+00:00"
        ],
        [
         "41",
         "553010243",
         "2022-03-21 19:39:29+00:00"
        ],
        [
         "42",
         "15850297",
         "2022-03-18 16:15:05+00:00"
        ],
        [
         "43",
         "43369337",
         "2022-03-31 16:09:52+00:00"
        ],
        [
         "44",
         "709986828066144257",
         "2022-03-17 19:22:35+00:00"
        ]
       ],
       "shape": {
        "columns": 2,
        "rows": 45
       }
      },
      "text/html": [
       "<div>\n",
       "<style scoped>\n",
       "    .dataframe tbody tr th:only-of-type {\n",
       "        vertical-align: middle;\n",
       "    }\n",
       "\n",
       "    .dataframe tbody tr th {\n",
       "        vertical-align: top;\n",
       "    }\n",
       "\n",
       "    .dataframe thead th {\n",
       "        text-align: right;\n",
       "    }\n",
       "</style>\n",
       "<table border=\"1\" class=\"dataframe\">\n",
       "  <thead>\n",
       "    <tr style=\"text-align: right;\">\n",
       "      <th></th>\n",
       "      <th>author_id</th>\n",
       "      <th>last_tweet</th>\n",
       "    </tr>\n",
       "  </thead>\n",
       "  <tbody>\n",
       "    <tr>\n",
       "      <th>0</th>\n",
       "      <td>80483638</td>\n",
       "      <td>2022-03-30 15:33:56+00:00</td>\n",
       "    </tr>\n",
       "    <tr>\n",
       "      <th>1</th>\n",
       "      <td>720959701651996673</td>\n",
       "      <td>2022-02-08 23:01:34+00:00</td>\n",
       "    </tr>\n",
       "    <tr>\n",
       "      <th>2</th>\n",
       "      <td>169353953</td>\n",
       "      <td>2022-03-27 05:27:40+00:00</td>\n",
       "    </tr>\n",
       "    <tr>\n",
       "      <th>3</th>\n",
       "      <td>344350643</td>\n",
       "      <td>2022-01-25 21:37:47+00:00</td>\n",
       "    </tr>\n",
       "    <tr>\n",
       "      <th>4</th>\n",
       "      <td>1352311853263671296</td>\n",
       "      <td>2022-02-17 22:58:21+00:00</td>\n",
       "    </tr>\n",
       "    <tr>\n",
       "      <th>5</th>\n",
       "      <td>17146256</td>\n",
       "      <td>2021-12-25 16:40:26+00:00</td>\n",
       "    </tr>\n",
       "    <tr>\n",
       "      <th>6</th>\n",
       "      <td>359528910</td>\n",
       "      <td>2022-02-01 02:22:22+00:00</td>\n",
       "    </tr>\n",
       "    <tr>\n",
       "      <th>7</th>\n",
       "      <td>1047247402409840640</td>\n",
       "      <td>2021-12-28 20:52:12+00:00</td>\n",
       "    </tr>\n",
       "    <tr>\n",
       "      <th>8</th>\n",
       "      <td>4311670299</td>\n",
       "      <td>2022-02-05 14:19:36+00:00</td>\n",
       "    </tr>\n",
       "    <tr>\n",
       "      <th>9</th>\n",
       "      <td>179226033</td>\n",
       "      <td>2022-02-25 00:17:42+00:00</td>\n",
       "    </tr>\n",
       "    <tr>\n",
       "      <th>10</th>\n",
       "      <td>767945051787759616</td>\n",
       "      <td>2022-03-30 17:16:27+00:00</td>\n",
       "    </tr>\n",
       "    <tr>\n",
       "      <th>11</th>\n",
       "      <td>1457177169407393795</td>\n",
       "      <td>2021-12-27 04:28:51+00:00</td>\n",
       "    </tr>\n",
       "    <tr>\n",
       "      <th>12</th>\n",
       "      <td>26950458</td>\n",
       "      <td>2022-01-12 01:12:48+00:00</td>\n",
       "    </tr>\n",
       "    <tr>\n",
       "      <th>13</th>\n",
       "      <td>17919393</td>\n",
       "      <td>2022-03-30 15:17:48+00:00</td>\n",
       "    </tr>\n",
       "    <tr>\n",
       "      <th>14</th>\n",
       "      <td>620136960</td>\n",
       "      <td>2022-03-30 20:22:23+00:00</td>\n",
       "    </tr>\n",
       "    <tr>\n",
       "      <th>15</th>\n",
       "      <td>989313110602235904</td>\n",
       "      <td>2022-03-13 22:11:54+00:00</td>\n",
       "    </tr>\n",
       "    <tr>\n",
       "      <th>16</th>\n",
       "      <td>36167088</td>\n",
       "      <td>2022-03-30 16:31:16+00:00</td>\n",
       "    </tr>\n",
       "    <tr>\n",
       "      <th>17</th>\n",
       "      <td>898324652</td>\n",
       "      <td>2022-01-19 03:18:01+00:00</td>\n",
       "    </tr>\n",
       "    <tr>\n",
       "      <th>18</th>\n",
       "      <td>17018470</td>\n",
       "      <td>2022-03-29 10:45:14+00:00</td>\n",
       "    </tr>\n",
       "    <tr>\n",
       "      <th>19</th>\n",
       "      <td>1428158156098572291</td>\n",
       "      <td>2022-01-12 19:18:28+00:00</td>\n",
       "    </tr>\n",
       "    <tr>\n",
       "      <th>20</th>\n",
       "      <td>1004065528871247872</td>\n",
       "      <td>2022-03-31 00:55:08+00:00</td>\n",
       "    </tr>\n",
       "    <tr>\n",
       "      <th>21</th>\n",
       "      <td>877629044828667905</td>\n",
       "      <td>2022-03-31 00:07:57+00:00</td>\n",
       "    </tr>\n",
       "    <tr>\n",
       "      <th>22</th>\n",
       "      <td>20280574</td>\n",
       "      <td>2022-02-01 17:57:14+00:00</td>\n",
       "    </tr>\n",
       "    <tr>\n",
       "      <th>23</th>\n",
       "      <td>239666710</td>\n",
       "      <td>2022-03-15 23:33:49+00:00</td>\n",
       "    </tr>\n",
       "    <tr>\n",
       "      <th>24</th>\n",
       "      <td>3173246967</td>\n",
       "      <td>2022-02-22 12:50:00+00:00</td>\n",
       "    </tr>\n",
       "    <tr>\n",
       "      <th>25</th>\n",
       "      <td>149197471</td>\n",
       "      <td>2022-04-01 03:52:00+00:00</td>\n",
       "    </tr>\n",
       "    <tr>\n",
       "      <th>26</th>\n",
       "      <td>989320781799743488</td>\n",
       "      <td>2022-03-31 20:50:10+00:00</td>\n",
       "    </tr>\n",
       "    <tr>\n",
       "      <th>27</th>\n",
       "      <td>21833509</td>\n",
       "      <td>2022-02-18 21:38:38+00:00</td>\n",
       "    </tr>\n",
       "    <tr>\n",
       "      <th>28</th>\n",
       "      <td>19201304</td>\n",
       "      <td>2022-02-15 00:00:09+00:00</td>\n",
       "    </tr>\n",
       "    <tr>\n",
       "      <th>29</th>\n",
       "      <td>142843687</td>\n",
       "      <td>2022-03-17 16:52:15+00:00</td>\n",
       "    </tr>\n",
       "    <tr>\n",
       "      <th>30</th>\n",
       "      <td>1421182643375427584</td>\n",
       "      <td>2022-03-27 03:36:30+00:00</td>\n",
       "    </tr>\n",
       "    <tr>\n",
       "      <th>31</th>\n",
       "      <td>33919623</td>\n",
       "      <td>2022-01-06 21:23:18+00:00</td>\n",
       "    </tr>\n",
       "    <tr>\n",
       "      <th>32</th>\n",
       "      <td>14596185</td>\n",
       "      <td>2022-03-12 01:16:50+00:00</td>\n",
       "    </tr>\n",
       "    <tr>\n",
       "      <th>33</th>\n",
       "      <td>2498871378</td>\n",
       "      <td>2022-03-16 12:05:46+00:00</td>\n",
       "    </tr>\n",
       "    <tr>\n",
       "      <th>34</th>\n",
       "      <td>323920783</td>\n",
       "      <td>2022-03-24 00:38:00+00:00</td>\n",
       "    </tr>\n",
       "    <tr>\n",
       "      <th>35</th>\n",
       "      <td>36740674</td>\n",
       "      <td>2022-03-07 20:01:14+00:00</td>\n",
       "    </tr>\n",
       "    <tr>\n",
       "      <th>36</th>\n",
       "      <td>257663572</td>\n",
       "      <td>2022-02-14 19:57:37+00:00</td>\n",
       "    </tr>\n",
       "    <tr>\n",
       "      <th>37</th>\n",
       "      <td>38282048</td>\n",
       "      <td>2022-03-01 19:27:54+00:00</td>\n",
       "    </tr>\n",
       "    <tr>\n",
       "      <th>38</th>\n",
       "      <td>294118241</td>\n",
       "      <td>2022-03-11 19:57:19+00:00</td>\n",
       "    </tr>\n",
       "    <tr>\n",
       "      <th>39</th>\n",
       "      <td>146569971</td>\n",
       "      <td>2022-03-31 20:00:11+00:00</td>\n",
       "    </tr>\n",
       "    <tr>\n",
       "      <th>40</th>\n",
       "      <td>2167134798</td>\n",
       "      <td>2022-03-15 01:10:49+00:00</td>\n",
       "    </tr>\n",
       "    <tr>\n",
       "      <th>41</th>\n",
       "      <td>553010243</td>\n",
       "      <td>2022-03-21 19:39:29+00:00</td>\n",
       "    </tr>\n",
       "    <tr>\n",
       "      <th>42</th>\n",
       "      <td>15850297</td>\n",
       "      <td>2022-03-18 16:15:05+00:00</td>\n",
       "    </tr>\n",
       "    <tr>\n",
       "      <th>43</th>\n",
       "      <td>43369337</td>\n",
       "      <td>2022-03-31 16:09:52+00:00</td>\n",
       "    </tr>\n",
       "    <tr>\n",
       "      <th>44</th>\n",
       "      <td>709986828066144257</td>\n",
       "      <td>2022-03-17 19:22:35+00:00</td>\n",
       "    </tr>\n",
       "  </tbody>\n",
       "</table>\n",
       "</div>"
      ],
      "text/plain": [
       "              author_id                last_tweet\n",
       "0              80483638 2022-03-30 15:33:56+00:00\n",
       "1    720959701651996673 2022-02-08 23:01:34+00:00\n",
       "2             169353953 2022-03-27 05:27:40+00:00\n",
       "3             344350643 2022-01-25 21:37:47+00:00\n",
       "4   1352311853263671296 2022-02-17 22:58:21+00:00\n",
       "5              17146256 2021-12-25 16:40:26+00:00\n",
       "6             359528910 2022-02-01 02:22:22+00:00\n",
       "7   1047247402409840640 2021-12-28 20:52:12+00:00\n",
       "8            4311670299 2022-02-05 14:19:36+00:00\n",
       "9             179226033 2022-02-25 00:17:42+00:00\n",
       "10   767945051787759616 2022-03-30 17:16:27+00:00\n",
       "11  1457177169407393795 2021-12-27 04:28:51+00:00\n",
       "12             26950458 2022-01-12 01:12:48+00:00\n",
       "13             17919393 2022-03-30 15:17:48+00:00\n",
       "14            620136960 2022-03-30 20:22:23+00:00\n",
       "15   989313110602235904 2022-03-13 22:11:54+00:00\n",
       "16             36167088 2022-03-30 16:31:16+00:00\n",
       "17            898324652 2022-01-19 03:18:01+00:00\n",
       "18             17018470 2022-03-29 10:45:14+00:00\n",
       "19  1428158156098572291 2022-01-12 19:18:28+00:00\n",
       "20  1004065528871247872 2022-03-31 00:55:08+00:00\n",
       "21   877629044828667905 2022-03-31 00:07:57+00:00\n",
       "22             20280574 2022-02-01 17:57:14+00:00\n",
       "23            239666710 2022-03-15 23:33:49+00:00\n",
       "24           3173246967 2022-02-22 12:50:00+00:00\n",
       "25            149197471 2022-04-01 03:52:00+00:00\n",
       "26   989320781799743488 2022-03-31 20:50:10+00:00\n",
       "27             21833509 2022-02-18 21:38:38+00:00\n",
       "28             19201304 2022-02-15 00:00:09+00:00\n",
       "29            142843687 2022-03-17 16:52:15+00:00\n",
       "30  1421182643375427584 2022-03-27 03:36:30+00:00\n",
       "31             33919623 2022-01-06 21:23:18+00:00\n",
       "32             14596185 2022-03-12 01:16:50+00:00\n",
       "33           2498871378 2022-03-16 12:05:46+00:00\n",
       "34            323920783 2022-03-24 00:38:00+00:00\n",
       "35             36740674 2022-03-07 20:01:14+00:00\n",
       "36            257663572 2022-02-14 19:57:37+00:00\n",
       "37             38282048 2022-03-01 19:27:54+00:00\n",
       "38            294118241 2022-03-11 19:57:19+00:00\n",
       "39            146569971 2022-03-31 20:00:11+00:00\n",
       "40           2167134798 2022-03-15 01:10:49+00:00\n",
       "41            553010243 2022-03-21 19:39:29+00:00\n",
       "42             15850297 2022-03-18 16:15:05+00:00\n",
       "43             43369337 2022-03-31 16:09:52+00:00\n",
       "44   709986828066144257 2022-03-17 19:22:35+00:00"
      ]
     },
     "execution_count": 14,
     "metadata": {},
     "output_type": "execute_result"
    }
   ],
   "source": [
    "sorted_filtered_users = filtered_users.set_index('author_id').loc[sorted_users_by_rrpp]['last_tweet'].reset_index()\n",
    "sorted_filtered_users"
   ]
  },
  {
   "cell_type": "code",
   "execution_count": 15,
   "id": "a309b1de",
   "metadata": {},
   "outputs": [
    {
     "data": {
      "application/vnd.microsoft.datawrangler.viewer.v0+json": {
       "columns": [
        {
         "name": "author_id",
         "rawType": "object",
         "type": "string"
        },
        {
         "name": "rr_per_post",
         "rawType": "float64",
         "type": "float"
        }
       ],
       "ref": "8fec9345-191f-476a-8f59-ab845b89511f",
       "rows": [
        [
         "80483638",
         "0.7231920199501247"
        ],
        [
         "720959701651996673",
         "0.65625"
        ],
        [
         "169353953",
         "0.5714285714285714"
        ],
        [
         "344350643",
         "0.5"
        ],
        [
         "1352311853263671296",
         "0.5"
        ],
        [
         "17146256",
         "0.5"
        ],
        [
         "359528910",
         "0.5"
        ],
        [
         "1047247402409840640",
         "0.5"
        ],
        [
         "4311670299",
         "0.5"
        ],
        [
         "179226033",
         "0.5"
        ],
        [
         "767945051787759616",
         "0.47058823529411764"
        ],
        [
         "1457177169407393795",
         "0.42857142857142855"
        ],
        [
         "26950458",
         "0.4"
        ],
        [
         "17919393",
         "0.36893203883495146"
        ],
        [
         "620136960",
         "0.36065573770491804"
        ],
        [
         "989313110602235904",
         "0.3333333333333333"
        ],
        [
         "36167088",
         "0.30057803468208094"
        ],
        [
         "898324652",
         "0.2857142857142857"
        ],
        [
         "17018470",
         "0.26666666666666666"
        ],
        [
         "1428158156098572291",
         "0.25"
        ],
        [
         "1004065528871247872",
         "0.25"
        ],
        [
         "877629044828667905",
         "0.21678321678321677"
        ],
        [
         "20280574",
         "0.21568627450980393"
        ],
        [
         "239666710",
         "0.2"
        ],
        [
         "3173246967",
         "0.2"
        ],
        [
         "149197471",
         "0.2"
        ],
        [
         "989320781799743488",
         "0.2"
        ],
        [
         "21833509",
         "0.2"
        ],
        [
         "19201304",
         "0.2"
        ],
        [
         "142843687",
         "0.1935483870967742"
        ],
        [
         "1421182643375427584",
         "0.16666666666666666"
        ],
        [
         "33919623",
         "0.16666666666666666"
        ],
        [
         "14596185",
         "0.16666666666666666"
        ],
        [
         "2498871378",
         "0.16666666666666666"
        ],
        [
         "323920783",
         "0.16363636363636364"
        ],
        [
         "36740674",
         "0.15702479338842976"
        ],
        [
         "257663572",
         "0.15384615384615385"
        ],
        [
         "38282048",
         "0.14285714285714285"
        ],
        [
         "294118241",
         "0.14285714285714285"
        ],
        [
         "146569971",
         "0.13034188034188035"
        ],
        [
         "2167134798",
         "0.125"
        ],
        [
         "553010243",
         "0.1111111111111111"
        ],
        [
         "15850297",
         "0.1111111111111111"
        ],
        [
         "43369337",
         "0.10638297872340426"
        ],
        [
         "709986828066144257",
         "0.10526315789473684"
        ]
       ],
       "shape": {
        "columns": 1,
        "rows": 45
       }
      },
      "text/plain": [
       "author_id\n",
       "80483638               0.723192\n",
       "720959701651996673     0.656250\n",
       "169353953              0.571429\n",
       "344350643              0.500000\n",
       "1352311853263671296    0.500000\n",
       "17146256               0.500000\n",
       "359528910              0.500000\n",
       "1047247402409840640    0.500000\n",
       "4311670299             0.500000\n",
       "179226033              0.500000\n",
       "767945051787759616     0.470588\n",
       "1457177169407393795    0.428571\n",
       "26950458               0.400000\n",
       "17919393               0.368932\n",
       "620136960              0.360656\n",
       "989313110602235904     0.333333\n",
       "36167088               0.300578\n",
       "898324652              0.285714\n",
       "17018470               0.266667\n",
       "1428158156098572291    0.250000\n",
       "1004065528871247872    0.250000\n",
       "877629044828667905     0.216783\n",
       "20280574               0.215686\n",
       "239666710              0.200000\n",
       "3173246967             0.200000\n",
       "149197471              0.200000\n",
       "989320781799743488     0.200000\n",
       "21833509               0.200000\n",
       "19201304               0.200000\n",
       "142843687              0.193548\n",
       "1421182643375427584    0.166667\n",
       "33919623               0.166667\n",
       "14596185               0.166667\n",
       "2498871378             0.166667\n",
       "323920783              0.163636\n",
       "36740674               0.157025\n",
       "257663572              0.153846\n",
       "38282048               0.142857\n",
       "294118241              0.142857\n",
       "146569971              0.130342\n",
       "2167134798             0.125000\n",
       "553010243              0.111111\n",
       "15850297               0.111111\n",
       "43369337               0.106383\n",
       "709986828066144257     0.105263\n",
       "Name: rr_per_post, dtype: float64"
      ]
     },
     "execution_count": 15,
     "metadata": {},
     "output_type": "execute_result"
    }
   ],
   "source": [
    "sorted_users_rrpp = user_rrpp.set_index('author_id').loc[sorted_users_by_rrpp]['rr_per_post']\n",
    "sorted_users_rrpp"
   ]
  },
  {
   "cell_type": "code",
   "execution_count": null,
   "id": "00c48585",
   "metadata": {},
   "outputs": [],
   "source": []
  },
  {
   "cell_type": "code",
   "execution_count": 16,
   "id": "047c069b",
   "metadata": {},
   "outputs": [
    {
     "data": {
      "image/png": "[encoded data removed]",
      "text/plain": [
       "<Figure size 1200x800 with 1 Axes>"
      ]
     },
     "metadata": {},
     "output_type": "display_data"
    }
   ],
   "source": [
    "fig, ax1 = plt.subplots(figsize=(12,8))\n",
    "color = 'tab:blue'\n",
    "ax1.set_ylabel('Author (Sorted by Replies per Post)', color=color)\n",
    "ax1.set_xlabel('Tweet DateTime', color=color)\n",
    "yticklabels = []\n",
    "for i, author in enumerate(sorted_filtered_users['author_id']):\n",
    "    author_tweets = df_covid19[df_covid19['author_id'] == author].sort_values('created_at', ascending=False).head(1)\n",
    "    ax1.scatter(author_tweets['created_at'], [author]*len(author_tweets), color=color, alpha=1, s=40)\n",
    "    yticklabels.append(author)\n",
    "ax1.tick_params(axis='x', labelcolor=color)\n",
    "# Show every other user name for readability\n",
    "yticks = ax1.get_yticks()\n",
    "ax1.set_yticks(yticks)\n",
    "ax1.set_yticklabels([f\"B{i}\" if i%2==0 else '' for i, name in enumerate(yticklabels)])\n",
    "color = 'tab:red'\n",
    "ax1.plot(date_posts['created_at'], date_posts['count']/20, color=color, label='Daily Tweet Count / 20')\n",
    "ax1.legend(loc='upper left')\n",
    "fig.tight_layout()\n",
    "plt.savefig(\"covid19_user_last_tweet_vs_rrpp.png\", dpi=300)\n",
    "plt.show()"
   ]
  },
  {
   "cell_type": "code",
   "execution_count": 17,
   "id": "c4820f38",
   "metadata": {},
   "outputs": [
    {
     "data": {
      "application/vnd.microsoft.datawrangler.viewer.v0+json": {
       "columns": [
        {
         "name": "author_id",
         "rawType": "object",
         "type": "string"
        },
        {
         "name": "rr_per_post",
         "rawType": "float64",
         "type": "float"
        }
       ],
       "ref": "dc0c301b-69c4-4bff-aa46-531b28bf4adf",
       "rows": [
        [
         "80483638",
         "0.7231920199501247"
        ],
        [
         "720959701651996673",
         "0.65625"
        ],
        [
         "169353953",
         "0.5714285714285714"
        ],
        [
         "344350643",
         "0.5"
        ],
        [
         "1352311853263671296",
         "0.5"
        ],
        [
         "17146256",
         "0.5"
        ],
        [
         "359528910",
         "0.5"
        ],
        [
         "1047247402409840640",
         "0.5"
        ]
       ],
       "shape": {
        "columns": 1,
        "rows": 8
       }
      },
      "text/plain": [
       "author_id\n",
       "80483638               0.723192\n",
       "720959701651996673     0.656250\n",
       "169353953              0.571429\n",
       "344350643              0.500000\n",
       "1352311853263671296    0.500000\n",
       "17146256               0.500000\n",
       "359528910              0.500000\n",
       "1047247402409840640    0.500000\n",
       "Name: rr_per_post, dtype: float64"
      ]
     },
     "execution_count": 17,
     "metadata": {},
     "output_type": "execute_result"
    }
   ],
   "source": [
    "sorted_users_rrpp[:8]"
   ]
  },
  {
   "cell_type": "code",
   "execution_count": 18,
   "id": "9a5c2f3a",
   "metadata": {},
   "outputs": [
    {
     "data": {
      "application/vnd.microsoft.datawrangler.viewer.v0+json": {
       "columns": [
        {
         "name": "index",
         "rawType": "int64",
         "type": "integer"
        },
        {
         "name": "author_id",
         "rawType": "object",
         "type": "string"
        },
        {
         "name": "last_tweet",
         "rawType": "datetime64[ns, UTC]",
         "type": "unknown"
        }
       ],
       "ref": "133b81ee-edba-47f7-8fd7-bcfa13334737",
       "rows": [
        [
         "0",
         "80483638",
         "2022-03-30 15:33:56+00:00"
        ],
        [
         "1",
         "720959701651996673",
         "2022-02-08 23:01:34+00:00"
        ],
        [
         "2",
         "169353953",
         "2022-03-27 05:27:40+00:00"
        ],
        [
         "3",
         "344350643",
         "2022-01-25 21:37:47+00:00"
        ],
        [
         "4",
         "1352311853263671296",
         "2022-02-17 22:58:21+00:00"
        ],
        [
         "5",
         "17146256",
         "2021-12-25 16:40:26+00:00"
        ],
        [
         "6",
         "359528910",
         "2022-02-01 02:22:22+00:00"
        ],
        [
         "7",
         "1047247402409840640",
         "2021-12-28 20:52:12+00:00"
        ],
        [
         "8",
         "4311670299",
         "2022-02-05 14:19:36+00:00"
        ],
        [
         "9",
         "179226033",
         "2022-02-25 00:17:42+00:00"
        ],
        [
         "10",
         "767945051787759616",
         "2022-03-30 17:16:27+00:00"
        ],
        [
         "11",
         "1457177169407393795",
         "2021-12-27 04:28:51+00:00"
        ],
        [
         "12",
         "26950458",
         "2022-01-12 01:12:48+00:00"
        ],
        [
         "13",
         "17919393",
         "2022-03-30 15:17:48+00:00"
        ],
        [
         "14",
         "620136960",
         "2022-03-30 20:22:23+00:00"
        ],
        [
         "15",
         "989313110602235904",
         "2022-03-13 22:11:54+00:00"
        ],
        [
         "16",
         "36167088",
         "2022-03-30 16:31:16+00:00"
        ],
        [
         "17",
         "898324652",
         "2022-01-19 03:18:01+00:00"
        ],
        [
         "18",
         "17018470",
         "2022-03-29 10:45:14+00:00"
        ],
        [
         "19",
         "1428158156098572291",
         "2022-01-12 19:18:28+00:00"
        ],
        [
         "20",
         "1004065528871247872",
         "2022-03-31 00:55:08+00:00"
        ],
        [
         "21",
         "877629044828667905",
         "2022-03-31 00:07:57+00:00"
        ],
        [
         "22",
         "20280574",
         "2022-02-01 17:57:14+00:00"
        ],
        [
         "23",
         "239666710",
         "2022-03-15 23:33:49+00:00"
        ],
        [
         "24",
         "3173246967",
         "2022-02-22 12:50:00+00:00"
        ],
        [
         "25",
         "149197471",
         "2022-04-01 03:52:00+00:00"
        ],
        [
         "26",
         "989320781799743488",
         "2022-03-31 20:50:10+00:00"
        ],
        [
         "27",
         "21833509",
         "2022-02-18 21:38:38+00:00"
        ],
        [
         "28",
         "19201304",
         "2022-02-15 00:00:09+00:00"
        ],
        [
         "29",
         "142843687",
         "2022-03-17 16:52:15+00:00"
        ],
        [
         "30",
         "1421182643375427584",
         "2022-03-27 03:36:30+00:00"
        ],
        [
         "31",
         "33919623",
         "2022-01-06 21:23:18+00:00"
        ],
        [
         "32",
         "14596185",
         "2022-03-12 01:16:50+00:00"
        ],
        [
         "33",
         "2498871378",
         "2022-03-16 12:05:46+00:00"
        ],
        [
         "34",
         "323920783",
         "2022-03-24 00:38:00+00:00"
        ],
        [
         "35",
         "36740674",
         "2022-03-07 20:01:14+00:00"
        ],
        [
         "36",
         "257663572",
         "2022-02-14 19:57:37+00:00"
        ],
        [
         "37",
         "38282048",
         "2022-03-01 19:27:54+00:00"
        ],
        [
         "38",
         "294118241",
         "2022-03-11 19:57:19+00:00"
        ],
        [
         "39",
         "146569971",
         "2022-03-31 20:00:11+00:00"
        ],
        [
         "40",
         "2167134798",
         "2022-03-15 01:10:49+00:00"
        ],
        [
         "41",
         "553010243",
         "2022-03-21 19:39:29+00:00"
        ],
        [
         "42",
         "15850297",
         "2022-03-18 16:15:05+00:00"
        ],
        [
         "43",
         "43369337",
         "2022-03-31 16:09:52+00:00"
        ],
        [
         "44",
         "709986828066144257",
         "2022-03-17 19:22:35+00:00"
        ]
       ],
       "shape": {
        "columns": 2,
        "rows": 45
       }
      },
      "text/html": [
       "<div>\n",
       "<style scoped>\n",
       "    .dataframe tbody tr th:only-of-type {\n",
       "        vertical-align: middle;\n",
       "    }\n",
       "\n",
       "    .dataframe tbody tr th {\n",
       "        vertical-align: top;\n",
       "    }\n",
       "\n",
       "    .dataframe thead th {\n",
       "        text-align: right;\n",
       "    }\n",
       "</style>\n",
       "<table border=\"1\" class=\"dataframe\">\n",
       "  <thead>\n",
       "    <tr style=\"text-align: right;\">\n",
       "      <th></th>\n",
       "      <th>author_id</th>\n",
       "      <th>last_tweet</th>\n",
       "    </tr>\n",
       "  </thead>\n",
       "  <tbody>\n",
       "    <tr>\n",
       "      <th>0</th>\n",
       "      <td>80483638</td>\n",
       "      <td>2022-03-30 15:33:56+00:00</td>\n",
       "    </tr>\n",
       "    <tr>\n",
       "      <th>1</th>\n",
       "      <td>720959701651996673</td>\n",
       "      <td>2022-02-08 23:01:34+00:00</td>\n",
       "    </tr>\n",
       "    <tr>\n",
       "      <th>2</th>\n",
       "      <td>169353953</td>\n",
       "      <td>2022-03-27 05:27:40+00:00</td>\n",
       "    </tr>\n",
       "    <tr>\n",
       "      <th>3</th>\n",
       "      <td>344350643</td>\n",
       "      <td>2022-01-25 21:37:47+00:00</td>\n",
       "    </tr>\n",
       "    <tr>\n",
       "      <th>4</th>\n",
       "      <td>1352311853263671296</td>\n",
       "      <td>2022-02-17 22:58:21+00:00</td>\n",
       "    </tr>\n",
       "    <tr>\n",
       "      <th>5</th>\n",
       "      <td>17146256</td>\n",
       "      <td>2021-12-25 16:40:26+00:00</td>\n",
       "    </tr>\n",
       "    <tr>\n",
       "      <th>6</th>\n",
       "      <td>359528910</td>\n",
       "      <td>2022-02-01 02:22:22+00:00</td>\n",
       "    </tr>\n",
       "    <tr>\n",
       "      <th>7</th>\n",
       "      <td>1047247402409840640</td>\n",
       "      <td>2021-12-28 20:52:12+00:00</td>\n",
       "    </tr>\n",
       "    <tr>\n",
       "      <th>8</th>\n",
       "      <td>4311670299</td>\n",
       "      <td>2022-02-05 14:19:36+00:00</td>\n",
       "    </tr>\n",
       "    <tr>\n",
       "      <th>9</th>\n",
       "      <td>179226033</td>\n",
       "      <td>2022-02-25 00:17:42+00:00</td>\n",
       "    </tr>\n",
       "    <tr>\n",
       "      <th>10</th>\n",
       "      <td>767945051787759616</td>\n",
       "      <td>2022-03-30 17:16:27+00:00</td>\n",
       "    </tr>\n",
       "    <tr>\n",
       "      <th>11</th>\n",
       "      <td>1457177169407393795</td>\n",
       "      <td>2021-12-27 04:28:51+00:00</td>\n",
       "    </tr>\n",
       "    <tr>\n",
       "      <th>12</th>\n",
       "      <td>26950458</td>\n",
       "      <td>2022-01-12 01:12:48+00:00</td>\n",
       "    </tr>\n",
       "    <tr>\n",
       "      <th>13</th>\n",
       "      <td>17919393</td>\n",
       "      <td>2022-03-30 15:17:48+00:00</td>\n",
       "    </tr>\n",
       "    <tr>\n",
       "      <th>14</th>\n",
       "      <td>620136960</td>\n",
       "      <td>2022-03-30 20:22:23+00:00</td>\n",
       "    </tr>\n",
       "    <tr>\n",
       "      <th>15</th>\n",
       "      <td>989313110602235904</td>\n",
       "      <td>2022-03-13 22:11:54+00:00</td>\n",
       "    </tr>\n",
       "    <tr>\n",
       "      <th>16</th>\n",
       "      <td>36167088</td>\n",
       "      <td>2022-03-30 16:31:16+00:00</td>\n",
       "    </tr>\n",
       "    <tr>\n",
       "      <th>17</th>\n",
       "      <td>898324652</td>\n",
       "      <td>2022-01-19 03:18:01+00:00</td>\n",
       "    </tr>\n",
       "    <tr>\n",
       "      <th>18</th>\n",
       "      <td>17018470</td>\n",
       "      <td>2022-03-29 10:45:14+00:00</td>\n",
       "    </tr>\n",
       "    <tr>\n",
       "      <th>19</th>\n",
       "      <td>1428158156098572291</td>\n",
       "      <td>2022-01-12 19:18:28+00:00</td>\n",
       "    </tr>\n",
       "    <tr>\n",
       "      <th>20</th>\n",
       "      <td>1004065528871247872</td>\n",
       "      <td>2022-03-31 00:55:08+00:00</td>\n",
       "    </tr>\n",
       "    <tr>\n",
       "      <th>21</th>\n",
       "      <td>877629044828667905</td>\n",
       "      <td>2022-03-31 00:07:57+00:00</td>\n",
       "    </tr>\n",
       "    <tr>\n",
       "      <th>22</th>\n",
       "      <td>20280574</td>\n",
       "      <td>2022-02-01 17:57:14+00:00</td>\n",
       "    </tr>\n",
       "    <tr>\n",
       "      <th>23</th>\n",
       "      <td>239666710</td>\n",
       "      <td>2022-03-15 23:33:49+00:00</td>\n",
       "    </tr>\n",
       "    <tr>\n",
       "      <th>24</th>\n",
       "      <td>3173246967</td>\n",
       "      <td>2022-02-22 12:50:00+00:00</td>\n",
       "    </tr>\n",
       "    <tr>\n",
       "      <th>25</th>\n",
       "      <td>149197471</td>\n",
       "      <td>2022-04-01 03:52:00+00:00</td>\n",
       "    </tr>\n",
       "    <tr>\n",
       "      <th>26</th>\n",
       "      <td>989320781799743488</td>\n",
       "      <td>2022-03-31 20:50:10+00:00</td>\n",
       "    </tr>\n",
       "    <tr>\n",
       "      <th>27</th>\n",
       "      <td>21833509</td>\n",
       "      <td>2022-02-18 21:38:38+00:00</td>\n",
       "    </tr>\n",
       "    <tr>\n",
       "      <th>28</th>\n",
       "      <td>19201304</td>\n",
       "      <td>2022-02-15 00:00:09+00:00</td>\n",
       "    </tr>\n",
       "    <tr>\n",
       "      <th>29</th>\n",
       "      <td>142843687</td>\n",
       "      <td>2022-03-17 16:52:15+00:00</td>\n",
       "    </tr>\n",
       "    <tr>\n",
       "      <th>30</th>\n",
       "      <td>1421182643375427584</td>\n",
       "      <td>2022-03-27 03:36:30+00:00</td>\n",
       "    </tr>\n",
       "    <tr>\n",
       "      <th>31</th>\n",
       "      <td>33919623</td>\n",
       "      <td>2022-01-06 21:23:18+00:00</td>\n",
       "    </tr>\n",
       "    <tr>\n",
       "      <th>32</th>\n",
       "      <td>14596185</td>\n",
       "      <td>2022-03-12 01:16:50+00:00</td>\n",
       "    </tr>\n",
       "    <tr>\n",
       "      <th>33</th>\n",
       "      <td>2498871378</td>\n",
       "      <td>2022-03-16 12:05:46+00:00</td>\n",
       "    </tr>\n",
       "    <tr>\n",
       "      <th>34</th>\n",
       "      <td>323920783</td>\n",
       "      <td>2022-03-24 00:38:00+00:00</td>\n",
       "    </tr>\n",
       "    <tr>\n",
       "      <th>35</th>\n",
       "      <td>36740674</td>\n",
       "      <td>2022-03-07 20:01:14+00:00</td>\n",
       "    </tr>\n",
       "    <tr>\n",
       "      <th>36</th>\n",
       "      <td>257663572</td>\n",
       "      <td>2022-02-14 19:57:37+00:00</td>\n",
       "    </tr>\n",
       "    <tr>\n",
       "      <th>37</th>\n",
       "      <td>38282048</td>\n",
       "      <td>2022-03-01 19:27:54+00:00</td>\n",
       "    </tr>\n",
       "    <tr>\n",
       "      <th>38</th>\n",
       "      <td>294118241</td>\n",
       "      <td>2022-03-11 19:57:19+00:00</td>\n",
       "    </tr>\n",
       "    <tr>\n",
       "      <th>39</th>\n",
       "      <td>146569971</td>\n",
       "      <td>2022-03-31 20:00:11+00:00</td>\n",
       "    </tr>\n",
       "    <tr>\n",
       "      <th>40</th>\n",
       "      <td>2167134798</td>\n",
       "      <td>2022-03-15 01:10:49+00:00</td>\n",
       "    </tr>\n",
       "    <tr>\n",
       "      <th>41</th>\n",
       "      <td>553010243</td>\n",
       "      <td>2022-03-21 19:39:29+00:00</td>\n",
       "    </tr>\n",
       "    <tr>\n",
       "      <th>42</th>\n",
       "      <td>15850297</td>\n",
       "      <td>2022-03-18 16:15:05+00:00</td>\n",
       "    </tr>\n",
       "    <tr>\n",
       "      <th>43</th>\n",
       "      <td>43369337</td>\n",
       "      <td>2022-03-31 16:09:52+00:00</td>\n",
       "    </tr>\n",
       "    <tr>\n",
       "      <th>44</th>\n",
       "      <td>709986828066144257</td>\n",
       "      <td>2022-03-17 19:22:35+00:00</td>\n",
       "    </tr>\n",
       "  </tbody>\n",
       "</table>\n",
       "</div>"
      ],
      "text/plain": [
       "              author_id                last_tweet\n",
       "0              80483638 2022-03-30 15:33:56+00:00\n",
       "1    720959701651996673 2022-02-08 23:01:34+00:00\n",
       "2             169353953 2022-03-27 05:27:40+00:00\n",
       "3             344350643 2022-01-25 21:37:47+00:00\n",
       "4   1352311853263671296 2022-02-17 22:58:21+00:00\n",
       "5              17146256 2021-12-25 16:40:26+00:00\n",
       "6             359528910 2022-02-01 02:22:22+00:00\n",
       "7   1047247402409840640 2021-12-28 20:52:12+00:00\n",
       "8            4311670299 2022-02-05 14:19:36+00:00\n",
       "9             179226033 2022-02-25 00:17:42+00:00\n",
       "10   767945051787759616 2022-03-30 17:16:27+00:00\n",
       "11  1457177169407393795 2021-12-27 04:28:51+00:00\n",
       "12             26950458 2022-01-12 01:12:48+00:00\n",
       "13             17919393 2022-03-30 15:17:48+00:00\n",
       "14            620136960 2022-03-30 20:22:23+00:00\n",
       "15   989313110602235904 2022-03-13 22:11:54+00:00\n",
       "16             36167088 2022-03-30 16:31:16+00:00\n",
       "17            898324652 2022-01-19 03:18:01+00:00\n",
       "18             17018470 2022-03-29 10:45:14+00:00\n",
       "19  1428158156098572291 2022-01-12 19:18:28+00:00\n",
       "20  1004065528871247872 2022-03-31 00:55:08+00:00\n",
       "21   877629044828667905 2022-03-31 00:07:57+00:00\n",
       "22             20280574 2022-02-01 17:57:14+00:00\n",
       "23            239666710 2022-03-15 23:33:49+00:00\n",
       "24           3173246967 2022-02-22 12:50:00+00:00\n",
       "25            149197471 2022-04-01 03:52:00+00:00\n",
       "26   989320781799743488 2022-03-31 20:50:10+00:00\n",
       "27             21833509 2022-02-18 21:38:38+00:00\n",
       "28             19201304 2022-02-15 00:00:09+00:00\n",
       "29            142843687 2022-03-17 16:52:15+00:00\n",
       "30  1421182643375427584 2022-03-27 03:36:30+00:00\n",
       "31             33919623 2022-01-06 21:23:18+00:00\n",
       "32             14596185 2022-03-12 01:16:50+00:00\n",
       "33           2498871378 2022-03-16 12:05:46+00:00\n",
       "34            323920783 2022-03-24 00:38:00+00:00\n",
       "35             36740674 2022-03-07 20:01:14+00:00\n",
       "36            257663572 2022-02-14 19:57:37+00:00\n",
       "37             38282048 2022-03-01 19:27:54+00:00\n",
       "38            294118241 2022-03-11 19:57:19+00:00\n",
       "39            146569971 2022-03-31 20:00:11+00:00\n",
       "40           2167134798 2022-03-15 01:10:49+00:00\n",
       "41            553010243 2022-03-21 19:39:29+00:00\n",
       "42             15850297 2022-03-18 16:15:05+00:00\n",
       "43             43369337 2022-03-31 16:09:52+00:00\n",
       "44   709986828066144257 2022-03-17 19:22:35+00:00"
      ]
     },
     "execution_count": 18,
     "metadata": {},
     "output_type": "execute_result"
    }
   ],
   "source": [
    "sorted_filtered_users"
   ]
  },
  {
   "cell_type": "code",
   "execution_count": 19,
   "id": "15f8fdfc",
   "metadata": {},
   "outputs": [
    {
     "data": {
      "application/vnd.microsoft.datawrangler.viewer.v0+json": {
       "columns": [
        {
         "name": "index",
         "rawType": "int64",
         "type": "integer"
        },
        {
         "name": "rr_per_post",
         "rawType": "float64",
         "type": "float"
        },
        {
         "name": "author_id",
         "rawType": "object",
         "type": "string"
        },
        {
         "name": "last_tweet",
         "rawType": "datetime64[ns, UTC]",
         "type": "unknown"
        }
       ],
       "ref": "509c1cff-141b-4c6f-830c-20dd354277f2",
       "rows": [
        [
         "0",
         "0.7231920199501247",
         "80483638",
         "2022-03-30 15:33:56+00:00"
        ],
        [
         "1",
         "0.65625",
         "720959701651996673",
         "2022-02-08 23:01:34+00:00"
        ],
        [
         "2",
         "0.5714285714285714",
         "169353953",
         "2022-03-27 05:27:40+00:00"
        ],
        [
         "3",
         "0.5",
         "344350643",
         "2022-01-25 21:37:47+00:00"
        ],
        [
         "4",
         "0.5",
         "1352311853263671296",
         "2022-02-17 22:58:21+00:00"
        ],
        [
         "5",
         "0.5",
         "17146256",
         "2021-12-25 16:40:26+00:00"
        ],
        [
         "6",
         "0.5",
         "359528910",
         "2022-02-01 02:22:22+00:00"
        ],
        [
         "7",
         "0.5",
         "1047247402409840640",
         "2021-12-28 20:52:12+00:00"
        ],
        [
         "8",
         "0.5",
         "4311670299",
         "2022-02-05 14:19:36+00:00"
        ],
        [
         "9",
         "0.5",
         "179226033",
         "2022-02-25 00:17:42+00:00"
        ],
        [
         "10",
         "0.47058823529411764",
         "767945051787759616",
         "2022-03-30 17:16:27+00:00"
        ],
        [
         "11",
         "0.42857142857142855",
         "1457177169407393795",
         "2021-12-27 04:28:51+00:00"
        ],
        [
         "12",
         "0.4",
         "26950458",
         "2022-01-12 01:12:48+00:00"
        ],
        [
         "13",
         "0.36893203883495146",
         "17919393",
         "2022-03-30 15:17:48+00:00"
        ],
        [
         "14",
         "0.36065573770491804",
         "620136960",
         "2022-03-30 20:22:23+00:00"
        ],
        [
         "15",
         "0.3333333333333333",
         "989313110602235904",
         "2022-03-13 22:11:54+00:00"
        ],
        [
         "16",
         "0.30057803468208094",
         "36167088",
         "2022-03-30 16:31:16+00:00"
        ],
        [
         "17",
         "0.2857142857142857",
         "898324652",
         "2022-01-19 03:18:01+00:00"
        ],
        [
         "18",
         "0.26666666666666666",
         "17018470",
         "2022-03-29 10:45:14+00:00"
        ],
        [
         "19",
         "0.25",
         "1428158156098572291",
         "2022-01-12 19:18:28+00:00"
        ],
        [
         "20",
         "0.25",
         "1004065528871247872",
         "2022-03-31 00:55:08+00:00"
        ],
        [
         "21",
         "0.21678321678321677",
         "877629044828667905",
         "2022-03-31 00:07:57+00:00"
        ],
        [
         "22",
         "0.21568627450980393",
         "20280574",
         "2022-02-01 17:57:14+00:00"
        ],
        [
         "23",
         "0.2",
         "239666710",
         "2022-03-15 23:33:49+00:00"
        ],
        [
         "24",
         "0.2",
         "3173246967",
         "2022-02-22 12:50:00+00:00"
        ],
        [
         "25",
         "0.2",
         "149197471",
         "2022-04-01 03:52:00+00:00"
        ],
        [
         "26",
         "0.2",
         "989320781799743488",
         "2022-03-31 20:50:10+00:00"
        ],
        [
         "27",
         "0.2",
         "21833509",
         "2022-02-18 21:38:38+00:00"
        ],
        [
         "28",
         "0.2",
         "19201304",
         "2022-02-15 00:00:09+00:00"
        ],
        [
         "29",
         "0.1935483870967742",
         "142843687",
         "2022-03-17 16:52:15+00:00"
        ],
        [
         "30",
         "0.16666666666666666",
         "1421182643375427584",
         "2022-03-27 03:36:30+00:00"
        ],
        [
         "31",
         "0.16666666666666666",
         "33919623",
         "2022-01-06 21:23:18+00:00"
        ],
        [
         "32",
         "0.16666666666666666",
         "14596185",
         "2022-03-12 01:16:50+00:00"
        ],
        [
         "33",
         "0.16666666666666666",
         "2498871378",
         "2022-03-16 12:05:46+00:00"
        ],
        [
         "34",
         "0.16363636363636364",
         "323920783",
         "2022-03-24 00:38:00+00:00"
        ],
        [
         "35",
         "0.15702479338842976",
         "36740674",
         "2022-03-07 20:01:14+00:00"
        ],
        [
         "36",
         "0.15384615384615385",
         "257663572",
         "2022-02-14 19:57:37+00:00"
        ],
        [
         "37",
         "0.14285714285714285",
         "38282048",
         "2022-03-01 19:27:54+00:00"
        ],
        [
         "38",
         "0.14285714285714285",
         "294118241",
         "2022-03-11 19:57:19+00:00"
        ],
        [
         "39",
         "0.13034188034188035",
         "146569971",
         "2022-03-31 20:00:11+00:00"
        ],
        [
         "40",
         "0.125",
         "2167134798",
         "2022-03-15 01:10:49+00:00"
        ],
        [
         "41",
         "0.1111111111111111",
         "553010243",
         "2022-03-21 19:39:29+00:00"
        ],
        [
         "42",
         "0.1111111111111111",
         "15850297",
         "2022-03-18 16:15:05+00:00"
        ],
        [
         "43",
         "0.10638297872340426",
         "43369337",
         "2022-03-31 16:09:52+00:00"
        ],
        [
         "44",
         "0.10526315789473684",
         "709986828066144257",
         "2022-03-17 19:22:35+00:00"
        ]
       ],
       "shape": {
        "columns": 3,
        "rows": 45
       }
      },
      "text/html": [
       "<div>\n",
       "<style scoped>\n",
       "    .dataframe tbody tr th:only-of-type {\n",
       "        vertical-align: middle;\n",
       "    }\n",
       "\n",
       "    .dataframe tbody tr th {\n",
       "        vertical-align: top;\n",
       "    }\n",
       "\n",
       "    .dataframe thead th {\n",
       "        text-align: right;\n",
       "    }\n",
       "</style>\n",
       "<table border=\"1\" class=\"dataframe\">\n",
       "  <thead>\n",
       "    <tr style=\"text-align: right;\">\n",
       "      <th></th>\n",
       "      <th>rr_per_post</th>\n",
       "      <th>author_id</th>\n",
       "      <th>last_tweet</th>\n",
       "    </tr>\n",
       "  </thead>\n",
       "  <tbody>\n",
       "    <tr>\n",
       "      <th>0</th>\n",
       "      <td>0.723192</td>\n",
       "      <td>80483638</td>\n",
       "      <td>2022-03-30 15:33:56+00:00</td>\n",
       "    </tr>\n",
       "    <tr>\n",
       "      <th>1</th>\n",
       "      <td>0.656250</td>\n",
       "      <td>720959701651996673</td>\n",
       "      <td>2022-02-08 23:01:34+00:00</td>\n",
       "    </tr>\n",
       "    <tr>\n",
       "      <th>2</th>\n",
       "      <td>0.571429</td>\n",
       "      <td>169353953</td>\n",
       "      <td>2022-03-27 05:27:40+00:00</td>\n",
       "    </tr>\n",
       "    <tr>\n",
       "      <th>3</th>\n",
       "      <td>0.500000</td>\n",
       "      <td>344350643</td>\n",
       "      <td>2022-01-25 21:37:47+00:00</td>\n",
       "    </tr>\n",
       "    <tr>\n",
       "      <th>4</th>\n",
       "      <td>0.500000</td>\n",
       "      <td>1352311853263671296</td>\n",
       "      <td>2022-02-17 22:58:21+00:00</td>\n",
       "    </tr>\n",
       "    <tr>\n",
       "      <th>5</th>\n",
       "      <td>0.500000</td>\n",
       "      <td>17146256</td>\n",
       "      <td>2021-12-25 16:40:26+00:00</td>\n",
       "    </tr>\n",
       "    <tr>\n",
       "      <th>6</th>\n",
       "      <td>0.500000</td>\n",
       "      <td>359528910</td>\n",
       "      <td>2022-02-01 02:22:22+00:00</td>\n",
       "    </tr>\n",
       "    <tr>\n",
       "      <th>7</th>\n",
       "      <td>0.500000</td>\n",
       "      <td>1047247402409840640</td>\n",
       "      <td>2021-12-28 20:52:12+00:00</td>\n",
       "    </tr>\n",
       "    <tr>\n",
       "      <th>8</th>\n",
       "      <td>0.500000</td>\n",
       "      <td>4311670299</td>\n",
       "      <td>2022-02-05 14:19:36+00:00</td>\n",
       "    </tr>\n",
       "    <tr>\n",
       "      <th>9</th>\n",
       "      <td>0.500000</td>\n",
       "      <td>179226033</td>\n",
       "      <td>2022-02-25 00:17:42+00:00</td>\n",
       "    </tr>\n",
       "    <tr>\n",
       "      <th>10</th>\n",
       "      <td>0.470588</td>\n",
       "      <td>767945051787759616</td>\n",
       "      <td>2022-03-30 17:16:27+00:00</td>\n",
       "    </tr>\n",
       "    <tr>\n",
       "      <th>11</th>\n",
       "      <td>0.428571</td>\n",
       "      <td>1457177169407393795</td>\n",
       "      <td>2021-12-27 04:28:51+00:00</td>\n",
       "    </tr>\n",
       "    <tr>\n",
       "      <th>12</th>\n",
       "      <td>0.400000</td>\n",
       "      <td>26950458</td>\n",
       "      <td>2022-01-12 01:12:48+00:00</td>\n",
       "    </tr>\n",
       "    <tr>\n",
       "      <th>13</th>\n",
       "      <td>0.368932</td>\n",
       "      <td>17919393</td>\n",
       "      <td>2022-03-30 15:17:48+00:00</td>\n",
       "    </tr>\n",
       "    <tr>\n",
       "      <th>14</th>\n",
       "      <td>0.360656</td>\n",
       "      <td>620136960</td>\n",
       "      <td>2022-03-30 20:22:23+00:00</td>\n",
       "    </tr>\n",
       "    <tr>\n",
       "      <th>15</th>\n",
       "      <td>0.333333</td>\n",
       "      <td>989313110602235904</td>\n",
       "      <td>2022-03-13 22:11:54+00:00</td>\n",
       "    </tr>\n",
       "    <tr>\n",
       "      <th>16</th>\n",
       "      <td>0.300578</td>\n",
       "      <td>36167088</td>\n",
       "      <td>2022-03-30 16:31:16+00:00</td>\n",
       "    </tr>\n",
       "    <tr>\n",
       "      <th>17</th>\n",
       "      <td>0.285714</td>\n",
       "      <td>898324652</td>\n",
       "      <td>2022-01-19 03:18:01+00:00</td>\n",
       "    </tr>\n",
       "    <tr>\n",
       "      <th>18</th>\n",
       "      <td>0.266667</td>\n",
       "      <td>17018470</td>\n",
       "      <td>2022-03-29 10:45:14+00:00</td>\n",
       "    </tr>\n",
       "    <tr>\n",
       "      <th>19</th>\n",
       "      <td>0.250000</td>\n",
       "      <td>1428158156098572291</td>\n",
       "      <td>2022-01-12 19:18:28+00:00</td>\n",
       "    </tr>\n",
       "    <tr>\n",
       "      <th>20</th>\n",
       "      <td>0.250000</td>\n",
       "      <td>1004065528871247872</td>\n",
       "      <td>2022-03-31 00:55:08+00:00</td>\n",
       "    </tr>\n",
       "    <tr>\n",
       "      <th>21</th>\n",
       "      <td>0.216783</td>\n",
       "      <td>877629044828667905</td>\n",
       "      <td>2022-03-31 00:07:57+00:00</td>\n",
       "    </tr>\n",
       "    <tr>\n",
       "      <th>22</th>\n",
       "      <td>0.215686</td>\n",
       "      <td>20280574</td>\n",
       "      <td>2022-02-01 17:57:14+00:00</td>\n",
       "    </tr>\n",
       "    <tr>\n",
       "      <th>23</th>\n",
       "      <td>0.200000</td>\n",
       "      <td>239666710</td>\n",
       "      <td>2022-03-15 23:33:49+00:00</td>\n",
       "    </tr>\n",
       "    <tr>\n",
       "      <th>24</th>\n",
       "      <td>0.200000</td>\n",
       "      <td>3173246967</td>\n",
       "      <td>2022-02-22 12:50:00+00:00</td>\n",
       "    </tr>\n",
       "    <tr>\n",
       "      <th>25</th>\n",
       "      <td>0.200000</td>\n",
       "      <td>149197471</td>\n",
       "      <td>2022-04-01 03:52:00+00:00</td>\n",
       "    </tr>\n",
       "    <tr>\n",
       "      <th>26</th>\n",
       "      <td>0.200000</td>\n",
       "      <td>989320781799743488</td>\n",
       "      <td>2022-03-31 20:50:10+00:00</td>\n",
       "    </tr>\n",
       "    <tr>\n",
       "      <th>27</th>\n",
       "      <td>0.200000</td>\n",
       "      <td>21833509</td>\n",
       "      <td>2022-02-18 21:38:38+00:00</td>\n",
       "    </tr>\n",
       "    <tr>\n",
       "      <th>28</th>\n",
       "      <td>0.200000</td>\n",
       "      <td>19201304</td>\n",
       "      <td>2022-02-15 00:00:09+00:00</td>\n",
       "    </tr>\n",
       "    <tr>\n",
       "      <th>29</th>\n",
       "      <td>0.193548</td>\n",
       "      <td>142843687</td>\n",
       "      <td>2022-03-17 16:52:15+00:00</td>\n",
       "    </tr>\n",
       "    <tr>\n",
       "      <th>30</th>\n",
       "      <td>0.166667</td>\n",
       "      <td>1421182643375427584</td>\n",
       "      <td>2022-03-27 03:36:30+00:00</td>\n",
       "    </tr>\n",
       "    <tr>\n",
       "      <th>31</th>\n",
       "      <td>0.166667</td>\n",
       "      <td>33919623</td>\n",
       "      <td>2022-01-06 21:23:18+00:00</td>\n",
       "    </tr>\n",
       "    <tr>\n",
       "      <th>32</th>\n",
       "      <td>0.166667</td>\n",
       "      <td>14596185</td>\n",
       "      <td>2022-03-12 01:16:50+00:00</td>\n",
       "    </tr>\n",
       "    <tr>\n",
       "      <th>33</th>\n",
       "      <td>0.166667</td>\n",
       "      <td>2498871378</td>\n",
       "      <td>2022-03-16 12:05:46+00:00</td>\n",
       "    </tr>\n",
       "    <tr>\n",
       "      <th>34</th>\n",
       "      <td>0.163636</td>\n",
       "      <td>323920783</td>\n",
       "      <td>2022-03-24 00:38:00+00:00</td>\n",
       "    </tr>\n",
       "    <tr>\n",
       "      <th>35</th>\n",
       "      <td>0.157025</td>\n",
       "      <td>36740674</td>\n",
       "      <td>2022-03-07 20:01:14+00:00</td>\n",
       "    </tr>\n",
       "    <tr>\n",
       "      <th>36</th>\n",
       "      <td>0.153846</td>\n",
       "      <td>257663572</td>\n",
       "      <td>2022-02-14 19:57:37+00:00</td>\n",
       "    </tr>\n",
       "    <tr>\n",
       "      <th>37</th>\n",
       "      <td>0.142857</td>\n",
       "      <td>38282048</td>\n",
       "      <td>2022-03-01 19:27:54+00:00</td>\n",
       "    </tr>\n",
       "    <tr>\n",
       "      <th>38</th>\n",
       "      <td>0.142857</td>\n",
       "      <td>294118241</td>\n",
       "      <td>2022-03-11 19:57:19+00:00</td>\n",
       "    </tr>\n",
       "    <tr>\n",
       "      <th>39</th>\n",
       "      <td>0.130342</td>\n",
       "      <td>146569971</td>\n",
       "      <td>2022-03-31 20:00:11+00:00</td>\n",
       "    </tr>\n",
       "    <tr>\n",
       "      <th>40</th>\n",
       "      <td>0.125000</td>\n",
       "      <td>2167134798</td>\n",
       "      <td>2022-03-15 01:10:49+00:00</td>\n",
       "    </tr>\n",
       "    <tr>\n",
       "      <th>41</th>\n",
       "      <td>0.111111</td>\n",
       "      <td>553010243</td>\n",
       "      <td>2022-03-21 19:39:29+00:00</td>\n",
       "    </tr>\n",
       "    <tr>\n",
       "      <th>42</th>\n",
       "      <td>0.111111</td>\n",
       "      <td>15850297</td>\n",
       "      <td>2022-03-18 16:15:05+00:00</td>\n",
       "    </tr>\n",
       "    <tr>\n",
       "      <th>43</th>\n",
       "      <td>0.106383</td>\n",
       "      <td>43369337</td>\n",
       "      <td>2022-03-31 16:09:52+00:00</td>\n",
       "    </tr>\n",
       "    <tr>\n",
       "      <th>44</th>\n",
       "      <td>0.105263</td>\n",
       "      <td>709986828066144257</td>\n",
       "      <td>2022-03-17 19:22:35+00:00</td>\n",
       "    </tr>\n",
       "  </tbody>\n",
       "</table>\n",
       "</div>"
      ],
      "text/plain": [
       "    rr_per_post            author_id                last_tweet\n",
       "0      0.723192             80483638 2022-03-30 15:33:56+00:00\n",
       "1      0.656250   720959701651996673 2022-02-08 23:01:34+00:00\n",
       "2      0.571429            169353953 2022-03-27 05:27:40+00:00\n",
       "3      0.500000            344350643 2022-01-25 21:37:47+00:00\n",
       "4      0.500000  1352311853263671296 2022-02-17 22:58:21+00:00\n",
       "5      0.500000             17146256 2021-12-25 16:40:26+00:00\n",
       "6      0.500000            359528910 2022-02-01 02:22:22+00:00\n",
       "7      0.500000  1047247402409840640 2021-12-28 20:52:12+00:00\n",
       "8      0.500000           4311670299 2022-02-05 14:19:36+00:00\n",
       "9      0.500000            179226033 2022-02-25 00:17:42+00:00\n",
       "10     0.470588   767945051787759616 2022-03-30 17:16:27+00:00\n",
       "11     0.428571  1457177169407393795 2021-12-27 04:28:51+00:00\n",
       "12     0.400000             26950458 2022-01-12 01:12:48+00:00\n",
       "13     0.368932             17919393 2022-03-30 15:17:48+00:00\n",
       "14     0.360656            620136960 2022-03-30 20:22:23+00:00\n",
       "15     0.333333   989313110602235904 2022-03-13 22:11:54+00:00\n",
       "16     0.300578             36167088 2022-03-30 16:31:16+00:00\n",
       "17     0.285714            898324652 2022-01-19 03:18:01+00:00\n",
       "18     0.266667             17018470 2022-03-29 10:45:14+00:00\n",
       "19     0.250000  1428158156098572291 2022-01-12 19:18:28+00:00\n",
       "20     0.250000  1004065528871247872 2022-03-31 00:55:08+00:00\n",
       "21     0.216783   877629044828667905 2022-03-31 00:07:57+00:00\n",
       "22     0.215686             20280574 2022-02-01 17:57:14+00:00\n",
       "23     0.200000            239666710 2022-03-15 23:33:49+00:00\n",
       "24     0.200000           3173246967 2022-02-22 12:50:00+00:00\n",
       "25     0.200000            149197471 2022-04-01 03:52:00+00:00\n",
       "26     0.200000   989320781799743488 2022-03-31 20:50:10+00:00\n",
       "27     0.200000             21833509 2022-02-18 21:38:38+00:00\n",
       "28     0.200000             19201304 2022-02-15 00:00:09+00:00\n",
       "29     0.193548            142843687 2022-03-17 16:52:15+00:00\n",
       "30     0.166667  1421182643375427584 2022-03-27 03:36:30+00:00\n",
       "31     0.166667             33919623 2022-01-06 21:23:18+00:00\n",
       "32     0.166667             14596185 2022-03-12 01:16:50+00:00\n",
       "33     0.166667           2498871378 2022-03-16 12:05:46+00:00\n",
       "34     0.163636            323920783 2022-03-24 00:38:00+00:00\n",
       "35     0.157025             36740674 2022-03-07 20:01:14+00:00\n",
       "36     0.153846            257663572 2022-02-14 19:57:37+00:00\n",
       "37     0.142857             38282048 2022-03-01 19:27:54+00:00\n",
       "38     0.142857            294118241 2022-03-11 19:57:19+00:00\n",
       "39     0.130342            146569971 2022-03-31 20:00:11+00:00\n",
       "40     0.125000           2167134798 2022-03-15 01:10:49+00:00\n",
       "41     0.111111            553010243 2022-03-21 19:39:29+00:00\n",
       "42     0.111111             15850297 2022-03-18 16:15:05+00:00\n",
       "43     0.106383             43369337 2022-03-31 16:09:52+00:00\n",
       "44     0.105263   709986828066144257 2022-03-17 19:22:35+00:00"
      ]
     },
     "execution_count": 19,
     "metadata": {},
     "output_type": "execute_result"
    }
   ],
   "source": [
    "author_rrpp_data = pd.merge(sorted_users_rrpp, sorted_filtered_users, left_index=True, right_on='author_id').sort_values(by='rr_per_post', ascending=False)\n",
    "author_rrpp_data"
   ]
  },
  {
   "cell_type": "code",
   "execution_count": 20,
   "id": "87947ddb",
   "metadata": {},
   "outputs": [
    {
     "data": {
      "application/vnd.microsoft.datawrangler.viewer.v0+json": {
       "columns": [
        {
         "name": "index",
         "rawType": "int64",
         "type": "integer"
        },
        {
         "name": "created_at",
         "rawType": "datetime64[ns, UTC]",
         "type": "unknown"
        },
        {
         "name": "count",
         "rawType": "int64",
         "type": "integer"
        },
        {
         "name": "timeline_norm",
         "rawType": "float64",
         "type": "float"
        }
       ],
       "ref": "4d2c07ad-e716-40a2-974c-df2f403b054e",
       "rows": [
        [
         "0",
         "2021-12-01 00:00:00+00:00",
         "414",
         "0.0"
        ],
        [
         "1",
         "2021-12-02 00:00:00+00:00",
         "416",
         "0.008264462809917356"
        ],
        [
         "2",
         "2021-12-03 00:00:00+00:00",
         "364",
         "0.01652892561983471"
        ],
        [
         "3",
         "2021-12-04 00:00:00+00:00",
         "248",
         "0.024793388429752067"
        ],
        [
         "4",
         "2021-12-05 00:00:00+00:00",
         "167",
         "0.03305785123966942"
        ],
        [
         "5",
         "2021-12-06 00:00:00+00:00",
         "305",
         "0.04132231404958678"
        ],
        [
         "6",
         "2021-12-07 00:00:00+00:00",
         "330",
         "0.049586776859504134"
        ],
        [
         "7",
         "2021-12-08 00:00:00+00:00",
         "318",
         "0.05785123966942149"
        ],
        [
         "8",
         "2021-12-09 00:00:00+00:00",
         "375",
         "0.06611570247933884"
        ],
        [
         "9",
         "2021-12-10 00:00:00+00:00",
         "315",
         "0.0743801652892562"
        ],
        [
         "10",
         "2021-12-11 00:00:00+00:00",
         "185",
         "0.08264462809917356"
        ],
        [
         "11",
         "2021-12-12 00:00:00+00:00",
         "219",
         "0.09090909090909091"
        ],
        [
         "12",
         "2021-12-13 00:00:00+00:00",
         "325",
         "0.09917355371900827"
        ],
        [
         "13",
         "2021-12-14 00:00:00+00:00",
         "332",
         "0.10743801652892562"
        ],
        [
         "14",
         "2021-12-15 00:00:00+00:00",
         "506",
         "0.11570247933884298"
        ],
        [
         "15",
         "2021-12-16 00:00:00+00:00",
         "419",
         "0.12396694214876033"
        ],
        [
         "16",
         "2021-12-17 00:00:00+00:00",
         "474",
         "0.1322314049586777"
        ],
        [
         "17",
         "2021-12-18 00:00:00+00:00",
         "343",
         "0.14049586776859505"
        ],
        [
         "18",
         "2021-12-19 00:00:00+00:00",
         "320",
         "0.1487603305785124"
        ],
        [
         "19",
         "2021-12-20 00:00:00+00:00",
         "453",
         "0.15702479338842976"
        ],
        [
         "20",
         "2021-12-21 00:00:00+00:00",
         "579",
         "0.1652892561983471"
        ],
        [
         "21",
         "2021-12-22 00:00:00+00:00",
         "477",
         "0.17355371900826447"
        ],
        [
         "22",
         "2021-12-23 00:00:00+00:00",
         "483",
         "0.18181818181818182"
        ],
        [
         "23",
         "2021-12-24 00:00:00+00:00",
         "345",
         "0.19008264462809918"
        ],
        [
         "24",
         "2021-12-25 00:00:00+00:00",
         "218",
         "0.19834710743801653"
        ],
        [
         "25",
         "2021-12-26 00:00:00+00:00",
         "223",
         "0.2066115702479339"
        ],
        [
         "26",
         "2021-12-27 00:00:00+00:00",
         "367",
         "0.21487603305785125"
        ],
        [
         "27",
         "2021-12-28 00:00:00+00:00",
         "522",
         "0.2231404958677686"
        ],
        [
         "28",
         "2021-12-29 00:00:00+00:00",
         "539",
         "0.23140495867768596"
        ],
        [
         "29",
         "2021-12-30 00:00:00+00:00",
         "709",
         "0.2396694214876033"
        ],
        [
         "30",
         "2021-12-31 00:00:00+00:00",
         "468",
         "0.24793388429752067"
        ],
        [
         "31",
         "2022-01-01 00:00:00+00:00",
         "277",
         "0.256198347107438"
        ],
        [
         "32",
         "2022-01-02 00:00:00+00:00",
         "312",
         "0.2644628099173554"
        ],
        [
         "33",
         "2022-01-03 00:00:00+00:00",
         "351",
         "0.2727272727272727"
        ],
        [
         "34",
         "2022-01-04 00:00:00+00:00",
         "570",
         "0.2809917355371901"
        ],
        [
         "35",
         "2022-01-05 00:00:00+00:00",
         "418",
         "0.2892561983471074"
        ],
        [
         "36",
         "2022-01-06 00:00:00+00:00",
         "426",
         "0.2975206611570248"
        ],
        [
         "37",
         "2022-01-07 00:00:00+00:00",
         "465",
         "0.30578512396694213"
        ],
        [
         "38",
         "2022-01-08 00:00:00+00:00",
         "448",
         "0.3140495867768595"
        ],
        [
         "39",
         "2022-01-09 00:00:00+00:00",
         "311",
         "0.32231404958677684"
        ],
        [
         "40",
         "2022-01-10 00:00:00+00:00",
         "395",
         "0.3305785123966942"
        ],
        [
         "41",
         "2022-01-11 00:00:00+00:00",
         "421",
         "0.33884297520661155"
        ],
        [
         "42",
         "2022-01-12 00:00:00+00:00",
         "437",
         "0.34710743801652894"
        ],
        [
         "43",
         "2022-01-13 00:00:00+00:00",
         "518",
         "0.35537190082644626"
        ],
        [
         "44",
         "2022-01-14 00:00:00+00:00",
         "327",
         "0.36363636363636365"
        ],
        [
         "45",
         "2022-01-15 00:00:00+00:00",
         "298",
         "0.371900826446281"
        ],
        [
         "46",
         "2022-01-16 00:00:00+00:00",
         "220",
         "0.38016528925619836"
        ],
        [
         "47",
         "2022-01-17 00:00:00+00:00",
         "323",
         "0.3884297520661157"
        ],
        [
         "48",
         "2022-01-18 00:00:00+00:00",
         "418",
         "0.39669421487603307"
        ],
        [
         "49",
         "2022-01-19 00:00:00+00:00",
         "454",
         "0.4049586776859504"
        ]
       ],
       "shape": {
        "columns": 3,
        "rows": 122
       }
      },
      "text/html": [
       "<div>\n",
       "<style scoped>\n",
       "    .dataframe tbody tr th:only-of-type {\n",
       "        vertical-align: middle;\n",
       "    }\n",
       "\n",
       "    .dataframe tbody tr th {\n",
       "        vertical-align: top;\n",
       "    }\n",
       "\n",
       "    .dataframe thead th {\n",
       "        text-align: right;\n",
       "    }\n",
       "</style>\n",
       "<table border=\"1\" class=\"dataframe\">\n",
       "  <thead>\n",
       "    <tr style=\"text-align: right;\">\n",
       "      <th></th>\n",
       "      <th>created_at</th>\n",
       "      <th>count</th>\n",
       "      <th>timeline_norm</th>\n",
       "    </tr>\n",
       "  </thead>\n",
       "  <tbody>\n",
       "    <tr>\n",
       "      <th>0</th>\n",
       "      <td>2021-12-01 00:00:00+00:00</td>\n",
       "      <td>414</td>\n",
       "      <td>0.000000</td>\n",
       "    </tr>\n",
       "    <tr>\n",
       "      <th>1</th>\n",
       "      <td>2021-12-02 00:00:00+00:00</td>\n",
       "      <td>416</td>\n",
       "      <td>0.008264</td>\n",
       "    </tr>\n",
       "    <tr>\n",
       "      <th>2</th>\n",
       "      <td>2021-12-03 00:00:00+00:00</td>\n",
       "      <td>364</td>\n",
       "      <td>0.016529</td>\n",
       "    </tr>\n",
       "    <tr>\n",
       "      <th>3</th>\n",
       "      <td>2021-12-04 00:00:00+00:00</td>\n",
       "      <td>248</td>\n",
       "      <td>0.024793</td>\n",
       "    </tr>\n",
       "    <tr>\n",
       "      <th>4</th>\n",
       "      <td>2021-12-05 00:00:00+00:00</td>\n",
       "      <td>167</td>\n",
       "      <td>0.033058</td>\n",
       "    </tr>\n",
       "    <tr>\n",
       "      <th>...</th>\n",
       "      <td>...</td>\n",
       "      <td>...</td>\n",
       "      <td>...</td>\n",
       "    </tr>\n",
       "    <tr>\n",
       "      <th>117</th>\n",
       "      <td>2022-03-28 00:00:00+00:00</td>\n",
       "      <td>150</td>\n",
       "      <td>0.966942</td>\n",
       "    </tr>\n",
       "    <tr>\n",
       "      <th>118</th>\n",
       "      <td>2022-03-29 00:00:00+00:00</td>\n",
       "      <td>193</td>\n",
       "      <td>0.975207</td>\n",
       "    </tr>\n",
       "    <tr>\n",
       "      <th>119</th>\n",
       "      <td>2022-03-30 00:00:00+00:00</td>\n",
       "      <td>165</td>\n",
       "      <td>0.983471</td>\n",
       "    </tr>\n",
       "    <tr>\n",
       "      <th>120</th>\n",
       "      <td>2022-03-31 00:00:00+00:00</td>\n",
       "      <td>187</td>\n",
       "      <td>0.991736</td>\n",
       "    </tr>\n",
       "    <tr>\n",
       "      <th>121</th>\n",
       "      <td>2022-04-01 00:00:00+00:00</td>\n",
       "      <td>43</td>\n",
       "      <td>1.000000</td>\n",
       "    </tr>\n",
       "  </tbody>\n",
       "</table>\n",
       "<p>122 rows × 3 columns</p>\n",
       "</div>"
      ],
      "text/plain": [
       "                   created_at  count  timeline_norm\n",
       "0   2021-12-01 00:00:00+00:00    414       0.000000\n",
       "1   2021-12-02 00:00:00+00:00    416       0.008264\n",
       "2   2021-12-03 00:00:00+00:00    364       0.016529\n",
       "3   2021-12-04 00:00:00+00:00    248       0.024793\n",
       "4   2021-12-05 00:00:00+00:00    167       0.033058\n",
       "..                        ...    ...            ...\n",
       "117 2022-03-28 00:00:00+00:00    150       0.966942\n",
       "118 2022-03-29 00:00:00+00:00    193       0.975207\n",
       "119 2022-03-30 00:00:00+00:00    165       0.983471\n",
       "120 2022-03-31 00:00:00+00:00    187       0.991736\n",
       "121 2022-04-01 00:00:00+00:00     43       1.000000\n",
       "\n",
       "[122 rows x 3 columns]"
      ]
     },
     "execution_count": 20,
     "metadata": {},
     "output_type": "execute_result"
    }
   ],
   "source": [
    "date_min = date_posts[\"created_at\"].min()\n",
    "date_max = date_posts[\"created_at\"].max()\n",
    "date_posts[\"timeline_norm\"] = (date_posts[\"created_at\"] - date_min) / (date_max - date_min)\n",
    "date_posts"
   ]
  },
  {
   "cell_type": "code",
   "execution_count": 21,
   "id": "a1918028",
   "metadata": {},
   "outputs": [
    {
     "data": {
      "application/vnd.microsoft.datawrangler.viewer.v0+json": {
       "columns": [
        {
         "name": "index",
         "rawType": "int64",
         "type": "integer"
        },
        {
         "name": "rr_per_post",
         "rawType": "float64",
         "type": "float"
        },
        {
         "name": "author_id",
         "rawType": "object",
         "type": "string"
        },
        {
         "name": "last_tweet",
         "rawType": "datetime64[ns, UTC]",
         "type": "unknown"
        },
        {
         "name": "last_tweet_norm",
         "rawType": "float64",
         "type": "float"
        },
        {
         "name": "timeline_score",
         "rawType": "float64",
         "type": "float"
        }
       ],
       "ref": "f52cdaba-ed7a-4d42-a564-4a9d7bd2b4d1",
       "rows": [
        [
         "0",
         "0.7231920199501247",
         "80483638",
         "2022-03-30 15:33:56+00:00",
         "0.9888311141720233",
         "0.7151147708475979"
        ],
        [
         "1",
         "0.65625",
         "720959701651996673",
         "2022-02-08 23:01:34+00:00",
         "0.578177035506581",
         "0.37942867955119375"
        ],
        [
         "2",
         "0.5714285714285714",
         "169353953",
         "2022-03-27 05:27:40+00:00",
         "0.9605582338536884",
         "0.5488904193449647"
        ],
        [
         "3",
         "0.5",
         "344350643",
         "2022-01-25 21:37:47+00:00",
         "0.4619937059993878",
         "0.2309968529996939"
        ],
        [
         "4",
         "0.5",
         "1352311853263671296",
         "2022-02-17 22:58:21+00:00",
         "0.6525387396694214",
         "0.3262693698347107"
        ],
        [
         "5",
         "0.5",
         "17146256",
         "2021-12-25 16:40:26+00:00",
         "0.20408880471380472",
         "0.10204440235690236"
        ],
        [
         "6",
         "0.5",
         "359528910",
         "2022-02-01 02:22:22+00:00",
         "0.5132137664524028",
         "0.2566068832262014"
        ],
        [
         "7",
         "0.5",
         "1047247402409840640",
         "2021-12-28 20:52:12+00:00",
         "0.2303271349862259",
         "0.11516356749311295"
        ],
        [
         "8",
         "0.5",
         "4311670299",
         "2022-02-05 14:19:36+00:00",
         "0.5503879706152434",
         "0.2751939853076217"
        ],
        [
         "9",
         "0.5",
         "179226033",
         "2022-02-25 00:17:42+00:00",
         "0.7108453856749312",
         "0.3554226928374656"
        ],
        [
         "10",
         "0.47058823529411764",
         "767945051787759616",
         "2022-03-30 17:16:27+00:00",
         "0.9894194788797062",
         "0.46560916653162643"
        ],
        [
         "11",
         "0.42857142857142855",
         "1457177169407393795",
         "2021-12-27 04:28:51+00:00",
         "0.21641901974288338",
         "0.09275100846123573"
        ],
        [
         "12",
         "0.4",
         "26950458",
         "2022-01-12 01:12:48+00:00",
         "0.3475252525252525",
         "0.139010101010101"
        ],
        [
         "13",
         "0.36893203883495146",
         "17919393",
         "2022-03-30 15:17:48+00:00",
         "0.9887385215794307",
         "0.364777318640955"
        ],
        [
         "14",
         "0.36065573770491804",
         "620136960",
         "2022-03-30 20:22:23+00:00",
         "0.9904865893786349",
         "0.3572246715791798"
        ],
        [
         "15",
         "0.3333333333333333",
         "989313110602235904",
         "2022-03-13 22:11:54+00:00",
         "0.8506192607897153",
         "0.28353975359657174"
        ],
        [
         "16",
         "0.30057803468208094",
         "36167088",
         "2022-03-30 16:31:16+00:00",
         "0.989160162228344",
         "0.297319817548404"
        ],
        [
         "17",
         "0.2857142857142857",
         "898324652",
         "2022-01-19 03:18:01+00:00",
         "0.4060951369758188",
         "0.11602718199309107"
        ],
        [
         "18",
         "0.26666666666666666",
         "17018470",
         "2022-03-29 10:45:14+00:00",
         "0.9789097413529232",
         "0.26104259769411287"
        ],
        [
         "19",
         "0.25",
         "1428158156098572291",
         "2022-01-12 19:18:28+00:00",
         "0.35375612182430366",
         "0.08843903045607591"
        ],
        [
         "20",
         "0.25",
         "1004065528871247872",
         "2022-03-31 00:55:08+00:00",
         "0.9920519589837772",
         "0.2480129897459443"
        ],
        [
         "21",
         "0.21678321678321677",
         "877629044828667905",
         "2022-03-31 00:07:57+00:00",
         "0.9917811639118457",
         "0.21500151105781268"
        ],
        [
         "22",
         "0.21568627450980393",
         "20280574",
         "2022-02-01 17:57:14+00:00",
         "0.5185791628405265",
         "0.11185040767148612"
        ],
        [
         "23",
         "0.2",
         "239666710",
         "2022-03-15 23:33:49+00:00",
         "0.8676183233853688",
         "0.17352366467707378"
        ],
        [
         "24",
         "0.2",
         "3173246967",
         "2022-02-22 12:50:00+00:00",
         "0.6903696051423324",
         "0.13807392102846647"
        ],
        [
         "25",
         "0.2",
         "149197471",
         "2022-04-01 03:52:00+00:00",
         "1.0013314967860423",
         "0.20026629935720847"
        ],
        [
         "26",
         "0.2",
         "989320781799743488",
         "2022-03-31 20:50:10+00:00",
         "0.9989105065809611",
         "0.19978210131619223"
        ],
        [
         "27",
         "0.2",
         "21833509",
         "2022-02-18 21:38:38+00:00",
         "0.6603456917661463",
         "0.13206913835322928"
        ],
        [
         "28",
         "0.2",
         "19201304",
         "2022-02-15 00:00:09+00:00",
         "0.6281000344352617",
         "0.12562000688705235"
        ],
        [
         "29",
         "0.1935483870967742",
         "142843687",
         "2022-03-17 16:52:15+00:00",
         "0.8818425734618917",
         "0.17067920776681775"
        ],
        [
         "30",
         "0.16666666666666666",
         "1421182643375427584",
         "2022-03-27 03:36:30+00:00",
         "0.9599202249770432",
         "0.15998670416284053"
        ],
        [
         "31",
         "0.16666666666666666",
         "33919623",
         "2022-01-06 21:23:18+00:00",
         "0.30488578971533514",
         "0.05081429828588919"
        ],
        [
         "32",
         "0.16666666666666666",
         "14596185",
         "2022-03-12 01:16:50+00:00",
         "0.8351517064585247",
         "0.13919195107642077"
        ],
        [
         "33",
         "0.16666666666666666",
         "2498871378",
         "2022-03-16 12:05:46+00:00",
         "0.8719339225589225",
         "0.14532232042648707"
        ],
        [
         "34",
         "0.16363636363636364",
         "323920783",
         "2022-03-24 00:38:00+00:00",
         "0.9341023875114784",
         "0.15285311795642376"
        ],
        [
         "35",
         "0.15702479338842976",
         "36740674",
         "2022-03-07 20:01:14+00:00",
         "0.800282560453015",
         "0.12566420370749823"
        ],
        [
         "36",
         "0.15384615384615385",
         "257663572",
         "2022-02-14 19:57:37+00:00",
         "0.626708084634221",
         "0.09641662840526477"
        ],
        [
         "37",
         "0.14285714285714285",
         "38282048",
         "2022-03-01 19:27:54+00:00",
         "0.7505044765840221",
         "0.10721492522628887"
        ],
        [
         "38",
         "0.14285714285714285",
         "294118241",
         "2022-03-11 19:57:19+00:00",
         "0.8333179331190694",
         "0.1190454190170099"
        ],
        [
         "39",
         "0.13034188034188035",
         "146569971",
         "2022-03-31 20:00:11+00:00",
         "0.9986236417202327",
         "0.13016248321567137"
        ],
        [
         "40",
         "0.125",
         "2167134798",
         "2022-03-15 01:10:49+00:00",
         "0.859910563973064",
         "0.107488820496633"
        ],
        [
         "41",
         "0.1111111111111111",
         "553010243",
         "2022-03-21 19:39:29+00:00",
         "0.9158602119681665",
         "0.10176224577424071"
        ],
        [
         "42",
         "0.1111111111111111",
         "15850297",
         "2022-03-18 16:15:05+00:00",
         "0.889893728956229",
         "0.09887708099513655"
        ],
        [
         "43",
         "0.10638297872340426",
         "43369337",
         "2022-03-31 16:09:52+00:00",
         "0.9973018059381695",
         "0.10609593680193292"
        ],
        [
         "44",
         "0.10526315789473684",
         "709986828066144257",
         "2022-03-17 19:22:35+00:00",
         "0.8827053680746862",
         "0.0929163545341775"
        ]
       ],
       "shape": {
        "columns": 5,
        "rows": 45
       }
      },
      "text/html": [
       "<div>\n",
       "<style scoped>\n",
       "    .dataframe tbody tr th:only-of-type {\n",
       "        vertical-align: middle;\n",
       "    }\n",
       "\n",
       "    .dataframe tbody tr th {\n",
       "        vertical-align: top;\n",
       "    }\n",
       "\n",
       "    .dataframe thead th {\n",
       "        text-align: right;\n",
       "    }\n",
       "</style>\n",
       "<table border=\"1\" class=\"dataframe\">\n",
       "  <thead>\n",
       "    <tr style=\"text-align: right;\">\n",
       "      <th></th>\n",
       "      <th>rr_per_post</th>\n",
       "      <th>author_id</th>\n",
       "      <th>last_tweet</th>\n",
       "      <th>last_tweet_norm</th>\n",
       "      <th>timeline_score</th>\n",
       "    </tr>\n",
       "  </thead>\n",
       "  <tbody>\n",
       "    <tr>\n",
       "      <th>0</th>\n",
       "      <td>0.723192</td>\n",
       "      <td>80483638</td>\n",
       "      <td>2022-03-30 15:33:56+00:00</td>\n",
       "      <td>0.988831</td>\n",
       "      <td>0.715115</td>\n",
       "    </tr>\n",
       "    <tr>\n",
       "      <th>1</th>\n",
       "      <td>0.656250</td>\n",
       "      <td>720959701651996673</td>\n",
       "      <td>2022-02-08 23:01:34+00:00</td>\n",
       "      <td>0.578177</td>\n",
       "      <td>0.379429</td>\n",
       "    </tr>\n",
       "    <tr>\n",
       "      <th>2</th>\n",
       "      <td>0.571429</td>\n",
       "      <td>169353953</td>\n",
       "      <td>2022-03-27 05:27:40+00:00</td>\n",
       "      <td>0.960558</td>\n",
       "      <td>0.548890</td>\n",
       "    </tr>\n",
       "    <tr>\n",
       "      <th>3</th>\n",
       "      <td>0.500000</td>\n",
       "      <td>344350643</td>\n",
       "      <td>2022-01-25 21:37:47+00:00</td>\n",
       "      <td>0.461994</td>\n",
       "      <td>0.230997</td>\n",
       "    </tr>\n",
       "    <tr>\n",
       "      <th>4</th>\n",
       "      <td>0.500000</td>\n",
       "      <td>1352311853263671296</td>\n",
       "      <td>2022-02-17 22:58:21+00:00</td>\n",
       "      <td>0.652539</td>\n",
       "      <td>0.326269</td>\n",
       "    </tr>\n",
       "    <tr>\n",
       "      <th>5</th>\n",
       "      <td>0.500000</td>\n",
       "      <td>17146256</td>\n",
       "      <td>2021-12-25 16:40:26+00:00</td>\n",
       "      <td>0.204089</td>\n",
       "      <td>0.102044</td>\n",
       "    </tr>\n",
       "    <tr>\n",
       "      <th>6</th>\n",
       "      <td>0.500000</td>\n",
       "      <td>359528910</td>\n",
       "      <td>2022-02-01 02:22:22+00:00</td>\n",
       "      <td>0.513214</td>\n",
       "      <td>0.256607</td>\n",
       "    </tr>\n",
       "    <tr>\n",
       "      <th>7</th>\n",
       "      <td>0.500000</td>\n",
       "      <td>1047247402409840640</td>\n",
       "      <td>2021-12-28 20:52:12+00:00</td>\n",
       "      <td>0.230327</td>\n",
       "      <td>0.115164</td>\n",
       "    </tr>\n",
       "    <tr>\n",
       "      <th>8</th>\n",
       "      <td>0.500000</td>\n",
       "      <td>4311670299</td>\n",
       "      <td>2022-02-05 14:19:36+00:00</td>\n",
       "      <td>0.550388</td>\n",
       "      <td>0.275194</td>\n",
       "    </tr>\n",
       "    <tr>\n",
       "      <th>9</th>\n",
       "      <td>0.500000</td>\n",
       "      <td>179226033</td>\n",
       "      <td>2022-02-25 00:17:42+00:00</td>\n",
       "      <td>0.710845</td>\n",
       "      <td>0.355423</td>\n",
       "    </tr>\n",
       "    <tr>\n",
       "      <th>10</th>\n",
       "      <td>0.470588</td>\n",
       "      <td>767945051787759616</td>\n",
       "      <td>2022-03-30 17:16:27+00:00</td>\n",
       "      <td>0.989419</td>\n",
       "      <td>0.465609</td>\n",
       "    </tr>\n",
       "    <tr>\n",
       "      <th>11</th>\n",
       "      <td>0.428571</td>\n",
       "      <td>1457177169407393795</td>\n",
       "      <td>2021-12-27 04:28:51+00:00</td>\n",
       "      <td>0.216419</td>\n",
       "      <td>0.092751</td>\n",
       "    </tr>\n",
       "    <tr>\n",
       "      <th>12</th>\n",
       "      <td>0.400000</td>\n",
       "      <td>26950458</td>\n",
       "      <td>2022-01-12 01:12:48+00:00</td>\n",
       "      <td>0.347525</td>\n",
       "      <td>0.139010</td>\n",
       "    </tr>\n",
       "    <tr>\n",
       "      <th>13</th>\n",
       "      <td>0.368932</td>\n",
       "      <td>17919393</td>\n",
       "      <td>2022-03-30 15:17:48+00:00</td>\n",
       "      <td>0.988739</td>\n",
       "      <td>0.364777</td>\n",
       "    </tr>\n",
       "    <tr>\n",
       "      <th>14</th>\n",
       "      <td>0.360656</td>\n",
       "      <td>620136960</td>\n",
       "      <td>2022-03-30 20:22:23+00:00</td>\n",
       "      <td>0.990487</td>\n",
       "      <td>0.357225</td>\n",
       "    </tr>\n",
       "    <tr>\n",
       "      <th>15</th>\n",
       "      <td>0.333333</td>\n",
       "      <td>989313110602235904</td>\n",
       "      <td>2022-03-13 22:11:54+00:00</td>\n",
       "      <td>0.850619</td>\n",
       "      <td>0.283540</td>\n",
       "    </tr>\n",
       "    <tr>\n",
       "      <th>16</th>\n",
       "      <td>0.300578</td>\n",
       "      <td>36167088</td>\n",
       "      <td>2022-03-30 16:31:16+00:00</td>\n",
       "      <td>0.989160</td>\n",
       "      <td>0.297320</td>\n",
       "    </tr>\n",
       "    <tr>\n",
       "      <th>17</th>\n",
       "      <td>0.285714</td>\n",
       "      <td>898324652</td>\n",
       "      <td>2022-01-19 03:18:01+00:00</td>\n",
       "      <td>0.406095</td>\n",
       "      <td>0.116027</td>\n",
       "    </tr>\n",
       "    <tr>\n",
       "      <th>18</th>\n",
       "      <td>0.266667</td>\n",
       "      <td>17018470</td>\n",
       "      <td>2022-03-29 10:45:14+00:00</td>\n",
       "      <td>0.978910</td>\n",
       "      <td>0.261043</td>\n",
       "    </tr>\n",
       "    <tr>\n",
       "      <th>19</th>\n",
       "      <td>0.250000</td>\n",
       "      <td>1428158156098572291</td>\n",
       "      <td>2022-01-12 19:18:28+00:00</td>\n",
       "      <td>0.353756</td>\n",
       "      <td>0.088439</td>\n",
       "    </tr>\n",
       "    <tr>\n",
       "      <th>20</th>\n",
       "      <td>0.250000</td>\n",
       "      <td>1004065528871247872</td>\n",
       "      <td>2022-03-31 00:55:08+00:00</td>\n",
       "      <td>0.992052</td>\n",
       "      <td>0.248013</td>\n",
       "    </tr>\n",
       "    <tr>\n",
       "      <th>21</th>\n",
       "      <td>0.216783</td>\n",
       "      <td>877629044828667905</td>\n",
       "      <td>2022-03-31 00:07:57+00:00</td>\n",
       "      <td>0.991781</td>\n",
       "      <td>0.215002</td>\n",
       "    </tr>\n",
       "    <tr>\n",
       "      <th>22</th>\n",
       "      <td>0.215686</td>\n",
       "      <td>20280574</td>\n",
       "      <td>2022-02-01 17:57:14+00:00</td>\n",
       "      <td>0.518579</td>\n",
       "      <td>0.111850</td>\n",
       "    </tr>\n",
       "    <tr>\n",
       "      <th>23</th>\n",
       "      <td>0.200000</td>\n",
       "      <td>239666710</td>\n",
       "      <td>2022-03-15 23:33:49+00:00</td>\n",
       "      <td>0.867618</td>\n",
       "      <td>0.173524</td>\n",
       "    </tr>\n",
       "    <tr>\n",
       "      <th>24</th>\n",
       "      <td>0.200000</td>\n",
       "      <td>3173246967</td>\n",
       "      <td>2022-02-22 12:50:00+00:00</td>\n",
       "      <td>0.690370</td>\n",
       "      <td>0.138074</td>\n",
       "    </tr>\n",
       "    <tr>\n",
       "      <th>25</th>\n",
       "      <td>0.200000</td>\n",
       "      <td>149197471</td>\n",
       "      <td>2022-04-01 03:52:00+00:00</td>\n",
       "      <td>1.001331</td>\n",
       "      <td>0.200266</td>\n",
       "    </tr>\n",
       "    <tr>\n",
       "      <th>26</th>\n",
       "      <td>0.200000</td>\n",
       "      <td>989320781799743488</td>\n",
       "      <td>2022-03-31 20:50:10+00:00</td>\n",
       "      <td>0.998911</td>\n",
       "      <td>0.199782</td>\n",
       "    </tr>\n",
       "    <tr>\n",
       "      <th>27</th>\n",
       "      <td>0.200000</td>\n",
       "      <td>21833509</td>\n",
       "      <td>2022-02-18 21:38:38+00:00</td>\n",
       "      <td>0.660346</td>\n",
       "      <td>0.132069</td>\n",
       "    </tr>\n",
       "    <tr>\n",
       "      <th>28</th>\n",
       "      <td>0.200000</td>\n",
       "      <td>19201304</td>\n",
       "      <td>2022-02-15 00:00:09+00:00</td>\n",
       "      <td>0.628100</td>\n",
       "      <td>0.125620</td>\n",
       "    </tr>\n",
       "    <tr>\n",
       "      <th>29</th>\n",
       "      <td>0.193548</td>\n",
       "      <td>142843687</td>\n",
       "      <td>2022-03-17 16:52:15+00:00</td>\n",
       "      <td>0.881843</td>\n",
       "      <td>0.170679</td>\n",
       "    </tr>\n",
       "    <tr>\n",
       "      <th>30</th>\n",
       "      <td>0.166667</td>\n",
       "      <td>1421182643375427584</td>\n",
       "      <td>2022-03-27 03:36:30+00:00</td>\n",
       "      <td>0.959920</td>\n",
       "      <td>0.159987</td>\n",
       "    </tr>\n",
       "    <tr>\n",
       "      <th>31</th>\n",
       "      <td>0.166667</td>\n",
       "      <td>33919623</td>\n",
       "      <td>2022-01-06 21:23:18+00:00</td>\n",
       "      <td>0.304886</td>\n",
       "      <td>0.050814</td>\n",
       "    </tr>\n",
       "    <tr>\n",
       "      <th>32</th>\n",
       "      <td>0.166667</td>\n",
       "      <td>14596185</td>\n",
       "      <td>2022-03-12 01:16:50+00:00</td>\n",
       "      <td>0.835152</td>\n",
       "      <td>0.139192</td>\n",
       "    </tr>\n",
       "    <tr>\n",
       "      <th>33</th>\n",
       "      <td>0.166667</td>\n",
       "      <td>2498871378</td>\n",
       "      <td>2022-03-16 12:05:46+00:00</td>\n",
       "      <td>0.871934</td>\n",
       "      <td>0.145322</td>\n",
       "    </tr>\n",
       "    <tr>\n",
       "      <th>34</th>\n",
       "      <td>0.163636</td>\n",
       "      <td>323920783</td>\n",
       "      <td>2022-03-24 00:38:00+00:00</td>\n",
       "      <td>0.934102</td>\n",
       "      <td>0.152853</td>\n",
       "    </tr>\n",
       "    <tr>\n",
       "      <th>35</th>\n",
       "      <td>0.157025</td>\n",
       "      <td>36740674</td>\n",
       "      <td>2022-03-07 20:01:14+00:00</td>\n",
       "      <td>0.800283</td>\n",
       "      <td>0.125664</td>\n",
       "    </tr>\n",
       "    <tr>\n",
       "      <th>36</th>\n",
       "      <td>0.153846</td>\n",
       "      <td>257663572</td>\n",
       "      <td>2022-02-14 19:57:37+00:00</td>\n",
       "      <td>0.626708</td>\n",
       "      <td>0.096417</td>\n",
       "    </tr>\n",
       "    <tr>\n",
       "      <th>37</th>\n",
       "      <td>0.142857</td>\n",
       "      <td>38282048</td>\n",
       "      <td>2022-03-01 19:27:54+00:00</td>\n",
       "      <td>0.750504</td>\n",
       "      <td>0.107215</td>\n",
       "    </tr>\n",
       "    <tr>\n",
       "      <th>38</th>\n",
       "      <td>0.142857</td>\n",
       "      <td>294118241</td>\n",
       "      <td>2022-03-11 19:57:19+00:00</td>\n",
       "      <td>0.833318</td>\n",
       "      <td>0.119045</td>\n",
       "    </tr>\n",
       "    <tr>\n",
       "      <th>39</th>\n",
       "      <td>0.130342</td>\n",
       "      <td>146569971</td>\n",
       "      <td>2022-03-31 20:00:11+00:00</td>\n",
       "      <td>0.998624</td>\n",
       "      <td>0.130162</td>\n",
       "    </tr>\n",
       "    <tr>\n",
       "      <th>40</th>\n",
       "      <td>0.125000</td>\n",
       "      <td>2167134798</td>\n",
       "      <td>2022-03-15 01:10:49+00:00</td>\n",
       "      <td>0.859911</td>\n",
       "      <td>0.107489</td>\n",
       "    </tr>\n",
       "    <tr>\n",
       "      <th>41</th>\n",
       "      <td>0.111111</td>\n",
       "      <td>553010243</td>\n",
       "      <td>2022-03-21 19:39:29+00:00</td>\n",
       "      <td>0.915860</td>\n",
       "      <td>0.101762</td>\n",
       "    </tr>\n",
       "    <tr>\n",
       "      <th>42</th>\n",
       "      <td>0.111111</td>\n",
       "      <td>15850297</td>\n",
       "      <td>2022-03-18 16:15:05+00:00</td>\n",
       "      <td>0.889894</td>\n",
       "      <td>0.098877</td>\n",
       "    </tr>\n",
       "    <tr>\n",
       "      <th>43</th>\n",
       "      <td>0.106383</td>\n",
       "      <td>43369337</td>\n",
       "      <td>2022-03-31 16:09:52+00:00</td>\n",
       "      <td>0.997302</td>\n",
       "      <td>0.106096</td>\n",
       "    </tr>\n",
       "    <tr>\n",
       "      <th>44</th>\n",
       "      <td>0.105263</td>\n",
       "      <td>709986828066144257</td>\n",
       "      <td>2022-03-17 19:22:35+00:00</td>\n",
       "      <td>0.882705</td>\n",
       "      <td>0.092916</td>\n",
       "    </tr>\n",
       "  </tbody>\n",
       "</table>\n",
       "</div>"
      ],
      "text/plain": [
       "    rr_per_post            author_id                last_tweet  \\\n",
       "0      0.723192             80483638 2022-03-30 15:33:56+00:00   \n",
       "1      0.656250   720959701651996673 2022-02-08 23:01:34+00:00   \n",
       "2      0.571429            169353953 2022-03-27 05:27:40+00:00   \n",
       "3      0.500000            344350643 2022-01-25 21:37:47+00:00   \n",
       "4      0.500000  1352311853263671296 2022-02-17 22:58:21+00:00   \n",
       "5      0.500000             17146256 2021-12-25 16:40:26+00:00   \n",
       "6      0.500000            359528910 2022-02-01 02:22:22+00:00   \n",
       "7      0.500000  1047247402409840640 2021-12-28 20:52:12+00:00   \n",
       "8      0.500000           4311670299 2022-02-05 14:19:36+00:00   \n",
       "9      0.500000            179226033 2022-02-25 00:17:42+00:00   \n",
       "10     0.470588   767945051787759616 2022-03-30 17:16:27+00:00   \n",
       "11     0.428571  1457177169407393795 2021-12-27 04:28:51+00:00   \n",
       "12     0.400000             26950458 2022-01-12 01:12:48+00:00   \n",
       "13     0.368932             17919393 2022-03-30 15:17:48+00:00   \n",
       "14     0.360656            620136960 2022-03-30 20:22:23+00:00   \n",
       "15     0.333333   989313110602235904 2022-03-13 22:11:54+00:00   \n",
       "16     0.300578             36167088 2022-03-30 16:31:16+00:00   \n",
       "17     0.285714            898324652 2022-01-19 03:18:01+00:00   \n",
       "18     0.266667             17018470 2022-03-29 10:45:14+00:00   \n",
       "19     0.250000  1428158156098572291 2022-01-12 19:18:28+00:00   \n",
       "20     0.250000  1004065528871247872 2022-03-31 00:55:08+00:00   \n",
       "21     0.216783   877629044828667905 2022-03-31 00:07:57+00:00   \n",
       "22     0.215686             20280574 2022-02-01 17:57:14+00:00   \n",
       "23     0.200000            239666710 2022-03-15 23:33:49+00:00   \n",
       "24     0.200000           3173246967 2022-02-22 12:50:00+00:00   \n",
       "25     0.200000            149197471 2022-04-01 03:52:00+00:00   \n",
       "26     0.200000   989320781799743488 2022-03-31 20:50:10+00:00   \n",
       "27     0.200000             21833509 2022-02-18 21:38:38+00:00   \n",
       "28     0.200000             19201304 2022-02-15 00:00:09+00:00   \n",
       "29     0.193548            142843687 2022-03-17 16:52:15+00:00   \n",
       "30     0.166667  1421182643375427584 2022-03-27 03:36:30+00:00   \n",
       "31     0.166667             33919623 2022-01-06 21:23:18+00:00   \n",
       "32     0.166667             14596185 2022-03-12 01:16:50+00:00   \n",
       "33     0.166667           2498871378 2022-03-16 12:05:46+00:00   \n",
       "34     0.163636            323920783 2022-03-24 00:38:00+00:00   \n",
       "35     0.157025             36740674 2022-03-07 20:01:14+00:00   \n",
       "36     0.153846            257663572 2022-02-14 19:57:37+00:00   \n",
       "37     0.142857             38282048 2022-03-01 19:27:54+00:00   \n",
       "38     0.142857            294118241 2022-03-11 19:57:19+00:00   \n",
       "39     0.130342            146569971 2022-03-31 20:00:11+00:00   \n",
       "40     0.125000           2167134798 2022-03-15 01:10:49+00:00   \n",
       "41     0.111111            553010243 2022-03-21 19:39:29+00:00   \n",
       "42     0.111111             15850297 2022-03-18 16:15:05+00:00   \n",
       "43     0.106383             43369337 2022-03-31 16:09:52+00:00   \n",
       "44     0.105263   709986828066144257 2022-03-17 19:22:35+00:00   \n",
       "\n",
       "    last_tweet_norm  timeline_score  \n",
       "0          0.988831        0.715115  \n",
       "1          0.578177        0.379429  \n",
       "2          0.960558        0.548890  \n",
       "3          0.461994        0.230997  \n",
       "4          0.652539        0.326269  \n",
       "5          0.204089        0.102044  \n",
       "6          0.513214        0.256607  \n",
       "7          0.230327        0.115164  \n",
       "8          0.550388        0.275194  \n",
       "9          0.710845        0.355423  \n",
       "10         0.989419        0.465609  \n",
       "11         0.216419        0.092751  \n",
       "12         0.347525        0.139010  \n",
       "13         0.988739        0.364777  \n",
       "14         0.990487        0.357225  \n",
       "15         0.850619        0.283540  \n",
       "16         0.989160        0.297320  \n",
       "17         0.406095        0.116027  \n",
       "18         0.978910        0.261043  \n",
       "19         0.353756        0.088439  \n",
       "20         0.992052        0.248013  \n",
       "21         0.991781        0.215002  \n",
       "22         0.518579        0.111850  \n",
       "23         0.867618        0.173524  \n",
       "24         0.690370        0.138074  \n",
       "25         1.001331        0.200266  \n",
       "26         0.998911        0.199782  \n",
       "27         0.660346        0.132069  \n",
       "28         0.628100        0.125620  \n",
       "29         0.881843        0.170679  \n",
       "30         0.959920        0.159987  \n",
       "31         0.304886        0.050814  \n",
       "32         0.835152        0.139192  \n",
       "33         0.871934        0.145322  \n",
       "34         0.934102        0.152853  \n",
       "35         0.800283        0.125664  \n",
       "36         0.626708        0.096417  \n",
       "37         0.750504        0.107215  \n",
       "38         0.833318        0.119045  \n",
       "39         0.998624        0.130162  \n",
       "40         0.859911        0.107489  \n",
       "41         0.915860        0.101762  \n",
       "42         0.889894        0.098877  \n",
       "43         0.997302        0.106096  \n",
       "44         0.882705        0.092916  "
      ]
     },
     "execution_count": 21,
     "metadata": {},
     "output_type": "execute_result"
    }
   ],
   "source": [
    "author_rrpp_data[\"last_tweet_norm\"] = (author_rrpp_data[\"last_tweet\"] - date_min) / (date_max - date_min)\n",
    "author_rrpp_data[\"timeline_score\"] = author_rrpp_data[\"rr_per_post\"] * author_rrpp_data[\"last_tweet_norm\"]\n",
    "author_rrpp_data"
   ]
  },
  {
   "cell_type": "code",
   "execution_count": 22,
   "id": "0630a36a",
   "metadata": {},
   "outputs": [
    {
     "data": {
      "image/png": "[encoded data removed]",
      "text/plain": [
       "<Figure size 1400x1000 with 1 Axes>"
      ]
     },
     "metadata": {},
     "output_type": "display_data"
    }
   ],
   "source": [
    "author_rrpp_data.plot(x='author_id', y='timeline_score', kind='barh', figsize=(14,10))\n",
    "plt.xlabel('Timeline Score')\n",
    "plt.ylabel('Author ID')\n",
    "plt.title('Timeline Score of Each Author')\n",
    "plt.tight_layout()\n",
    "plt.show()\n"
   ]
  },
  {
   "cell_type": "code",
   "execution_count": 23,
   "id": "1aeaa589",
   "metadata": {},
   "outputs": [
    {
     "data": {
      "application/vnd.microsoft.datawrangler.viewer.v0+json": {
       "columns": [
        {
         "name": "index",
         "rawType": "int64",
         "type": "integer"
        },
        {
         "name": "rr_per_post",
         "rawType": "float64",
         "type": "float"
        },
        {
         "name": "author_id",
         "rawType": "object",
         "type": "string"
        },
        {
         "name": "last_tweet",
         "rawType": "datetime64[ns, UTC]",
         "type": "unknown"
        },
        {
         "name": "last_tweet_norm",
         "rawType": "float64",
         "type": "float"
        },
        {
         "name": "timeline_score",
         "rawType": "float64",
         "type": "float"
        }
       ],
       "ref": "f521efb5-1a66-42cd-ad1e-ea47a6004670",
       "rows": [
        [
         "0",
         "0.7231920199501247",
         "80483638",
         "2022-03-30 15:33:56+00:00",
         "0.9888311141720233",
         "0.7151147708475979"
        ],
        [
         "1",
         "0.65625",
         "720959701651996673",
         "2022-02-08 23:01:34+00:00",
         "0.578177035506581",
         "0.37942867955119375"
        ],
        [
         "2",
         "0.5714285714285714",
         "169353953",
         "2022-03-27 05:27:40+00:00",
         "0.9605582338536884",
         "0.5488904193449647"
        ],
        [
         "3",
         "0.5",
         "344350643",
         "2022-01-25 21:37:47+00:00",
         "0.4619937059993878",
         "0.2309968529996939"
        ],
        [
         "4",
         "0.5",
         "1352311853263671296",
         "2022-02-17 22:58:21+00:00",
         "0.6525387396694214",
         "0.3262693698347107"
        ],
        [
         "5",
         "0.5",
         "17146256",
         "2021-12-25 16:40:26+00:00",
         "0.20408880471380472",
         "0.10204440235690236"
        ],
        [
         "6",
         "0.5",
         "359528910",
         "2022-02-01 02:22:22+00:00",
         "0.5132137664524028",
         "0.2566068832262014"
        ],
        [
         "7",
         "0.5",
         "1047247402409840640",
         "2021-12-28 20:52:12+00:00",
         "0.2303271349862259",
         "0.11516356749311295"
        ],
        [
         "8",
         "0.5",
         "4311670299",
         "2022-02-05 14:19:36+00:00",
         "0.5503879706152434",
         "0.2751939853076217"
        ],
        [
         "9",
         "0.5",
         "179226033",
         "2022-02-25 00:17:42+00:00",
         "0.7108453856749312",
         "0.3554226928374656"
        ],
        [
         "10",
         "0.47058823529411764",
         "767945051787759616",
         "2022-03-30 17:16:27+00:00",
         "0.9894194788797062",
         "0.46560916653162643"
        ],
        [
         "11",
         "0.42857142857142855",
         "1457177169407393795",
         "2021-12-27 04:28:51+00:00",
         "0.21641901974288338",
         "0.09275100846123573"
        ],
        [
         "12",
         "0.4",
         "26950458",
         "2022-01-12 01:12:48+00:00",
         "0.3475252525252525",
         "0.139010101010101"
        ],
        [
         "13",
         "0.36893203883495146",
         "17919393",
         "2022-03-30 15:17:48+00:00",
         "0.9887385215794307",
         "0.364777318640955"
        ],
        [
         "14",
         "0.36065573770491804",
         "620136960",
         "2022-03-30 20:22:23+00:00",
         "0.9904865893786349",
         "0.3572246715791798"
        ],
        [
         "15",
         "0.3333333333333333",
         "989313110602235904",
         "2022-03-13 22:11:54+00:00",
         "0.8506192607897153",
         "0.28353975359657174"
        ],
        [
         "16",
         "0.30057803468208094",
         "36167088",
         "2022-03-30 16:31:16+00:00",
         "0.989160162228344",
         "0.297319817548404"
        ],
        [
         "17",
         "0.2857142857142857",
         "898324652",
         "2022-01-19 03:18:01+00:00",
         "0.4060951369758188",
         "0.11602718199309107"
        ],
        [
         "18",
         "0.26666666666666666",
         "17018470",
         "2022-03-29 10:45:14+00:00",
         "0.9789097413529232",
         "0.26104259769411287"
        ],
        [
         "19",
         "0.25",
         "1428158156098572291",
         "2022-01-12 19:18:28+00:00",
         "0.35375612182430366",
         "0.08843903045607591"
        ],
        [
         "20",
         "0.25",
         "1004065528871247872",
         "2022-03-31 00:55:08+00:00",
         "0.9920519589837772",
         "0.2480129897459443"
        ],
        [
         "21",
         "0.21678321678321677",
         "877629044828667905",
         "2022-03-31 00:07:57+00:00",
         "0.9917811639118457",
         "0.21500151105781268"
        ],
        [
         "22",
         "0.21568627450980393",
         "20280574",
         "2022-02-01 17:57:14+00:00",
         "0.5185791628405265",
         "0.11185040767148612"
        ],
        [
         "23",
         "0.2",
         "239666710",
         "2022-03-15 23:33:49+00:00",
         "0.8676183233853688",
         "0.17352366467707378"
        ],
        [
         "24",
         "0.2",
         "3173246967",
         "2022-02-22 12:50:00+00:00",
         "0.6903696051423324",
         "0.13807392102846647"
        ],
        [
         "25",
         "0.2",
         "149197471",
         "2022-04-01 03:52:00+00:00",
         "1.0013314967860423",
         "0.20026629935720847"
        ],
        [
         "26",
         "0.2",
         "989320781799743488",
         "2022-03-31 20:50:10+00:00",
         "0.9989105065809611",
         "0.19978210131619223"
        ],
        [
         "27",
         "0.2",
         "21833509",
         "2022-02-18 21:38:38+00:00",
         "0.6603456917661463",
         "0.13206913835322928"
        ],
        [
         "28",
         "0.2",
         "19201304",
         "2022-02-15 00:00:09+00:00",
         "0.6281000344352617",
         "0.12562000688705235"
        ],
        [
         "29",
         "0.1935483870967742",
         "142843687",
         "2022-03-17 16:52:15+00:00",
         "0.8818425734618917",
         "0.17067920776681775"
        ],
        [
         "30",
         "0.16666666666666666",
         "1421182643375427584",
         "2022-03-27 03:36:30+00:00",
         "0.9599202249770432",
         "0.15998670416284053"
        ],
        [
         "31",
         "0.16666666666666666",
         "33919623",
         "2022-01-06 21:23:18+00:00",
         "0.30488578971533514",
         "0.05081429828588919"
        ],
        [
         "32",
         "0.16666666666666666",
         "14596185",
         "2022-03-12 01:16:50+00:00",
         "0.8351517064585247",
         "0.13919195107642077"
        ],
        [
         "33",
         "0.16666666666666666",
         "2498871378",
         "2022-03-16 12:05:46+00:00",
         "0.8719339225589225",
         "0.14532232042648707"
        ],
        [
         "34",
         "0.16363636363636364",
         "323920783",
         "2022-03-24 00:38:00+00:00",
         "0.9341023875114784",
         "0.15285311795642376"
        ],
        [
         "35",
         "0.15702479338842976",
         "36740674",
         "2022-03-07 20:01:14+00:00",
         "0.800282560453015",
         "0.12566420370749823"
        ],
        [
         "36",
         "0.15384615384615385",
         "257663572",
         "2022-02-14 19:57:37+00:00",
         "0.626708084634221",
         "0.09641662840526477"
        ],
        [
         "37",
         "0.14285714285714285",
         "38282048",
         "2022-03-01 19:27:54+00:00",
         "0.7505044765840221",
         "0.10721492522628887"
        ],
        [
         "38",
         "0.14285714285714285",
         "294118241",
         "2022-03-11 19:57:19+00:00",
         "0.8333179331190694",
         "0.1190454190170099"
        ],
        [
         "39",
         "0.13034188034188035",
         "146569971",
         "2022-03-31 20:00:11+00:00",
         "0.9986236417202327",
         "0.13016248321567137"
        ],
        [
         "40",
         "0.125",
         "2167134798",
         "2022-03-15 01:10:49+00:00",
         "0.859910563973064",
         "0.107488820496633"
        ],
        [
         "41",
         "0.1111111111111111",
         "553010243",
         "2022-03-21 19:39:29+00:00",
         "0.9158602119681665",
         "0.10176224577424071"
        ],
        [
         "42",
         "0.1111111111111111",
         "15850297",
         "2022-03-18 16:15:05+00:00",
         "0.889893728956229",
         "0.09887708099513655"
        ],
        [
         "43",
         "0.10638297872340426",
         "43369337",
         "2022-03-31 16:09:52+00:00",
         "0.9973018059381695",
         "0.10609593680193292"
        ],
        [
         "44",
         "0.10526315789473684",
         "709986828066144257",
         "2022-03-17 19:22:35+00:00",
         "0.8827053680746862",
         "0.0929163545341775"
        ]
       ],
       "shape": {
        "columns": 5,
        "rows": 45
       }
      },
      "text/html": [
       "<div>\n",
       "<style scoped>\n",
       "    .dataframe tbody tr th:only-of-type {\n",
       "        vertical-align: middle;\n",
       "    }\n",
       "\n",
       "    .dataframe tbody tr th {\n",
       "        vertical-align: top;\n",
       "    }\n",
       "\n",
       "    .dataframe thead th {\n",
       "        text-align: right;\n",
       "    }\n",
       "</style>\n",
       "<table border=\"1\" class=\"dataframe\">\n",
       "  <thead>\n",
       "    <tr style=\"text-align: right;\">\n",
       "      <th></th>\n",
       "      <th>rr_per_post</th>\n",
       "      <th>author_id</th>\n",
       "      <th>last_tweet</th>\n",
       "      <th>last_tweet_norm</th>\n",
       "      <th>timeline_score</th>\n",
       "    </tr>\n",
       "  </thead>\n",
       "  <tbody>\n",
       "    <tr>\n",
       "      <th>0</th>\n",
       "      <td>0.723192</td>\n",
       "      <td>80483638</td>\n",
       "      <td>2022-03-30 15:33:56+00:00</td>\n",
       "      <td>0.988831</td>\n",
       "      <td>0.715115</td>\n",
       "    </tr>\n",
       "    <tr>\n",
       "      <th>1</th>\n",
       "      <td>0.656250</td>\n",
       "      <td>720959701651996673</td>\n",
       "      <td>2022-02-08 23:01:34+00:00</td>\n",
       "      <td>0.578177</td>\n",
       "      <td>0.379429</td>\n",
       "    </tr>\n",
       "    <tr>\n",
       "      <th>2</th>\n",
       "      <td>0.571429</td>\n",
       "      <td>169353953</td>\n",
       "      <td>2022-03-27 05:27:40+00:00</td>\n",
       "      <td>0.960558</td>\n",
       "      <td>0.548890</td>\n",
       "    </tr>\n",
       "    <tr>\n",
       "      <th>3</th>\n",
       "      <td>0.500000</td>\n",
       "      <td>344350643</td>\n",
       "      <td>2022-01-25 21:37:47+00:00</td>\n",
       "      <td>0.461994</td>\n",
       "      <td>0.230997</td>\n",
       "    </tr>\n",
       "    <tr>\n",
       "      <th>4</th>\n",
       "      <td>0.500000</td>\n",
       "      <td>1352311853263671296</td>\n",
       "      <td>2022-02-17 22:58:21+00:00</td>\n",
       "      <td>0.652539</td>\n",
       "      <td>0.326269</td>\n",
       "    </tr>\n",
       "    <tr>\n",
       "      <th>5</th>\n",
       "      <td>0.500000</td>\n",
       "      <td>17146256</td>\n",
       "      <td>2021-12-25 16:40:26+00:00</td>\n",
       "      <td>0.204089</td>\n",
       "      <td>0.102044</td>\n",
       "    </tr>\n",
       "    <tr>\n",
       "      <th>6</th>\n",
       "      <td>0.500000</td>\n",
       "      <td>359528910</td>\n",
       "      <td>2022-02-01 02:22:22+00:00</td>\n",
       "      <td>0.513214</td>\n",
       "      <td>0.256607</td>\n",
       "    </tr>\n",
       "    <tr>\n",
       "      <th>7</th>\n",
       "      <td>0.500000</td>\n",
       "      <td>1047247402409840640</td>\n",
       "      <td>2021-12-28 20:52:12+00:00</td>\n",
       "      <td>0.230327</td>\n",
       "      <td>0.115164</td>\n",
       "    </tr>\n",
       "    <tr>\n",
       "      <th>8</th>\n",
       "      <td>0.500000</td>\n",
       "      <td>4311670299</td>\n",
       "      <td>2022-02-05 14:19:36+00:00</td>\n",
       "      <td>0.550388</td>\n",
       "      <td>0.275194</td>\n",
       "    </tr>\n",
       "    <tr>\n",
       "      <th>9</th>\n",
       "      <td>0.500000</td>\n",
       "      <td>179226033</td>\n",
       "      <td>2022-02-25 00:17:42+00:00</td>\n",
       "      <td>0.710845</td>\n",
       "      <td>0.355423</td>\n",
       "    </tr>\n",
       "    <tr>\n",
       "      <th>10</th>\n",
       "      <td>0.470588</td>\n",
       "      <td>767945051787759616</td>\n",
       "      <td>2022-03-30 17:16:27+00:00</td>\n",
       "      <td>0.989419</td>\n",
       "      <td>0.465609</td>\n",
       "    </tr>\n",
       "    <tr>\n",
       "      <th>11</th>\n",
       "      <td>0.428571</td>\n",
       "      <td>1457177169407393795</td>\n",
       "      <td>2021-12-27 04:28:51+00:00</td>\n",
       "      <td>0.216419</td>\n",
       "      <td>0.092751</td>\n",
       "    </tr>\n",
       "    <tr>\n",
       "      <th>12</th>\n",
       "      <td>0.400000</td>\n",
       "      <td>26950458</td>\n",
       "      <td>2022-01-12 01:12:48+00:00</td>\n",
       "      <td>0.347525</td>\n",
       "      <td>0.139010</td>\n",
       "    </tr>\n",
       "    <tr>\n",
       "      <th>13</th>\n",
       "      <td>0.368932</td>\n",
       "      <td>17919393</td>\n",
       "      <td>2022-03-30 15:17:48+00:00</td>\n",
       "      <td>0.988739</td>\n",
       "      <td>0.364777</td>\n",
       "    </tr>\n",
       "    <tr>\n",
       "      <th>14</th>\n",
       "      <td>0.360656</td>\n",
       "      <td>620136960</td>\n",
       "      <td>2022-03-30 20:22:23+00:00</td>\n",
       "      <td>0.990487</td>\n",
       "      <td>0.357225</td>\n",
       "    </tr>\n",
       "    <tr>\n",
       "      <th>15</th>\n",
       "      <td>0.333333</td>\n",
       "      <td>989313110602235904</td>\n",
       "      <td>2022-03-13 22:11:54+00:00</td>\n",
       "      <td>0.850619</td>\n",
       "      <td>0.283540</td>\n",
       "    </tr>\n",
       "    <tr>\n",
       "      <th>16</th>\n",
       "      <td>0.300578</td>\n",
       "      <td>36167088</td>\n",
       "      <td>2022-03-30 16:31:16+00:00</td>\n",
       "      <td>0.989160</td>\n",
       "      <td>0.297320</td>\n",
       "    </tr>\n",
       "    <tr>\n",
       "      <th>17</th>\n",
       "      <td>0.285714</td>\n",
       "      <td>898324652</td>\n",
       "      <td>2022-01-19 03:18:01+00:00</td>\n",
       "      <td>0.406095</td>\n",
       "      <td>0.116027</td>\n",
       "    </tr>\n",
       "    <tr>\n",
       "      <th>18</th>\n",
       "      <td>0.266667</td>\n",
       "      <td>17018470</td>\n",
       "      <td>2022-03-29 10:45:14+00:00</td>\n",
       "      <td>0.978910</td>\n",
       "      <td>0.261043</td>\n",
       "    </tr>\n",
       "    <tr>\n",
       "      <th>19</th>\n",
       "      <td>0.250000</td>\n",
       "      <td>1428158156098572291</td>\n",
       "      <td>2022-01-12 19:18:28+00:00</td>\n",
       "      <td>0.353756</td>\n",
       "      <td>0.088439</td>\n",
       "    </tr>\n",
       "    <tr>\n",
       "      <th>20</th>\n",
       "      <td>0.250000</td>\n",
       "      <td>1004065528871247872</td>\n",
       "      <td>2022-03-31 00:55:08+00:00</td>\n",
       "      <td>0.992052</td>\n",
       "      <td>0.248013</td>\n",
       "    </tr>\n",
       "    <tr>\n",
       "      <th>21</th>\n",
       "      <td>0.216783</td>\n",
       "      <td>877629044828667905</td>\n",
       "      <td>2022-03-31 00:07:57+00:00</td>\n",
       "      <td>0.991781</td>\n",
       "      <td>0.215002</td>\n",
       "    </tr>\n",
       "    <tr>\n",
       "      <th>22</th>\n",
       "      <td>0.215686</td>\n",
       "      <td>20280574</td>\n",
       "      <td>2022-02-01 17:57:14+00:00</td>\n",
       "      <td>0.518579</td>\n",
       "      <td>0.111850</td>\n",
       "    </tr>\n",
       "    <tr>\n",
       "      <th>23</th>\n",
       "      <td>0.200000</td>\n",
       "      <td>239666710</td>\n",
       "      <td>2022-03-15 23:33:49+00:00</td>\n",
       "      <td>0.867618</td>\n",
       "      <td>0.173524</td>\n",
       "    </tr>\n",
       "    <tr>\n",
       "      <th>24</th>\n",
       "      <td>0.200000</td>\n",
       "      <td>3173246967</td>\n",
       "      <td>2022-02-22 12:50:00+00:00</td>\n",
       "      <td>0.690370</td>\n",
       "      <td>0.138074</td>\n",
       "    </tr>\n",
       "    <tr>\n",
       "      <th>25</th>\n",
       "      <td>0.200000</td>\n",
       "      <td>149197471</td>\n",
       "      <td>2022-04-01 03:52:00+00:00</td>\n",
       "      <td>1.001331</td>\n",
       "      <td>0.200266</td>\n",
       "    </tr>\n",
       "    <tr>\n",
       "      <th>26</th>\n",
       "      <td>0.200000</td>\n",
       "      <td>989320781799743488</td>\n",
       "      <td>2022-03-31 20:50:10+00:00</td>\n",
       "      <td>0.998911</td>\n",
       "      <td>0.199782</td>\n",
       "    </tr>\n",
       "    <tr>\n",
       "      <th>27</th>\n",
       "      <td>0.200000</td>\n",
       "      <td>21833509</td>\n",
       "      <td>2022-02-18 21:38:38+00:00</td>\n",
       "      <td>0.660346</td>\n",
       "      <td>0.132069</td>\n",
       "    </tr>\n",
       "    <tr>\n",
       "      <th>28</th>\n",
       "      <td>0.200000</td>\n",
       "      <td>19201304</td>\n",
       "      <td>2022-02-15 00:00:09+00:00</td>\n",
       "      <td>0.628100</td>\n",
       "      <td>0.125620</td>\n",
       "    </tr>\n",
       "    <tr>\n",
       "      <th>29</th>\n",
       "      <td>0.193548</td>\n",
       "      <td>142843687</td>\n",
       "      <td>2022-03-17 16:52:15+00:00</td>\n",
       "      <td>0.881843</td>\n",
       "      <td>0.170679</td>\n",
       "    </tr>\n",
       "    <tr>\n",
       "      <th>30</th>\n",
       "      <td>0.166667</td>\n",
       "      <td>1421182643375427584</td>\n",
       "      <td>2022-03-27 03:36:30+00:00</td>\n",
       "      <td>0.959920</td>\n",
       "      <td>0.159987</td>\n",
       "    </tr>\n",
       "    <tr>\n",
       "      <th>31</th>\n",
       "      <td>0.166667</td>\n",
       "      <td>33919623</td>\n",
       "      <td>2022-01-06 21:23:18+00:00</td>\n",
       "      <td>0.304886</td>\n",
       "      <td>0.050814</td>\n",
       "    </tr>\n",
       "    <tr>\n",
       "      <th>32</th>\n",
       "      <td>0.166667</td>\n",
       "      <td>14596185</td>\n",
       "      <td>2022-03-12 01:16:50+00:00</td>\n",
       "      <td>0.835152</td>\n",
       "      <td>0.139192</td>\n",
       "    </tr>\n",
       "    <tr>\n",
       "      <th>33</th>\n",
       "      <td>0.166667</td>\n",
       "      <td>2498871378</td>\n",
       "      <td>2022-03-16 12:05:46+00:00</td>\n",
       "      <td>0.871934</td>\n",
       "      <td>0.145322</td>\n",
       "    </tr>\n",
       "    <tr>\n",
       "      <th>34</th>\n",
       "      <td>0.163636</td>\n",
       "      <td>323920783</td>\n",
       "      <td>2022-03-24 00:38:00+00:00</td>\n",
       "      <td>0.934102</td>\n",
       "      <td>0.152853</td>\n",
       "    </tr>\n",
       "    <tr>\n",
       "      <th>35</th>\n",
       "      <td>0.157025</td>\n",
       "      <td>36740674</td>\n",
       "      <td>2022-03-07 20:01:14+00:00</td>\n",
       "      <td>0.800283</td>\n",
       "      <td>0.125664</td>\n",
       "    </tr>\n",
       "    <tr>\n",
       "      <th>36</th>\n",
       "      <td>0.153846</td>\n",
       "      <td>257663572</td>\n",
       "      <td>2022-02-14 19:57:37+00:00</td>\n",
       "      <td>0.626708</td>\n",
       "      <td>0.096417</td>\n",
       "    </tr>\n",
       "    <tr>\n",
       "      <th>37</th>\n",
       "      <td>0.142857</td>\n",
       "      <td>38282048</td>\n",
       "      <td>2022-03-01 19:27:54+00:00</td>\n",
       "      <td>0.750504</td>\n",
       "      <td>0.107215</td>\n",
       "    </tr>\n",
       "    <tr>\n",
       "      <th>38</th>\n",
       "      <td>0.142857</td>\n",
       "      <td>294118241</td>\n",
       "      <td>2022-03-11 19:57:19+00:00</td>\n",
       "      <td>0.833318</td>\n",
       "      <td>0.119045</td>\n",
       "    </tr>\n",
       "    <tr>\n",
       "      <th>39</th>\n",
       "      <td>0.130342</td>\n",
       "      <td>146569971</td>\n",
       "      <td>2022-03-31 20:00:11+00:00</td>\n",
       "      <td>0.998624</td>\n",
       "      <td>0.130162</td>\n",
       "    </tr>\n",
       "    <tr>\n",
       "      <th>40</th>\n",
       "      <td>0.125000</td>\n",
       "      <td>2167134798</td>\n",
       "      <td>2022-03-15 01:10:49+00:00</td>\n",
       "      <td>0.859911</td>\n",
       "      <td>0.107489</td>\n",
       "    </tr>\n",
       "    <tr>\n",
       "      <th>41</th>\n",
       "      <td>0.111111</td>\n",
       "      <td>553010243</td>\n",
       "      <td>2022-03-21 19:39:29+00:00</td>\n",
       "      <td>0.915860</td>\n",
       "      <td>0.101762</td>\n",
       "    </tr>\n",
       "    <tr>\n",
       "      <th>42</th>\n",
       "      <td>0.111111</td>\n",
       "      <td>15850297</td>\n",
       "      <td>2022-03-18 16:15:05+00:00</td>\n",
       "      <td>0.889894</td>\n",
       "      <td>0.098877</td>\n",
       "    </tr>\n",
       "    <tr>\n",
       "      <th>43</th>\n",
       "      <td>0.106383</td>\n",
       "      <td>43369337</td>\n",
       "      <td>2022-03-31 16:09:52+00:00</td>\n",
       "      <td>0.997302</td>\n",
       "      <td>0.106096</td>\n",
       "    </tr>\n",
       "    <tr>\n",
       "      <th>44</th>\n",
       "      <td>0.105263</td>\n",
       "      <td>709986828066144257</td>\n",
       "      <td>2022-03-17 19:22:35+00:00</td>\n",
       "      <td>0.882705</td>\n",
       "      <td>0.092916</td>\n",
       "    </tr>\n",
       "  </tbody>\n",
       "</table>\n",
       "</div>"
      ],
      "text/plain": [
       "    rr_per_post            author_id                last_tweet  \\\n",
       "0      0.723192             80483638 2022-03-30 15:33:56+00:00   \n",
       "1      0.656250   720959701651996673 2022-02-08 23:01:34+00:00   \n",
       "2      0.571429            169353953 2022-03-27 05:27:40+00:00   \n",
       "3      0.500000            344350643 2022-01-25 21:37:47+00:00   \n",
       "4      0.500000  1352311853263671296 2022-02-17 22:58:21+00:00   \n",
       "5      0.500000             17146256 2021-12-25 16:40:26+00:00   \n",
       "6      0.500000            359528910 2022-02-01 02:22:22+00:00   \n",
       "7      0.500000  1047247402409840640 2021-12-28 20:52:12+00:00   \n",
       "8      0.500000           4311670299 2022-02-05 14:19:36+00:00   \n",
       "9      0.500000            179226033 2022-02-25 00:17:42+00:00   \n",
       "10     0.470588   767945051787759616 2022-03-30 17:16:27+00:00   \n",
       "11     0.428571  1457177169407393795 2021-12-27 04:28:51+00:00   \n",
       "12     0.400000             26950458 2022-01-12 01:12:48+00:00   \n",
       "13     0.368932             17919393 2022-03-30 15:17:48+00:00   \n",
       "14     0.360656            620136960 2022-03-30 20:22:23+00:00   \n",
       "15     0.333333   989313110602235904 2022-03-13 22:11:54+00:00   \n",
       "16     0.300578             36167088 2022-03-30 16:31:16+00:00   \n",
       "17     0.285714            898324652 2022-01-19 03:18:01+00:00   \n",
       "18     0.266667             17018470 2022-03-29 10:45:14+00:00   \n",
       "19     0.250000  1428158156098572291 2022-01-12 19:18:28+00:00   \n",
       "20     0.250000  1004065528871247872 2022-03-31 00:55:08+00:00   \n",
       "21     0.216783   877629044828667905 2022-03-31 00:07:57+00:00   \n",
       "22     0.215686             20280574 2022-02-01 17:57:14+00:00   \n",
       "23     0.200000            239666710 2022-03-15 23:33:49+00:00   \n",
       "24     0.200000           3173246967 2022-02-22 12:50:00+00:00   \n",
       "25     0.200000            149197471 2022-04-01 03:52:00+00:00   \n",
       "26     0.200000   989320781799743488 2022-03-31 20:50:10+00:00   \n",
       "27     0.200000             21833509 2022-02-18 21:38:38+00:00   \n",
       "28     0.200000             19201304 2022-02-15 00:00:09+00:00   \n",
       "29     0.193548            142843687 2022-03-17 16:52:15+00:00   \n",
       "30     0.166667  1421182643375427584 2022-03-27 03:36:30+00:00   \n",
       "31     0.166667             33919623 2022-01-06 21:23:18+00:00   \n",
       "32     0.166667             14596185 2022-03-12 01:16:50+00:00   \n",
       "33     0.166667           2498871378 2022-03-16 12:05:46+00:00   \n",
       "34     0.163636            323920783 2022-03-24 00:38:00+00:00   \n",
       "35     0.157025             36740674 2022-03-07 20:01:14+00:00   \n",
       "36     0.153846            257663572 2022-02-14 19:57:37+00:00   \n",
       "37     0.142857             38282048 2022-03-01 19:27:54+00:00   \n",
       "38     0.142857            294118241 2022-03-11 19:57:19+00:00   \n",
       "39     0.130342            146569971 2022-03-31 20:00:11+00:00   \n",
       "40     0.125000           2167134798 2022-03-15 01:10:49+00:00   \n",
       "41     0.111111            553010243 2022-03-21 19:39:29+00:00   \n",
       "42     0.111111             15850297 2022-03-18 16:15:05+00:00   \n",
       "43     0.106383             43369337 2022-03-31 16:09:52+00:00   \n",
       "44     0.105263   709986828066144257 2022-03-17 19:22:35+00:00   \n",
       "\n",
       "    last_tweet_norm  timeline_score  \n",
       "0          0.988831        0.715115  \n",
       "1          0.578177        0.379429  \n",
       "2          0.960558        0.548890  \n",
       "3          0.461994        0.230997  \n",
       "4          0.652539        0.326269  \n",
       "5          0.204089        0.102044  \n",
       "6          0.513214        0.256607  \n",
       "7          0.230327        0.115164  \n",
       "8          0.550388        0.275194  \n",
       "9          0.710845        0.355423  \n",
       "10         0.989419        0.465609  \n",
       "11         0.216419        0.092751  \n",
       "12         0.347525        0.139010  \n",
       "13         0.988739        0.364777  \n",
       "14         0.990487        0.357225  \n",
       "15         0.850619        0.283540  \n",
       "16         0.989160        0.297320  \n",
       "17         0.406095        0.116027  \n",
       "18         0.978910        0.261043  \n",
       "19         0.353756        0.088439  \n",
       "20         0.992052        0.248013  \n",
       "21         0.991781        0.215002  \n",
       "22         0.518579        0.111850  \n",
       "23         0.867618        0.173524  \n",
       "24         0.690370        0.138074  \n",
       "25         1.001331        0.200266  \n",
       "26         0.998911        0.199782  \n",
       "27         0.660346        0.132069  \n",
       "28         0.628100        0.125620  \n",
       "29         0.881843        0.170679  \n",
       "30         0.959920        0.159987  \n",
       "31         0.304886        0.050814  \n",
       "32         0.835152        0.139192  \n",
       "33         0.871934        0.145322  \n",
       "34         0.934102        0.152853  \n",
       "35         0.800283        0.125664  \n",
       "36         0.626708        0.096417  \n",
       "37         0.750504        0.107215  \n",
       "38         0.833318        0.119045  \n",
       "39         0.998624        0.130162  \n",
       "40         0.859911        0.107489  \n",
       "41         0.915860        0.101762  \n",
       "42         0.889894        0.098877  \n",
       "43         0.997302        0.106096  \n",
       "44         0.882705        0.092916  "
      ]
     },
     "execution_count": 23,
     "metadata": {},
     "output_type": "execute_result"
    }
   ],
   "source": [
    "author_rrpp_data"
   ]
  },
  {
   "cell_type": "code",
   "execution_count": 24,
   "id": "981681aa",
   "metadata": {},
   "outputs": [
    {
     "data": {
      "application/vnd.microsoft.datawrangler.viewer.v0+json": {
       "columns": [
        {
         "name": "index",
         "rawType": "int64",
         "type": "integer"
        },
        {
         "name": "created_at",
         "rawType": "datetime64[ns, UTC]",
         "type": "unknown"
        },
        {
         "name": "count",
         "rawType": "int64",
         "type": "integer"
        },
        {
         "name": "timeline_norm",
         "rawType": "float64",
         "type": "float"
        }
       ],
       "ref": "16a0ce71-8cdb-4d23-a691-ca7fc80ae0d8",
       "rows": [
        [
         "0",
         "2021-12-01 00:00:00+00:00",
         "414",
         "0.0"
        ],
        [
         "1",
         "2021-12-02 00:00:00+00:00",
         "416",
         "0.008264462809917356"
        ],
        [
         "2",
         "2021-12-03 00:00:00+00:00",
         "364",
         "0.01652892561983471"
        ],
        [
         "3",
         "2021-12-04 00:00:00+00:00",
         "248",
         "0.024793388429752067"
        ],
        [
         "4",
         "2021-12-05 00:00:00+00:00",
         "167",
         "0.03305785123966942"
        ],
        [
         "5",
         "2021-12-06 00:00:00+00:00",
         "305",
         "0.04132231404958678"
        ],
        [
         "6",
         "2021-12-07 00:00:00+00:00",
         "330",
         "0.049586776859504134"
        ],
        [
         "7",
         "2021-12-08 00:00:00+00:00",
         "318",
         "0.05785123966942149"
        ],
        [
         "8",
         "2021-12-09 00:00:00+00:00",
         "375",
         "0.06611570247933884"
        ],
        [
         "9",
         "2021-12-10 00:00:00+00:00",
         "315",
         "0.0743801652892562"
        ],
        [
         "10",
         "2021-12-11 00:00:00+00:00",
         "185",
         "0.08264462809917356"
        ],
        [
         "11",
         "2021-12-12 00:00:00+00:00",
         "219",
         "0.09090909090909091"
        ],
        [
         "12",
         "2021-12-13 00:00:00+00:00",
         "325",
         "0.09917355371900827"
        ],
        [
         "13",
         "2021-12-14 00:00:00+00:00",
         "332",
         "0.10743801652892562"
        ],
        [
         "14",
         "2021-12-15 00:00:00+00:00",
         "506",
         "0.11570247933884298"
        ],
        [
         "15",
         "2021-12-16 00:00:00+00:00",
         "419",
         "0.12396694214876033"
        ],
        [
         "16",
         "2021-12-17 00:00:00+00:00",
         "474",
         "0.1322314049586777"
        ],
        [
         "17",
         "2021-12-18 00:00:00+00:00",
         "343",
         "0.14049586776859505"
        ],
        [
         "18",
         "2021-12-19 00:00:00+00:00",
         "320",
         "0.1487603305785124"
        ],
        [
         "19",
         "2021-12-20 00:00:00+00:00",
         "453",
         "0.15702479338842976"
        ],
        [
         "20",
         "2021-12-21 00:00:00+00:00",
         "579",
         "0.1652892561983471"
        ],
        [
         "21",
         "2021-12-22 00:00:00+00:00",
         "477",
         "0.17355371900826447"
        ],
        [
         "22",
         "2021-12-23 00:00:00+00:00",
         "483",
         "0.18181818181818182"
        ],
        [
         "23",
         "2021-12-24 00:00:00+00:00",
         "345",
         "0.19008264462809918"
        ],
        [
         "24",
         "2021-12-25 00:00:00+00:00",
         "218",
         "0.19834710743801653"
        ],
        [
         "25",
         "2021-12-26 00:00:00+00:00",
         "223",
         "0.2066115702479339"
        ],
        [
         "26",
         "2021-12-27 00:00:00+00:00",
         "367",
         "0.21487603305785125"
        ],
        [
         "27",
         "2021-12-28 00:00:00+00:00",
         "522",
         "0.2231404958677686"
        ],
        [
         "28",
         "2021-12-29 00:00:00+00:00",
         "539",
         "0.23140495867768596"
        ],
        [
         "29",
         "2021-12-30 00:00:00+00:00",
         "709",
         "0.2396694214876033"
        ],
        [
         "30",
         "2021-12-31 00:00:00+00:00",
         "468",
         "0.24793388429752067"
        ],
        [
         "31",
         "2022-01-01 00:00:00+00:00",
         "277",
         "0.256198347107438"
        ],
        [
         "32",
         "2022-01-02 00:00:00+00:00",
         "312",
         "0.2644628099173554"
        ],
        [
         "33",
         "2022-01-03 00:00:00+00:00",
         "351",
         "0.2727272727272727"
        ],
        [
         "34",
         "2022-01-04 00:00:00+00:00",
         "570",
         "0.2809917355371901"
        ],
        [
         "35",
         "2022-01-05 00:00:00+00:00",
         "418",
         "0.2892561983471074"
        ],
        [
         "36",
         "2022-01-06 00:00:00+00:00",
         "426",
         "0.2975206611570248"
        ],
        [
         "37",
         "2022-01-07 00:00:00+00:00",
         "465",
         "0.30578512396694213"
        ],
        [
         "38",
         "2022-01-08 00:00:00+00:00",
         "448",
         "0.3140495867768595"
        ],
        [
         "39",
         "2022-01-09 00:00:00+00:00",
         "311",
         "0.32231404958677684"
        ],
        [
         "40",
         "2022-01-10 00:00:00+00:00",
         "395",
         "0.3305785123966942"
        ],
        [
         "41",
         "2022-01-11 00:00:00+00:00",
         "421",
         "0.33884297520661155"
        ],
        [
         "42",
         "2022-01-12 00:00:00+00:00",
         "437",
         "0.34710743801652894"
        ],
        [
         "43",
         "2022-01-13 00:00:00+00:00",
         "518",
         "0.35537190082644626"
        ],
        [
         "44",
         "2022-01-14 00:00:00+00:00",
         "327",
         "0.36363636363636365"
        ],
        [
         "45",
         "2022-01-15 00:00:00+00:00",
         "298",
         "0.371900826446281"
        ],
        [
         "46",
         "2022-01-16 00:00:00+00:00",
         "220",
         "0.38016528925619836"
        ],
        [
         "47",
         "2022-01-17 00:00:00+00:00",
         "323",
         "0.3884297520661157"
        ],
        [
         "48",
         "2022-01-18 00:00:00+00:00",
         "418",
         "0.39669421487603307"
        ],
        [
         "49",
         "2022-01-19 00:00:00+00:00",
         "454",
         "0.4049586776859504"
        ]
       ],
       "shape": {
        "columns": 3,
        "rows": 122
       }
      },
      "text/html": [
       "<div>\n",
       "<style scoped>\n",
       "    .dataframe tbody tr th:only-of-type {\n",
       "        vertical-align: middle;\n",
       "    }\n",
       "\n",
       "    .dataframe tbody tr th {\n",
       "        vertical-align: top;\n",
       "    }\n",
       "\n",
       "    .dataframe thead th {\n",
       "        text-align: right;\n",
       "    }\n",
       "</style>\n",
       "<table border=\"1\" class=\"dataframe\">\n",
       "  <thead>\n",
       "    <tr style=\"text-align: right;\">\n",
       "      <th></th>\n",
       "      <th>created_at</th>\n",
       "      <th>count</th>\n",
       "      <th>timeline_norm</th>\n",
       "    </tr>\n",
       "  </thead>\n",
       "  <tbody>\n",
       "    <tr>\n",
       "      <th>0</th>\n",
       "      <td>2021-12-01 00:00:00+00:00</td>\n",
       "      <td>414</td>\n",
       "      <td>0.000000</td>\n",
       "    </tr>\n",
       "    <tr>\n",
       "      <th>1</th>\n",
       "      <td>2021-12-02 00:00:00+00:00</td>\n",
       "      <td>416</td>\n",
       "      <td>0.008264</td>\n",
       "    </tr>\n",
       "    <tr>\n",
       "      <th>2</th>\n",
       "      <td>2021-12-03 00:00:00+00:00</td>\n",
       "      <td>364</td>\n",
       "      <td>0.016529</td>\n",
       "    </tr>\n",
       "    <tr>\n",
       "      <th>3</th>\n",
       "      <td>2021-12-04 00:00:00+00:00</td>\n",
       "      <td>248</td>\n",
       "      <td>0.024793</td>\n",
       "    </tr>\n",
       "    <tr>\n",
       "      <th>4</th>\n",
       "      <td>2021-12-05 00:00:00+00:00</td>\n",
       "      <td>167</td>\n",
       "      <td>0.033058</td>\n",
       "    </tr>\n",
       "    <tr>\n",
       "      <th>...</th>\n",
       "      <td>...</td>\n",
       "      <td>...</td>\n",
       "      <td>...</td>\n",
       "    </tr>\n",
       "    <tr>\n",
       "      <th>117</th>\n",
       "      <td>2022-03-28 00:00:00+00:00</td>\n",
       "      <td>150</td>\n",
       "      <td>0.966942</td>\n",
       "    </tr>\n",
       "    <tr>\n",
       "      <th>118</th>\n",
       "      <td>2022-03-29 00:00:00+00:00</td>\n",
       "      <td>193</td>\n",
       "      <td>0.975207</td>\n",
       "    </tr>\n",
       "    <tr>\n",
       "      <th>119</th>\n",
       "      <td>2022-03-30 00:00:00+00:00</td>\n",
       "      <td>165</td>\n",
       "      <td>0.983471</td>\n",
       "    </tr>\n",
       "    <tr>\n",
       "      <th>120</th>\n",
       "      <td>2022-03-31 00:00:00+00:00</td>\n",
       "      <td>187</td>\n",
       "      <td>0.991736</td>\n",
       "    </tr>\n",
       "    <tr>\n",
       "      <th>121</th>\n",
       "      <td>2022-04-01 00:00:00+00:00</td>\n",
       "      <td>43</td>\n",
       "      <td>1.000000</td>\n",
       "    </tr>\n",
       "  </tbody>\n",
       "</table>\n",
       "<p>122 rows × 3 columns</p>\n",
       "</div>"
      ],
      "text/plain": [
       "                   created_at  count  timeline_norm\n",
       "0   2021-12-01 00:00:00+00:00    414       0.000000\n",
       "1   2021-12-02 00:00:00+00:00    416       0.008264\n",
       "2   2021-12-03 00:00:00+00:00    364       0.016529\n",
       "3   2021-12-04 00:00:00+00:00    248       0.024793\n",
       "4   2021-12-05 00:00:00+00:00    167       0.033058\n",
       "..                        ...    ...            ...\n",
       "117 2022-03-28 00:00:00+00:00    150       0.966942\n",
       "118 2022-03-29 00:00:00+00:00    193       0.975207\n",
       "119 2022-03-30 00:00:00+00:00    165       0.983471\n",
       "120 2022-03-31 00:00:00+00:00    187       0.991736\n",
       "121 2022-04-01 00:00:00+00:00     43       1.000000\n",
       "\n",
       "[122 rows x 3 columns]"
      ]
     },
     "execution_count": 24,
     "metadata": {},
     "output_type": "execute_result"
    }
   ],
   "source": [
    "\n",
    "date_posts"
   ]
  },
  {
   "cell_type": "code",
   "execution_count": 25,
   "id": "dacb82c9",
   "metadata": {},
   "outputs": [
    {
     "data": {
      "application/vnd.microsoft.datawrangler.viewer.v0+json": {
       "columns": [
        {
         "name": "index",
         "rawType": "int64",
         "type": "integer"
        },
        {
         "name": "author_id",
         "rawType": "object",
         "type": "string"
        },
        {
         "name": "avg_posts_before",
         "rawType": "float64",
         "type": "float"
        },
        {
         "name": "avg_posts_after",
         "rawType": "float64",
         "type": "float"
        }
       ],
       "ref": "a4acfca1-81f3-48a6-93fa-7d84b44ab138",
       "rows": [
        [
         "0",
         "80483638",
         "274.98333333333335",
         "115.0"
        ],
        [
         "1",
         "720959701651996673",
         "347.92857142857144",
         "170.6346153846154"
        ],
        [
         "2",
         "169353953",
         "277.6923076923077",
         "147.6"
        ],
        [
         "3",
         "344350643",
         "373.94642857142856",
         "186.16666666666666"
        ],
        [
         "4",
         "1352311853263671296",
         "332.45569620253167",
         "161.95348837209303"
        ],
        [
         "5",
         "17146256",
         "357.2",
         "250.49484536082474"
        ],
        [
         "6",
         "359528910",
         "362.8253968253968",
         "175.76271186440678"
        ],
        [
         "7",
         "1047247402409840640",
         "358.64285714285717",
         "246.6595744680851"
        ],
        [
         "8",
         "4311670299",
         "354.1044776119403",
         "172.78181818181818"
        ],
        [
         "9",
         "179226033",
         "317.48275862068965",
         "160.2"
        ],
        [
         "10",
         "767945051787759616",
         "274.98333333333335",
         "115.0"
        ],
        [
         "11",
         "1457177169407393795",
         "352.5925925925926",
         "249.55789473684212"
        ],
        [
         "12",
         "26950458",
         "385.7906976744186",
         "210.62025316455697"
        ],
        [
         "13",
         "17919393",
         "274.98333333333335",
         "115.0"
        ],
        [
         "14",
         "620136960",
         "274.98333333333335",
         "115.0"
        ],
        [
         "15",
         "989313110602235904",
         "292.7864077669903",
         "161.6315789473684"
        ],
        [
         "16",
         "36167088",
         "274.98333333333335",
         "115.0"
        ],
        [
         "17",
         "898324652",
         "382.94",
         "195.56944444444446"
        ],
        [
         "18",
         "17018470",
         "275.9075630252101",
         "131.66666666666666"
        ],
        [
         "19",
         "1428158156098572291",
         "385.7906976744186",
         "210.62025316455697"
        ],
        [
         "20",
         "1004065528871247872",
         "274.25619834710744",
         "43.0"
        ],
        [
         "21",
         "877629044828667905",
         "274.25619834710744",
         "43.0"
        ],
        [
         "22",
         "20280574",
         "362.8253968253968",
         "175.76271186440678"
        ],
        [
         "23",
         "239666710",
         "290.9428571428571",
         "157.58823529411765"
        ],
        [
         "24",
         "3173246967",
         "322.79761904761904",
         "160.8684210526316"
        ],
        [
         "26",
         "989320781799743488",
         "274.25619834710744",
         "43.0"
        ],
        [
         "27",
         "21833509",
         "330.9625",
         "160.73809523809524"
        ],
        [
         "28",
         "19201304",
         "335.6233766233766",
         "164.11111111111111"
        ],
        [
         "29",
         "142843687",
         "289.2803738317757",
         "151.66666666666666"
        ],
        [
         "30",
         "1421182643375427584",
         "277.6923076923077",
         "147.6"
        ],
        [
         "31",
         "33919623",
         "381.4054054054054",
         "224.89411764705883"
        ],
        [
         "32",
         "14596185",
         "294.2549019607843",
         "160.7"
        ],
        [
         "33",
         "2498871378",
         "290.02830188679246",
         "155.3125"
        ],
        [
         "34",
         "323920783",
         "281.62280701754383",
         "140.375"
        ],
        [
         "35",
         "36740674",
         "298.8144329896907",
         "169.72"
        ],
        [
         "36",
         "257663572",
         "336.5921052631579",
         "166.2391304347826"
        ],
        [
         "37",
         "38282048",
         "309.16483516483515",
         "164.32258064516128"
        ],
        [
         "38",
         "294118241",
         "295.5247524752475",
         "160.95238095238096"
        ],
        [
         "39",
         "146569971",
         "274.25619834710744",
         "43.0"
        ],
        [
         "40",
         "2167134798",
         "290.9428571428571",
         "157.58823529411765"
        ],
        [
         "41",
         "553010243",
         "284.5315315315315",
         "149.54545454545453"
        ],
        [
         "42",
         "15850297",
         "288.287037037037",
         "149.5"
        ],
        [
         "43",
         "43369337",
         "274.25619834710744",
         "43.0"
        ],
        [
         "44",
         "709986828066144257",
         "289.2803738317757",
         "151.66666666666666"
        ]
       ],
       "shape": {
        "columns": 3,
        "rows": 44
       }
      },
      "text/html": [
       "<div>\n",
       "<style scoped>\n",
       "    .dataframe tbody tr th:only-of-type {\n",
       "        vertical-align: middle;\n",
       "    }\n",
       "\n",
       "    .dataframe tbody tr th {\n",
       "        vertical-align: top;\n",
       "    }\n",
       "\n",
       "    .dataframe thead th {\n",
       "        text-align: right;\n",
       "    }\n",
       "</style>\n",
       "<table border=\"1\" class=\"dataframe\">\n",
       "  <thead>\n",
       "    <tr style=\"text-align: right;\">\n",
       "      <th></th>\n",
       "      <th>author_id</th>\n",
       "      <th>avg_posts_before</th>\n",
       "      <th>avg_posts_after</th>\n",
       "    </tr>\n",
       "  </thead>\n",
       "  <tbody>\n",
       "    <tr>\n",
       "      <th>0</th>\n",
       "      <td>80483638</td>\n",
       "      <td>274.983333</td>\n",
       "      <td>115.000000</td>\n",
       "    </tr>\n",
       "    <tr>\n",
       "      <th>1</th>\n",
       "      <td>720959701651996673</td>\n",
       "      <td>347.928571</td>\n",
       "      <td>170.634615</td>\n",
       "    </tr>\n",
       "    <tr>\n",
       "      <th>2</th>\n",
       "      <td>169353953</td>\n",
       "      <td>277.692308</td>\n",
       "      <td>147.600000</td>\n",
       "    </tr>\n",
       "    <tr>\n",
       "      <th>3</th>\n",
       "      <td>344350643</td>\n",
       "      <td>373.946429</td>\n",
       "      <td>186.166667</td>\n",
       "    </tr>\n",
       "    <tr>\n",
       "      <th>4</th>\n",
       "      <td>1352311853263671296</td>\n",
       "      <td>332.455696</td>\n",
       "      <td>161.953488</td>\n",
       "    </tr>\n",
       "    <tr>\n",
       "      <th>5</th>\n",
       "      <td>17146256</td>\n",
       "      <td>357.200000</td>\n",
       "      <td>250.494845</td>\n",
       "    </tr>\n",
       "    <tr>\n",
       "      <th>6</th>\n",
       "      <td>359528910</td>\n",
       "      <td>362.825397</td>\n",
       "      <td>175.762712</td>\n",
       "    </tr>\n",
       "    <tr>\n",
       "      <th>7</th>\n",
       "      <td>1047247402409840640</td>\n",
       "      <td>358.642857</td>\n",
       "      <td>246.659574</td>\n",
       "    </tr>\n",
       "    <tr>\n",
       "      <th>8</th>\n",
       "      <td>4311670299</td>\n",
       "      <td>354.104478</td>\n",
       "      <td>172.781818</td>\n",
       "    </tr>\n",
       "    <tr>\n",
       "      <th>9</th>\n",
       "      <td>179226033</td>\n",
       "      <td>317.482759</td>\n",
       "      <td>160.200000</td>\n",
       "    </tr>\n",
       "    <tr>\n",
       "      <th>10</th>\n",
       "      <td>767945051787759616</td>\n",
       "      <td>274.983333</td>\n",
       "      <td>115.000000</td>\n",
       "    </tr>\n",
       "    <tr>\n",
       "      <th>11</th>\n",
       "      <td>1457177169407393795</td>\n",
       "      <td>352.592593</td>\n",
       "      <td>249.557895</td>\n",
       "    </tr>\n",
       "    <tr>\n",
       "      <th>12</th>\n",
       "      <td>26950458</td>\n",
       "      <td>385.790698</td>\n",
       "      <td>210.620253</td>\n",
       "    </tr>\n",
       "    <tr>\n",
       "      <th>13</th>\n",
       "      <td>17919393</td>\n",
       "      <td>274.983333</td>\n",
       "      <td>115.000000</td>\n",
       "    </tr>\n",
       "    <tr>\n",
       "      <th>14</th>\n",
       "      <td>620136960</td>\n",
       "      <td>274.983333</td>\n",
       "      <td>115.000000</td>\n",
       "    </tr>\n",
       "    <tr>\n",
       "      <th>15</th>\n",
       "      <td>989313110602235904</td>\n",
       "      <td>292.786408</td>\n",
       "      <td>161.631579</td>\n",
       "    </tr>\n",
       "    <tr>\n",
       "      <th>16</th>\n",
       "      <td>36167088</td>\n",
       "      <td>274.983333</td>\n",
       "      <td>115.000000</td>\n",
       "    </tr>\n",
       "    <tr>\n",
       "      <th>17</th>\n",
       "      <td>898324652</td>\n",
       "      <td>382.940000</td>\n",
       "      <td>195.569444</td>\n",
       "    </tr>\n",
       "    <tr>\n",
       "      <th>18</th>\n",
       "      <td>17018470</td>\n",
       "      <td>275.907563</td>\n",
       "      <td>131.666667</td>\n",
       "    </tr>\n",
       "    <tr>\n",
       "      <th>19</th>\n",
       "      <td>1428158156098572291</td>\n",
       "      <td>385.790698</td>\n",
       "      <td>210.620253</td>\n",
       "    </tr>\n",
       "    <tr>\n",
       "      <th>20</th>\n",
       "      <td>1004065528871247872</td>\n",
       "      <td>274.256198</td>\n",
       "      <td>43.000000</td>\n",
       "    </tr>\n",
       "    <tr>\n",
       "      <th>21</th>\n",
       "      <td>877629044828667905</td>\n",
       "      <td>274.256198</td>\n",
       "      <td>43.000000</td>\n",
       "    </tr>\n",
       "    <tr>\n",
       "      <th>22</th>\n",
       "      <td>20280574</td>\n",
       "      <td>362.825397</td>\n",
       "      <td>175.762712</td>\n",
       "    </tr>\n",
       "    <tr>\n",
       "      <th>23</th>\n",
       "      <td>239666710</td>\n",
       "      <td>290.942857</td>\n",
       "      <td>157.588235</td>\n",
       "    </tr>\n",
       "    <tr>\n",
       "      <th>24</th>\n",
       "      <td>3173246967</td>\n",
       "      <td>322.797619</td>\n",
       "      <td>160.868421</td>\n",
       "    </tr>\n",
       "    <tr>\n",
       "      <th>26</th>\n",
       "      <td>989320781799743488</td>\n",
       "      <td>274.256198</td>\n",
       "      <td>43.000000</td>\n",
       "    </tr>\n",
       "    <tr>\n",
       "      <th>27</th>\n",
       "      <td>21833509</td>\n",
       "      <td>330.962500</td>\n",
       "      <td>160.738095</td>\n",
       "    </tr>\n",
       "    <tr>\n",
       "      <th>28</th>\n",
       "      <td>19201304</td>\n",
       "      <td>335.623377</td>\n",
       "      <td>164.111111</td>\n",
       "    </tr>\n",
       "    <tr>\n",
       "      <th>29</th>\n",
       "      <td>142843687</td>\n",
       "      <td>289.280374</td>\n",
       "      <td>151.666667</td>\n",
       "    </tr>\n",
       "    <tr>\n",
       "      <th>30</th>\n",
       "      <td>1421182643375427584</td>\n",
       "      <td>277.692308</td>\n",
       "      <td>147.600000</td>\n",
       "    </tr>\n",
       "    <tr>\n",
       "      <th>31</th>\n",
       "      <td>33919623</td>\n",
       "      <td>381.405405</td>\n",
       "      <td>224.894118</td>\n",
       "    </tr>\n",
       "    <tr>\n",
       "      <th>32</th>\n",
       "      <td>14596185</td>\n",
       "      <td>294.254902</td>\n",
       "      <td>160.700000</td>\n",
       "    </tr>\n",
       "    <tr>\n",
       "      <th>33</th>\n",
       "      <td>2498871378</td>\n",
       "      <td>290.028302</td>\n",
       "      <td>155.312500</td>\n",
       "    </tr>\n",
       "    <tr>\n",
       "      <th>34</th>\n",
       "      <td>323920783</td>\n",
       "      <td>281.622807</td>\n",
       "      <td>140.375000</td>\n",
       "    </tr>\n",
       "    <tr>\n",
       "      <th>35</th>\n",
       "      <td>36740674</td>\n",
       "      <td>298.814433</td>\n",
       "      <td>169.720000</td>\n",
       "    </tr>\n",
       "    <tr>\n",
       "      <th>36</th>\n",
       "      <td>257663572</td>\n",
       "      <td>336.592105</td>\n",
       "      <td>166.239130</td>\n",
       "    </tr>\n",
       "    <tr>\n",
       "      <th>37</th>\n",
       "      <td>38282048</td>\n",
       "      <td>309.164835</td>\n",
       "      <td>164.322581</td>\n",
       "    </tr>\n",
       "    <tr>\n",
       "      <th>38</th>\n",
       "      <td>294118241</td>\n",
       "      <td>295.524752</td>\n",
       "      <td>160.952381</td>\n",
       "    </tr>\n",
       "    <tr>\n",
       "      <th>39</th>\n",
       "      <td>146569971</td>\n",
       "      <td>274.256198</td>\n",
       "      <td>43.000000</td>\n",
       "    </tr>\n",
       "    <tr>\n",
       "      <th>40</th>\n",
       "      <td>2167134798</td>\n",
       "      <td>290.942857</td>\n",
       "      <td>157.588235</td>\n",
       "    </tr>\n",
       "    <tr>\n",
       "      <th>41</th>\n",
       "      <td>553010243</td>\n",
       "      <td>284.531532</td>\n",
       "      <td>149.545455</td>\n",
       "    </tr>\n",
       "    <tr>\n",
       "      <th>42</th>\n",
       "      <td>15850297</td>\n",
       "      <td>288.287037</td>\n",
       "      <td>149.500000</td>\n",
       "    </tr>\n",
       "    <tr>\n",
       "      <th>43</th>\n",
       "      <td>43369337</td>\n",
       "      <td>274.256198</td>\n",
       "      <td>43.000000</td>\n",
       "    </tr>\n",
       "    <tr>\n",
       "      <th>44</th>\n",
       "      <td>709986828066144257</td>\n",
       "      <td>289.280374</td>\n",
       "      <td>151.666667</td>\n",
       "    </tr>\n",
       "  </tbody>\n",
       "</table>\n",
       "</div>"
      ],
      "text/plain": [
       "              author_id  avg_posts_before  avg_posts_after\n",
       "0              80483638        274.983333       115.000000\n",
       "1    720959701651996673        347.928571       170.634615\n",
       "2             169353953        277.692308       147.600000\n",
       "3             344350643        373.946429       186.166667\n",
       "4   1352311853263671296        332.455696       161.953488\n",
       "5              17146256        357.200000       250.494845\n",
       "6             359528910        362.825397       175.762712\n",
       "7   1047247402409840640        358.642857       246.659574\n",
       "8            4311670299        354.104478       172.781818\n",
       "9             179226033        317.482759       160.200000\n",
       "10   767945051787759616        274.983333       115.000000\n",
       "11  1457177169407393795        352.592593       249.557895\n",
       "12             26950458        385.790698       210.620253\n",
       "13             17919393        274.983333       115.000000\n",
       "14            620136960        274.983333       115.000000\n",
       "15   989313110602235904        292.786408       161.631579\n",
       "16             36167088        274.983333       115.000000\n",
       "17            898324652        382.940000       195.569444\n",
       "18             17018470        275.907563       131.666667\n",
       "19  1428158156098572291        385.790698       210.620253\n",
       "20  1004065528871247872        274.256198        43.000000\n",
       "21   877629044828667905        274.256198        43.000000\n",
       "22             20280574        362.825397       175.762712\n",
       "23            239666710        290.942857       157.588235\n",
       "24           3173246967        322.797619       160.868421\n",
       "26   989320781799743488        274.256198        43.000000\n",
       "27             21833509        330.962500       160.738095\n",
       "28             19201304        335.623377       164.111111\n",
       "29            142843687        289.280374       151.666667\n",
       "30  1421182643375427584        277.692308       147.600000\n",
       "31             33919623        381.405405       224.894118\n",
       "32             14596185        294.254902       160.700000\n",
       "33           2498871378        290.028302       155.312500\n",
       "34            323920783        281.622807       140.375000\n",
       "35             36740674        298.814433       169.720000\n",
       "36            257663572        336.592105       166.239130\n",
       "37             38282048        309.164835       164.322581\n",
       "38            294118241        295.524752       160.952381\n",
       "39            146569971        274.256198        43.000000\n",
       "40           2167134798        290.942857       157.588235\n",
       "41            553010243        284.531532       149.545455\n",
       "42             15850297        288.287037       149.500000\n",
       "43             43369337        274.256198        43.000000\n",
       "44   709986828066144257        289.280374       151.666667"
      ]
     },
     "execution_count": 25,
     "metadata": {},
     "output_type": "execute_result"
    }
   ],
   "source": [
    "before = []\n",
    "after = []\n",
    "for idx, row in author_rrpp_data.iterrows():\n",
    "    author = row['author_id']\n",
    "    last_tweet = row['last_tweet']\n",
    "    avg_posts_before = date_posts[date_posts['created_at'] <= last_tweet]['count'].mean()\n",
    "    avg_posts_after = date_posts[date_posts['created_at'] > last_tweet]['count'].mean()\n",
    "    before.append(avg_posts_before)\n",
    "    after.append(avg_posts_after)\n",
    "before_after_df = pd.DataFrame({'author_id': author_rrpp_data['author_id'], 'avg_posts_before': before, 'avg_posts_after': after})\n",
    "before_after_df.dropna(inplace=True)\n",
    "before_after_df"
   ]
  },
  {
   "cell_type": "code",
   "execution_count": 26,
   "id": "02273c38",
   "metadata": {},
   "outputs": [
    {
     "name": "stdout",
     "output_type": "stream",
     "text": [
      "Student's t-test statistic: 31.763523388435186, two-sided p-value: 1.7308704379373244e-31\n"
     ]
    }
   ],
   "source": [
    "from scipy.stats import ttest_rel\n",
    "t_stat, p_val = ttest_rel(before_after_df['avg_posts_before'], before_after_df['avg_posts_after'])\n",
    "print(f\"Student's t-test statistic: {t_stat}, two-sided p-value: {p_val}\")"
   ]
  },
  {
   "cell_type": "code",
   "execution_count": 27,
   "id": "b0676dc9",
   "metadata": {},
   "outputs": [
    {
     "name": "stdout",
     "output_type": "stream",
     "text": [
      "t-statistic: 31.763523388435186, one-sided p-value: 1.7308704379373244e-31\n"
     ]
    }
   ],
   "source": [
    "from scipy.stats import ttest_rel\n",
    "t_stat, p_val = ttest_rel(before_after_df['avg_posts_before'], before_after_df['avg_posts_after'])\n",
    "print(f\"t-statistic: {t_stat}, one-sided p-value: {p_val}\")"
   ]
  },
  {
   "cell_type": "code",
   "execution_count": 28,
   "id": "266d1cfb",
   "metadata": {},
   "outputs": [
    {
     "name": "stdout",
     "output_type": "stream",
     "text": [
      "Wilcoxon statistic: 990.0 p-value: 5.684341886080802e-14\n"
     ]
    }
   ],
   "source": [
    "from scipy.stats import wilcoxon\n",
    "stat, p_val = wilcoxon(before_after_df['avg_posts_before'], before_after_df['avg_posts_after'], alternative=\"greater\")\n",
    "print(\"Wilcoxon statistic:\", stat, \"p-value:\", p_val)\n"
   ]
  },
  {
   "cell_type": "code",
   "execution_count": 29,
   "id": "dbbc3a27",
   "metadata": {},
   "outputs": [
    {
     "data": {
      "application/vnd.microsoft.datawrangler.viewer.v0+json": {
       "columns": [
        {
         "name": "index",
         "rawType": "int64",
         "type": "integer"
        },
        {
         "name": "author_id",
         "rawType": "object",
         "type": "string"
        },
        {
         "name": "avg_posts_before",
         "rawType": "float64",
         "type": "float"
        },
        {
         "name": "avg_posts_after",
         "rawType": "float64",
         "type": "float"
        }
       ],
       "ref": "83c6c352-7bb3-4123-9d1e-9fa72e49d141",
       "rows": [
        [
         "0",
         "80483638",
         "165.0",
         "187.0"
        ],
        [
         "1",
         "720959701651996673",
         "224.0",
         "285.0"
        ],
        [
         "2",
         "169353953",
         "93.0",
         "150.0"
        ],
        [
         "3",
         "344350643",
         "340.0",
         "342.0"
        ],
        [
         "4",
         "1352311853263671296",
         "205.0",
         "213.0"
        ],
        [
         "5",
         "17146256",
         "218.0",
         "223.0"
        ],
        [
         "6",
         "359528910",
         "291.0",
         "252.0"
        ],
        [
         "7",
         "1047247402409840640",
         "522.0",
         "539.0"
        ],
        [
         "8",
         "4311670299",
         "167.0",
         "154.0"
        ],
        [
         "9",
         "179226033",
         "182.0",
         "105.0"
        ],
        [
         "10",
         "767945051787759616",
         "165.0",
         "187.0"
        ],
        [
         "11",
         "1457177169407393795",
         "367.0",
         "522.0"
        ],
        [
         "12",
         "26950458",
         "437.0",
         "518.0"
        ],
        [
         "13",
         "17919393",
         "165.0",
         "187.0"
        ],
        [
         "14",
         "620136960",
         "165.0",
         "187.0"
        ],
        [
         "15",
         "989313110602235904",
         "143.0",
         "190.0"
        ],
        [
         "16",
         "36167088",
         "165.0",
         "187.0"
        ],
        [
         "17",
         "898324652",
         "454.0",
         "332.0"
        ],
        [
         "18",
         "17018470",
         "193.0",
         "165.0"
        ],
        [
         "19",
         "1428158156098572291",
         "437.0",
         "518.0"
        ],
        [
         "20",
         "1004065528871247872",
         "187.0",
         "43.0"
        ],
        [
         "21",
         "877629044828667905",
         "187.0",
         "43.0"
        ],
        [
         "22",
         "20280574",
         "291.0",
         "252.0"
        ],
        [
         "23",
         "239666710",
         "202.0",
         "194.0"
        ],
        [
         "24",
         "3173246967",
         "156.0",
         "169.0"
        ],
        [
         "26",
         "989320781799743488",
         "187.0",
         "43.0"
        ],
        [
         "27",
         "21833509",
         "213.0",
         "139.0"
        ],
        [
         "28",
         "19201304",
         "262.0",
         "216.0"
        ],
        [
         "29",
         "142843687",
         "210.0",
         "182.0"
        ],
        [
         "30",
         "1421182643375427584",
         "93.0",
         "150.0"
        ],
        [
         "31",
         "33919623",
         "426.0",
         "465.0"
        ],
        [
         "32",
         "14596185",
         "166.0",
         "143.0"
        ],
        [
         "33",
         "2498871378",
         "194.0",
         "210.0"
        ],
        [
         "34",
         "323920783",
         "163.0",
         "166.0"
        ],
        [
         "35",
         "36740674",
         "169.0",
         "274.0"
        ],
        [
         "36",
         "257663572",
         "163.0",
         "262.0"
        ],
        [
         "37",
         "38282048",
         "188.0",
         "195.0"
        ],
        [
         "38",
         "294118241",
         "198.0",
         "166.0"
        ],
        [
         "39",
         "146569971",
         "187.0",
         "43.0"
        ],
        [
         "40",
         "2167134798",
         "202.0",
         "194.0"
        ],
        [
         "41",
         "553010243",
         "144.0",
         "162.0"
        ],
        [
         "42",
         "15850297",
         "182.0",
         "141.0"
        ],
        [
         "43",
         "43369337",
         "187.0",
         "43.0"
        ],
        [
         "44",
         "709986828066144257",
         "210.0",
         "182.0"
        ]
       ],
       "shape": {
        "columns": 3,
        "rows": 44
       }
      },
      "text/html": [
       "<div>\n",
       "<style scoped>\n",
       "    .dataframe tbody tr th:only-of-type {\n",
       "        vertical-align: middle;\n",
       "    }\n",
       "\n",
       "    .dataframe tbody tr th {\n",
       "        vertical-align: top;\n",
       "    }\n",
       "\n",
       "    .dataframe thead th {\n",
       "        text-align: right;\n",
       "    }\n",
       "</style>\n",
       "<table border=\"1\" class=\"dataframe\">\n",
       "  <thead>\n",
       "    <tr style=\"text-align: right;\">\n",
       "      <th></th>\n",
       "      <th>author_id</th>\n",
       "      <th>avg_posts_before</th>\n",
       "      <th>avg_posts_after</th>\n",
       "    </tr>\n",
       "  </thead>\n",
       "  <tbody>\n",
       "    <tr>\n",
       "      <th>0</th>\n",
       "      <td>80483638</td>\n",
       "      <td>165.0</td>\n",
       "      <td>187.0</td>\n",
       "    </tr>\n",
       "    <tr>\n",
       "      <th>1</th>\n",
       "      <td>720959701651996673</td>\n",
       "      <td>224.0</td>\n",
       "      <td>285.0</td>\n",
       "    </tr>\n",
       "    <tr>\n",
       "      <th>2</th>\n",
       "      <td>169353953</td>\n",
       "      <td>93.0</td>\n",
       "      <td>150.0</td>\n",
       "    </tr>\n",
       "    <tr>\n",
       "      <th>3</th>\n",
       "      <td>344350643</td>\n",
       "      <td>340.0</td>\n",
       "      <td>342.0</td>\n",
       "    </tr>\n",
       "    <tr>\n",
       "      <th>4</th>\n",
       "      <td>1352311853263671296</td>\n",
       "      <td>205.0</td>\n",
       "      <td>213.0</td>\n",
       "    </tr>\n",
       "    <tr>\n",
       "      <th>5</th>\n",
       "      <td>17146256</td>\n",
       "      <td>218.0</td>\n",
       "      <td>223.0</td>\n",
       "    </tr>\n",
       "    <tr>\n",
       "      <th>6</th>\n",
       "      <td>359528910</td>\n",
       "      <td>291.0</td>\n",
       "      <td>252.0</td>\n",
       "    </tr>\n",
       "    <tr>\n",
       "      <th>7</th>\n",
       "      <td>1047247402409840640</td>\n",
       "      <td>522.0</td>\n",
       "      <td>539.0</td>\n",
       "    </tr>\n",
       "    <tr>\n",
       "      <th>8</th>\n",
       "      <td>4311670299</td>\n",
       "      <td>167.0</td>\n",
       "      <td>154.0</td>\n",
       "    </tr>\n",
       "    <tr>\n",
       "      <th>9</th>\n",
       "      <td>179226033</td>\n",
       "      <td>182.0</td>\n",
       "      <td>105.0</td>\n",
       "    </tr>\n",
       "    <tr>\n",
       "      <th>10</th>\n",
       "      <td>767945051787759616</td>\n",
       "      <td>165.0</td>\n",
       "      <td>187.0</td>\n",
       "    </tr>\n",
       "    <tr>\n",
       "      <th>11</th>\n",
       "      <td>1457177169407393795</td>\n",
       "      <td>367.0</td>\n",
       "      <td>522.0</td>\n",
       "    </tr>\n",
       "    <tr>\n",
       "      <th>12</th>\n",
       "      <td>26950458</td>\n",
       "      <td>437.0</td>\n",
       "      <td>518.0</td>\n",
       "    </tr>\n",
       "    <tr>\n",
       "      <th>13</th>\n",
       "      <td>17919393</td>\n",
       "      <td>165.0</td>\n",
       "      <td>187.0</td>\n",
       "    </tr>\n",
       "    <tr>\n",
       "      <th>14</th>\n",
       "      <td>620136960</td>\n",
       "      <td>165.0</td>\n",
       "      <td>187.0</td>\n",
       "    </tr>\n",
       "    <tr>\n",
       "      <th>15</th>\n",
       "      <td>989313110602235904</td>\n",
       "      <td>143.0</td>\n",
       "      <td>190.0</td>\n",
       "    </tr>\n",
       "    <tr>\n",
       "      <th>16</th>\n",
       "      <td>36167088</td>\n",
       "      <td>165.0</td>\n",
       "      <td>187.0</td>\n",
       "    </tr>\n",
       "    <tr>\n",
       "      <th>17</th>\n",
       "      <td>898324652</td>\n",
       "      <td>454.0</td>\n",
       "      <td>332.0</td>\n",
       "    </tr>\n",
       "    <tr>\n",
       "      <th>18</th>\n",
       "      <td>17018470</td>\n",
       "      <td>193.0</td>\n",
       "      <td>165.0</td>\n",
       "    </tr>\n",
       "    <tr>\n",
       "      <th>19</th>\n",
       "      <td>1428158156098572291</td>\n",
       "      <td>437.0</td>\n",
       "      <td>518.0</td>\n",
       "    </tr>\n",
       "    <tr>\n",
       "      <th>20</th>\n",
       "      <td>1004065528871247872</td>\n",
       "      <td>187.0</td>\n",
       "      <td>43.0</td>\n",
       "    </tr>\n",
       "    <tr>\n",
       "      <th>21</th>\n",
       "      <td>877629044828667905</td>\n",
       "      <td>187.0</td>\n",
       "      <td>43.0</td>\n",
       "    </tr>\n",
       "    <tr>\n",
       "      <th>22</th>\n",
       "      <td>20280574</td>\n",
       "      <td>291.0</td>\n",
       "      <td>252.0</td>\n",
       "    </tr>\n",
       "    <tr>\n",
       "      <th>23</th>\n",
       "      <td>239666710</td>\n",
       "      <td>202.0</td>\n",
       "      <td>194.0</td>\n",
       "    </tr>\n",
       "    <tr>\n",
       "      <th>24</th>\n",
       "      <td>3173246967</td>\n",
       "      <td>156.0</td>\n",
       "      <td>169.0</td>\n",
       "    </tr>\n",
       "    <tr>\n",
       "      <th>26</th>\n",
       "      <td>989320781799743488</td>\n",
       "      <td>187.0</td>\n",
       "      <td>43.0</td>\n",
       "    </tr>\n",
       "    <tr>\n",
       "      <th>27</th>\n",
       "      <td>21833509</td>\n",
       "      <td>213.0</td>\n",
       "      <td>139.0</td>\n",
       "    </tr>\n",
       "    <tr>\n",
       "      <th>28</th>\n",
       "      <td>19201304</td>\n",
       "      <td>262.0</td>\n",
       "      <td>216.0</td>\n",
       "    </tr>\n",
       "    <tr>\n",
       "      <th>29</th>\n",
       "      <td>142843687</td>\n",
       "      <td>210.0</td>\n",
       "      <td>182.0</td>\n",
       "    </tr>\n",
       "    <tr>\n",
       "      <th>30</th>\n",
       "      <td>1421182643375427584</td>\n",
       "      <td>93.0</td>\n",
       "      <td>150.0</td>\n",
       "    </tr>\n",
       "    <tr>\n",
       "      <th>31</th>\n",
       "      <td>33919623</td>\n",
       "      <td>426.0</td>\n",
       "      <td>465.0</td>\n",
       "    </tr>\n",
       "    <tr>\n",
       "      <th>32</th>\n",
       "      <td>14596185</td>\n",
       "      <td>166.0</td>\n",
       "      <td>143.0</td>\n",
       "    </tr>\n",
       "    <tr>\n",
       "      <th>33</th>\n",
       "      <td>2498871378</td>\n",
       "      <td>194.0</td>\n",
       "      <td>210.0</td>\n",
       "    </tr>\n",
       "    <tr>\n",
       "      <th>34</th>\n",
       "      <td>323920783</td>\n",
       "      <td>163.0</td>\n",
       "      <td>166.0</td>\n",
       "    </tr>\n",
       "    <tr>\n",
       "      <th>35</th>\n",
       "      <td>36740674</td>\n",
       "      <td>169.0</td>\n",
       "      <td>274.0</td>\n",
       "    </tr>\n",
       "    <tr>\n",
       "      <th>36</th>\n",
       "      <td>257663572</td>\n",
       "      <td>163.0</td>\n",
       "      <td>262.0</td>\n",
       "    </tr>\n",
       "    <tr>\n",
       "      <th>37</th>\n",
       "      <td>38282048</td>\n",
       "      <td>188.0</td>\n",
       "      <td>195.0</td>\n",
       "    </tr>\n",
       "    <tr>\n",
       "      <th>38</th>\n",
       "      <td>294118241</td>\n",
       "      <td>198.0</td>\n",
       "      <td>166.0</td>\n",
       "    </tr>\n",
       "    <tr>\n",
       "      <th>39</th>\n",
       "      <td>146569971</td>\n",
       "      <td>187.0</td>\n",
       "      <td>43.0</td>\n",
       "    </tr>\n",
       "    <tr>\n",
       "      <th>40</th>\n",
       "      <td>2167134798</td>\n",
       "      <td>202.0</td>\n",
       "      <td>194.0</td>\n",
       "    </tr>\n",
       "    <tr>\n",
       "      <th>41</th>\n",
       "      <td>553010243</td>\n",
       "      <td>144.0</td>\n",
       "      <td>162.0</td>\n",
       "    </tr>\n",
       "    <tr>\n",
       "      <th>42</th>\n",
       "      <td>15850297</td>\n",
       "      <td>182.0</td>\n",
       "      <td>141.0</td>\n",
       "    </tr>\n",
       "    <tr>\n",
       "      <th>43</th>\n",
       "      <td>43369337</td>\n",
       "      <td>187.0</td>\n",
       "      <td>43.0</td>\n",
       "    </tr>\n",
       "    <tr>\n",
       "      <th>44</th>\n",
       "      <td>709986828066144257</td>\n",
       "      <td>210.0</td>\n",
       "      <td>182.0</td>\n",
       "    </tr>\n",
       "  </tbody>\n",
       "</table>\n",
       "</div>"
      ],
      "text/plain": [
       "              author_id  avg_posts_before  avg_posts_after\n",
       "0              80483638             165.0            187.0\n",
       "1    720959701651996673             224.0            285.0\n",
       "2             169353953              93.0            150.0\n",
       "3             344350643             340.0            342.0\n",
       "4   1352311853263671296             205.0            213.0\n",
       "5              17146256             218.0            223.0\n",
       "6             359528910             291.0            252.0\n",
       "7   1047247402409840640             522.0            539.0\n",
       "8            4311670299             167.0            154.0\n",
       "9             179226033             182.0            105.0\n",
       "10   767945051787759616             165.0            187.0\n",
       "11  1457177169407393795             367.0            522.0\n",
       "12             26950458             437.0            518.0\n",
       "13             17919393             165.0            187.0\n",
       "14            620136960             165.0            187.0\n",
       "15   989313110602235904             143.0            190.0\n",
       "16             36167088             165.0            187.0\n",
       "17            898324652             454.0            332.0\n",
       "18             17018470             193.0            165.0\n",
       "19  1428158156098572291             437.0            518.0\n",
       "20  1004065528871247872             187.0             43.0\n",
       "21   877629044828667905             187.0             43.0\n",
       "22             20280574             291.0            252.0\n",
       "23            239666710             202.0            194.0\n",
       "24           3173246967             156.0            169.0\n",
       "26   989320781799743488             187.0             43.0\n",
       "27             21833509             213.0            139.0\n",
       "28             19201304             262.0            216.0\n",
       "29            142843687             210.0            182.0\n",
       "30  1421182643375427584              93.0            150.0\n",
       "31             33919623             426.0            465.0\n",
       "32             14596185             166.0            143.0\n",
       "33           2498871378             194.0            210.0\n",
       "34            323920783             163.0            166.0\n",
       "35             36740674             169.0            274.0\n",
       "36            257663572             163.0            262.0\n",
       "37             38282048             188.0            195.0\n",
       "38            294118241             198.0            166.0\n",
       "39            146569971             187.0             43.0\n",
       "40           2167134798             202.0            194.0\n",
       "41            553010243             144.0            162.0\n",
       "42             15850297             182.0            141.0\n",
       "43             43369337             187.0             43.0\n",
       "44   709986828066144257             210.0            182.0"
      ]
     },
     "execution_count": 29,
     "metadata": {},
     "output_type": "execute_result"
    }
   ],
   "source": [
    "before = []\n",
    "after = []\n",
    "for idx, row in author_rrpp_data.iterrows():\n",
    "    author = row['author_id']\n",
    "    last_tweet = row['last_tweet']\n",
    "    two_days_after_last_tweet = last_tweet + pd.Timedelta(days=1)\n",
    "    two_days_before_last_tweet = last_tweet - pd.Timedelta(days=1)\n",
    "    avg_posts_before = date_posts[(date_posts['created_at'] <= last_tweet) & (date_posts['created_at'] >= two_days_before_last_tweet)]['count'].mean()\n",
    "    avg_posts_after = date_posts[(date_posts['created_at'] > last_tweet) & (date_posts['created_at'] <= two_days_after_last_tweet)]['count'].mean()\n",
    "    before.append(avg_posts_before)\n",
    "    after.append(avg_posts_after)\n",
    "before_after_df = pd.DataFrame({'author_id': author_rrpp_data['author_id'], 'avg_posts_before': before, 'avg_posts_after': after})\n",
    "before_after_df.dropna(inplace=True)\n",
    "before_after_df"
   ]
  },
  {
   "cell_type": "code",
   "execution_count": 30,
   "id": "d7948505",
   "metadata": {},
   "outputs": [
    {
     "name": "stdout",
     "output_type": "stream",
     "text": [
      "t-statistic: -0.33011766890957417, one-sided p-value: 0.748865455542151\n"
     ]
    }
   ],
   "source": [
    "from scipy.stats import ttest_rel\n",
    "t_stat, p_val = ttest_rel(before_after_df.iloc[:10]['avg_posts_before'], before_after_df.iloc[:10]['avg_posts_after'])\n",
    "print(f\"t-statistic: {t_stat}, one-sided p-value: {p_val}\")"
   ]
  },
  {
   "cell_type": "code",
   "execution_count": 31,
   "id": "dcc8cdaf",
   "metadata": {},
   "outputs": [
    {
     "name": "stdout",
     "output_type": "stream",
     "text": [
      "Wilcoxon statistic: 529.5 p-value: 0.34931338206342843\n"
     ]
    }
   ],
   "source": [
    "from scipy.stats import wilcoxon\n",
    "stat, p_val = wilcoxon(before_after_df['avg_posts_before'], before_after_df['avg_posts_after'], alternative=\"greater\")\n",
    "print(\"Wilcoxon statistic:\", stat, \"p-value:\", p_val)\n"
   ]
  },
  {
   "cell_type": "code",
   "execution_count": 32,
   "id": "0682ca77",
   "metadata": {},
   "outputs": [
    {
     "data": {
      "text/plain": [
       "3903"
      ]
     },
     "execution_count": 32,
     "metadata": {},
     "output_type": "execute_result"
    }
   ],
   "source": [
    "df[\"author_id\"].nunique()"
   ]
  },
  {
   "cell_type": "code",
   "execution_count": null,
   "id": "6a0d1d1f",
   "metadata": {},
   "outputs": [],
   "source": []
  }
 ],
 "metadata": {
  "kernelspec": {
   "display_name": "main",
   "language": "python",
   "name": "python3"
  },
  "language_info": {
   "codemirror_mode": {
    "name": "ipython",
    "version": 3
   },
   "file_extension": ".py",
   "mimetype": "text/x-python",
   "name": "python",
   "nbconvert_exporter": "python",
   "pygments_lexer": "ipython3",
   "version": "3.12.5"
  }
 },
 "nbformat": 4,
 "nbformat_minor": 5
}
